{
 "cells": [
  {
   "cell_type": "code",
   "execution_count": 1,
   "metadata": {},
   "outputs": [],
   "source": [
    "import json\n",
    "import requests \n",
    "import numpy as np\n",
    "from time import sleep\n",
    "from sklearn.feature_extraction.text import TfidfVectorizer\n",
    "import matplotlib.pyplot as plt\n",
    "import pandas as pd\n",
    "import plotly.graph_objects as go"
   ]
  },
  {
   "cell_type": "code",
   "execution_count": 20,
   "metadata": {},
   "outputs": [],
   "source": [
    "api_key = 'VUJxGmvIj8BWhJ62OjYFxjzDay4ijc56'"
   ]
  },
  {
   "cell_type": "code",
   "execution_count": 21,
   "metadata": {},
   "outputs": [],
   "source": [
    "time_periods = [\n",
    "    (2019,8),\n",
    "    (2019,9),\n",
    "    (2019,10),\n",
    "    (2019,11),\n",
    "    (2019,12),\n",
    "    (2020,1),\n",
    "    (2020,2),\n",
    "    (2020,3),\n",
    "    (2020,4),\n",
    "    (2020,5),\n",
    "    (2020,6),\n",
    "    (2020,7),\n",
    "    (2020,8),\n",
    "    (2020,9),\n",
    "]\n",
    "monthly_segments = [0, 7, 15, 22, 31]\n",
    "monthly_segment_categories = ['Q1', 'Q2', 'Q3', 'Q4'] # Must be one less than number of monthly_segments\n",
    "\n",
    "def find_month_bucket(day):\n",
    "    for i in range(len(monthly_segment_categories)):\n",
    "        if day > monthly_segments[i] and day <= monthly_segments[i+1]:\n",
    "            return monthly_segment_categories[i]\n",
    "    return \"ERROR\""
   ]
  },
  {
   "cell_type": "code",
   "execution_count": 22,
   "metadata": {},
   "outputs": [],
   "source": [
    "# Collect raw data\n",
    "\n",
    "abstracts = {}\n",
    "headlines = {}\n",
    "for year, month in time_periods:\n",
    "    url = 'https://api.nytimes.com/svc/archive/v1/{}/{}.json?api-key={}'.format(year, month, api_key)\n",
    "    r = requests.get(url)\n",
    "    sleep(10) # NYT API only accepts 10 request/min\n",
    "    json_data = r.json()\n",
    "    \n",
    "    for article in json_data['response']['docs']:\n",
    "        cur_publish_day = int(article['pub_date'][8:10])\n",
    "        save_index = '{}-{}-{}'.format(year, month, find_month_bucket(cur_publish_day))\n",
    "        \n",
    "        # Abstracts\n",
    "        if save_index in abstracts:\n",
    "            abstracts[save_index].append(article['abstract'])\n",
    "        else:\n",
    "            abstracts[save_index] = [article['abstract']]\n",
    "\n",
    "        # Headlines\n",
    "        if save_index in headlines:\n",
    "            headlines[save_index].append(article['headline']['main'])\n",
    "        else:\n",
    "            headlines[save_index] = [article['headline']['main']]"
   ]
  },
  {
   "cell_type": "code",
   "execution_count": 23,
   "metadata": {},
   "outputs": [],
   "source": [
    "# TF-IDF\n",
    "tfidf = TfidfVectorizer(\n",
    "    strip_accents='ascii',\n",
    "    analyzer='word',\n",
    "    stop_words='english'\n",
    "    #     pre_processor=,\n",
    "    #     tokenizer=,\n",
    ")"
   ]
  },
  {
   "cell_type": "code",
   "execution_count": 24,
   "metadata": {},
   "outputs": [],
   "source": [
    "# Manually clean terms\n",
    "\n",
    "# convert city names to \"hong_kong\"\n",
    "word_mappings = {\n",
    "    'Hong Kong': 'hong_kong',\n",
    "    'New York City': 'new_york_city',\n",
    "    'New York': 'new_york',\n",
    "    'El Paso': 'el_paso',\n",
    "    'White House': 'white_house',\n",
    "    'Jeffrey Epstein': 'jeffrey_epstein',\n",
    "}"
   ]
  },
  {
   "cell_type": "code",
   "execution_count": 25,
   "metadata": {},
   "outputs": [
    {
     "data": {
      "text/plain": [
       "<56x31806 sparse matrix of type '<class 'numpy.float64'>'\n",
       "\twith 180128 stored elements in Compressed Sparse Row format>"
      ]
     },
     "execution_count": 25,
     "metadata": {},
     "output_type": "execute_result"
    }
   ],
   "source": [
    "# prepare document list\n",
    "documents = []\n",
    "target = headlines # or abstracts\n",
    "for k, v in target.items():\n",
    "    content = ' '.join(v)\n",
    "    for word, replacement in word_mappings.items():\n",
    "        content = content.replace(word, replacement)\n",
    "    documents.append(content)\n",
    "\n",
    "# Fit vocabulary to all documents\n",
    "tfidf.fit_transform(documents)"
   ]
  },
  {
   "cell_type": "code",
   "execution_count": 26,
   "metadata": {
    "scrolled": true
   },
   "outputs": [],
   "source": [
    "# 20 most important features per time period\n",
    "\n",
    "top_features_per_time_period = []\n",
    "for i, time_period in enumerate(list(target.keys())):\n",
    "    cur_doc_scores = tfidf.transform([documents[i]]).toarray().flatten()\n",
    "    top_features = cur_doc_scores.argsort()[-20:][::-1]\n",
    "    all_features = tfidf.get_feature_names()\n",
    "\n",
    "    for idx in top_features:\n",
    "        top_features_per_time_period.append([time_period, all_features[idx], cur_doc_scores[idx]])\n",
    "        \n",
    "df = pd.DataFrame(top_features_per_time_period, columns=['time_period', 'term', 'tfidf'])"
   ]
  },
  {
   "cell_type": "code",
   "execution_count": 27,
   "metadata": {},
   "outputs": [],
   "source": [
    "# Read dataframe from saved data\n",
    "df.to_csv('data/top_terms_per_period.csv', index=False)\n",
    "df = pd.read_csv('data/top_terms_per_period.csv')\n",
    "df['plot_term'] = df['term'].apply(lambda x: x[:12-3] + '...' if len(x) > 12 else x)"
   ]
  },
  {
   "cell_type": "code",
   "execution_count": 29,
   "metadata": {
    "scrolled": true
   },
   "outputs": [
    {
     "data": {
      "application/vnd.plotly.v1+json": {
       "config": {
        "plotlyServerURL": "https://plot.ly"
       },
       "data": [
        {
         "alignmentgroup": "True",
         "hovertemplate": "time_period=2019-8-Q1<br>plot_term=%{x}<br>tfidf=%{y}<extra></extra>",
         "legendgroup": "",
         "marker": {
          "color": "#636efa"
         },
         "name": "",
         "offsetgroup": "",
         "orientation": "v",
         "showlegend": false,
         "textposition": "auto",
         "type": "bar",
         "x": [
          "el_paso",
          "shootings",
          "toni",
          "trump",
          "dayton",
          "morrison",
          "new",
          "woodstock",
          "trade",
          "gun",
          "hong_kong",
          "briefing",
          "china",
          "debates",
          "war",
          "says",
          "terrorism",
          "review",
          "white",
          "morrisons"
         ],
         "xaxis": "x",
         "y": [
          0.2354007942694827,
          0.21528808102659425,
          0.21294707330647425,
          0.17796880507182455,
          0.1558226362133034,
          0.14748181183263748,
          0.13034335019344898,
          0.1283245239403675,
          0.10574507659352862,
          0.09664181576051832,
          0.09072123869878523,
          0.09023770398008006,
          0.0877311010917445,
          0.08606678428747687,
          0.07770468953840227,
          0.07770468953840227,
          0.07606093558206006,
          0.07519808665006672,
          0.07397958235740543,
          0.07332829939449571
         ],
         "yaxis": "y"
        }
       ],
       "frames": [
        {
         "data": [
          {
           "alignmentgroup": "True",
           "hovertemplate": "time_period=2019-8-Q1<br>plot_term=%{x}<br>tfidf=%{y}<extra></extra>",
           "legendgroup": "",
           "marker": {
            "color": "#636efa"
           },
           "name": "",
           "offsetgroup": "",
           "orientation": "v",
           "showlegend": false,
           "textposition": "auto",
           "type": "bar",
           "x": [
            "el_paso",
            "shootings",
            "toni",
            "trump",
            "dayton",
            "morrison",
            "new",
            "woodstock",
            "trade",
            "gun",
            "hong_kong",
            "briefing",
            "china",
            "debates",
            "war",
            "says",
            "terrorism",
            "review",
            "white",
            "morrisons"
           ],
           "xaxis": "x",
           "y": [
            0.2354007942694827,
            0.21528808102659425,
            0.21294707330647425,
            0.17796880507182455,
            0.1558226362133034,
            0.14748181183263748,
            0.13034335019344898,
            0.1283245239403675,
            0.10574507659352862,
            0.09664181576051832,
            0.09072123869878523,
            0.09023770398008006,
            0.0877311010917445,
            0.08606678428747687,
            0.07770468953840227,
            0.07770468953840227,
            0.07606093558206006,
            0.07519808665006672,
            0.07397958235740543,
            0.07332829939449571
           ],
           "yaxis": "y"
          }
         ],
         "name": "2019-8-Q1"
        },
        {
         "data": [
          {
           "alignmentgroup": "True",
           "hovertemplate": "time_period=2019-8-Q2<br>plot_term=%{x}<br>tfidf=%{y}<extra></extra>",
           "legendgroup": "",
           "marker": {
            "color": "#636efa"
           },
           "name": "",
           "offsetgroup": "",
           "orientation": "v",
           "showlegend": false,
           "textposition": "auto",
           "type": "bar",
           "x": [
            "trump",
            "new",
            "jeffrey_e...",
            "el_paso",
            "review",
            "woodstock",
            "briefing",
            "hong_kong",
            "war",
            "kashmir",
            "summer",
            "airport",
            "epstein",
            "weekend",
            "august",
            "dies",
            "says",
            "police",
            "american",
            "2019"
           ],
           "xaxis": "x",
           "y": [
            0.22224128658039088,
            0.16791563874962864,
            0.165830504912718,
            0.16162871396518655,
            0.13581411957690553,
            0.11738745195088834,
            0.11605933854753744,
            0.1033373724361264,
            0.09136586226082737,
            0.08730972858926872,
            0.08703290918240626,
            0.0838960612669145,
            0.082915252456359,
            0.0814884717461433,
            0.08108141947863917,
            0.07408042886013029,
            0.06667238597411726,
            0.06420303834544623,
            0.06420303834544623,
            0.06353449818345824
           ],
           "yaxis": "y"
          }
         ],
         "name": "2019-8-Q2"
        },
        {
         "data": [
          {
           "alignmentgroup": "True",
           "hovertemplate": "time_period=2019-8-Q3<br>plot_term=%{x}<br>tfidf=%{y}<extra></extra>",
           "legendgroup": "",
           "marker": {
            "color": "#636efa"
           },
           "name": "",
           "offsetgroup": "",
           "orientation": "v",
           "showlegend": false,
           "textposition": "auto",
           "type": "bar",
           "x": [
            "trump",
            "greenland",
            "hong_kong",
            "garner",
            "annual",
            "briefing",
            "new",
            "trumps",
            "contest",
            "dies",
            "american",
            "summer",
            "review",
            "pantaleo",
            "eric",
            "man",
            "recession",
            "august",
            "says",
            "orwell"
           ],
           "xaxis": "x",
           "y": [
            0.22963602888450954,
            0.15218594221497134,
            0.1494307291352939,
            0.14889621424981644,
            0.12472580424529875,
            0.11324516492934718,
            0.10695376687771678,
            0.08807957272282557,
            0.08604773136139192,
            0.08178817467119517,
            0.07864247564537998,
            0.07802041788289363,
            0.07549677661956478,
            0.07444810712490822,
            0.07368518671296688,
            0.07235107759374958,
            0.06946463170070746,
            0.0631213760524078,
            0.06291398051630398,
            0.06204008927075685
           ],
           "yaxis": "y"
          }
         ],
         "name": "2019-8-Q3"
        },
        {
         "data": [
          {
           "alignmentgroup": "True",
           "hovertemplate": "time_period=2019-8-Q4<br>plot_term=%{x}<br>tfidf=%{y}<extra></extra>",
           "legendgroup": "",
           "marker": {
            "color": "#636efa"
           },
           "name": "",
           "offsetgroup": "",
           "orientation": "v",
           "showlegend": false,
           "textposition": "auto",
           "type": "bar",
           "x": [
            "trump",
            "g7",
            "dorian",
            "hurricane",
            "new",
            "war",
            "briefing",
            "amazon",
            "koch",
            "summer",
            "open",
            "hong_kong",
            "dies",
            "china",
            "trade",
            "2019",
            "day",
            "coco",
            "jeffrey_e...",
            "greenland"
           ],
           "xaxis": "x",
           "y": [
            0.23822907427515436,
            0.19187509189385196,
            0.1662942022424049,
            0.14995626540424128,
            0.12136198123451257,
            0.10113498436209382,
            0.096640096168223,
            0.09643866712857177,
            0.09499225528250517,
            0.09388071304101192,
            0.09214520797435216,
            0.09150922050524626,
            0.08765031978048131,
            0.08540287568354589,
            0.08427737415750634,
            0.0821724871225335,
            0.0741656551988688,
            0.07133808271820873,
            0.07074770699884908,
            0.07035420036107905
           ],
           "yaxis": "y"
          }
         ],
         "name": "2019-8-Q4"
        },
        {
         "data": [
          {
           "alignmentgroup": "True",
           "hovertemplate": "time_period=2019-9-Q1<br>plot_term=%{x}<br>tfidf=%{y}<extra></extra>",
           "legendgroup": "",
           "marker": {
            "color": "#636efa"
           },
           "name": "",
           "offsetgroup": "",
           "orientation": "v",
           "showlegend": false,
           "textposition": "auto",
           "type": "bar",
           "x": [
            "dorian",
            "bahamas",
            "hurricane",
            "trump",
            "new",
            "brexit",
            "dorians",
            "review",
            "hong_kong",
            "open",
            "dies",
            "briefing",
            "2019",
            "serena",
            "life",
            "september",
            "bianca",
            "day",
            "new_york",
            "vaping"
           ],
           "xaxis": "x",
           "y": [
            0.3511338614362747,
            0.2266576450255243,
            0.2026653896225656,
            0.14505197526759686,
            0.12812924481971055,
            0.11079134507571606,
            0.09724363227193794,
            0.09186625100281134,
            0.09023183595003972,
            0.08944871808168472,
            0.08944871808168472,
            0.0846136522394315,
            0.07529636363222038,
            0.07338424534598552,
            0.07252598763379843,
            0.07180712172374877,
            0.0707226416523185,
            0.06285585594929198,
            0.06043832302816536,
            0.05995056563481095
           ],
           "yaxis": "y"
          }
         ],
         "name": "2019-9-Q1"
        },
        {
         "data": [
          {
           "alignmentgroup": "True",
           "hovertemplate": "time_period=2019-9-Q2<br>plot_term=%{x}<br>tfidf=%{y}<extra></extra>",
           "legendgroup": "",
           "marker": {
            "color": "#636efa"
           },
           "name": "",
           "offsetgroup": "",
           "orientation": "v",
           "showlegend": false,
           "textposition": "auto",
           "type": "bar",
           "x": [
            "trump",
            "new",
            "debate",
            "spring",
            "fpo",
            "briefing",
            "democratic",
            "executive",
            "11",
            "says",
            "2020",
            "dorian",
            "bolton",
            "power",
            "dies",
            "brexit",
            "bahamas",
            "day",
            "review",
            "cigarettes"
           ],
           "xaxis": "x",
           "y": [
            0.24988896385676446,
            0.18628086396595167,
            0.14622039464142966,
            0.12504675156471798,
            0.10869930252453557,
            0.1044990212491924,
            0.09817627632820844,
            0.09786014035319364,
            0.09541214983621917,
            0.09314043198297584,
            0.09086871412973252,
            0.08715792309832418,
            0.08534218049176343,
            0.08322934674725563,
            0.07951012486351595,
            0.07808166986906664,
            0.07645674327958052,
            0.07496668915702934,
            0.07269497130378602,
            0.06365356332765644
           ],
           "yaxis": "y"
          }
         ],
         "name": "2019-9-Q2"
        },
        {
         "data": [
          {
           "alignmentgroup": "True",
           "hovertemplate": "time_period=2019-9-Q3<br>plot_term=%{x}<br>tfidf=%{y}<extra></extra>",
           "legendgroup": "",
           "marker": {
            "color": "#636efa"
           },
           "name": "",
           "offsetgroup": "",
           "orientation": "v",
           "showlegend": false,
           "textposition": "auto",
           "type": "bar",
           "x": [
            "trump",
            "new",
            "says",
            "spring",
            "trudeau",
            "iran",
            "review",
            "briefing",
            "2020",
            "climate",
            "saudis",
            "whistle",
            "strike",
            "rugby",
            "blower",
            "saudi",
            "kavanaugh",
            "2019",
            "cokie",
            "dies"
           ],
           "xaxis": "x",
           "y": [
            0.2588103871939203,
            0.15317349446170792,
            0.11355965968712828,
            0.10608053221758346,
            0.10310207287357948,
            0.0997784597348098,
            0.09771412577729643,
            0.09507320345899113,
            0.09507320345899113,
            0.09406829342720886,
            0.0916226449899476,
            0.08956460887943113,
            0.08643598921432727,
            0.0838278180322816,
            0.08373032705608993,
            0.0812464635944282,
            0.07727768166836613,
            0.07152525131349498,
            0.06892655271942592,
            0.06866398027593804
           ],
           "yaxis": "y"
          }
         ],
         "name": "2019-9-Q3"
        },
        {
         "data": [
          {
           "alignmentgroup": "True",
           "hovertemplate": "time_period=2019-9-Q4<br>plot_term=%{x}<br>tfidf=%{y}<extra></extra>",
           "legendgroup": "",
           "marker": {
            "color": "#636efa"
           },
           "name": "",
           "offsetgroup": "",
           "orientation": "v",
           "showlegend": false,
           "textposition": "auto",
           "type": "bar",
           "x": [
            "impeachment",
            "trump",
            "ukraine",
            "spring",
            "new",
            "2020",
            "emmy",
            "emmys",
            "whistle",
            "inquiry",
            "review",
            "says",
            "trumps",
            "briefing",
            "2019",
            "dies",
            "blower",
            "complaint",
            "september",
            "climate"
           ],
           "xaxis": "x",
           "y": [
            0.3682025017387166,
            0.2843091356202395,
            0.1629569620753291,
            0.14893225797726922,
            0.1341458597644792,
            0.13014150574165892,
            0.11522486589206735,
            0.1116184454840315,
            0.11078765511962506,
            0.1092995987999322,
            0.102111027581917,
            0.0961044965476866,
            0.09009796551345617,
            0.09009796551345617,
            0.08133875024792953,
            0.07808490344499536,
            0.07468109991348988,
            0.07273388662492139,
            0.06996465018698365,
            0.06927889972486813
           ],
           "yaxis": "y"
          }
         ],
         "name": "2019-9-Q4"
        },
        {
         "data": [
          {
           "alignmentgroup": "True",
           "hovertemplate": "time_period=2019-10-Q1<br>plot_term=%{x}<br>tfidf=%{y}<extra></extra>",
           "legendgroup": "",
           "marker": {
            "color": "#636efa"
           },
           "name": "",
           "offsetgroup": "",
           "orientation": "v",
           "showlegend": false,
           "textposition": "auto",
           "type": "bar",
           "x": [
            "trump",
            "impeachment",
            "new",
            "review",
            "ukraine",
            "joker",
            "says",
            "trumps",
            "briefing",
            "police",
            "hong_kong",
            "new_york",
            "world",
            "october",
            "whistle",
            "day",
            "salazar",
            "dies",
            "million",
            "china"
           ],
           "xaxis": "x",
           "y": [
            0.315750933502817,
            0.20882206513882376,
            0.1776099000953346,
            0.11840660006355637,
            0.10549085320417116,
            0.10440130933665584,
            0.10113897088762107,
            0.09867216671963032,
            0.0937385583836488,
            0.0888049500476673,
            0.08649078218640334,
            0.07893773337570427,
            0.07893773337570427,
            0.07631732361344612,
            0.0748532740420208,
            0.07400412503972274,
            0.07218270144141004,
            0.06907051670374123,
            0.06907051670374123,
            0.06907051670374123
           ],
           "yaxis": "y"
          }
         ],
         "name": "2019-10-Q1"
        },
        {
         "data": [
          {
           "alignmentgroup": "True",
           "hovertemplate": "time_period=2019-10-Q2<br>plot_term=%{x}<br>tfidf=%{y}<extra></extra>",
           "legendgroup": "",
           "marker": {
            "color": "#636efa"
           },
           "name": "",
           "offsetgroup": "",
           "orientation": "v",
           "showlegend": false,
           "textposition": "auto",
           "type": "bar",
           "x": [
            "trump",
            "impeachment",
            "syria",
            "new",
            "kurds",
            "typhoon",
            "debate",
            "review",
            "kurdish",
            "lang",
            "hagibis",
            "briefing",
            "october",
            "nobel",
            "china",
            "turkey",
            "ukraine",
            "says",
            "california",
            "dies"
           ],
           "xaxis": "x",
           "y": [
            0.2871008592707469,
            0.17071714240288274,
            0.16140529827181638,
            0.144613766151191,
            0.12605257761809796,
            0.10714469097538326,
            0.10266337746840556,
            0.10208030551848776,
            0.08554398926431249,
            0.08388532001923797,
            0.08388532001923797,
            0.08081357520213615,
            0.07989324618532836,
            0.07989324618532836,
            0.07868690217050099,
            0.07681710039538081,
            0.07334308439751025,
            0.0723068830755955,
            0.06592686398069003,
            0.06380019094905487
           ],
           "yaxis": "y"
          }
         ],
         "name": "2019-10-Q2"
        },
        {
         "data": [
          {
           "alignmentgroup": "True",
           "hovertemplate": "time_period=2019-10-Q3<br>plot_term=%{x}<br>tfidf=%{y}<extra></extra>",
           "legendgroup": "",
           "marker": {
            "color": "#636efa"
           },
           "name": "",
           "offsetgroup": "",
           "orientation": "v",
           "showlegend": false,
           "textposition": "auto",
           "type": "bar",
           "x": [
            "trump",
            "brexit",
            "playoffs",
            "review",
            "syria",
            "impeachment",
            "new",
            "week",
            "moma",
            "17",
            "debate",
            "cummings",
            "dies",
            "make",
            "elijah",
            "mulvaney",
            "briefing",
            "says",
            "deal",
            "astros"
           ],
           "xaxis": "x",
           "y": [
            0.2300847026855224,
            0.18266424824982908,
            0.17844773774644693,
            0.15255616156322682,
            0.14965715809416089,
            0.12410593598052365,
            0.12254511338685432,
            0.11754327202412558,
            0.10584520533473506,
            0.10446899086195496,
            0.0965838979890726,
            0.09635278712322813,
            0.09003314452911748,
            0.0875322238477531,
            0.07938390400105129,
            0.07539057386561948,
            0.07252669975956684,
            0.07002577907820247,
            0.06872001983415905,
            0.06656237138390267
           ],
           "yaxis": "y"
          }
         ],
         "name": "2019-10-Q3"
        },
        {
         "data": [
          {
           "alignmentgroup": "True",
           "hovertemplate": "time_period=2019-10-Q4<br>plot_term=%{x}<br>tfidf=%{y}<extra></extra>",
           "legendgroup": "",
           "marker": {
            "color": "#636efa"
           },
           "name": "",
           "offsetgroup": "",
           "orientation": "v",
           "showlegend": false,
           "textposition": "auto",
           "type": "bar",
           "x": [
            "trump",
            "impeachment",
            "new",
            "baghdadi",
            "review",
            "california",
            "world",
            "nationals",
            "halloween",
            "al",
            "isis",
            "says",
            "dies",
            "series",
            "briefing",
            "raid",
            "trumps",
            "brexit",
            "zuckerberg",
            "inquiry"
           ],
           "xaxis": "x",
           "y": [
            0.2320049844840423,
            0.19535698582580946,
            0.17311141149963155,
            0.1715787043909899,
            0.1552648742316283,
            0.12492576087602275,
            0.12135645342242213,
            0.11737879613038413,
            0.11737879613038413,
            0.1164931119549234,
            0.10488170959071584,
            0.09458664752041723,
            0.09458664752041723,
            0.08728571891197663,
            0.08209407143281497,
            0.08067753771038297,
            0.08030941770601464,
            0.07667586388846405,
            0.07500903040487887,
            0.07404293964548599
           ],
           "yaxis": "y"
          }
         ],
         "name": "2019-10-Q4"
        },
        {
         "data": [
          {
           "alignmentgroup": "True",
           "hovertemplate": "time_period=2019-11-Q1<br>plot_term=%{x}<br>tfidf=%{y}<extra></extra>",
           "legendgroup": "",
           "marker": {
            "color": "#636efa"
           },
           "name": "",
           "offsetgroup": "",
           "orientation": "v",
           "showlegend": false,
           "textposition": "auto",
           "type": "bar",
           "x": [
            "trump",
            "new",
            "2019",
            "impeachment",
            "election",
            "review",
            "kentucky",
            "warren",
            "day",
            "briefing",
            "mormon",
            "dies",
            "general",
            "elizabeth",
            "new_york",
            "testimony",
            "popeyes",
            "marathon",
            "mexico",
            "whats"
           ],
           "xaxis": "x",
           "y": [
            0.29053834579308,
            0.1753248638406517,
            0.17297742045325953,
            0.14622417538245958,
            0.1172527118591357,
            0.10769955921640034,
            0.08814047819128369,
            0.08516649813615411,
            0.08515779100831655,
            0.08265315009630722,
            0.08143318455670162,
            0.08014850918429793,
            0.07882490877164061,
            0.07461771078375902,
            0.07263458644826999,
            0.07006723324082212,
            0.06879974788766025,
            0.06334475936417079,
            0.06305992701731249,
            0.06261602280023276
           ],
           "yaxis": "y"
          }
         ],
         "name": "2019-11-Q1"
        },
        {
         "data": [
          {
           "alignmentgroup": "True",
           "hovertemplate": "time_period=2019-11-Q2<br>plot_term=%{x}<br>tfidf=%{y}<extra></extra>",
           "legendgroup": "",
           "marker": {
            "color": "#636efa"
           },
           "name": "",
           "offsetgroup": "",
           "orientation": "v",
           "showlegend": false,
           "textposition": "auto",
           "type": "bar",
           "x": [
            "impeachment",
            "trump",
            "new",
            "hearings",
            "day",
            "hearing",
            "review",
            "briefing",
            "bloomberg",
            "deval",
            "says",
            "ukraine",
            "veterans",
            "dies",
            "court",
            "yovanovitch",
            "evo",
            "bolivia",
            "hong_kong",
            "thanksgiving"
           ],
           "xaxis": "x",
           "y": [
            0.3565514244291901,
            0.2292911977181941,
            0.13928904534282815,
            0.13704673911407605,
            0.10500251110459352,
            0.10344230643664176,
            0.10285960271470387,
            0.08571633559558656,
            0.08392689177416815,
            0.08360664567855979,
            0.08143051881580722,
            0.07685911698704609,
            0.07541079813052527,
            0.07500179364613824,
            0.07071597686635891,
            0.06967220473213316,
            0.06967220473213316,
            0.06801992369195968,
            0.06543962872325132,
            0.06350744146535547
           ],
           "yaxis": "y"
          }
         ],
         "name": "2019-11-Q2"
        },
        {
         "data": [
          {
           "alignmentgroup": "True",
           "hovertemplate": "time_period=2019-11-Q3<br>plot_term=%{x}<br>tfidf=%{y}<extra></extra>",
           "legendgroup": "",
           "marker": {
            "color": "#636efa"
           },
           "name": "",
           "offsetgroup": "",
           "orientation": "v",
           "showlegend": false,
           "textposition": "auto",
           "type": "bar",
           "x": [
            "impeachment",
            "trump",
            "hearings",
            "sondland",
            "curio",
            "new",
            "debate",
            "review",
            "nov",
            "hilton",
            "briefing",
            "gordon",
            "statement",
            "hong_kong",
            "democratic",
            "day",
            "sondlands",
            "hearing",
            "dies",
            "trumps"
           ],
           "xaxis": "x",
           "y": [
            0.32775085075748783,
            0.2460591273883386,
            0.17722514700040345,
            0.14159674235674216,
            0.12469906065294252,
            0.12183510191073076,
            0.11788604473952374,
            0.1003347898088371,
            0.0991177196497195,
            0.09843167837112,
            0.0907790955413288,
            0.08678338372612887,
            0.08614436660462539,
            0.08105820212600058,
            0.08057875283088617,
            0.07644555414006636,
            0.07538370588351405,
            0.07303469016945714,
            0.06927878343943514,
            0.06927878343943514
           ],
           "yaxis": "y"
          }
         ],
         "name": "2019-11-Q3"
        },
        {
         "data": [
          {
           "alignmentgroup": "True",
           "hovertemplate": "time_period=2019-11-Q4<br>plot_term=%{x}<br>tfidf=%{y}<extra></extra>",
           "legendgroup": "",
           "marker": {
            "color": "#636efa"
           },
           "name": "",
           "offsetgroup": "",
           "orientation": "v",
           "showlegend": false,
           "textposition": "auto",
           "type": "bar",
           "x": [
            "thanksgiving",
            "trump",
            "holiday",
            "impeachment",
            "new",
            "black",
            "nov",
            "day",
            "ski",
            "review",
            "2019",
            "turkey",
            "tiffany",
            "hong_kong",
            "dies",
            "gallagher",
            "albania",
            "briefing",
            "books",
            "best"
           ],
           "xaxis": "x",
           "y": [
            0.4527342607252031,
            0.17567913724912765,
            0.12455906266199925,
            0.1151984172867367,
            0.11202727592697996,
            0.09846327797069193,
            0.09809242315712734,
            0.07892830803946314,
            0.07728612532509119,
            0.07638223358657724,
            0.07585208971410906,
            0.07524508022918967,
            0.06977430916759374,
            0.06911237194571722,
            0.06874401022791951,
            0.06517262738420204,
            0.06517262738420204,
            0.0636518613221477,
            0.0636518613221477,
            0.0636518613221477
           ],
           "yaxis": "y"
          }
         ],
         "name": "2019-11-Q4"
        },
        {
         "data": [
          {
           "alignmentgroup": "True",
           "hovertemplate": "time_period=2019-12-Q1<br>plot_term=%{x}<br>tfidf=%{y}<extra></extra>",
           "legendgroup": "",
           "marker": {
            "color": "#636efa"
           },
           "name": "",
           "offsetgroup": "",
           "orientation": "v",
           "showlegend": false,
           "textposition": "auto",
           "type": "bar",
           "x": [
            "trump",
            "impeachment",
            "nato",
            "2019",
            "new",
            "review",
            "beauty",
            "dec",
            "best",
            "world",
            "important",
            "says",
            "briefing",
            "kamala",
            "dies",
            "day",
            "weekend",
            "christmas",
            "trumps",
            "black"
           ],
           "xaxis": "x",
           "y": [
            0.2410071443046605,
            0.21887146942815905,
            0.19080300109341647,
            0.18856649166198589,
            0.15263785805961833,
            0.10979214351656756,
            0.10354631105936174,
            0.09952441820607004,
            0.09908071488080487,
            0.09372500056292353,
            0.0929241553276437,
            0.09104714340398286,
            0.08836928624504219,
            0.0799071478300722,
            0.06962428613245747,
            0.06962428613245747,
            0.06426857181457614,
            0.06181762335155844,
            0.06159071465563546,
            0.059955590160103565
           ],
           "yaxis": "y"
          }
         ],
         "name": "2019-12-Q1"
        },
        {
         "data": [
          {
           "alignmentgroup": "True",
           "hovertemplate": "time_period=2019-12-Q2<br>plot_term=%{x}<br>tfidf=%{y}<extra></extra>",
           "legendgroup": "",
           "marker": {
            "color": "#636efa"
           },
           "name": "",
           "offsetgroup": "",
           "orientation": "v",
           "showlegend": false,
           "textposition": "auto",
           "type": "bar",
           "x": [
            "impeachment",
            "trump",
            "new",
            "2019",
            "articles",
            "review",
            "briefing",
            "dec",
            "dies",
            "volcano",
            "zealand",
            "pensacola",
            "democrats",
            "million",
            "russia",
            "big",
            "christmas",
            "day",
            "semitism",
            "election"
           ],
           "xaxis": "x",
           "y": [
            0.315152739049294,
            0.2451673493348417,
            0.19343478938345307,
            0.14010954907556464,
            0.1249415005640725,
            0.11021284511382792,
            0.09671739469172654,
            0.09056084790726304,
            0.08772042774365894,
            0.08665637094785315,
            0.0846583745252835,
            0.07723026467745321,
            0.07647421905857447,
            0.07647421905857447,
            0.06988741017515131,
            0.06972649384752379,
            0.06608400889284409,
            0.06522801037348999,
            0.06488596201654137,
            0.06409346620757968
           ],
           "yaxis": "y"
          }
         ],
         "name": "2019-12-Q2"
        },
        {
         "data": [
          {
           "alignmentgroup": "True",
           "hovertemplate": "time_period=2019-12-Q3<br>plot_term=%{x}<br>tfidf=%{y}<extra></extra>",
           "legendgroup": "",
           "marker": {
            "color": "#636efa"
           },
           "name": "",
           "offsetgroup": "",
           "orientation": "v",
           "showlegend": false,
           "textposition": "auto",
           "type": "bar",
           "x": [
            "impeachment",
            "trump",
            "impeached",
            "2019",
            "debate",
            "new",
            "christmas",
            "briefing",
            "dec",
            "democrats",
            "review",
            "holiday",
            "brees",
            "day",
            "dies",
            "wars",
            "democratic",
            "star",
            "india",
            "weekend"
           ],
           "xaxis": "x",
           "y": [
            0.3663314193341261,
            0.2891868144261788,
            0.1774020222658441,
            0.12930473730986305,
            0.1024337274611198,
            0.09821438980511732,
            0.08588080223710798,
            0.08457350233218436,
            0.08449550697812254,
            0.08184532483759778,
            0.07638896984842458,
            0.07626737614865255,
            0.0749400534505237,
            0.0709326148592514,
            0.0709326148592514,
            0.06899821290497696,
            0.06614069682957281,
            0.06547625987007821,
            0.06366403615142352,
            0.06274808237549162
           ],
           "yaxis": "y"
          }
         ],
         "name": "2019-12-Q3"
        },
        {
         "data": [
          {
           "alignmentgroup": "True",
           "hovertemplate": "time_period=2019-12-Q4<br>plot_term=%{x}<br>tfidf=%{y}<extra></extra>",
           "legendgroup": "",
           "marker": {
            "color": "#636efa"
           },
           "name": "",
           "offsetgroup": "",
           "orientation": "v",
           "showlegend": false,
           "textposition": "auto",
           "type": "bar",
           "x": [
            "christmas",
            "new",
            "2019",
            "decade",
            "year",
            "dec",
            "dies",
            "eve",
            "trump",
            "briefing",
            "years",
            "2020",
            "khashoggi",
            "best",
            "tv",
            "herman",
            "women",
            "day",
            "seals",
            "000"
           ],
           "xaxis": "x",
           "y": [
            0.32954470253904816,
            0.2226968306354584,
            0.2165116304984777,
            0.15794103053530625,
            0.11991367803447757,
            0.11495391853048227,
            0.11420350288997864,
            0.10955590360502344,
            0.10278315260098078,
            0.08279753959523453,
            0.07423227687848613,
            0.07423227687848613,
            0.0731257597513585,
            0.07137718930623665,
            0.06852210173398719,
            0.06769092238513574,
            0.06281192658948825,
            0.06281192658948825,
            0.0584298152560125,
            0.05424666387273985
           ],
           "yaxis": "y"
          }
         ],
         "name": "2019-12-Q4"
        },
        {
         "data": [
          {
           "alignmentgroup": "True",
           "hovertemplate": "time_period=2020-1-Q1<br>plot_term=%{x}<br>tfidf=%{y}<extra></extra>",
           "legendgroup": "",
           "marker": {
            "color": "#636efa"
           },
           "name": "",
           "offsetgroup": "",
           "orientation": "v",
           "showlegend": false,
           "textposition": "auto",
           "type": "bar",
           "x": [
            "suleimani",
            "iran",
            "globes",
            "suleimanis",
            "new",
            "australia",
            "trump",
            "qassim",
            "golden",
            "carlos",
            "2020",
            "ghosn",
            "briefing",
            "iraq",
            "commander",
            "strike",
            "iranian",
            "impeachment",
            "fires",
            "altadena"
           ],
           "xaxis": "x",
           "y": [
            0.3003251540822429,
            0.22689958478983674,
            0.19758233821200194,
            0.15860727497852278,
            0.15800306806401784,
            0.1277537385911778,
            0.12640245445121426,
            0.1168507727043694,
            0.11574031674636928,
            0.11333666040554415,
            0.1069559229971813,
            0.09669078605940812,
            0.0948018408384107,
            0.09402466838848328,
            0.08830524261622484,
            0.08679200158936917,
            0.08402471708235107,
            0.08160066888537802,
            0.07814128810162818,
            0.07401672832331062
           ],
           "yaxis": "y"
          }
         ],
         "name": "2020-1-Q1"
        },
        {
         "data": [
          {
           "alignmentgroup": "True",
           "hovertemplate": "time_period=2020-1-Q2<br>plot_term=%{x}<br>tfidf=%{y}<extra></extra>",
           "legendgroup": "",
           "marker": {
            "color": "#636efa"
           },
           "name": "",
           "offsetgroup": "",
           "orientation": "v",
           "showlegend": false,
           "textposition": "auto",
           "type": "bar",
           "x": [
            "iran",
            "trump",
            "impeachment",
            "new",
            "2020",
            "meghan",
            "harry",
            "briefing",
            "articles",
            "jan",
            "review",
            "ukrainian",
            "trumps",
            "trial",
            "says",
            "textbooks",
            "warren",
            "ghosn",
            "carlos",
            "airliner"
           ],
           "xaxis": "x",
           "y": [
            0.2466957178707744,
            0.21021547993090453,
            0.2093232626535707,
            0.16895823620614758,
            0.16699360555258771,
            0.09895195277411456,
            0.08768361967754812,
            0.08644374875663365,
            0.0831480728207312,
            0.08041294932565472,
            0.07858522614239423,
            0.07814727584017167,
            0.07662059548883436,
            0.07641017810156729,
            0.07465596483527451,
            0.07420360255541457,
            0.07396187263615983,
            0.07380576051571773,
            0.07328062268993528,
            0.07184176711548337
           ],
           "yaxis": "y"
          }
         ],
         "name": "2020-1-Q2"
        },
        {
         "data": [
          {
           "alignmentgroup": "True",
           "hovertemplate": "time_period=2020-1-Q3<br>plot_term=%{x}<br>tfidf=%{y}<extra></extra>",
           "legendgroup": "",
           "marker": {
            "color": "#636efa"
           },
           "name": "",
           "offsetgroup": "",
           "orientation": "v",
           "showlegend": false,
           "textposition": "auto",
           "type": "bar",
           "x": [
            "impeachment",
            "davos",
            "trump",
            "trial",
            "quit",
            "touchdown",
            "new",
            "senate",
            "49ers",
            "2020",
            "says",
            "senators",
            "trumps",
            "managers",
            "democrats",
            "jan",
            "mcconnell",
            "sanders",
            "coronavirus",
            "briefing"
           ],
           "xaxis": "x",
           "y": [
            0.2734792135876985,
            0.2519616406213885,
            0.2299596751345064,
            0.2011171510587225,
            0.14881068749452167,
            0.1245787600465134,
            0.11072132506476233,
            0.09923891408587833,
            0.08715112671304748,
            0.08304099379857174,
            0.08091173754732632,
            0.07649945422705187,
            0.07452396879359002,
            0.07321879419335142,
            0.0723947125423446,
            0.07081029045435107,
            0.06915274494677827,
            0.06723053506354817,
            0.06708633578143403,
            0.06600694378860833
           ],
           "yaxis": "y"
          }
         ],
         "name": "2020-1-Q3"
        },
        {
         "data": [
          {
           "alignmentgroup": "True",
           "hovertemplate": "time_period=2020-1-Q4<br>plot_term=%{x}<br>tfidf=%{y}<extra></extra>",
           "legendgroup": "",
           "marker": {
            "color": "#636efa"
           },
           "name": "",
           "offsetgroup": "",
           "orientation": "v",
           "showlegend": false,
           "textposition": "auto",
           "type": "bar",
           "x": [
            "trump",
            "witnesses",
            "impeachment",
            "coronavirus",
            "kobe",
            "bolton",
            "trial",
            "iowa",
            "bryant",
            "democrats",
            "trumps",
            "new",
            "says",
            "senators",
            "grammys",
            "boltons",
            "schiff",
            "senate",
            "lawyers",
            "2020"
           ],
           "xaxis": "x",
           "y": [
            0.2715870828186113,
            0.2572129008089548,
            0.2448291964683001,
            0.2255250041167443,
            0.22185582606091545,
            0.21434408400746227,
            0.15723748548534752,
            0.15198424190476245,
            0.14539229471476434,
            0.13465241921258878,
            0.13351129701587194,
            0.13351129701587194,
            0.1289468082290045,
            0.11518482741042227,
            0.11309492726411065,
            0.09807338438671197,
            0.09659027903086212,
            0.09100482880706548,
            0.08758461287995037,
            0.08672528695048091
           ],
           "yaxis": "y"
          }
         ],
         "name": "2020-1-Q4"
        },
        {
         "data": [
          {
           "alignmentgroup": "True",
           "hovertemplate": "time_period=2020-2-Q1<br>plot_term=%{x}<br>tfidf=%{y}<extra></extra>",
           "legendgroup": "",
           "marker": {
            "color": "#636efa"
           },
           "name": "",
           "offsetgroup": "",
           "orientation": "v",
           "showlegend": false,
           "textposition": "auto",
           "type": "bar",
           "x": [
            "coronavirus",
            "iowa",
            "trump",
            "caucuses",
            "bowl",
            "impeachment",
            "caucus",
            "foreign",
            "super",
            "new",
            "policy",
            "china",
            "union",
            "trumps",
            "state",
            "dies",
            "acquittal",
            "2020",
            "feb",
            "kobe"
           ],
           "xaxis": "x",
           "y": [
            0.3131515747028119,
            0.2884290819631162,
            0.2301693730787162,
            0.17664196289413991,
            0.1525911028564893,
            0.13437585649646155,
            0.13191401103245848,
            0.1253932223291215,
            0.11966975189459875,
            0.1131666084303688,
            0.11261569699231715,
            0.09974006166744367,
            0.0994517531297356,
            0.09590390544946507,
            0.09014967112249718,
            0.08631351490451858,
            0.08526652408987705,
            0.08055928057755067,
            0.0795820891505519,
            0.07360081787255829
           ],
           "yaxis": "y"
          }
         ],
         "name": "2020-2-Q1"
        },
        {
         "data": [
          {
           "alignmentgroup": "True",
           "hovertemplate": "time_period=2020-2-Q2<br>plot_term=%{x}<br>tfidf=%{y}<extra></extra>",
           "legendgroup": "",
           "marker": {
            "color": "#636efa"
           },
           "name": "",
           "offsetgroup": "",
           "orientation": "v",
           "showlegend": false,
           "textposition": "auto",
           "type": "bar",
           "x": [
            "coronavirus",
            "hampshire",
            "new",
            "oscars",
            "trump",
            "review",
            "2020",
            "feb",
            "build",
            "love",
            "bloomberg",
            "day",
            "westminster",
            "world",
            "trumps",
            "china",
            "sanders",
            "briefing",
            "war",
            "valentines"
           ],
           "xaxis": "x",
           "y": [
            0.2995678047765229,
            0.2601996070897728,
            0.2501908001292266,
            0.19090165966211173,
            0.15995805254163667,
            0.11894316727455034,
            0.10868944595777877,
            0.09724169031572537,
            0.09578008165289596,
            0.09433423611429856,
            0.08796655431021155,
            0.08613125906088129,
            0.080284867678079,
            0.07792828200746403,
            0.07792828200746403,
            0.07587753774410971,
            0.07471332231067637,
            0.0738267934807554,
            0.0738267934807554,
            0.06749165924033727
           ],
           "yaxis": "y"
          }
         ],
         "name": "2020-2-Q2"
        },
        {
         "data": [
          {
           "alignmentgroup": "True",
           "hovertemplate": "time_period=2020-2-Q3<br>plot_term=%{x}<br>tfidf=%{y}<extra></extra>",
           "legendgroup": "",
           "marker": {
            "color": "#636efa"
           },
           "name": "",
           "offsetgroup": "",
           "orientation": "v",
           "showlegend": false,
           "textposition": "auto",
           "type": "bar",
           "x": [
            "nevada",
            "coronavirus",
            "bloomberg",
            "new",
            "trump",
            "2020",
            "briefing",
            "debate",
            "dies",
            "democratic",
            "caucuses",
            "fall",
            "sanders",
            "review",
            "democrats",
            "whats",
            "blagojevich",
            "affleck",
            "weinstein",
            "cobble"
           ],
           "xaxis": "x",
           "y": [
            0.2981862527187342,
            0.28170189344110586,
            0.20380368889637168,
            0.13841913885771312,
            0.13599073291284094,
            0.12870551507822448,
            0.10199304968463073,
            0.09638852215419673,
            0.09227942590514207,
            0.08958960872496656,
            0.08697099037629748,
            0.08075795099405672,
            0.07962516407934192,
            0.07770899023590913,
            0.07770899023590913,
            0.07285217834616481,
            0.0670508934633528,
            0.0670508934633528,
            0.06501892015808602,
            0.06337999767096815
           ],
           "yaxis": "y"
          }
         ],
         "name": "2020-2-Q3"
        },
        {
         "data": [
          {
           "alignmentgroup": "True",
           "hovertemplate": "time_period=2020-2-Q4<br>plot_term=%{x}<br>tfidf=%{y}<extra></extra>",
           "legendgroup": "",
           "marker": {
            "color": "#636efa"
           },
           "name": "",
           "offsetgroup": "",
           "orientation": "v",
           "showlegend": false,
           "textposition": "auto",
           "type": "bar",
           "x": [
            "coronavirus",
            "trump",
            "new",
            "weinstein",
            "2020",
            "sanders",
            "south",
            "review",
            "bernie",
            "nevada",
            "carolina",
            "bloomberg",
            "harvey",
            "feb",
            "bryant",
            "kobe",
            "dies",
            "fall",
            "debate",
            "briefing"
           ],
           "xaxis": "x",
           "y": [
            0.5601937704395411,
            0.16028033452427332,
            0.15837223530374625,
            0.13623482914529642,
            0.11830215167267792,
            0.10890908285898783,
            0.1087616555700426,
            0.0992211594674073,
            0.09893435086795878,
            0.09274268128211237,
            0.08949490444461021,
            0.08184780360532269,
            0.0816116341182763,
            0.07916805971791127,
            0.07798000231435627,
            0.07321790627535188,
            0.07250777038002841,
            0.06959566378246017,
            0.0593610073438631,
            0.05915107583633896
           ],
           "yaxis": "y"
          }
         ],
         "name": "2020-2-Q4"
        },
        {
         "data": [
          {
           "alignmentgroup": "True",
           "hovertemplate": "time_period=2020-3-Q1<br>plot_term=%{x}<br>tfidf=%{y}<extra></extra>",
           "legendgroup": "",
           "marker": {
            "color": "#636efa"
           },
           "name": "",
           "offsetgroup": "",
           "orientation": "v",
           "showlegend": false,
           "textposition": "auto",
           "type": "bar",
           "x": [
            "coronavirus",
            "super",
            "sanders",
            "tuesday",
            "trump",
            "review",
            "new",
            "biden",
            "2020",
            "dies",
            "bernie",
            "march",
            "briefing",
            "outbreak",
            "day",
            "million",
            "devs",
            "weekend",
            "fall",
            "elizabeth"
           ],
           "xaxis": "x",
           "y": [
            0.6908490556504954,
            0.15114818159502927,
            0.11850579155031114,
            0.10863016239400446,
            0.09758302723529214,
            0.08837708126969854,
            0.08285351369034237,
            0.08285351369034237,
            0.07732994611098623,
            0.07180637853163006,
            0.07098685939031621,
            0.06787842165446772,
            0.06628281095227391,
            0.06482544923525763,
            0.060759243372917736,
            0.05339448660044287,
            0.05083720894950238,
            0.04971210821420543,
            0.04740367031812375,
            0.047372443671919034
           ],
           "yaxis": "y"
          }
         ],
         "name": "2020-3-Q1"
        },
        {
         "data": [
          {
           "alignmentgroup": "True",
           "hovertemplate": "time_period=2020-3-Q2<br>plot_term=%{x}<br>tfidf=%{y}<extra></extra>",
           "legendgroup": "",
           "marker": {
            "color": "#636efa"
           },
           "name": "",
           "offsetgroup": "",
           "orientation": "v",
           "showlegend": false,
           "textposition": "auto",
           "type": "bar",
           "x": [
            "coronavirus",
            "sanders",
            "trump",
            "biden",
            "new",
            "home",
            "markets",
            "briefing",
            "virus",
            "pandemic",
            "march",
            "bernie",
            "new_york",
            "2020",
            "day",
            "review",
            "joe",
            "containment",
            "just",
            "fight"
           ],
           "xaxis": "x",
           "y": [
            0.8421640285863511,
            0.09473180077184494,
            0.09240763868488384,
            0.07680634903678656,
            0.06600545620348845,
            0.0612050593886893,
            0.05642555994905216,
            0.055204563370190335,
            0.05463230508516593,
            0.05096502188946647,
            0.05027681916392674,
            0.04467419405713143,
            0.043203571333192435,
            0.04200347212949265,
            0.04200347212949265,
            0.039603273722093074,
            0.03921454221966776,
            0.036542215019161016,
            0.0360029761109937,
            0.0360029761109937
           ],
           "yaxis": "y"
          }
         ],
         "name": "2020-3-Q2"
        },
        {
         "data": [
          {
           "alignmentgroup": "True",
           "hovertemplate": "time_period=2020-3-Q3<br>plot_term=%{x}<br>tfidf=%{y}<extra></extra>",
           "legendgroup": "",
           "marker": {
            "color": "#636efa"
           },
           "name": "",
           "offsetgroup": "",
           "orientation": "v",
           "showlegend": false,
           "textposition": "auto",
           "type": "bar",
           "x": [
            "coronavirus",
            "primary",
            "results",
            "election",
            "district",
            "virus",
            "house",
            "pandemic",
            "california",
            "illinois",
            "supported",
            "home",
            "ventilators",
            "2020",
            "trump",
            "live",
            "presidential",
            "new",
            "briefing",
            "brady"
           ],
           "xaxis": "x",
           "y": [
            0.7375383898198666,
            0.2438778998459378,
            0.22075401232215852,
            0.17470265709869365,
            0.15762896540178398,
            0.12813642094779296,
            0.11875405123328953,
            0.1034313254758646,
            0.092886832152771,
            0.08314525339172703,
            0.06969122005054497,
            0.06584383038677437,
            0.0649878142380547,
            0.0587891342739057,
            0.057613351588427585,
            0.05504330292150622,
            0.05226239445688089,
            0.0505586554755589,
            0.0505586554755589,
            0.048125154381570515
           ],
           "yaxis": "y"
          }
         ],
         "name": "2020-3-Q3"
        },
        {
         "data": [
          {
           "alignmentgroup": "True",
           "hovertemplate": "time_period=2020-3-Q4<br>plot_term=%{x}<br>tfidf=%{y}<extra></extra>",
           "legendgroup": "",
           "marker": {
            "color": "#636efa"
           },
           "name": "",
           "offsetgroup": "",
           "orientation": "v",
           "showlegend": false,
           "textposition": "auto",
           "type": "bar",
           "x": [
            "coronavirus",
            "virus",
            "pandemic",
            "dies",
            "stimulus",
            "home",
            "trump",
            "quarantine",
            "briefing",
            "crisis",
            "lockdown",
            "help",
            "new",
            "time",
            "fight",
            "day",
            "new_york",
            "health",
            "need",
            "2020"
           ],
           "xaxis": "x",
           "y": [
            0.8097620417068231,
            0.15131922996983505,
            0.1200601901897886,
            0.08820608642934408,
            0.08647011707204354,
            0.08255185011977073,
            0.07463591928636806,
            0.06312732303582831,
            0.05880405761956273,
            0.05869400179094321,
            0.05831494952075447,
            0.05767321035764805,
            0.04862643226233071,
            0.047495585000416035,
            0.046364737738501374,
            0.04523389047658671,
            0.04410304321467204,
            0.04297219595275737,
            0.0418413486908427,
            0.040710501428928035
           ],
           "yaxis": "y"
          }
         ],
         "name": "2020-3-Q4"
        },
        {
         "data": [
          {
           "alignmentgroup": "True",
           "hovertemplate": "time_period=2020-4-Q1<br>plot_term=%{x}<br>tfidf=%{y}<extra></extra>",
           "legendgroup": "",
           "marker": {
            "color": "#636efa"
           },
           "name": "",
           "offsetgroup": "",
           "orientation": "v",
           "showlegend": false,
           "textposition": "auto",
           "type": "bar",
           "x": [
            "coronavirus",
            "primary",
            "results",
            "district",
            "election",
            "house",
            "pandemic",
            "virus",
            "count",
            "california",
            "map",
            "dies",
            "trump",
            "supported",
            "case",
            "home",
            "texas",
            "2020",
            "masks",
            "new"
           ],
           "xaxis": "x",
           "y": [
            0.6136942578484058,
            0.2847605479823053,
            0.2585867466485087,
            0.22114572032260496,
            0.2087440006757443,
            0.16461344404497885,
            0.13672278086245962,
            0.11714575355122775,
            0.11384363054020805,
            0.10582292831462924,
            0.10098980044595507,
            0.0836131779276083,
            0.08230672202248943,
            0.07743650854405144,
            0.07446798659177614,
            0.0705486188764195,
            0.06823306276673381,
            0.06140342754058735,
            0.06059388026757305,
            0.060096971635468475
           ],
           "yaxis": "y"
          }
         ],
         "name": "2020-4-Q1"
        },
        {
         "data": [
          {
           "alignmentgroup": "True",
           "hovertemplate": "time_period=2020-4-Q2<br>plot_term=%{x}<br>tfidf=%{y}<extra></extra>",
           "legendgroup": "",
           "marker": {
            "color": "#636efa"
           },
           "name": "",
           "offsetgroup": "",
           "orientation": "v",
           "showlegend": false,
           "textposition": "auto",
           "type": "bar",
           "x": [
            "coronavirus",
            "pandemic",
            "virus",
            "trump",
            "new",
            "dies",
            "briefing",
            "stimulus",
            "quarantine",
            "day",
            "sanders",
            "bernie",
            "biden",
            "virtual",
            "world",
            "new_york",
            "help",
            "covid",
            "2020",
            "april"
           ],
           "xaxis": "x",
           "y": [
            0.6379024293678063,
            0.2169701262899676,
            0.1681899085239947,
            0.12842433476205253,
            0.10078871842085137,
            0.09428622045821576,
            0.0894093469862391,
            0.08185820875364615,
            0.061387871411242426,
            0.06014810615437902,
            0.057251058428155525,
            0.05619208267865248,
            0.053645608191743466,
            0.05231467896839807,
            0.052019983701084564,
            0.050394359210425684,
            0.050394359210425684,
            0.049034683442171684,
            0.04876873471976678,
            0.047981953750153655
           ],
           "yaxis": "y"
          }
         ],
         "name": "2020-4-Q2"
        },
        {
         "data": [
          {
           "alignmentgroup": "True",
           "hovertemplate": "time_period=2020-4-Q3<br>plot_term=%{x}<br>tfidf=%{y}<extra></extra>",
           "legendgroup": "",
           "marker": {
            "color": "#636efa"
           },
           "name": "",
           "offsetgroup": "",
           "orientation": "v",
           "showlegend": false,
           "textposition": "auto",
           "type": "bar",
           "x": [
            "coronavirus",
            "pandemic",
            "virus",
            "trump",
            "dies",
            "fertility",
            "kids",
            "day",
            "birth",
            "baby",
            "new",
            "home",
            "pregnancy",
            "know",
            "lockdown",
            "earth",
            "childbirth",
            "testing",
            "briefing",
            "right"
           ],
           "xaxis": "x",
           "y": [
            0.5643260545345669,
            0.17114394822228024,
            0.15319129523968258,
            0.13612489364266486,
            0.10925813831845467,
            0.0900178946231393,
            0.08955585108070055,
            0.08776473405908654,
            0.08704274857496593,
            0.08647895699014341,
            0.07880914895101647,
            0.07343579788617445,
            0.07174981601271968,
            0.06985356384294643,
            0.06519769456086866,
            0.06340448472011549,
            0.061500033264989436,
            0.05953132067565435,
            0.05910686171326236,
            0.05731574469164835
           ],
           "yaxis": "y"
          }
         ],
         "name": "2020-4-Q3"
        },
        {
         "data": [
          {
           "alignmentgroup": "True",
           "hovertemplate": "time_period=2020-4-Q4<br>plot_term=%{x}<br>tfidf=%{y}<extra></extra>",
           "legendgroup": "",
           "marker": {
            "color": "#636efa"
           },
           "name": "",
           "offsetgroup": "",
           "orientation": "v",
           "showlegend": false,
           "textposition": "auto",
           "type": "bar",
           "x": [
            "coronavirus",
            "pandemic",
            "virus",
            "dies",
            "trump",
            "covid",
            "new",
            "draft",
            "19",
            "home",
            "briefing",
            "ramadan",
            "april",
            "amash",
            "disinfectant",
            "reopening",
            "world",
            "isolation",
            "review",
            "house"
           ],
           "xaxis": "x",
           "y": [
            0.5140897110964671,
            0.17399727547413546,
            0.17357256145989947,
            0.14802794473354666,
            0.144327246115208,
            0.13333151542063448,
            0.13137480095102266,
            0.10801419026844604,
            0.08387696203172268,
            0.08326571891262,
            0.08326571891262,
            0.08023110101346335,
            0.07562067844925027,
            0.06766277616139657,
            0.06766277616139657,
            0.06605579502416288,
            0.06476222582092668,
            0.06213065277682098,
            0.06106152720258799,
            0.06106152720258799
           ],
           "yaxis": "y"
          }
         ],
         "name": "2020-4-Q4"
        },
        {
         "data": [
          {
           "alignmentgroup": "True",
           "hovertemplate": "time_period=2020-5-Q1<br>plot_term=%{x}<br>tfidf=%{y}<extra></extra>",
           "legendgroup": "",
           "marker": {
            "color": "#636efa"
           },
           "name": "",
           "offsetgroup": "",
           "orientation": "v",
           "showlegend": false,
           "textposition": "auto",
           "type": "bar",
           "x": [
            "coronavirus",
            "pandemic",
            "new",
            "virus",
            "briefing",
            "trump",
            "covid",
            "dies",
            "review",
            "home",
            "tara",
            "reopening",
            "livestrea...",
            "reade",
            "hornets",
            "day",
            "lockdown",
            "whats",
            "vaccine",
            "shula"
           ],
           "xaxis": "x",
           "y": [
            0.4464404046347277,
            0.21520531979827376,
            0.1848887482990989,
            0.17794333217345382,
            0.1031937199808924,
            0.10104385081462383,
            0.09727168354298556,
            0.09674411248208664,
            0.09459424331581803,
            0.08384489748447509,
            0.07659136849639123,
            0.06907354446258722,
            0.06643637533497121,
            0.06643637533497121,
            0.06546207271420176,
            0.06449607498805776,
            0.06195304660859395,
            0.06019633665552058,
            0.05961826748995476,
            0.059360194176765226
           ],
           "yaxis": "y"
          }
         ],
         "name": "2020-5-Q1"
        },
        {
         "data": [
          {
           "alignmentgroup": "True",
           "hovertemplate": "time_period=2020-5-Q2<br>plot_term=%{x}<br>tfidf=%{y}<extra></extra>",
           "legendgroup": "",
           "marker": {
            "color": "#636efa"
           },
           "name": "",
           "offsetgroup": "",
           "orientation": "v",
           "showlegend": false,
           "textposition": "auto",
           "type": "bar",
           "x": [
            "coronavirus",
            "pandemic",
            "virus",
            "arbery",
            "ahmaud",
            "flynn",
            "new",
            "trump",
            "dies",
            "day",
            "briefing",
            "covid",
            "silk",
            "home",
            "reopening",
            "quarantine",
            "fauci",
            "praying",
            "reopen",
            "mantises"
           ],
           "xaxis": "x",
           "y": [
            0.43265119675352864,
            0.20799696045210167,
            0.16998906635625627,
            0.12369472167522845,
            0.12369472167522845,
            0.12026917443637705,
            0.10335088627362757,
            0.10136336922990397,
            0.09937585218618036,
            0.09341330105500953,
            0.08745074992383871,
            0.08659540483972474,
            0.0862360366892315,
            0.08546323288011509,
            0.08159544279890639,
            0.08158031455178684,
            0.07924952614601782,
            0.07267866676849401,
            0.061475639505400324,
            0.0605185595841488
           ],
           "yaxis": "y"
          }
         ],
         "name": "2020-5-Q2"
        },
        {
         "data": [
          {
           "alignmentgroup": "True",
           "hovertemplate": "time_period=2020-5-Q3<br>plot_term=%{x}<br>tfidf=%{y}<extra></extra>",
           "legendgroup": "",
           "marker": {
            "color": "#636efa"
           },
           "name": "",
           "offsetgroup": "",
           "orientation": "v",
           "showlegend": false,
           "textposition": "auto",
           "type": "bar",
           "x": [
            "coronavirus",
            "pandemic",
            "virus",
            "trump",
            "dies",
            "new",
            "joy",
            "briefing",
            "day",
            "summer",
            "2020",
            "cyclone",
            "lockdown",
            "home",
            "reopening",
            "hydroxych...",
            "amphan",
            "zip",
            "end",
            "trumps"
           ],
           "xaxis": "x",
           "y": [
            0.3297959456132174,
            0.21976418103476272,
            0.17132925274439156,
            0.1345473627004896,
            0.1267850148523844,
            0.11902266700427926,
            0.10824766306989793,
            0.09832307274266547,
            0.09314817417726202,
            0.07768500269401353,
            0.07503602919834998,
            0.07090817238359398,
            0.07063848676117374,
            0.06986113063294652,
            0.06927719752964806,
            0.06901370874132177,
            0.06753093726263981,
            0.06730042105726697,
            0.0631979049785206,
            0.06209878278484135
           ],
           "yaxis": "y"
          }
         ],
         "name": "2020-5-Q3"
        },
        {
         "data": [
          {
           "alignmentgroup": "True",
           "hovertemplate": "time_period=2020-5-Q4<br>plot_term=%{x}<br>tfidf=%{y}<extra></extra>",
           "legendgroup": "",
           "marker": {
            "color": "#636efa"
           },
           "name": "",
           "offsetgroup": "",
           "orientation": "v",
           "showlegend": false,
           "textposition": "auto",
           "type": "bar",
           "x": [
            "coronavirus",
            "trump",
            "pandemic",
            "spacex",
            "lockdown",
            "minneapolis",
            "dies",
            "floyd",
            "hong_kong",
            "covid",
            "new",
            "day",
            "launch",
            "briefing",
            "police",
            "twitter",
            "virus",
            "kramer",
            "reopening",
            "protests"
           ],
           "xaxis": "x",
           "y": [
            0.32938521669573684,
            0.2256971967742701,
            0.18582697523541766,
            0.15946300959859494,
            0.15648587388245694,
            0.14962401303811965,
            0.1182223411674748,
            0.11400096565079845,
            0.09967682133525292,
            0.09725484980611293,
            0.09242837582184396,
            0.09027887870970804,
            0.0853243268461822,
            0.08168089026116443,
            0.08168089026116443,
            0.07847166395377078,
            0.07413022395190359,
            0.07323025479762671,
            0.0728983457035038,
            0.07275195239796081
           ],
           "yaxis": "y"
          }
         ],
         "name": "2020-5-Q4"
        },
        {
         "data": [
          {
           "alignmentgroup": "True",
           "hovertemplate": "time_period=2020-6-Q1<br>plot_term=%{x}<br>tfidf=%{y}<extra></extra>",
           "legendgroup": "",
           "marker": {
            "color": "#636efa"
           },
           "name": "",
           "offsetgroup": "",
           "orientation": "v",
           "showlegend": false,
           "textposition": "auto",
           "type": "bar",
           "x": [
            "coronavirus",
            "protests",
            "police",
            "floyd",
            "trump",
            "primary",
            "george",
            "pandemic",
            "minneapolis",
            "congressi...",
            "election",
            "protesters",
            "results",
            "district",
            "new_york",
            "curfew",
            "black",
            "dies",
            "says",
            "briefing"
           ],
           "xaxis": "x",
           "y": [
            0.2802874115399687,
            0.24489301104482394,
            0.2352956531446437,
            0.218676977503413,
            0.18471808284252406,
            0.13657717190969784,
            0.13564512942226412,
            0.13340962207252555,
            0.1170547360637538,
            0.11423586054237098,
            0.11413527683766532,
            0.11338482196276806,
            0.10197352694249176,
            0.10124715146637003,
            0.09016001662551767,
            0.0857960554000305,
            0.08504197097708398,
            0.08356294223828467,
            0.08136391744254035,
            0.08136391744254035
           ],
           "yaxis": "y"
          }
         ],
         "name": "2020-6-Q1"
        },
        {
         "data": [
          {
           "alignmentgroup": "True",
           "hovertemplate": "time_period=2020-6-Q2<br>plot_term=%{x}<br>tfidf=%{y}<extra></extra>",
           "legendgroup": "",
           "marker": {
            "color": "#636efa"
           },
           "name": "",
           "offsetgroup": "",
           "orientation": "v",
           "showlegend": false,
           "textposition": "auto",
           "type": "bar",
           "x": [
            "coronavirus",
            "police",
            "trump",
            "black",
            "pandemic",
            "virus",
            "floyd",
            "new",
            "fowl",
            "protests",
            "briefing",
            "dies",
            "atlanta",
            "statue",
            "lives",
            "says",
            "review",
            "pride",
            "matter",
            "covid"
           ],
           "xaxis": "x",
           "y": [
            0.2227717235734056,
            0.21191191104695228,
            0.1780961805607365,
            0.15601128758858535,
            0.13676801440963027,
            0.12439586468294615,
            0.11956365383793092,
            0.1127191016207193,
            0.10786980178785543,
            0.09845405287562503,
            0.09242966332898983,
            0.09242966332898983,
            0.08769334395120887,
            0.08515932905839356,
            0.08414240316642141,
            0.0789033711345035,
            0.07214022503726035,
            0.07165885955282146,
            0.0668950235123227,
            0.060444687196886476
           ],
           "yaxis": "y"
          }
         ],
         "name": "2020-6-Q2"
        },
        {
         "data": [
          {
           "alignmentgroup": "True",
           "hovertemplate": "time_period=2020-6-Q3<br>plot_term=%{x}<br>tfidf=%{y}<extra></extra>",
           "legendgroup": "",
           "marker": {
            "color": "#636efa"
           },
           "name": "",
           "offsetgroup": "",
           "orientation": "v",
           "showlegend": false,
           "textposition": "auto",
           "type": "bar",
           "x": [
            "juneteenth",
            "trump",
            "coronavirus",
            "tulsa",
            "pandemic",
            "black",
            "bolton",
            "new",
            "dies",
            "rayshard",
            "virus",
            "china",
            "briefing",
            "court",
            "confederate",
            "flag",
            "floyd",
            "policing",
            "daca",
            "rally"
           ],
           "xaxis": "x",
           "y": [
            0.4290116097080428,
            0.2153946940379373,
            0.1771434425746455,
            0.14797584235474698,
            0.14555367560748855,
            0.1367331347426476,
            0.11781865432318438,
            0.10876365738549308,
            0.10449841591939532,
            0.08787114037200655,
            0.08531591687993555,
            0.0789069671228087,
            0.07677434638975983,
            0.07677434638975983,
            0.0716087052391165,
            0.07076920597038522,
            0.07069119259391063,
            0.06985847894988015,
            0.06675975903102692,
            0.06642250237917283
           ],
           "yaxis": "y"
          }
         ],
         "name": "2020-6-Q3"
        },
        {
         "data": [
          {
           "alignmentgroup": "True",
           "hovertemplate": "time_period=2020-6-Q4<br>plot_term=%{x}<br>tfidf=%{y}<extra></extra>",
           "legendgroup": "",
           "marker": {
            "color": "#636efa"
           },
           "name": "",
           "offsetgroup": "",
           "orientation": "v",
           "showlegend": false,
           "textposition": "auto",
           "type": "bar",
           "x": [
            "primary",
            "results",
            "election",
            "district",
            "house",
            "coronavirus",
            "california",
            "congressi...",
            "texas",
            "presidential",
            "virus",
            "supported",
            "trump",
            "2020",
            "live",
            "pandemic",
            "new",
            "forecast",
            "groups",
            "dies"
           ],
           "xaxis": "x",
           "y": [
            0.4943336360792026,
            0.44125507445331336,
            0.360294951209868,
            0.33511403666093736,
            0.1955084369989642,
            0.1172948482333464,
            0.11624825983722195,
            0.1092081088153974,
            0.0968835347760565,
            0.093947670085873,
            0.0923303664165864,
            0.08873857650812991,
            0.08718619487791647,
            0.086305526242786,
            0.08514432926601359,
            0.07346360817098355,
            0.07045349081043754,
            0.06838273473738687,
            0.05075667473631591,
            0.05019811220243675
           ],
           "yaxis": "y"
          }
         ],
         "name": "2020-6-Q4"
        },
        {
         "data": [
          {
           "alignmentgroup": "True",
           "hovertemplate": "time_period=2020-7-Q1<br>plot_term=%{x}<br>tfidf=%{y}<extra></extra>",
           "legendgroup": "",
           "marker": {
            "color": "#636efa"
           },
           "name": "",
           "offsetgroup": "",
           "orientation": "v",
           "showlegend": false,
           "textposition": "auto",
           "type": "bar",
           "x": [
            "coronavirus",
            "congressi...",
            "primary",
            "results",
            "new",
            "election",
            "district",
            "virus",
            "july",
            "trump",
            "pandemic",
            "jersey",
            "dies",
            "new_york",
            "black",
            "fourth",
            "cases",
            "police",
            "briefing",
            "delaware"
           ],
           "xaxis": "x",
           "y": [
            0.24133545291856856,
            0.2275973811016559,
            0.2269476593814065,
            0.21904182324501328,
            0.2188175322429784,
            0.21501152692128211,
            0.19073248198431275,
            0.1630719102814315,
            0.15219708393916292,
            0.1358177786335728,
            0.11062617520227222,
            0.10131898709661648,
            0.10060576195079468,
            0.0905451857557152,
            0.08190915311286938,
            0.0800805600172493,
            0.07680687308591375,
            0.06287860121924667,
            0.06287860121924667,
            0.06231804842478435
           ],
           "yaxis": "y"
          }
         ],
         "name": "2020-7-Q1"
        },
        {
         "data": [
          {
           "alignmentgroup": "True",
           "hovertemplate": "time_period=2020-7-Q2<br>plot_term=%{x}<br>tfidf=%{y}<extra></extra>",
           "legendgroup": "",
           "marker": {
            "color": "#636efa"
           },
           "name": "",
           "offsetgroup": "",
           "orientation": "v",
           "showlegend": false,
           "textposition": "auto",
           "type": "bar",
           "x": [
            "trump",
            "coronavirus",
            "pandemic",
            "virus",
            "new",
            "covid",
            "seoul",
            "court",
            "runoff",
            "stone",
            "says",
            "dies",
            "story",
            "reopen",
            "short",
            "briefing",
            "review",
            "election",
            "primary",
            "schools"
           ],
           "xaxis": "x",
           "y": [
            0.2885455560846699,
            0.2765261553918113,
            0.14807178064638313,
            0.13766990676964008,
            0.13234044301627718,
            0.1090673198516803,
            0.10750872858837314,
            0.10413674204559516,
            0.10274597246525877,
            0.10163791919191982,
            0.09545868020846224,
            0.08895013383061254,
            0.08390076868608001,
            0.08388126198556793,
            0.08242124173871543,
            0.0802720719934796,
            0.0802720719934796,
            0.0794849387552337,
            0.07881276469938986,
            0.07816688077000407
           ],
           "yaxis": "y"
          }
         ],
         "name": "2020-7-Q2"
        },
        {
         "data": [
          {
           "alignmentgroup": "True",
           "hovertemplate": "time_period=2020-7-Q3<br>plot_term=%{x}<br>tfidf=%{y}<extra></extra>",
           "legendgroup": "",
           "marker": {
            "color": "#636efa"
           },
           "name": "",
           "offsetgroup": "",
           "orientation": "v",
           "showlegend": false,
           "textposition": "auto",
           "type": "bar",
           "x": [
            "coronavirus",
            "virus",
            "portland",
            "pandemic",
            "trump",
            "new",
            "says",
            "covid",
            "dies",
            "lewis",
            "trumps",
            "federal",
            "vaccine",
            "briefing",
            "19",
            "congressi...",
            "election",
            "police",
            "say",
            "reopening"
           ],
           "xaxis": "x",
           "y": [
            0.27768810389381715,
            0.19518852977624976,
            0.18529021967393194,
            0.16691233091274155,
            0.16245526278435518,
            0.1283920625231194,
            0.12053132400129578,
            0.11416318613654768,
            0.11005033930553093,
            0.10422574856658673,
            0.09694910843582487,
            0.09275948858939988,
            0.08031101403774464,
            0.07860738521823638,
            0.07501683040903548,
            0.07464516016620425,
            0.07199883242413997,
            0.07074664669641274,
            0.07074664669641274,
            0.07015531202176442
           ],
           "yaxis": "y"
          }
         ],
         "name": "2020-7-Q3"
        },
        {
         "data": [
          {
           "alignmentgroup": "True",
           "hovertemplate": "time_period=2020-7-Q4<br>plot_term=%{x}<br>tfidf=%{y}<extra></extra>",
           "legendgroup": "",
           "marker": {
            "color": "#636efa"
           },
           "name": "",
           "offsetgroup": "",
           "orientation": "v",
           "showlegend": false,
           "textposition": "auto",
           "type": "bar",
           "x": [
            "coronavirus",
            "trump",
            "pandemic",
            "virus",
            "portland",
            "new",
            "dies",
            "covid",
            "lewis",
            "review",
            "big",
            "briefing",
            "mars",
            "says",
            "china",
            "day",
            "tech",
            "summer",
            "week",
            "trumps"
           ],
           "xaxis": "x",
           "y": [
            0.2900186855377035,
            0.2673894104467809,
            0.18189977693540108,
            0.16273275735226192,
            0.13034277785780007,
            0.1238642121922588,
            0.10813542334244816,
            0.10543041378333746,
            0.0999294630243134,
            0.08650833867395852,
            0.08454224006773219,
            0.08454224006773219,
            0.08263516217111004,
            0.06684735261169522,
            0.06488125400546889,
            0.06488125400546889,
            0.06439803902561851,
            0.06416272604440015,
            0.06291515539924256,
            0.060949056793016224
           ],
           "yaxis": "y"
          }
         ],
         "name": "2020-7-Q4"
        },
        {
         "data": [
          {
           "alignmentgroup": "True",
           "hovertemplate": "time_period=2020-8-Q1<br>plot_term=%{x}<br>tfidf=%{y}<extra></extra>",
           "legendgroup": "",
           "marker": {
            "color": "#636efa"
           },
           "name": "",
           "offsetgroup": "",
           "orientation": "v",
           "showlegend": false,
           "textposition": "auto",
           "type": "bar",
           "x": [
            "beirut",
            "coronavirus",
            "trump",
            "tiktok",
            "pandemic",
            "virus",
            "primary",
            "new",
            "election",
            "covid",
            "congressi...",
            "dies",
            "isaias",
            "results",
            "briefing",
            "runoff",
            "says",
            "wechat",
            "district",
            "home"
           ],
           "xaxis": "x",
           "y": [
            0.3087913652136832,
            0.2507775050396743,
            0.2432050682086046,
            0.15097449039291147,
            0.14754675026231498,
            0.13084455834052328,
            0.11969996709976995,
            0.11917048342221626,
            0.1138544597295908,
            0.10188805389069536,
            0.10188805389069536,
            0.09971407796552788,
            0.08633767958755675,
            0.0852722597683668,
            0.0851217738730116,
            0.08376681072733289,
            0.07539357114466742,
            0.07532404170443782,
            0.07245511863086017,
            0.07052946978049532
           ],
           "yaxis": "y"
          }
         ],
         "name": "2020-8-Q1"
        },
        {
         "data": [
          {
           "alignmentgroup": "True",
           "hovertemplate": "time_period=2020-8-Q2<br>plot_term=%{x}<br>tfidf=%{y}<extra></extra>",
           "legendgroup": "",
           "marker": {
            "color": "#636efa"
           },
           "name": "",
           "offsetgroup": "",
           "orientation": "v",
           "showlegend": false,
           "textposition": "auto",
           "type": "bar",
           "x": [
            "congressi...",
            "kamala",
            "primary",
            "results",
            "election",
            "harris",
            "district",
            "trump",
            "coronavirus",
            "harriss",
            "new",
            "dies",
            "qanon",
            "virus",
            "biden",
            "missouri",
            "belarus",
            "pandemic",
            "michigan",
            "black"
           ],
           "xaxis": "x",
           "y": [
            0.26327189872248524,
            0.2621606034675196,
            0.24466608308439824,
            0.2314669173839947,
            0.2293117812917345,
            0.22378991633907194,
            0.2211470432572635,
            0.1488376390534268,
            0.13026160118656102,
            0.10081554066215842,
            0.09922509270228454,
            0.09095633497709417,
            0.08708600333962503,
            0.08554999099719282,
            0.08475476668320138,
            0.08222676481647345,
            0.07951217379184643,
            0.07838217687319868,
            0.07825566334309868,
            0.07573600116057287
           ],
           "yaxis": "y"
          }
         ],
         "name": "2020-8-Q2"
        },
        {
         "data": [
          {
           "alignmentgroup": "True",
           "hovertemplate": "time_period=2020-8-Q3<br>plot_term=%{x}<br>tfidf=%{y}<extra></extra>",
           "legendgroup": "",
           "marker": {
            "color": "#636efa"
           },
           "name": "",
           "offsetgroup": "",
           "orientation": "v",
           "showlegend": false,
           "textposition": "auto",
           "type": "bar",
           "x": [
            "convention",
            "trump",
            "biden",
            "election",
            "primary",
            "postal",
            "democratic",
            "congressi...",
            "new",
            "results",
            "coronavirus",
            "belarus",
            "says",
            "district",
            "night",
            "pandemic",
            "covid",
            "harris",
            "conventions",
            "speech"
           ],
           "xaxis": "x",
           "y": [
            0.3945336105085014,
            0.2407252849361523,
            0.1860149929052086,
            0.17074783259282014,
            0.13463576652328724,
            0.12955109710153362,
            0.12687031609107272,
            0.12224142583614693,
            0.1221863188691076,
            0.11963251396091006,
            0.11752865113457693,
            0.1096026753338299,
            0.1057732312598245,
            0.10372198954421848,
            0.10022155391317702,
            0.09680835906245827,
            0.09473710502301386,
            0.09025264833494953,
            0.08472274753472789,
            0.0841565410486021
           ],
           "yaxis": "y"
          }
         ],
         "name": "2020-8-Q3"
        },
        {
         "data": [
          {
           "alignmentgroup": "True",
           "hovertemplate": "time_period=2020-8-Q4<br>plot_term=%{x}<br>tfidf=%{y}<extra></extra>",
           "legendgroup": "",
           "marker": {
            "color": "#636efa"
           },
           "name": "",
           "offsetgroup": "",
           "orientation": "v",
           "showlegend": false,
           "textposition": "auto",
           "type": "bar",
           "x": [
            "trump",
            "kenosha",
            "convention",
            "coronavirus",
            "new",
            "pandemic",
            "trumps",
            "laura",
            "republican",
            "hurricane",
            "covid",
            "black",
            "night",
            "dies",
            "blake",
            "virus",
            "briefing",
            "biden",
            "2020",
            "says"
           ],
           "xaxis": "x",
           "y": [
            0.3353458824659931,
            0.2717002814674031,
            0.26369026213361824,
            0.15576000772063242,
            0.1359510334321594,
            0.12096812871001747,
            0.11963690942030025,
            0.11851310168598365,
            0.11028001061235264,
            0.10544142775235743,
            0.10024110076420294,
            0.09592773439956034,
            0.0922382061534234,
            0.08700866139658199,
            0.08058116099206644,
            0.08001836359668063,
            0.0797579396135335,
            0.0797579396135335,
            0.07431989827624713,
            0.07431989827624713
           ],
           "yaxis": "y"
          }
         ],
         "name": "2020-8-Q4"
        },
        {
         "data": [
          {
           "alignmentgroup": "True",
           "hovertemplate": "time_period=2020-9-Q1<br>plot_term=%{x}<br>tfidf=%{y}<extra></extra>",
           "legendgroup": "",
           "marker": {
            "color": "#636efa"
           },
           "name": "",
           "offsetgroup": "",
           "orientation": "v",
           "showlegend": false,
           "textposition": "auto",
           "type": "bar",
           "x": [
            "trump",
            "kenosha",
            "coronavirus",
            "election",
            "pandemic",
            "new",
            "navalny",
            "congressi...",
            "results",
            "primary",
            "2020",
            "open",
            "district",
            "day",
            "mulan",
            "dies",
            "biden",
            "black",
            "covid",
            "briefing"
           ],
           "xaxis": "x",
           "y": [
            0.2511439261359768,
            0.17417527764951984,
            0.17390714414508418,
            0.1685202642327473,
            0.16324614342255375,
            0.14075099157071227,
            0.13086462983055155,
            0.12486930326848047,
            0.124857528963295,
            0.12289578929653346,
            0.12143222802179095,
            0.11867240465765935,
            0.10090642528497508,
            0.09935364110873808,
            0.09870290176344072,
            0.09107417101634324,
            0.08831434765221162,
            0.08706880318691944,
            0.083246202178987,
            0.07451523083155355
           ],
           "yaxis": "y"
          }
         ],
         "name": "2020-9-Q1"
        },
        {
         "data": [
          {
           "alignmentgroup": "True",
           "hovertemplate": "time_period=2020-9-Q2<br>plot_term=%{x}<br>tfidf=%{y}<extra></extra>",
           "legendgroup": "",
           "marker": {
            "color": "#636efa"
           },
           "name": "",
           "offsetgroup": "",
           "orientation": "v",
           "showlegend": false,
           "textposition": "auto",
           "type": "bar",
           "x": [
            "trump",
            "wildfires",
            "new",
            "pandemic",
            "coronavirus",
            "covid",
            "virus",
            "open",
            "biden",
            "briefing",
            "dies",
            "vaccine",
            "says",
            "2020",
            "review",
            "trumps",
            "climate",
            "sept",
            "year",
            "indoor"
           ],
           "xaxis": "x",
           "y": [
            0.286528073028378,
            0.2572087747172461,
            0.20436193443935785,
            0.20131023522179145,
            0.17198342208230832,
            0.13769035354752918,
            0.1075346515704473,
            0.10744802738564174,
            0.08637978672179042,
            0.08637978672179042,
            0.08637978672179042,
            0.08609937944164618,
            0.08427296265540529,
            0.08216613858902018,
            0.0779524904562499,
            0.07584566638986476,
            0.07504398864840461,
            0.07175197699327664,
            0.0716320182570945,
            0.07006428840572296
           ],
           "yaxis": "y"
          }
         ],
         "name": "2020-9-Q2"
        },
        {
         "data": [
          {
           "alignmentgroup": "True",
           "hovertemplate": "time_period=2020-9-Q3<br>plot_term=%{x}<br>tfidf=%{y}<extra></extra>",
           "legendgroup": "",
           "marker": {
            "color": "#636efa"
           },
           "name": "",
           "offsetgroup": "",
           "orientation": "v",
           "showlegend": false,
           "textposition": "auto",
           "type": "bar",
           "x": [
            "ginsburgs",
            "ginsburg",
            "trump",
            "bader",
            "court",
            "ruth",
            "supreme",
            "biden",
            "election",
            "new",
            "coronavirus",
            "pandemic",
            "covid",
            "emmys",
            "tiktok",
            "emmy",
            "vacancy",
            "2020",
            "dies",
            "trumps"
           ],
           "xaxis": "x",
           "y": [
            0.3022343046230119,
            0.2956153715024332,
            0.26004800115521426,
            0.2372175050472312,
            0.19755584583884492,
            0.18101035318083405,
            0.1641244904193526,
            0.13103193856658082,
            0.110784031033063,
            0.10482555085326466,
            0.10104511297808848,
            0.09783873392733228,
            0.0912091085659618,
            0.08740833334324266,
            0.0862072796969024,
            0.08286659895357547,
            0.07865041240929865,
            0.0725715352061063,
            0.06853978325021151,
            0.06652390727226411
           ],
           "yaxis": "y"
          }
         ],
         "name": "2020-9-Q3"
        },
        {
         "data": [
          {
           "alignmentgroup": "True",
           "hovertemplate": "time_period=2020-9-Q4<br>plot_term=%{x}<br>tfidf=%{y}<extra></extra>",
           "legendgroup": "",
           "marker": {
            "color": "#636efa"
           },
           "name": "",
           "offsetgroup": "",
           "orientation": "v",
           "showlegend": false,
           "textposition": "auto",
           "type": "bar",
           "x": [
            "trump",
            "barrett",
            "debate",
            "pandemic",
            "ginsburg",
            "biden",
            "coney",
            "new",
            "coronavirus",
            "court",
            "election",
            "2020",
            "ginsburgs",
            "breonna",
            "notable",
            "supreme",
            "trumps",
            "covid",
            "says",
            "presidential"
           ],
           "xaxis": "x",
           "y": [
            0.3343217927325366,
            0.20871486773233794,
            0.17026667710335444,
            0.16645999969234834,
            0.15830603516465327,
            0.15365294514475167,
            0.15318370681463375,
            0.14014499392323504,
            0.13058001565617064,
            0.11988306709096007,
            0.11684980808774288,
            0.10806360977213304,
            0.10496499959029702,
            0.10447634008649362,
            0.10435743386616897,
            0.10138439231142396,
            0.10130963416137473,
            0.09903259937218836,
            0.08273620123178936,
            0.08255709921342261
           ],
           "yaxis": "y"
          }
         ],
         "name": "2020-9-Q4"
        }
       ],
       "layout": {
        "barmode": "relative",
        "legend": {
         "tracegroupgap": 0
        },
        "margin": {
         "t": 60
        },
        "sliders": [
         {
          "active": 0,
          "currentvalue": {
           "prefix": "time_period="
          },
          "len": 0.9,
          "pad": {
           "b": 10,
           "t": 60
          },
          "steps": [
           {
            "args": [
             [
              "2019-8-Q1"
             ],
             {
              "frame": {
               "duration": 0,
               "redraw": true
              },
              "fromcurrent": true,
              "mode": "immediate",
              "transition": {
               "duration": 0,
               "easing": "linear"
              }
             }
            ],
            "label": "2019-8-Q1",
            "method": "animate"
           },
           {
            "args": [
             [
              "2019-8-Q2"
             ],
             {
              "frame": {
               "duration": 0,
               "redraw": true
              },
              "fromcurrent": true,
              "mode": "immediate",
              "transition": {
               "duration": 0,
               "easing": "linear"
              }
             }
            ],
            "label": "2019-8-Q2",
            "method": "animate"
           },
           {
            "args": [
             [
              "2019-8-Q3"
             ],
             {
              "frame": {
               "duration": 0,
               "redraw": true
              },
              "fromcurrent": true,
              "mode": "immediate",
              "transition": {
               "duration": 0,
               "easing": "linear"
              }
             }
            ],
            "label": "2019-8-Q3",
            "method": "animate"
           },
           {
            "args": [
             [
              "2019-8-Q4"
             ],
             {
              "frame": {
               "duration": 0,
               "redraw": true
              },
              "fromcurrent": true,
              "mode": "immediate",
              "transition": {
               "duration": 0,
               "easing": "linear"
              }
             }
            ],
            "label": "2019-8-Q4",
            "method": "animate"
           },
           {
            "args": [
             [
              "2019-9-Q1"
             ],
             {
              "frame": {
               "duration": 0,
               "redraw": true
              },
              "fromcurrent": true,
              "mode": "immediate",
              "transition": {
               "duration": 0,
               "easing": "linear"
              }
             }
            ],
            "label": "2019-9-Q1",
            "method": "animate"
           },
           {
            "args": [
             [
              "2019-9-Q2"
             ],
             {
              "frame": {
               "duration": 0,
               "redraw": true
              },
              "fromcurrent": true,
              "mode": "immediate",
              "transition": {
               "duration": 0,
               "easing": "linear"
              }
             }
            ],
            "label": "2019-9-Q2",
            "method": "animate"
           },
           {
            "args": [
             [
              "2019-9-Q3"
             ],
             {
              "frame": {
               "duration": 0,
               "redraw": true
              },
              "fromcurrent": true,
              "mode": "immediate",
              "transition": {
               "duration": 0,
               "easing": "linear"
              }
             }
            ],
            "label": "2019-9-Q3",
            "method": "animate"
           },
           {
            "args": [
             [
              "2019-9-Q4"
             ],
             {
              "frame": {
               "duration": 0,
               "redraw": true
              },
              "fromcurrent": true,
              "mode": "immediate",
              "transition": {
               "duration": 0,
               "easing": "linear"
              }
             }
            ],
            "label": "2019-9-Q4",
            "method": "animate"
           },
           {
            "args": [
             [
              "2019-10-Q1"
             ],
             {
              "frame": {
               "duration": 0,
               "redraw": true
              },
              "fromcurrent": true,
              "mode": "immediate",
              "transition": {
               "duration": 0,
               "easing": "linear"
              }
             }
            ],
            "label": "2019-10-Q1",
            "method": "animate"
           },
           {
            "args": [
             [
              "2019-10-Q2"
             ],
             {
              "frame": {
               "duration": 0,
               "redraw": true
              },
              "fromcurrent": true,
              "mode": "immediate",
              "transition": {
               "duration": 0,
               "easing": "linear"
              }
             }
            ],
            "label": "2019-10-Q2",
            "method": "animate"
           },
           {
            "args": [
             [
              "2019-10-Q3"
             ],
             {
              "frame": {
               "duration": 0,
               "redraw": true
              },
              "fromcurrent": true,
              "mode": "immediate",
              "transition": {
               "duration": 0,
               "easing": "linear"
              }
             }
            ],
            "label": "2019-10-Q3",
            "method": "animate"
           },
           {
            "args": [
             [
              "2019-10-Q4"
             ],
             {
              "frame": {
               "duration": 0,
               "redraw": true
              },
              "fromcurrent": true,
              "mode": "immediate",
              "transition": {
               "duration": 0,
               "easing": "linear"
              }
             }
            ],
            "label": "2019-10-Q4",
            "method": "animate"
           },
           {
            "args": [
             [
              "2019-11-Q1"
             ],
             {
              "frame": {
               "duration": 0,
               "redraw": true
              },
              "fromcurrent": true,
              "mode": "immediate",
              "transition": {
               "duration": 0,
               "easing": "linear"
              }
             }
            ],
            "label": "2019-11-Q1",
            "method": "animate"
           },
           {
            "args": [
             [
              "2019-11-Q2"
             ],
             {
              "frame": {
               "duration": 0,
               "redraw": true
              },
              "fromcurrent": true,
              "mode": "immediate",
              "transition": {
               "duration": 0,
               "easing": "linear"
              }
             }
            ],
            "label": "2019-11-Q2",
            "method": "animate"
           },
           {
            "args": [
             [
              "2019-11-Q3"
             ],
             {
              "frame": {
               "duration": 0,
               "redraw": true
              },
              "fromcurrent": true,
              "mode": "immediate",
              "transition": {
               "duration": 0,
               "easing": "linear"
              }
             }
            ],
            "label": "2019-11-Q3",
            "method": "animate"
           },
           {
            "args": [
             [
              "2019-11-Q4"
             ],
             {
              "frame": {
               "duration": 0,
               "redraw": true
              },
              "fromcurrent": true,
              "mode": "immediate",
              "transition": {
               "duration": 0,
               "easing": "linear"
              }
             }
            ],
            "label": "2019-11-Q4",
            "method": "animate"
           },
           {
            "args": [
             [
              "2019-12-Q1"
             ],
             {
              "frame": {
               "duration": 0,
               "redraw": true
              },
              "fromcurrent": true,
              "mode": "immediate",
              "transition": {
               "duration": 0,
               "easing": "linear"
              }
             }
            ],
            "label": "2019-12-Q1",
            "method": "animate"
           },
           {
            "args": [
             [
              "2019-12-Q2"
             ],
             {
              "frame": {
               "duration": 0,
               "redraw": true
              },
              "fromcurrent": true,
              "mode": "immediate",
              "transition": {
               "duration": 0,
               "easing": "linear"
              }
             }
            ],
            "label": "2019-12-Q2",
            "method": "animate"
           },
           {
            "args": [
             [
              "2019-12-Q3"
             ],
             {
              "frame": {
               "duration": 0,
               "redraw": true
              },
              "fromcurrent": true,
              "mode": "immediate",
              "transition": {
               "duration": 0,
               "easing": "linear"
              }
             }
            ],
            "label": "2019-12-Q3",
            "method": "animate"
           },
           {
            "args": [
             [
              "2019-12-Q4"
             ],
             {
              "frame": {
               "duration": 0,
               "redraw": true
              },
              "fromcurrent": true,
              "mode": "immediate",
              "transition": {
               "duration": 0,
               "easing": "linear"
              }
             }
            ],
            "label": "2019-12-Q4",
            "method": "animate"
           },
           {
            "args": [
             [
              "2020-1-Q1"
             ],
             {
              "frame": {
               "duration": 0,
               "redraw": true
              },
              "fromcurrent": true,
              "mode": "immediate",
              "transition": {
               "duration": 0,
               "easing": "linear"
              }
             }
            ],
            "label": "2020-1-Q1",
            "method": "animate"
           },
           {
            "args": [
             [
              "2020-1-Q2"
             ],
             {
              "frame": {
               "duration": 0,
               "redraw": true
              },
              "fromcurrent": true,
              "mode": "immediate",
              "transition": {
               "duration": 0,
               "easing": "linear"
              }
             }
            ],
            "label": "2020-1-Q2",
            "method": "animate"
           },
           {
            "args": [
             [
              "2020-1-Q3"
             ],
             {
              "frame": {
               "duration": 0,
               "redraw": true
              },
              "fromcurrent": true,
              "mode": "immediate",
              "transition": {
               "duration": 0,
               "easing": "linear"
              }
             }
            ],
            "label": "2020-1-Q3",
            "method": "animate"
           },
           {
            "args": [
             [
              "2020-1-Q4"
             ],
             {
              "frame": {
               "duration": 0,
               "redraw": true
              },
              "fromcurrent": true,
              "mode": "immediate",
              "transition": {
               "duration": 0,
               "easing": "linear"
              }
             }
            ],
            "label": "2020-1-Q4",
            "method": "animate"
           },
           {
            "args": [
             [
              "2020-2-Q1"
             ],
             {
              "frame": {
               "duration": 0,
               "redraw": true
              },
              "fromcurrent": true,
              "mode": "immediate",
              "transition": {
               "duration": 0,
               "easing": "linear"
              }
             }
            ],
            "label": "2020-2-Q1",
            "method": "animate"
           },
           {
            "args": [
             [
              "2020-2-Q2"
             ],
             {
              "frame": {
               "duration": 0,
               "redraw": true
              },
              "fromcurrent": true,
              "mode": "immediate",
              "transition": {
               "duration": 0,
               "easing": "linear"
              }
             }
            ],
            "label": "2020-2-Q2",
            "method": "animate"
           },
           {
            "args": [
             [
              "2020-2-Q3"
             ],
             {
              "frame": {
               "duration": 0,
               "redraw": true
              },
              "fromcurrent": true,
              "mode": "immediate",
              "transition": {
               "duration": 0,
               "easing": "linear"
              }
             }
            ],
            "label": "2020-2-Q3",
            "method": "animate"
           },
           {
            "args": [
             [
              "2020-2-Q4"
             ],
             {
              "frame": {
               "duration": 0,
               "redraw": true
              },
              "fromcurrent": true,
              "mode": "immediate",
              "transition": {
               "duration": 0,
               "easing": "linear"
              }
             }
            ],
            "label": "2020-2-Q4",
            "method": "animate"
           },
           {
            "args": [
             [
              "2020-3-Q1"
             ],
             {
              "frame": {
               "duration": 0,
               "redraw": true
              },
              "fromcurrent": true,
              "mode": "immediate",
              "transition": {
               "duration": 0,
               "easing": "linear"
              }
             }
            ],
            "label": "2020-3-Q1",
            "method": "animate"
           },
           {
            "args": [
             [
              "2020-3-Q2"
             ],
             {
              "frame": {
               "duration": 0,
               "redraw": true
              },
              "fromcurrent": true,
              "mode": "immediate",
              "transition": {
               "duration": 0,
               "easing": "linear"
              }
             }
            ],
            "label": "2020-3-Q2",
            "method": "animate"
           },
           {
            "args": [
             [
              "2020-3-Q3"
             ],
             {
              "frame": {
               "duration": 0,
               "redraw": true
              },
              "fromcurrent": true,
              "mode": "immediate",
              "transition": {
               "duration": 0,
               "easing": "linear"
              }
             }
            ],
            "label": "2020-3-Q3",
            "method": "animate"
           },
           {
            "args": [
             [
              "2020-3-Q4"
             ],
             {
              "frame": {
               "duration": 0,
               "redraw": true
              },
              "fromcurrent": true,
              "mode": "immediate",
              "transition": {
               "duration": 0,
               "easing": "linear"
              }
             }
            ],
            "label": "2020-3-Q4",
            "method": "animate"
           },
           {
            "args": [
             [
              "2020-4-Q1"
             ],
             {
              "frame": {
               "duration": 0,
               "redraw": true
              },
              "fromcurrent": true,
              "mode": "immediate",
              "transition": {
               "duration": 0,
               "easing": "linear"
              }
             }
            ],
            "label": "2020-4-Q1",
            "method": "animate"
           },
           {
            "args": [
             [
              "2020-4-Q2"
             ],
             {
              "frame": {
               "duration": 0,
               "redraw": true
              },
              "fromcurrent": true,
              "mode": "immediate",
              "transition": {
               "duration": 0,
               "easing": "linear"
              }
             }
            ],
            "label": "2020-4-Q2",
            "method": "animate"
           },
           {
            "args": [
             [
              "2020-4-Q3"
             ],
             {
              "frame": {
               "duration": 0,
               "redraw": true
              },
              "fromcurrent": true,
              "mode": "immediate",
              "transition": {
               "duration": 0,
               "easing": "linear"
              }
             }
            ],
            "label": "2020-4-Q3",
            "method": "animate"
           },
           {
            "args": [
             [
              "2020-4-Q4"
             ],
             {
              "frame": {
               "duration": 0,
               "redraw": true
              },
              "fromcurrent": true,
              "mode": "immediate",
              "transition": {
               "duration": 0,
               "easing": "linear"
              }
             }
            ],
            "label": "2020-4-Q4",
            "method": "animate"
           },
           {
            "args": [
             [
              "2020-5-Q1"
             ],
             {
              "frame": {
               "duration": 0,
               "redraw": true
              },
              "fromcurrent": true,
              "mode": "immediate",
              "transition": {
               "duration": 0,
               "easing": "linear"
              }
             }
            ],
            "label": "2020-5-Q1",
            "method": "animate"
           },
           {
            "args": [
             [
              "2020-5-Q2"
             ],
             {
              "frame": {
               "duration": 0,
               "redraw": true
              },
              "fromcurrent": true,
              "mode": "immediate",
              "transition": {
               "duration": 0,
               "easing": "linear"
              }
             }
            ],
            "label": "2020-5-Q2",
            "method": "animate"
           },
           {
            "args": [
             [
              "2020-5-Q3"
             ],
             {
              "frame": {
               "duration": 0,
               "redraw": true
              },
              "fromcurrent": true,
              "mode": "immediate",
              "transition": {
               "duration": 0,
               "easing": "linear"
              }
             }
            ],
            "label": "2020-5-Q3",
            "method": "animate"
           },
           {
            "args": [
             [
              "2020-5-Q4"
             ],
             {
              "frame": {
               "duration": 0,
               "redraw": true
              },
              "fromcurrent": true,
              "mode": "immediate",
              "transition": {
               "duration": 0,
               "easing": "linear"
              }
             }
            ],
            "label": "2020-5-Q4",
            "method": "animate"
           },
           {
            "args": [
             [
              "2020-6-Q1"
             ],
             {
              "frame": {
               "duration": 0,
               "redraw": true
              },
              "fromcurrent": true,
              "mode": "immediate",
              "transition": {
               "duration": 0,
               "easing": "linear"
              }
             }
            ],
            "label": "2020-6-Q1",
            "method": "animate"
           },
           {
            "args": [
             [
              "2020-6-Q2"
             ],
             {
              "frame": {
               "duration": 0,
               "redraw": true
              },
              "fromcurrent": true,
              "mode": "immediate",
              "transition": {
               "duration": 0,
               "easing": "linear"
              }
             }
            ],
            "label": "2020-6-Q2",
            "method": "animate"
           },
           {
            "args": [
             [
              "2020-6-Q3"
             ],
             {
              "frame": {
               "duration": 0,
               "redraw": true
              },
              "fromcurrent": true,
              "mode": "immediate",
              "transition": {
               "duration": 0,
               "easing": "linear"
              }
             }
            ],
            "label": "2020-6-Q3",
            "method": "animate"
           },
           {
            "args": [
             [
              "2020-6-Q4"
             ],
             {
              "frame": {
               "duration": 0,
               "redraw": true
              },
              "fromcurrent": true,
              "mode": "immediate",
              "transition": {
               "duration": 0,
               "easing": "linear"
              }
             }
            ],
            "label": "2020-6-Q4",
            "method": "animate"
           },
           {
            "args": [
             [
              "2020-7-Q1"
             ],
             {
              "frame": {
               "duration": 0,
               "redraw": true
              },
              "fromcurrent": true,
              "mode": "immediate",
              "transition": {
               "duration": 0,
               "easing": "linear"
              }
             }
            ],
            "label": "2020-7-Q1",
            "method": "animate"
           },
           {
            "args": [
             [
              "2020-7-Q2"
             ],
             {
              "frame": {
               "duration": 0,
               "redraw": true
              },
              "fromcurrent": true,
              "mode": "immediate",
              "transition": {
               "duration": 0,
               "easing": "linear"
              }
             }
            ],
            "label": "2020-7-Q2",
            "method": "animate"
           },
           {
            "args": [
             [
              "2020-7-Q3"
             ],
             {
              "frame": {
               "duration": 0,
               "redraw": true
              },
              "fromcurrent": true,
              "mode": "immediate",
              "transition": {
               "duration": 0,
               "easing": "linear"
              }
             }
            ],
            "label": "2020-7-Q3",
            "method": "animate"
           },
           {
            "args": [
             [
              "2020-7-Q4"
             ],
             {
              "frame": {
               "duration": 0,
               "redraw": true
              },
              "fromcurrent": true,
              "mode": "immediate",
              "transition": {
               "duration": 0,
               "easing": "linear"
              }
             }
            ],
            "label": "2020-7-Q4",
            "method": "animate"
           },
           {
            "args": [
             [
              "2020-8-Q1"
             ],
             {
              "frame": {
               "duration": 0,
               "redraw": true
              },
              "fromcurrent": true,
              "mode": "immediate",
              "transition": {
               "duration": 0,
               "easing": "linear"
              }
             }
            ],
            "label": "2020-8-Q1",
            "method": "animate"
           },
           {
            "args": [
             [
              "2020-8-Q2"
             ],
             {
              "frame": {
               "duration": 0,
               "redraw": true
              },
              "fromcurrent": true,
              "mode": "immediate",
              "transition": {
               "duration": 0,
               "easing": "linear"
              }
             }
            ],
            "label": "2020-8-Q2",
            "method": "animate"
           },
           {
            "args": [
             [
              "2020-8-Q3"
             ],
             {
              "frame": {
               "duration": 0,
               "redraw": true
              },
              "fromcurrent": true,
              "mode": "immediate",
              "transition": {
               "duration": 0,
               "easing": "linear"
              }
             }
            ],
            "label": "2020-8-Q3",
            "method": "animate"
           },
           {
            "args": [
             [
              "2020-8-Q4"
             ],
             {
              "frame": {
               "duration": 0,
               "redraw": true
              },
              "fromcurrent": true,
              "mode": "immediate",
              "transition": {
               "duration": 0,
               "easing": "linear"
              }
             }
            ],
            "label": "2020-8-Q4",
            "method": "animate"
           },
           {
            "args": [
             [
              "2020-9-Q1"
             ],
             {
              "frame": {
               "duration": 0,
               "redraw": true
              },
              "fromcurrent": true,
              "mode": "immediate",
              "transition": {
               "duration": 0,
               "easing": "linear"
              }
             }
            ],
            "label": "2020-9-Q1",
            "method": "animate"
           },
           {
            "args": [
             [
              "2020-9-Q2"
             ],
             {
              "frame": {
               "duration": 0,
               "redraw": true
              },
              "fromcurrent": true,
              "mode": "immediate",
              "transition": {
               "duration": 0,
               "easing": "linear"
              }
             }
            ],
            "label": "2020-9-Q2",
            "method": "animate"
           },
           {
            "args": [
             [
              "2020-9-Q3"
             ],
             {
              "frame": {
               "duration": 0,
               "redraw": true
              },
              "fromcurrent": true,
              "mode": "immediate",
              "transition": {
               "duration": 0,
               "easing": "linear"
              }
             }
            ],
            "label": "2020-9-Q3",
            "method": "animate"
           },
           {
            "args": [
             [
              "2020-9-Q4"
             ],
             {
              "frame": {
               "duration": 0,
               "redraw": true
              },
              "fromcurrent": true,
              "mode": "immediate",
              "transition": {
               "duration": 0,
               "easing": "linear"
              }
             }
            ],
            "label": "2020-9-Q4",
            "method": "animate"
           }
          ],
          "x": 0.1,
          "xanchor": "left",
          "y": 0,
          "yanchor": "top"
         }
        ],
        "template": {
         "data": {
          "bar": [
           {
            "error_x": {
             "color": "#2a3f5f"
            },
            "error_y": {
             "color": "#2a3f5f"
            },
            "marker": {
             "line": {
              "color": "#E5ECF6",
              "width": 0.5
             }
            },
            "type": "bar"
           }
          ],
          "barpolar": [
           {
            "marker": {
             "line": {
              "color": "#E5ECF6",
              "width": 0.5
             }
            },
            "type": "barpolar"
           }
          ],
          "carpet": [
           {
            "aaxis": {
             "endlinecolor": "#2a3f5f",
             "gridcolor": "white",
             "linecolor": "white",
             "minorgridcolor": "white",
             "startlinecolor": "#2a3f5f"
            },
            "baxis": {
             "endlinecolor": "#2a3f5f",
             "gridcolor": "white",
             "linecolor": "white",
             "minorgridcolor": "white",
             "startlinecolor": "#2a3f5f"
            },
            "type": "carpet"
           }
          ],
          "choropleth": [
           {
            "colorbar": {
             "outlinewidth": 0,
             "ticks": ""
            },
            "type": "choropleth"
           }
          ],
          "contour": [
           {
            "colorbar": {
             "outlinewidth": 0,
             "ticks": ""
            },
            "colorscale": [
             [
              0,
              "#0d0887"
             ],
             [
              0.1111111111111111,
              "#46039f"
             ],
             [
              0.2222222222222222,
              "#7201a8"
             ],
             [
              0.3333333333333333,
              "#9c179e"
             ],
             [
              0.4444444444444444,
              "#bd3786"
             ],
             [
              0.5555555555555556,
              "#d8576b"
             ],
             [
              0.6666666666666666,
              "#ed7953"
             ],
             [
              0.7777777777777778,
              "#fb9f3a"
             ],
             [
              0.8888888888888888,
              "#fdca26"
             ],
             [
              1,
              "#f0f921"
             ]
            ],
            "type": "contour"
           }
          ],
          "contourcarpet": [
           {
            "colorbar": {
             "outlinewidth": 0,
             "ticks": ""
            },
            "type": "contourcarpet"
           }
          ],
          "heatmap": [
           {
            "colorbar": {
             "outlinewidth": 0,
             "ticks": ""
            },
            "colorscale": [
             [
              0,
              "#0d0887"
             ],
             [
              0.1111111111111111,
              "#46039f"
             ],
             [
              0.2222222222222222,
              "#7201a8"
             ],
             [
              0.3333333333333333,
              "#9c179e"
             ],
             [
              0.4444444444444444,
              "#bd3786"
             ],
             [
              0.5555555555555556,
              "#d8576b"
             ],
             [
              0.6666666666666666,
              "#ed7953"
             ],
             [
              0.7777777777777778,
              "#fb9f3a"
             ],
             [
              0.8888888888888888,
              "#fdca26"
             ],
             [
              1,
              "#f0f921"
             ]
            ],
            "type": "heatmap"
           }
          ],
          "heatmapgl": [
           {
            "colorbar": {
             "outlinewidth": 0,
             "ticks": ""
            },
            "colorscale": [
             [
              0,
              "#0d0887"
             ],
             [
              0.1111111111111111,
              "#46039f"
             ],
             [
              0.2222222222222222,
              "#7201a8"
             ],
             [
              0.3333333333333333,
              "#9c179e"
             ],
             [
              0.4444444444444444,
              "#bd3786"
             ],
             [
              0.5555555555555556,
              "#d8576b"
             ],
             [
              0.6666666666666666,
              "#ed7953"
             ],
             [
              0.7777777777777778,
              "#fb9f3a"
             ],
             [
              0.8888888888888888,
              "#fdca26"
             ],
             [
              1,
              "#f0f921"
             ]
            ],
            "type": "heatmapgl"
           }
          ],
          "histogram": [
           {
            "marker": {
             "colorbar": {
              "outlinewidth": 0,
              "ticks": ""
             }
            },
            "type": "histogram"
           }
          ],
          "histogram2d": [
           {
            "colorbar": {
             "outlinewidth": 0,
             "ticks": ""
            },
            "colorscale": [
             [
              0,
              "#0d0887"
             ],
             [
              0.1111111111111111,
              "#46039f"
             ],
             [
              0.2222222222222222,
              "#7201a8"
             ],
             [
              0.3333333333333333,
              "#9c179e"
             ],
             [
              0.4444444444444444,
              "#bd3786"
             ],
             [
              0.5555555555555556,
              "#d8576b"
             ],
             [
              0.6666666666666666,
              "#ed7953"
             ],
             [
              0.7777777777777778,
              "#fb9f3a"
             ],
             [
              0.8888888888888888,
              "#fdca26"
             ],
             [
              1,
              "#f0f921"
             ]
            ],
            "type": "histogram2d"
           }
          ],
          "histogram2dcontour": [
           {
            "colorbar": {
             "outlinewidth": 0,
             "ticks": ""
            },
            "colorscale": [
             [
              0,
              "#0d0887"
             ],
             [
              0.1111111111111111,
              "#46039f"
             ],
             [
              0.2222222222222222,
              "#7201a8"
             ],
             [
              0.3333333333333333,
              "#9c179e"
             ],
             [
              0.4444444444444444,
              "#bd3786"
             ],
             [
              0.5555555555555556,
              "#d8576b"
             ],
             [
              0.6666666666666666,
              "#ed7953"
             ],
             [
              0.7777777777777778,
              "#fb9f3a"
             ],
             [
              0.8888888888888888,
              "#fdca26"
             ],
             [
              1,
              "#f0f921"
             ]
            ],
            "type": "histogram2dcontour"
           }
          ],
          "mesh3d": [
           {
            "colorbar": {
             "outlinewidth": 0,
             "ticks": ""
            },
            "type": "mesh3d"
           }
          ],
          "parcoords": [
           {
            "line": {
             "colorbar": {
              "outlinewidth": 0,
              "ticks": ""
             }
            },
            "type": "parcoords"
           }
          ],
          "pie": [
           {
            "automargin": true,
            "type": "pie"
           }
          ],
          "scatter": [
           {
            "marker": {
             "colorbar": {
              "outlinewidth": 0,
              "ticks": ""
             }
            },
            "type": "scatter"
           }
          ],
          "scatter3d": [
           {
            "line": {
             "colorbar": {
              "outlinewidth": 0,
              "ticks": ""
             }
            },
            "marker": {
             "colorbar": {
              "outlinewidth": 0,
              "ticks": ""
             }
            },
            "type": "scatter3d"
           }
          ],
          "scattercarpet": [
           {
            "marker": {
             "colorbar": {
              "outlinewidth": 0,
              "ticks": ""
             }
            },
            "type": "scattercarpet"
           }
          ],
          "scattergeo": [
           {
            "marker": {
             "colorbar": {
              "outlinewidth": 0,
              "ticks": ""
             }
            },
            "type": "scattergeo"
           }
          ],
          "scattergl": [
           {
            "marker": {
             "colorbar": {
              "outlinewidth": 0,
              "ticks": ""
             }
            },
            "type": "scattergl"
           }
          ],
          "scattermapbox": [
           {
            "marker": {
             "colorbar": {
              "outlinewidth": 0,
              "ticks": ""
             }
            },
            "type": "scattermapbox"
           }
          ],
          "scatterpolar": [
           {
            "marker": {
             "colorbar": {
              "outlinewidth": 0,
              "ticks": ""
             }
            },
            "type": "scatterpolar"
           }
          ],
          "scatterpolargl": [
           {
            "marker": {
             "colorbar": {
              "outlinewidth": 0,
              "ticks": ""
             }
            },
            "type": "scatterpolargl"
           }
          ],
          "scatterternary": [
           {
            "marker": {
             "colorbar": {
              "outlinewidth": 0,
              "ticks": ""
             }
            },
            "type": "scatterternary"
           }
          ],
          "surface": [
           {
            "colorbar": {
             "outlinewidth": 0,
             "ticks": ""
            },
            "colorscale": [
             [
              0,
              "#0d0887"
             ],
             [
              0.1111111111111111,
              "#46039f"
             ],
             [
              0.2222222222222222,
              "#7201a8"
             ],
             [
              0.3333333333333333,
              "#9c179e"
             ],
             [
              0.4444444444444444,
              "#bd3786"
             ],
             [
              0.5555555555555556,
              "#d8576b"
             ],
             [
              0.6666666666666666,
              "#ed7953"
             ],
             [
              0.7777777777777778,
              "#fb9f3a"
             ],
             [
              0.8888888888888888,
              "#fdca26"
             ],
             [
              1,
              "#f0f921"
             ]
            ],
            "type": "surface"
           }
          ],
          "table": [
           {
            "cells": {
             "fill": {
              "color": "#EBF0F8"
             },
             "line": {
              "color": "white"
             }
            },
            "header": {
             "fill": {
              "color": "#C8D4E3"
             },
             "line": {
              "color": "white"
             }
            },
            "type": "table"
           }
          ]
         },
         "layout": {
          "annotationdefaults": {
           "arrowcolor": "#2a3f5f",
           "arrowhead": 0,
           "arrowwidth": 1
          },
          "coloraxis": {
           "colorbar": {
            "outlinewidth": 0,
            "ticks": ""
           }
          },
          "colorscale": {
           "diverging": [
            [
             0,
             "#8e0152"
            ],
            [
             0.1,
             "#c51b7d"
            ],
            [
             0.2,
             "#de77ae"
            ],
            [
             0.3,
             "#f1b6da"
            ],
            [
             0.4,
             "#fde0ef"
            ],
            [
             0.5,
             "#f7f7f7"
            ],
            [
             0.6,
             "#e6f5d0"
            ],
            [
             0.7,
             "#b8e186"
            ],
            [
             0.8,
             "#7fbc41"
            ],
            [
             0.9,
             "#4d9221"
            ],
            [
             1,
             "#276419"
            ]
           ],
           "sequential": [
            [
             0,
             "#0d0887"
            ],
            [
             0.1111111111111111,
             "#46039f"
            ],
            [
             0.2222222222222222,
             "#7201a8"
            ],
            [
             0.3333333333333333,
             "#9c179e"
            ],
            [
             0.4444444444444444,
             "#bd3786"
            ],
            [
             0.5555555555555556,
             "#d8576b"
            ],
            [
             0.6666666666666666,
             "#ed7953"
            ],
            [
             0.7777777777777778,
             "#fb9f3a"
            ],
            [
             0.8888888888888888,
             "#fdca26"
            ],
            [
             1,
             "#f0f921"
            ]
           ],
           "sequentialminus": [
            [
             0,
             "#0d0887"
            ],
            [
             0.1111111111111111,
             "#46039f"
            ],
            [
             0.2222222222222222,
             "#7201a8"
            ],
            [
             0.3333333333333333,
             "#9c179e"
            ],
            [
             0.4444444444444444,
             "#bd3786"
            ],
            [
             0.5555555555555556,
             "#d8576b"
            ],
            [
             0.6666666666666666,
             "#ed7953"
            ],
            [
             0.7777777777777778,
             "#fb9f3a"
            ],
            [
             0.8888888888888888,
             "#fdca26"
            ],
            [
             1,
             "#f0f921"
            ]
           ]
          },
          "colorway": [
           "#636efa",
           "#EF553B",
           "#00cc96",
           "#ab63fa",
           "#FFA15A",
           "#19d3f3",
           "#FF6692",
           "#B6E880",
           "#FF97FF",
           "#FECB52"
          ],
          "font": {
           "color": "#2a3f5f"
          },
          "geo": {
           "bgcolor": "white",
           "lakecolor": "white",
           "landcolor": "#E5ECF6",
           "showlakes": true,
           "showland": true,
           "subunitcolor": "white"
          },
          "hoverlabel": {
           "align": "left"
          },
          "hovermode": "closest",
          "mapbox": {
           "style": "light"
          },
          "paper_bgcolor": "white",
          "plot_bgcolor": "#E5ECF6",
          "polar": {
           "angularaxis": {
            "gridcolor": "white",
            "linecolor": "white",
            "ticks": ""
           },
           "bgcolor": "#E5ECF6",
           "radialaxis": {
            "gridcolor": "white",
            "linecolor": "white",
            "ticks": ""
           }
          },
          "scene": {
           "xaxis": {
            "backgroundcolor": "#E5ECF6",
            "gridcolor": "white",
            "gridwidth": 2,
            "linecolor": "white",
            "showbackground": true,
            "ticks": "",
            "zerolinecolor": "white"
           },
           "yaxis": {
            "backgroundcolor": "#E5ECF6",
            "gridcolor": "white",
            "gridwidth": 2,
            "linecolor": "white",
            "showbackground": true,
            "ticks": "",
            "zerolinecolor": "white"
           },
           "zaxis": {
            "backgroundcolor": "#E5ECF6",
            "gridcolor": "white",
            "gridwidth": 2,
            "linecolor": "white",
            "showbackground": true,
            "ticks": "",
            "zerolinecolor": "white"
           }
          },
          "shapedefaults": {
           "line": {
            "color": "#2a3f5f"
           }
          },
          "ternary": {
           "aaxis": {
            "gridcolor": "white",
            "linecolor": "white",
            "ticks": ""
           },
           "baxis": {
            "gridcolor": "white",
            "linecolor": "white",
            "ticks": ""
           },
           "bgcolor": "#E5ECF6",
           "caxis": {
            "gridcolor": "white",
            "linecolor": "white",
            "ticks": ""
           }
          },
          "title": {
           "x": 0.05
          },
          "xaxis": {
           "automargin": true,
           "gridcolor": "white",
           "linecolor": "white",
           "ticks": "",
           "title": {
            "standoff": 15
           },
           "zerolinecolor": "white",
           "zerolinewidth": 2
          },
          "yaxis": {
           "automargin": true,
           "gridcolor": "white",
           "linecolor": "white",
           "ticks": "",
           "title": {
            "standoff": 15
           },
           "zerolinecolor": "white",
           "zerolinewidth": 2
          }
         }
        },
        "updatemenus": [
         {
          "buttons": [
           {
            "args": [
             null,
             {
              "frame": {
               "duration": 500,
               "redraw": true
              },
              "fromcurrent": true,
              "mode": "immediate",
              "transition": {
               "duration": 500,
               "easing": "linear"
              }
             }
            ],
            "label": "&#9654;",
            "method": "animate"
           },
           {
            "args": [
             [
              null
             ],
             {
              "frame": {
               "duration": 0,
               "redraw": true
              },
              "fromcurrent": true,
              "mode": "immediate",
              "transition": {
               "duration": 0,
               "easing": "linear"
              }
             }
            ],
            "label": "&#9724;",
            "method": "animate"
           }
          ],
          "direction": "left",
          "pad": {
           "r": 10,
           "t": 70
          },
          "showactive": false,
          "type": "buttons",
          "x": 0.1,
          "xanchor": "right",
          "y": 0,
          "yanchor": "top"
         }
        ],
        "xaxis": {
         "anchor": "y",
         "domain": [
          0,
          1
         ],
         "title": {
          "text": "plot_term"
         }
        },
        "yaxis": {
         "anchor": "x",
         "domain": [
          0,
          1
         ],
         "range": [
          0,
          1
         ],
         "title": {
          "text": "tfidf"
         }
        }
       }
      },
      "text/html": [
       "<div>\n",
       "        \n",
       "        \n",
       "            <div id=\"9f46c146-566c-480f-be10-a4059467a182\" class=\"plotly-graph-div\" style=\"height:525px; width:100%;\"></div>\n",
       "            <script type=\"text/javascript\">\n",
       "                require([\"plotly\"], function(Plotly) {\n",
       "                    window.PLOTLYENV=window.PLOTLYENV || {};\n",
       "                    \n",
       "                if (document.getElementById(\"9f46c146-566c-480f-be10-a4059467a182\")) {\n",
       "                    Plotly.newPlot(\n",
       "                        '9f46c146-566c-480f-be10-a4059467a182',\n",
       "                        [{\"alignmentgroup\": \"True\", \"hovertemplate\": \"time_period=2019-8-Q1<br>plot_term=%{x}<br>tfidf=%{y}<extra></extra>\", \"legendgroup\": \"\", \"marker\": {\"color\": \"#636efa\"}, \"name\": \"\", \"offsetgroup\": \"\", \"orientation\": \"v\", \"showlegend\": false, \"textposition\": \"auto\", \"type\": \"bar\", \"x\": [\"el_paso\", \"shootings\", \"toni\", \"trump\", \"dayton\", \"morrison\", \"new\", \"woodstock\", \"trade\", \"gun\", \"hong_kong\", \"briefing\", \"china\", \"debates\", \"war\", \"says\", \"terrorism\", \"review\", \"white\", \"morrisons\"], \"xaxis\": \"x\", \"y\": [0.2354007942694827, 0.21528808102659425, 0.21294707330647425, 0.17796880507182455, 0.1558226362133034, 0.14748181183263748, 0.13034335019344898, 0.1283245239403675, 0.10574507659352862, 0.09664181576051832, 0.09072123869878523, 0.09023770398008006, 0.0877311010917445, 0.08606678428747687, 0.07770468953840227, 0.07770468953840227, 0.07606093558206006, 0.07519808665006672, 0.07397958235740543, 0.07332829939449571], \"yaxis\": \"y\"}],\n",
       "                        {\"barmode\": \"relative\", \"legend\": {\"tracegroupgap\": 0}, \"margin\": {\"t\": 60}, \"sliders\": [{\"active\": 0, \"currentvalue\": {\"prefix\": \"time_period=\"}, \"len\": 0.9, \"pad\": {\"b\": 10, \"t\": 60}, \"steps\": [{\"args\": [[\"2019-8-Q1\"], {\"frame\": {\"duration\": 0, \"redraw\": true}, \"fromcurrent\": true, \"mode\": \"immediate\", \"transition\": {\"duration\": 0, \"easing\": \"linear\"}}], \"label\": \"2019-8-Q1\", \"method\": \"animate\"}, {\"args\": [[\"2019-8-Q2\"], {\"frame\": {\"duration\": 0, \"redraw\": true}, \"fromcurrent\": true, \"mode\": \"immediate\", \"transition\": {\"duration\": 0, \"easing\": \"linear\"}}], \"label\": \"2019-8-Q2\", \"method\": \"animate\"}, {\"args\": [[\"2019-8-Q3\"], {\"frame\": {\"duration\": 0, \"redraw\": true}, \"fromcurrent\": true, \"mode\": \"immediate\", \"transition\": {\"duration\": 0, \"easing\": \"linear\"}}], \"label\": \"2019-8-Q3\", \"method\": \"animate\"}, {\"args\": [[\"2019-8-Q4\"], {\"frame\": {\"duration\": 0, \"redraw\": true}, \"fromcurrent\": true, \"mode\": \"immediate\", \"transition\": {\"duration\": 0, \"easing\": \"linear\"}}], \"label\": \"2019-8-Q4\", \"method\": \"animate\"}, {\"args\": [[\"2019-9-Q1\"], {\"frame\": {\"duration\": 0, \"redraw\": true}, \"fromcurrent\": true, \"mode\": \"immediate\", \"transition\": {\"duration\": 0, \"easing\": \"linear\"}}], \"label\": \"2019-9-Q1\", \"method\": \"animate\"}, {\"args\": [[\"2019-9-Q2\"], {\"frame\": {\"duration\": 0, \"redraw\": true}, \"fromcurrent\": true, \"mode\": \"immediate\", \"transition\": {\"duration\": 0, \"easing\": \"linear\"}}], \"label\": \"2019-9-Q2\", \"method\": \"animate\"}, {\"args\": [[\"2019-9-Q3\"], {\"frame\": {\"duration\": 0, \"redraw\": true}, \"fromcurrent\": true, \"mode\": \"immediate\", \"transition\": {\"duration\": 0, \"easing\": \"linear\"}}], \"label\": \"2019-9-Q3\", \"method\": \"animate\"}, {\"args\": [[\"2019-9-Q4\"], {\"frame\": {\"duration\": 0, \"redraw\": true}, \"fromcurrent\": true, \"mode\": \"immediate\", \"transition\": {\"duration\": 0, \"easing\": \"linear\"}}], \"label\": \"2019-9-Q4\", \"method\": \"animate\"}, {\"args\": [[\"2019-10-Q1\"], {\"frame\": {\"duration\": 0, \"redraw\": true}, \"fromcurrent\": true, \"mode\": \"immediate\", \"transition\": {\"duration\": 0, \"easing\": \"linear\"}}], \"label\": \"2019-10-Q1\", \"method\": \"animate\"}, {\"args\": [[\"2019-10-Q2\"], {\"frame\": {\"duration\": 0, \"redraw\": true}, \"fromcurrent\": true, \"mode\": \"immediate\", \"transition\": {\"duration\": 0, \"easing\": \"linear\"}}], \"label\": \"2019-10-Q2\", \"method\": \"animate\"}, {\"args\": [[\"2019-10-Q3\"], {\"frame\": {\"duration\": 0, \"redraw\": true}, \"fromcurrent\": true, \"mode\": \"immediate\", \"transition\": {\"duration\": 0, \"easing\": \"linear\"}}], \"label\": \"2019-10-Q3\", \"method\": \"animate\"}, {\"args\": [[\"2019-10-Q4\"], {\"frame\": {\"duration\": 0, \"redraw\": true}, \"fromcurrent\": true, \"mode\": \"immediate\", \"transition\": {\"duration\": 0, \"easing\": \"linear\"}}], \"label\": \"2019-10-Q4\", \"method\": \"animate\"}, {\"args\": [[\"2019-11-Q1\"], {\"frame\": {\"duration\": 0, \"redraw\": true}, \"fromcurrent\": true, \"mode\": \"immediate\", \"transition\": {\"duration\": 0, \"easing\": \"linear\"}}], \"label\": \"2019-11-Q1\", \"method\": \"animate\"}, {\"args\": [[\"2019-11-Q2\"], {\"frame\": {\"duration\": 0, \"redraw\": true}, \"fromcurrent\": true, \"mode\": \"immediate\", \"transition\": {\"duration\": 0, \"easing\": \"linear\"}}], \"label\": \"2019-11-Q2\", \"method\": \"animate\"}, {\"args\": [[\"2019-11-Q3\"], {\"frame\": {\"duration\": 0, \"redraw\": true}, \"fromcurrent\": true, \"mode\": \"immediate\", \"transition\": {\"duration\": 0, \"easing\": \"linear\"}}], \"label\": \"2019-11-Q3\", \"method\": \"animate\"}, {\"args\": [[\"2019-11-Q4\"], {\"frame\": {\"duration\": 0, \"redraw\": true}, \"fromcurrent\": true, \"mode\": \"immediate\", \"transition\": {\"duration\": 0, \"easing\": \"linear\"}}], \"label\": \"2019-11-Q4\", \"method\": \"animate\"}, {\"args\": [[\"2019-12-Q1\"], {\"frame\": {\"duration\": 0, \"redraw\": true}, \"fromcurrent\": true, \"mode\": \"immediate\", \"transition\": {\"duration\": 0, \"easing\": \"linear\"}}], \"label\": \"2019-12-Q1\", \"method\": \"animate\"}, {\"args\": [[\"2019-12-Q2\"], {\"frame\": {\"duration\": 0, \"redraw\": true}, \"fromcurrent\": true, \"mode\": \"immediate\", \"transition\": {\"duration\": 0, \"easing\": \"linear\"}}], \"label\": \"2019-12-Q2\", \"method\": \"animate\"}, {\"args\": [[\"2019-12-Q3\"], {\"frame\": {\"duration\": 0, \"redraw\": true}, \"fromcurrent\": true, \"mode\": \"immediate\", \"transition\": {\"duration\": 0, \"easing\": \"linear\"}}], \"label\": \"2019-12-Q3\", \"method\": \"animate\"}, {\"args\": [[\"2019-12-Q4\"], {\"frame\": {\"duration\": 0, \"redraw\": true}, \"fromcurrent\": true, \"mode\": \"immediate\", \"transition\": {\"duration\": 0, \"easing\": \"linear\"}}], \"label\": \"2019-12-Q4\", \"method\": \"animate\"}, {\"args\": [[\"2020-1-Q1\"], {\"frame\": {\"duration\": 0, \"redraw\": true}, \"fromcurrent\": true, \"mode\": \"immediate\", \"transition\": {\"duration\": 0, \"easing\": \"linear\"}}], \"label\": \"2020-1-Q1\", \"method\": \"animate\"}, {\"args\": [[\"2020-1-Q2\"], {\"frame\": {\"duration\": 0, \"redraw\": true}, \"fromcurrent\": true, \"mode\": \"immediate\", \"transition\": {\"duration\": 0, \"easing\": \"linear\"}}], \"label\": \"2020-1-Q2\", \"method\": \"animate\"}, {\"args\": [[\"2020-1-Q3\"], {\"frame\": {\"duration\": 0, \"redraw\": true}, \"fromcurrent\": true, \"mode\": \"immediate\", \"transition\": {\"duration\": 0, \"easing\": \"linear\"}}], \"label\": \"2020-1-Q3\", \"method\": \"animate\"}, {\"args\": [[\"2020-1-Q4\"], {\"frame\": {\"duration\": 0, \"redraw\": true}, \"fromcurrent\": true, \"mode\": \"immediate\", \"transition\": {\"duration\": 0, \"easing\": \"linear\"}}], \"label\": \"2020-1-Q4\", \"method\": \"animate\"}, {\"args\": [[\"2020-2-Q1\"], {\"frame\": {\"duration\": 0, \"redraw\": true}, \"fromcurrent\": true, \"mode\": \"immediate\", \"transition\": {\"duration\": 0, \"easing\": \"linear\"}}], \"label\": \"2020-2-Q1\", \"method\": \"animate\"}, {\"args\": [[\"2020-2-Q2\"], {\"frame\": {\"duration\": 0, \"redraw\": true}, \"fromcurrent\": true, \"mode\": \"immediate\", \"transition\": {\"duration\": 0, \"easing\": \"linear\"}}], \"label\": \"2020-2-Q2\", \"method\": \"animate\"}, {\"args\": [[\"2020-2-Q3\"], {\"frame\": {\"duration\": 0, \"redraw\": true}, \"fromcurrent\": true, \"mode\": \"immediate\", \"transition\": {\"duration\": 0, \"easing\": \"linear\"}}], \"label\": \"2020-2-Q3\", \"method\": \"animate\"}, {\"args\": [[\"2020-2-Q4\"], {\"frame\": {\"duration\": 0, \"redraw\": true}, \"fromcurrent\": true, \"mode\": \"immediate\", \"transition\": {\"duration\": 0, \"easing\": \"linear\"}}], \"label\": \"2020-2-Q4\", \"method\": \"animate\"}, {\"args\": [[\"2020-3-Q1\"], {\"frame\": {\"duration\": 0, \"redraw\": true}, \"fromcurrent\": true, \"mode\": \"immediate\", \"transition\": {\"duration\": 0, \"easing\": \"linear\"}}], \"label\": \"2020-3-Q1\", \"method\": \"animate\"}, {\"args\": [[\"2020-3-Q2\"], {\"frame\": {\"duration\": 0, \"redraw\": true}, \"fromcurrent\": true, \"mode\": \"immediate\", \"transition\": {\"duration\": 0, \"easing\": \"linear\"}}], \"label\": \"2020-3-Q2\", \"method\": \"animate\"}, {\"args\": [[\"2020-3-Q3\"], {\"frame\": {\"duration\": 0, \"redraw\": true}, \"fromcurrent\": true, \"mode\": \"immediate\", \"transition\": {\"duration\": 0, \"easing\": \"linear\"}}], \"label\": \"2020-3-Q3\", \"method\": \"animate\"}, {\"args\": [[\"2020-3-Q4\"], {\"frame\": {\"duration\": 0, \"redraw\": true}, \"fromcurrent\": true, \"mode\": \"immediate\", \"transition\": {\"duration\": 0, \"easing\": \"linear\"}}], \"label\": \"2020-3-Q4\", \"method\": \"animate\"}, {\"args\": [[\"2020-4-Q1\"], {\"frame\": {\"duration\": 0, \"redraw\": true}, \"fromcurrent\": true, \"mode\": \"immediate\", \"transition\": {\"duration\": 0, \"easing\": \"linear\"}}], \"label\": \"2020-4-Q1\", \"method\": \"animate\"}, {\"args\": [[\"2020-4-Q2\"], {\"frame\": {\"duration\": 0, \"redraw\": true}, \"fromcurrent\": true, \"mode\": \"immediate\", \"transition\": {\"duration\": 0, \"easing\": \"linear\"}}], \"label\": \"2020-4-Q2\", \"method\": \"animate\"}, {\"args\": [[\"2020-4-Q3\"], {\"frame\": {\"duration\": 0, \"redraw\": true}, \"fromcurrent\": true, \"mode\": \"immediate\", \"transition\": {\"duration\": 0, \"easing\": \"linear\"}}], \"label\": \"2020-4-Q3\", \"method\": \"animate\"}, {\"args\": [[\"2020-4-Q4\"], {\"frame\": {\"duration\": 0, \"redraw\": true}, \"fromcurrent\": true, \"mode\": \"immediate\", \"transition\": {\"duration\": 0, \"easing\": \"linear\"}}], \"label\": \"2020-4-Q4\", \"method\": \"animate\"}, {\"args\": [[\"2020-5-Q1\"], {\"frame\": {\"duration\": 0, \"redraw\": true}, \"fromcurrent\": true, \"mode\": \"immediate\", \"transition\": {\"duration\": 0, \"easing\": \"linear\"}}], \"label\": \"2020-5-Q1\", \"method\": \"animate\"}, {\"args\": [[\"2020-5-Q2\"], {\"frame\": {\"duration\": 0, \"redraw\": true}, \"fromcurrent\": true, \"mode\": \"immediate\", \"transition\": {\"duration\": 0, \"easing\": \"linear\"}}], \"label\": \"2020-5-Q2\", \"method\": \"animate\"}, {\"args\": [[\"2020-5-Q3\"], {\"frame\": {\"duration\": 0, \"redraw\": true}, \"fromcurrent\": true, \"mode\": \"immediate\", \"transition\": {\"duration\": 0, \"easing\": \"linear\"}}], \"label\": \"2020-5-Q3\", \"method\": \"animate\"}, {\"args\": [[\"2020-5-Q4\"], {\"frame\": {\"duration\": 0, \"redraw\": true}, \"fromcurrent\": true, \"mode\": \"immediate\", \"transition\": {\"duration\": 0, \"easing\": \"linear\"}}], \"label\": \"2020-5-Q4\", \"method\": \"animate\"}, {\"args\": [[\"2020-6-Q1\"], {\"frame\": {\"duration\": 0, \"redraw\": true}, \"fromcurrent\": true, \"mode\": \"immediate\", \"transition\": {\"duration\": 0, \"easing\": \"linear\"}}], \"label\": \"2020-6-Q1\", \"method\": \"animate\"}, {\"args\": [[\"2020-6-Q2\"], {\"frame\": {\"duration\": 0, \"redraw\": true}, \"fromcurrent\": true, \"mode\": \"immediate\", \"transition\": {\"duration\": 0, \"easing\": \"linear\"}}], \"label\": \"2020-6-Q2\", \"method\": \"animate\"}, {\"args\": [[\"2020-6-Q3\"], {\"frame\": {\"duration\": 0, \"redraw\": true}, \"fromcurrent\": true, \"mode\": \"immediate\", \"transition\": {\"duration\": 0, \"easing\": \"linear\"}}], \"label\": \"2020-6-Q3\", \"method\": \"animate\"}, {\"args\": [[\"2020-6-Q4\"], {\"frame\": {\"duration\": 0, \"redraw\": true}, \"fromcurrent\": true, \"mode\": \"immediate\", \"transition\": {\"duration\": 0, \"easing\": \"linear\"}}], \"label\": \"2020-6-Q4\", \"method\": \"animate\"}, {\"args\": [[\"2020-7-Q1\"], {\"frame\": {\"duration\": 0, \"redraw\": true}, \"fromcurrent\": true, \"mode\": \"immediate\", \"transition\": {\"duration\": 0, \"easing\": \"linear\"}}], \"label\": \"2020-7-Q1\", \"method\": \"animate\"}, {\"args\": [[\"2020-7-Q2\"], {\"frame\": {\"duration\": 0, \"redraw\": true}, \"fromcurrent\": true, \"mode\": \"immediate\", \"transition\": {\"duration\": 0, \"easing\": \"linear\"}}], \"label\": \"2020-7-Q2\", \"method\": \"animate\"}, {\"args\": [[\"2020-7-Q3\"], {\"frame\": {\"duration\": 0, \"redraw\": true}, \"fromcurrent\": true, \"mode\": \"immediate\", \"transition\": {\"duration\": 0, \"easing\": \"linear\"}}], \"label\": \"2020-7-Q3\", \"method\": \"animate\"}, {\"args\": [[\"2020-7-Q4\"], {\"frame\": {\"duration\": 0, \"redraw\": true}, \"fromcurrent\": true, \"mode\": \"immediate\", \"transition\": {\"duration\": 0, \"easing\": \"linear\"}}], \"label\": \"2020-7-Q4\", \"method\": \"animate\"}, {\"args\": [[\"2020-8-Q1\"], {\"frame\": {\"duration\": 0, \"redraw\": true}, \"fromcurrent\": true, \"mode\": \"immediate\", \"transition\": {\"duration\": 0, \"easing\": \"linear\"}}], \"label\": \"2020-8-Q1\", \"method\": \"animate\"}, {\"args\": [[\"2020-8-Q2\"], {\"frame\": {\"duration\": 0, \"redraw\": true}, \"fromcurrent\": true, \"mode\": \"immediate\", \"transition\": {\"duration\": 0, \"easing\": \"linear\"}}], \"label\": \"2020-8-Q2\", \"method\": \"animate\"}, {\"args\": [[\"2020-8-Q3\"], {\"frame\": {\"duration\": 0, \"redraw\": true}, \"fromcurrent\": true, \"mode\": \"immediate\", \"transition\": {\"duration\": 0, \"easing\": \"linear\"}}], \"label\": \"2020-8-Q3\", \"method\": \"animate\"}, {\"args\": [[\"2020-8-Q4\"], {\"frame\": {\"duration\": 0, \"redraw\": true}, \"fromcurrent\": true, \"mode\": \"immediate\", \"transition\": {\"duration\": 0, \"easing\": \"linear\"}}], \"label\": \"2020-8-Q4\", \"method\": \"animate\"}, {\"args\": [[\"2020-9-Q1\"], {\"frame\": {\"duration\": 0, \"redraw\": true}, \"fromcurrent\": true, \"mode\": \"immediate\", \"transition\": {\"duration\": 0, \"easing\": \"linear\"}}], \"label\": \"2020-9-Q1\", \"method\": \"animate\"}, {\"args\": [[\"2020-9-Q2\"], {\"frame\": {\"duration\": 0, \"redraw\": true}, \"fromcurrent\": true, \"mode\": \"immediate\", \"transition\": {\"duration\": 0, \"easing\": \"linear\"}}], \"label\": \"2020-9-Q2\", \"method\": \"animate\"}, {\"args\": [[\"2020-9-Q3\"], {\"frame\": {\"duration\": 0, \"redraw\": true}, \"fromcurrent\": true, \"mode\": \"immediate\", \"transition\": {\"duration\": 0, \"easing\": \"linear\"}}], \"label\": \"2020-9-Q3\", \"method\": \"animate\"}, {\"args\": [[\"2020-9-Q4\"], {\"frame\": {\"duration\": 0, \"redraw\": true}, \"fromcurrent\": true, \"mode\": \"immediate\", \"transition\": {\"duration\": 0, \"easing\": \"linear\"}}], \"label\": \"2020-9-Q4\", \"method\": \"animate\"}], \"x\": 0.1, \"xanchor\": \"left\", \"y\": 0, \"yanchor\": \"top\"}], \"template\": {\"data\": {\"bar\": [{\"error_x\": {\"color\": \"#2a3f5f\"}, \"error_y\": {\"color\": \"#2a3f5f\"}, \"marker\": {\"line\": {\"color\": \"#E5ECF6\", \"width\": 0.5}}, \"type\": \"bar\"}], \"barpolar\": [{\"marker\": {\"line\": {\"color\": \"#E5ECF6\", \"width\": 0.5}}, \"type\": \"barpolar\"}], \"carpet\": [{\"aaxis\": {\"endlinecolor\": \"#2a3f5f\", \"gridcolor\": \"white\", \"linecolor\": \"white\", \"minorgridcolor\": \"white\", \"startlinecolor\": \"#2a3f5f\"}, \"baxis\": {\"endlinecolor\": \"#2a3f5f\", \"gridcolor\": \"white\", \"linecolor\": \"white\", \"minorgridcolor\": \"white\", \"startlinecolor\": \"#2a3f5f\"}, \"type\": \"carpet\"}], \"choropleth\": [{\"colorbar\": {\"outlinewidth\": 0, \"ticks\": \"\"}, \"type\": \"choropleth\"}], \"contour\": [{\"colorbar\": {\"outlinewidth\": 0, \"ticks\": \"\"}, \"colorscale\": [[0.0, \"#0d0887\"], [0.1111111111111111, \"#46039f\"], [0.2222222222222222, \"#7201a8\"], [0.3333333333333333, \"#9c179e\"], [0.4444444444444444, \"#bd3786\"], [0.5555555555555556, \"#d8576b\"], [0.6666666666666666, \"#ed7953\"], [0.7777777777777778, \"#fb9f3a\"], [0.8888888888888888, \"#fdca26\"], [1.0, \"#f0f921\"]], \"type\": \"contour\"}], \"contourcarpet\": [{\"colorbar\": {\"outlinewidth\": 0, \"ticks\": \"\"}, \"type\": \"contourcarpet\"}], \"heatmap\": [{\"colorbar\": {\"outlinewidth\": 0, \"ticks\": \"\"}, \"colorscale\": [[0.0, \"#0d0887\"], [0.1111111111111111, \"#46039f\"], [0.2222222222222222, \"#7201a8\"], [0.3333333333333333, \"#9c179e\"], [0.4444444444444444, \"#bd3786\"], [0.5555555555555556, \"#d8576b\"], [0.6666666666666666, \"#ed7953\"], [0.7777777777777778, \"#fb9f3a\"], [0.8888888888888888, \"#fdca26\"], [1.0, \"#f0f921\"]], \"type\": \"heatmap\"}], \"heatmapgl\": [{\"colorbar\": {\"outlinewidth\": 0, \"ticks\": \"\"}, \"colorscale\": [[0.0, \"#0d0887\"], [0.1111111111111111, \"#46039f\"], [0.2222222222222222, \"#7201a8\"], [0.3333333333333333, \"#9c179e\"], [0.4444444444444444, \"#bd3786\"], [0.5555555555555556, \"#d8576b\"], [0.6666666666666666, \"#ed7953\"], [0.7777777777777778, \"#fb9f3a\"], [0.8888888888888888, \"#fdca26\"], [1.0, \"#f0f921\"]], \"type\": \"heatmapgl\"}], \"histogram\": [{\"marker\": {\"colorbar\": {\"outlinewidth\": 0, \"ticks\": \"\"}}, \"type\": \"histogram\"}], \"histogram2d\": [{\"colorbar\": {\"outlinewidth\": 0, \"ticks\": \"\"}, \"colorscale\": [[0.0, \"#0d0887\"], [0.1111111111111111, \"#46039f\"], [0.2222222222222222, \"#7201a8\"], [0.3333333333333333, \"#9c179e\"], [0.4444444444444444, \"#bd3786\"], [0.5555555555555556, \"#d8576b\"], [0.6666666666666666, \"#ed7953\"], [0.7777777777777778, \"#fb9f3a\"], [0.8888888888888888, \"#fdca26\"], [1.0, \"#f0f921\"]], \"type\": \"histogram2d\"}], \"histogram2dcontour\": [{\"colorbar\": {\"outlinewidth\": 0, \"ticks\": \"\"}, \"colorscale\": [[0.0, \"#0d0887\"], [0.1111111111111111, \"#46039f\"], [0.2222222222222222, \"#7201a8\"], [0.3333333333333333, \"#9c179e\"], [0.4444444444444444, \"#bd3786\"], [0.5555555555555556, \"#d8576b\"], [0.6666666666666666, \"#ed7953\"], [0.7777777777777778, \"#fb9f3a\"], [0.8888888888888888, \"#fdca26\"], [1.0, \"#f0f921\"]], \"type\": \"histogram2dcontour\"}], \"mesh3d\": [{\"colorbar\": {\"outlinewidth\": 0, \"ticks\": \"\"}, \"type\": \"mesh3d\"}], \"parcoords\": [{\"line\": {\"colorbar\": {\"outlinewidth\": 0, \"ticks\": \"\"}}, \"type\": \"parcoords\"}], \"pie\": [{\"automargin\": true, \"type\": \"pie\"}], \"scatter\": [{\"marker\": {\"colorbar\": {\"outlinewidth\": 0, \"ticks\": \"\"}}, \"type\": \"scatter\"}], \"scatter3d\": [{\"line\": {\"colorbar\": {\"outlinewidth\": 0, \"ticks\": \"\"}}, \"marker\": {\"colorbar\": {\"outlinewidth\": 0, \"ticks\": \"\"}}, \"type\": \"scatter3d\"}], \"scattercarpet\": [{\"marker\": {\"colorbar\": {\"outlinewidth\": 0, \"ticks\": \"\"}}, \"type\": \"scattercarpet\"}], \"scattergeo\": [{\"marker\": {\"colorbar\": {\"outlinewidth\": 0, \"ticks\": \"\"}}, \"type\": \"scattergeo\"}], \"scattergl\": [{\"marker\": {\"colorbar\": {\"outlinewidth\": 0, \"ticks\": \"\"}}, \"type\": \"scattergl\"}], \"scattermapbox\": [{\"marker\": {\"colorbar\": {\"outlinewidth\": 0, \"ticks\": \"\"}}, \"type\": \"scattermapbox\"}], \"scatterpolar\": [{\"marker\": {\"colorbar\": {\"outlinewidth\": 0, \"ticks\": \"\"}}, \"type\": \"scatterpolar\"}], \"scatterpolargl\": [{\"marker\": {\"colorbar\": {\"outlinewidth\": 0, \"ticks\": \"\"}}, \"type\": \"scatterpolargl\"}], \"scatterternary\": [{\"marker\": {\"colorbar\": {\"outlinewidth\": 0, \"ticks\": \"\"}}, \"type\": \"scatterternary\"}], \"surface\": [{\"colorbar\": {\"outlinewidth\": 0, \"ticks\": \"\"}, \"colorscale\": [[0.0, \"#0d0887\"], [0.1111111111111111, \"#46039f\"], [0.2222222222222222, \"#7201a8\"], [0.3333333333333333, \"#9c179e\"], [0.4444444444444444, \"#bd3786\"], [0.5555555555555556, \"#d8576b\"], [0.6666666666666666, \"#ed7953\"], [0.7777777777777778, \"#fb9f3a\"], [0.8888888888888888, \"#fdca26\"], [1.0, \"#f0f921\"]], \"type\": \"surface\"}], \"table\": [{\"cells\": {\"fill\": {\"color\": \"#EBF0F8\"}, \"line\": {\"color\": \"white\"}}, \"header\": {\"fill\": {\"color\": \"#C8D4E3\"}, \"line\": {\"color\": \"white\"}}, \"type\": \"table\"}]}, \"layout\": {\"annotationdefaults\": {\"arrowcolor\": \"#2a3f5f\", \"arrowhead\": 0, \"arrowwidth\": 1}, \"coloraxis\": {\"colorbar\": {\"outlinewidth\": 0, \"ticks\": \"\"}}, \"colorscale\": {\"diverging\": [[0, \"#8e0152\"], [0.1, \"#c51b7d\"], [0.2, \"#de77ae\"], [0.3, \"#f1b6da\"], [0.4, \"#fde0ef\"], [0.5, \"#f7f7f7\"], [0.6, \"#e6f5d0\"], [0.7, \"#b8e186\"], [0.8, \"#7fbc41\"], [0.9, \"#4d9221\"], [1, \"#276419\"]], \"sequential\": [[0.0, \"#0d0887\"], [0.1111111111111111, \"#46039f\"], [0.2222222222222222, \"#7201a8\"], [0.3333333333333333, \"#9c179e\"], [0.4444444444444444, \"#bd3786\"], [0.5555555555555556, \"#d8576b\"], [0.6666666666666666, \"#ed7953\"], [0.7777777777777778, \"#fb9f3a\"], [0.8888888888888888, \"#fdca26\"], [1.0, \"#f0f921\"]], \"sequentialminus\": [[0.0, \"#0d0887\"], [0.1111111111111111, \"#46039f\"], [0.2222222222222222, \"#7201a8\"], [0.3333333333333333, \"#9c179e\"], [0.4444444444444444, \"#bd3786\"], [0.5555555555555556, \"#d8576b\"], [0.6666666666666666, \"#ed7953\"], [0.7777777777777778, \"#fb9f3a\"], [0.8888888888888888, \"#fdca26\"], [1.0, \"#f0f921\"]]}, \"colorway\": [\"#636efa\", \"#EF553B\", \"#00cc96\", \"#ab63fa\", \"#FFA15A\", \"#19d3f3\", \"#FF6692\", \"#B6E880\", \"#FF97FF\", \"#FECB52\"], \"font\": {\"color\": \"#2a3f5f\"}, \"geo\": {\"bgcolor\": \"white\", \"lakecolor\": \"white\", \"landcolor\": \"#E5ECF6\", \"showlakes\": true, \"showland\": true, \"subunitcolor\": \"white\"}, \"hoverlabel\": {\"align\": \"left\"}, \"hovermode\": \"closest\", \"mapbox\": {\"style\": \"light\"}, \"paper_bgcolor\": \"white\", \"plot_bgcolor\": \"#E5ECF6\", \"polar\": {\"angularaxis\": {\"gridcolor\": \"white\", \"linecolor\": \"white\", \"ticks\": \"\"}, \"bgcolor\": \"#E5ECF6\", \"radialaxis\": {\"gridcolor\": \"white\", \"linecolor\": \"white\", \"ticks\": \"\"}}, \"scene\": {\"xaxis\": {\"backgroundcolor\": \"#E5ECF6\", \"gridcolor\": \"white\", \"gridwidth\": 2, \"linecolor\": \"white\", \"showbackground\": true, \"ticks\": \"\", \"zerolinecolor\": \"white\"}, \"yaxis\": {\"backgroundcolor\": \"#E5ECF6\", \"gridcolor\": \"white\", \"gridwidth\": 2, \"linecolor\": \"white\", \"showbackground\": true, \"ticks\": \"\", \"zerolinecolor\": \"white\"}, \"zaxis\": {\"backgroundcolor\": \"#E5ECF6\", \"gridcolor\": \"white\", \"gridwidth\": 2, \"linecolor\": \"white\", \"showbackground\": true, \"ticks\": \"\", \"zerolinecolor\": \"white\"}}, \"shapedefaults\": {\"line\": {\"color\": \"#2a3f5f\"}}, \"ternary\": {\"aaxis\": {\"gridcolor\": \"white\", \"linecolor\": \"white\", \"ticks\": \"\"}, \"baxis\": {\"gridcolor\": \"white\", \"linecolor\": \"white\", \"ticks\": \"\"}, \"bgcolor\": \"#E5ECF6\", \"caxis\": {\"gridcolor\": \"white\", \"linecolor\": \"white\", \"ticks\": \"\"}}, \"title\": {\"x\": 0.05}, \"xaxis\": {\"automargin\": true, \"gridcolor\": \"white\", \"linecolor\": \"white\", \"ticks\": \"\", \"title\": {\"standoff\": 15}, \"zerolinecolor\": \"white\", \"zerolinewidth\": 2}, \"yaxis\": {\"automargin\": true, \"gridcolor\": \"white\", \"linecolor\": \"white\", \"ticks\": \"\", \"title\": {\"standoff\": 15}, \"zerolinecolor\": \"white\", \"zerolinewidth\": 2}}}, \"updatemenus\": [{\"buttons\": [{\"args\": [null, {\"frame\": {\"duration\": 500, \"redraw\": true}, \"fromcurrent\": true, \"mode\": \"immediate\", \"transition\": {\"duration\": 500, \"easing\": \"linear\"}}], \"label\": \"&#9654;\", \"method\": \"animate\"}, {\"args\": [[null], {\"frame\": {\"duration\": 0, \"redraw\": true}, \"fromcurrent\": true, \"mode\": \"immediate\", \"transition\": {\"duration\": 0, \"easing\": \"linear\"}}], \"label\": \"&#9724;\", \"method\": \"animate\"}], \"direction\": \"left\", \"pad\": {\"r\": 10, \"t\": 70}, \"showactive\": false, \"type\": \"buttons\", \"x\": 0.1, \"xanchor\": \"right\", \"y\": 0, \"yanchor\": \"top\"}], \"xaxis\": {\"anchor\": \"y\", \"domain\": [0.0, 1.0], \"title\": {\"text\": \"plot_term\"}}, \"yaxis\": {\"anchor\": \"x\", \"domain\": [0.0, 1.0], \"range\": [0, 1], \"title\": {\"text\": \"tfidf\"}}},\n",
       "                        {\"responsive\": true}\n",
       "                    ).then(function(){\n",
       "                            Plotly.addFrames('9f46c146-566c-480f-be10-a4059467a182', [{\"data\": [{\"alignmentgroup\": \"True\", \"hovertemplate\": \"time_period=2019-8-Q1<br>plot_term=%{x}<br>tfidf=%{y}<extra></extra>\", \"legendgroup\": \"\", \"marker\": {\"color\": \"#636efa\"}, \"name\": \"\", \"offsetgroup\": \"\", \"orientation\": \"v\", \"showlegend\": false, \"textposition\": \"auto\", \"x\": [\"el_paso\", \"shootings\", \"toni\", \"trump\", \"dayton\", \"morrison\", \"new\", \"woodstock\", \"trade\", \"gun\", \"hong_kong\", \"briefing\", \"china\", \"debates\", \"war\", \"says\", \"terrorism\", \"review\", \"white\", \"morrisons\"], \"xaxis\": \"x\", \"y\": [0.2354007942694827, 0.21528808102659425, 0.21294707330647425, 0.17796880507182455, 0.1558226362133034, 0.14748181183263748, 0.13034335019344898, 0.1283245239403675, 0.10574507659352862, 0.09664181576051832, 0.09072123869878523, 0.09023770398008006, 0.0877311010917445, 0.08606678428747687, 0.07770468953840227, 0.07770468953840227, 0.07606093558206006, 0.07519808665006672, 0.07397958235740543, 0.07332829939449571], \"yaxis\": \"y\", \"type\": \"bar\"}], \"name\": \"2019-8-Q1\"}, {\"data\": [{\"alignmentgroup\": \"True\", \"hovertemplate\": \"time_period=2019-8-Q2<br>plot_term=%{x}<br>tfidf=%{y}<extra></extra>\", \"legendgroup\": \"\", \"marker\": {\"color\": \"#636efa\"}, \"name\": \"\", \"offsetgroup\": \"\", \"orientation\": \"v\", \"showlegend\": false, \"textposition\": \"auto\", \"x\": [\"trump\", \"new\", \"jeffrey_e...\", \"el_paso\", \"review\", \"woodstock\", \"briefing\", \"hong_kong\", \"war\", \"kashmir\", \"summer\", \"airport\", \"epstein\", \"weekend\", \"august\", \"dies\", \"says\", \"police\", \"american\", \"2019\"], \"xaxis\": \"x\", \"y\": [0.22224128658039088, 0.16791563874962864, 0.165830504912718, 0.16162871396518655, 0.13581411957690553, 0.11738745195088834, 0.11605933854753744, 0.1033373724361264, 0.09136586226082737, 0.08730972858926872, 0.08703290918240626, 0.0838960612669145, 0.082915252456359, 0.0814884717461433, 0.08108141947863917, 0.07408042886013029, 0.06667238597411726, 0.06420303834544623, 0.06420303834544623, 0.06353449818345824], \"yaxis\": \"y\", \"type\": \"bar\"}], \"name\": \"2019-8-Q2\"}, {\"data\": [{\"alignmentgroup\": \"True\", \"hovertemplate\": \"time_period=2019-8-Q3<br>plot_term=%{x}<br>tfidf=%{y}<extra></extra>\", \"legendgroup\": \"\", \"marker\": {\"color\": \"#636efa\"}, \"name\": \"\", \"offsetgroup\": \"\", \"orientation\": \"v\", \"showlegend\": false, \"textposition\": \"auto\", \"x\": [\"trump\", \"greenland\", \"hong_kong\", \"garner\", \"annual\", \"briefing\", \"new\", \"trumps\", \"contest\", \"dies\", \"american\", \"summer\", \"review\", \"pantaleo\", \"eric\", \"man\", \"recession\", \"august\", \"says\", \"orwell\"], \"xaxis\": \"x\", \"y\": [0.22963602888450954, 0.15218594221497134, 0.1494307291352939, 0.14889621424981644, 0.12472580424529875, 0.11324516492934718, 0.10695376687771678, 0.08807957272282557, 0.08604773136139192, 0.08178817467119517, 0.07864247564537998, 0.07802041788289363, 0.07549677661956478, 0.07444810712490822, 0.07368518671296688, 0.07235107759374958, 0.06946463170070746, 0.0631213760524078, 0.06291398051630398, 0.06204008927075685], \"yaxis\": \"y\", \"type\": \"bar\"}], \"name\": \"2019-8-Q3\"}, {\"data\": [{\"alignmentgroup\": \"True\", \"hovertemplate\": \"time_period=2019-8-Q4<br>plot_term=%{x}<br>tfidf=%{y}<extra></extra>\", \"legendgroup\": \"\", \"marker\": {\"color\": \"#636efa\"}, \"name\": \"\", \"offsetgroup\": \"\", \"orientation\": \"v\", \"showlegend\": false, \"textposition\": \"auto\", \"x\": [\"trump\", \"g7\", \"dorian\", \"hurricane\", \"new\", \"war\", \"briefing\", \"amazon\", \"koch\", \"summer\", \"open\", \"hong_kong\", \"dies\", \"china\", \"trade\", \"2019\", \"day\", \"coco\", \"jeffrey_e...\", \"greenland\"], \"xaxis\": \"x\", \"y\": [0.23822907427515436, 0.19187509189385196, 0.1662942022424049, 0.14995626540424128, 0.12136198123451257, 0.10113498436209382, 0.096640096168223, 0.09643866712857177, 0.09499225528250517, 0.09388071304101192, 0.09214520797435216, 0.09150922050524626, 0.08765031978048131, 0.08540287568354589, 0.08427737415750634, 0.0821724871225335, 0.0741656551988688, 0.07133808271820873, 0.07074770699884908, 0.07035420036107905], \"yaxis\": \"y\", \"type\": \"bar\"}], \"name\": \"2019-8-Q4\"}, {\"data\": [{\"alignmentgroup\": \"True\", \"hovertemplate\": \"time_period=2019-9-Q1<br>plot_term=%{x}<br>tfidf=%{y}<extra></extra>\", \"legendgroup\": \"\", \"marker\": {\"color\": \"#636efa\"}, \"name\": \"\", \"offsetgroup\": \"\", \"orientation\": \"v\", \"showlegend\": false, \"textposition\": \"auto\", \"x\": [\"dorian\", \"bahamas\", \"hurricane\", \"trump\", \"new\", \"brexit\", \"dorians\", \"review\", \"hong_kong\", \"open\", \"dies\", \"briefing\", \"2019\", \"serena\", \"life\", \"september\", \"bianca\", \"day\", \"new_york\", \"vaping\"], \"xaxis\": \"x\", \"y\": [0.3511338614362747, 0.2266576450255243, 0.2026653896225656, 0.14505197526759686, 0.12812924481971055, 0.11079134507571606, 0.09724363227193794, 0.09186625100281134, 0.09023183595003972, 0.08944871808168472, 0.08944871808168472, 0.0846136522394315, 0.07529636363222038, 0.07338424534598552, 0.07252598763379843, 0.07180712172374877, 0.0707226416523185, 0.06285585594929198, 0.06043832302816536, 0.05995056563481095], \"yaxis\": \"y\", \"type\": \"bar\"}], \"name\": \"2019-9-Q1\"}, {\"data\": [{\"alignmentgroup\": \"True\", \"hovertemplate\": \"time_period=2019-9-Q2<br>plot_term=%{x}<br>tfidf=%{y}<extra></extra>\", \"legendgroup\": \"\", \"marker\": {\"color\": \"#636efa\"}, \"name\": \"\", \"offsetgroup\": \"\", \"orientation\": \"v\", \"showlegend\": false, \"textposition\": \"auto\", \"x\": [\"trump\", \"new\", \"debate\", \"spring\", \"fpo\", \"briefing\", \"democratic\", \"executive\", \"11\", \"says\", \"2020\", \"dorian\", \"bolton\", \"power\", \"dies\", \"brexit\", \"bahamas\", \"day\", \"review\", \"cigarettes\"], \"xaxis\": \"x\", \"y\": [0.24988896385676446, 0.18628086396595167, 0.14622039464142966, 0.12504675156471798, 0.10869930252453557, 0.1044990212491924, 0.09817627632820844, 0.09786014035319364, 0.09541214983621917, 0.09314043198297584, 0.09086871412973252, 0.08715792309832418, 0.08534218049176343, 0.08322934674725563, 0.07951012486351595, 0.07808166986906664, 0.07645674327958052, 0.07496668915702934, 0.07269497130378602, 0.06365356332765644], \"yaxis\": \"y\", \"type\": \"bar\"}], \"name\": \"2019-9-Q2\"}, {\"data\": [{\"alignmentgroup\": \"True\", \"hovertemplate\": \"time_period=2019-9-Q3<br>plot_term=%{x}<br>tfidf=%{y}<extra></extra>\", \"legendgroup\": \"\", \"marker\": {\"color\": \"#636efa\"}, \"name\": \"\", \"offsetgroup\": \"\", \"orientation\": \"v\", \"showlegend\": false, \"textposition\": \"auto\", \"x\": [\"trump\", \"new\", \"says\", \"spring\", \"trudeau\", \"iran\", \"review\", \"briefing\", \"2020\", \"climate\", \"saudis\", \"whistle\", \"strike\", \"rugby\", \"blower\", \"saudi\", \"kavanaugh\", \"2019\", \"cokie\", \"dies\"], \"xaxis\": \"x\", \"y\": [0.2588103871939203, 0.15317349446170792, 0.11355965968712828, 0.10608053221758346, 0.10310207287357948, 0.0997784597348098, 0.09771412577729643, 0.09507320345899113, 0.09507320345899113, 0.09406829342720886, 0.0916226449899476, 0.08956460887943113, 0.08643598921432727, 0.0838278180322816, 0.08373032705608993, 0.0812464635944282, 0.07727768166836613, 0.07152525131349498, 0.06892655271942592, 0.06866398027593804], \"yaxis\": \"y\", \"type\": \"bar\"}], \"name\": \"2019-9-Q3\"}, {\"data\": [{\"alignmentgroup\": \"True\", \"hovertemplate\": \"time_period=2019-9-Q4<br>plot_term=%{x}<br>tfidf=%{y}<extra></extra>\", \"legendgroup\": \"\", \"marker\": {\"color\": \"#636efa\"}, \"name\": \"\", \"offsetgroup\": \"\", \"orientation\": \"v\", \"showlegend\": false, \"textposition\": \"auto\", \"x\": [\"impeachment\", \"trump\", \"ukraine\", \"spring\", \"new\", \"2020\", \"emmy\", \"emmys\", \"whistle\", \"inquiry\", \"review\", \"says\", \"trumps\", \"briefing\", \"2019\", \"dies\", \"blower\", \"complaint\", \"september\", \"climate\"], \"xaxis\": \"x\", \"y\": [0.3682025017387166, 0.2843091356202395, 0.1629569620753291, 0.14893225797726922, 0.1341458597644792, 0.13014150574165892, 0.11522486589206735, 0.1116184454840315, 0.11078765511962506, 0.1092995987999322, 0.102111027581917, 0.0961044965476866, 0.09009796551345617, 0.09009796551345617, 0.08133875024792953, 0.07808490344499536, 0.07468109991348988, 0.07273388662492139, 0.06996465018698365, 0.06927889972486813], \"yaxis\": \"y\", \"type\": \"bar\"}], \"name\": \"2019-9-Q4\"}, {\"data\": [{\"alignmentgroup\": \"True\", \"hovertemplate\": \"time_period=2019-10-Q1<br>plot_term=%{x}<br>tfidf=%{y}<extra></extra>\", \"legendgroup\": \"\", \"marker\": {\"color\": \"#636efa\"}, \"name\": \"\", \"offsetgroup\": \"\", \"orientation\": \"v\", \"showlegend\": false, \"textposition\": \"auto\", \"x\": [\"trump\", \"impeachment\", \"new\", \"review\", \"ukraine\", \"joker\", \"says\", \"trumps\", \"briefing\", \"police\", \"hong_kong\", \"new_york\", \"world\", \"october\", \"whistle\", \"day\", \"salazar\", \"dies\", \"million\", \"china\"], \"xaxis\": \"x\", \"y\": [0.315750933502817, 0.20882206513882376, 0.1776099000953346, 0.11840660006355637, 0.10549085320417116, 0.10440130933665584, 0.10113897088762107, 0.09867216671963032, 0.0937385583836488, 0.0888049500476673, 0.08649078218640334, 0.07893773337570427, 0.07893773337570427, 0.07631732361344612, 0.0748532740420208, 0.07400412503972274, 0.07218270144141004, 0.06907051670374123, 0.06907051670374123, 0.06907051670374123], \"yaxis\": \"y\", \"type\": \"bar\"}], \"name\": \"2019-10-Q1\"}, {\"data\": [{\"alignmentgroup\": \"True\", \"hovertemplate\": \"time_period=2019-10-Q2<br>plot_term=%{x}<br>tfidf=%{y}<extra></extra>\", \"legendgroup\": \"\", \"marker\": {\"color\": \"#636efa\"}, \"name\": \"\", \"offsetgroup\": \"\", \"orientation\": \"v\", \"showlegend\": false, \"textposition\": \"auto\", \"x\": [\"trump\", \"impeachment\", \"syria\", \"new\", \"kurds\", \"typhoon\", \"debate\", \"review\", \"kurdish\", \"lang\", \"hagibis\", \"briefing\", \"october\", \"nobel\", \"china\", \"turkey\", \"ukraine\", \"says\", \"california\", \"dies\"], \"xaxis\": \"x\", \"y\": [0.2871008592707469, 0.17071714240288274, 0.16140529827181638, 0.144613766151191, 0.12605257761809796, 0.10714469097538326, 0.10266337746840556, 0.10208030551848776, 0.08554398926431249, 0.08388532001923797, 0.08388532001923797, 0.08081357520213615, 0.07989324618532836, 0.07989324618532836, 0.07868690217050099, 0.07681710039538081, 0.07334308439751025, 0.0723068830755955, 0.06592686398069003, 0.06380019094905487], \"yaxis\": \"y\", \"type\": \"bar\"}], \"name\": \"2019-10-Q2\"}, {\"data\": [{\"alignmentgroup\": \"True\", \"hovertemplate\": \"time_period=2019-10-Q3<br>plot_term=%{x}<br>tfidf=%{y}<extra></extra>\", \"legendgroup\": \"\", \"marker\": {\"color\": \"#636efa\"}, \"name\": \"\", \"offsetgroup\": \"\", \"orientation\": \"v\", \"showlegend\": false, \"textposition\": \"auto\", \"x\": [\"trump\", \"brexit\", \"playoffs\", \"review\", \"syria\", \"impeachment\", \"new\", \"week\", \"moma\", \"17\", \"debate\", \"cummings\", \"dies\", \"make\", \"elijah\", \"mulvaney\", \"briefing\", \"says\", \"deal\", \"astros\"], \"xaxis\": \"x\", \"y\": [0.2300847026855224, 0.18266424824982908, 0.17844773774644693, 0.15255616156322682, 0.14965715809416089, 0.12410593598052365, 0.12254511338685432, 0.11754327202412558, 0.10584520533473506, 0.10446899086195496, 0.0965838979890726, 0.09635278712322813, 0.09003314452911748, 0.0875322238477531, 0.07938390400105129, 0.07539057386561948, 0.07252669975956684, 0.07002577907820247, 0.06872001983415905, 0.06656237138390267], \"yaxis\": \"y\", \"type\": \"bar\"}], \"name\": \"2019-10-Q3\"}, {\"data\": [{\"alignmentgroup\": \"True\", \"hovertemplate\": \"time_period=2019-10-Q4<br>plot_term=%{x}<br>tfidf=%{y}<extra></extra>\", \"legendgroup\": \"\", \"marker\": {\"color\": \"#636efa\"}, \"name\": \"\", \"offsetgroup\": \"\", \"orientation\": \"v\", \"showlegend\": false, \"textposition\": \"auto\", \"x\": [\"trump\", \"impeachment\", \"new\", \"baghdadi\", \"review\", \"california\", \"world\", \"nationals\", \"halloween\", \"al\", \"isis\", \"says\", \"dies\", \"series\", \"briefing\", \"raid\", \"trumps\", \"brexit\", \"zuckerberg\", \"inquiry\"], \"xaxis\": \"x\", \"y\": [0.2320049844840423, 0.19535698582580946, 0.17311141149963155, 0.1715787043909899, 0.1552648742316283, 0.12492576087602275, 0.12135645342242213, 0.11737879613038413, 0.11737879613038413, 0.1164931119549234, 0.10488170959071584, 0.09458664752041723, 0.09458664752041723, 0.08728571891197663, 0.08209407143281497, 0.08067753771038297, 0.08030941770601464, 0.07667586388846405, 0.07500903040487887, 0.07404293964548599], \"yaxis\": \"y\", \"type\": \"bar\"}], \"name\": \"2019-10-Q4\"}, {\"data\": [{\"alignmentgroup\": \"True\", \"hovertemplate\": \"time_period=2019-11-Q1<br>plot_term=%{x}<br>tfidf=%{y}<extra></extra>\", \"legendgroup\": \"\", \"marker\": {\"color\": \"#636efa\"}, \"name\": \"\", \"offsetgroup\": \"\", \"orientation\": \"v\", \"showlegend\": false, \"textposition\": \"auto\", \"x\": [\"trump\", \"new\", \"2019\", \"impeachment\", \"election\", \"review\", \"kentucky\", \"warren\", \"day\", \"briefing\", \"mormon\", \"dies\", \"general\", \"elizabeth\", \"new_york\", \"testimony\", \"popeyes\", \"marathon\", \"mexico\", \"whats\"], \"xaxis\": \"x\", \"y\": [0.29053834579308, 0.1753248638406517, 0.17297742045325953, 0.14622417538245958, 0.1172527118591357, 0.10769955921640034, 0.08814047819128369, 0.08516649813615411, 0.08515779100831655, 0.08265315009630722, 0.08143318455670162, 0.08014850918429793, 0.07882490877164061, 0.07461771078375902, 0.07263458644826999, 0.07006723324082212, 0.06879974788766025, 0.06334475936417079, 0.06305992701731249, 0.06261602280023276], \"yaxis\": \"y\", \"type\": \"bar\"}], \"name\": \"2019-11-Q1\"}, {\"data\": [{\"alignmentgroup\": \"True\", \"hovertemplate\": \"time_period=2019-11-Q2<br>plot_term=%{x}<br>tfidf=%{y}<extra></extra>\", \"legendgroup\": \"\", \"marker\": {\"color\": \"#636efa\"}, \"name\": \"\", \"offsetgroup\": \"\", \"orientation\": \"v\", \"showlegend\": false, \"textposition\": \"auto\", \"x\": [\"impeachment\", \"trump\", \"new\", \"hearings\", \"day\", \"hearing\", \"review\", \"briefing\", \"bloomberg\", \"deval\", \"says\", \"ukraine\", \"veterans\", \"dies\", \"court\", \"yovanovitch\", \"evo\", \"bolivia\", \"hong_kong\", \"thanksgiving\"], \"xaxis\": \"x\", \"y\": [0.3565514244291901, 0.2292911977181941, 0.13928904534282815, 0.13704673911407605, 0.10500251110459352, 0.10344230643664176, 0.10285960271470387, 0.08571633559558656, 0.08392689177416815, 0.08360664567855979, 0.08143051881580722, 0.07685911698704609, 0.07541079813052527, 0.07500179364613824, 0.07071597686635891, 0.06967220473213316, 0.06967220473213316, 0.06801992369195968, 0.06543962872325132, 0.06350744146535547], \"yaxis\": \"y\", \"type\": \"bar\"}], \"name\": \"2019-11-Q2\"}, {\"data\": [{\"alignmentgroup\": \"True\", \"hovertemplate\": \"time_period=2019-11-Q3<br>plot_term=%{x}<br>tfidf=%{y}<extra></extra>\", \"legendgroup\": \"\", \"marker\": {\"color\": \"#636efa\"}, \"name\": \"\", \"offsetgroup\": \"\", \"orientation\": \"v\", \"showlegend\": false, \"textposition\": \"auto\", \"x\": [\"impeachment\", \"trump\", \"hearings\", \"sondland\", \"curio\", \"new\", \"debate\", \"review\", \"nov\", \"hilton\", \"briefing\", \"gordon\", \"statement\", \"hong_kong\", \"democratic\", \"day\", \"sondlands\", \"hearing\", \"dies\", \"trumps\"], \"xaxis\": \"x\", \"y\": [0.32775085075748783, 0.2460591273883386, 0.17722514700040345, 0.14159674235674216, 0.12469906065294252, 0.12183510191073076, 0.11788604473952374, 0.1003347898088371, 0.0991177196497195, 0.09843167837112, 0.0907790955413288, 0.08678338372612887, 0.08614436660462539, 0.08105820212600058, 0.08057875283088617, 0.07644555414006636, 0.07538370588351405, 0.07303469016945714, 0.06927878343943514, 0.06927878343943514], \"yaxis\": \"y\", \"type\": \"bar\"}], \"name\": \"2019-11-Q3\"}, {\"data\": [{\"alignmentgroup\": \"True\", \"hovertemplate\": \"time_period=2019-11-Q4<br>plot_term=%{x}<br>tfidf=%{y}<extra></extra>\", \"legendgroup\": \"\", \"marker\": {\"color\": \"#636efa\"}, \"name\": \"\", \"offsetgroup\": \"\", \"orientation\": \"v\", \"showlegend\": false, \"textposition\": \"auto\", \"x\": [\"thanksgiving\", \"trump\", \"holiday\", \"impeachment\", \"new\", \"black\", \"nov\", \"day\", \"ski\", \"review\", \"2019\", \"turkey\", \"tiffany\", \"hong_kong\", \"dies\", \"gallagher\", \"albania\", \"briefing\", \"books\", \"best\"], \"xaxis\": \"x\", \"y\": [0.4527342607252031, 0.17567913724912765, 0.12455906266199925, 0.1151984172867367, 0.11202727592697996, 0.09846327797069193, 0.09809242315712734, 0.07892830803946314, 0.07728612532509119, 0.07638223358657724, 0.07585208971410906, 0.07524508022918967, 0.06977430916759374, 0.06911237194571722, 0.06874401022791951, 0.06517262738420204, 0.06517262738420204, 0.0636518613221477, 0.0636518613221477, 0.0636518613221477], \"yaxis\": \"y\", \"type\": \"bar\"}], \"name\": \"2019-11-Q4\"}, {\"data\": [{\"alignmentgroup\": \"True\", \"hovertemplate\": \"time_period=2019-12-Q1<br>plot_term=%{x}<br>tfidf=%{y}<extra></extra>\", \"legendgroup\": \"\", \"marker\": {\"color\": \"#636efa\"}, \"name\": \"\", \"offsetgroup\": \"\", \"orientation\": \"v\", \"showlegend\": false, \"textposition\": \"auto\", \"x\": [\"trump\", \"impeachment\", \"nato\", \"2019\", \"new\", \"review\", \"beauty\", \"dec\", \"best\", \"world\", \"important\", \"says\", \"briefing\", \"kamala\", \"dies\", \"day\", \"weekend\", \"christmas\", \"trumps\", \"black\"], \"xaxis\": \"x\", \"y\": [0.2410071443046605, 0.21887146942815905, 0.19080300109341647, 0.18856649166198589, 0.15263785805961833, 0.10979214351656756, 0.10354631105936174, 0.09952441820607004, 0.09908071488080487, 0.09372500056292353, 0.0929241553276437, 0.09104714340398286, 0.08836928624504219, 0.0799071478300722, 0.06962428613245747, 0.06962428613245747, 0.06426857181457614, 0.06181762335155844, 0.06159071465563546, 0.059955590160103565], \"yaxis\": \"y\", \"type\": \"bar\"}], \"name\": \"2019-12-Q1\"}, {\"data\": [{\"alignmentgroup\": \"True\", \"hovertemplate\": \"time_period=2019-12-Q2<br>plot_term=%{x}<br>tfidf=%{y}<extra></extra>\", \"legendgroup\": \"\", \"marker\": {\"color\": \"#636efa\"}, \"name\": \"\", \"offsetgroup\": \"\", \"orientation\": \"v\", \"showlegend\": false, \"textposition\": \"auto\", \"x\": [\"impeachment\", \"trump\", \"new\", \"2019\", \"articles\", \"review\", \"briefing\", \"dec\", \"dies\", \"volcano\", \"zealand\", \"pensacola\", \"democrats\", \"million\", \"russia\", \"big\", \"christmas\", \"day\", \"semitism\", \"election\"], \"xaxis\": \"x\", \"y\": [0.315152739049294, 0.2451673493348417, 0.19343478938345307, 0.14010954907556464, 0.1249415005640725, 0.11021284511382792, 0.09671739469172654, 0.09056084790726304, 0.08772042774365894, 0.08665637094785315, 0.0846583745252835, 0.07723026467745321, 0.07647421905857447, 0.07647421905857447, 0.06988741017515131, 0.06972649384752379, 0.06608400889284409, 0.06522801037348999, 0.06488596201654137, 0.06409346620757968], \"yaxis\": \"y\", \"type\": \"bar\"}], \"name\": \"2019-12-Q2\"}, {\"data\": [{\"alignmentgroup\": \"True\", \"hovertemplate\": \"time_period=2019-12-Q3<br>plot_term=%{x}<br>tfidf=%{y}<extra></extra>\", \"legendgroup\": \"\", \"marker\": {\"color\": \"#636efa\"}, \"name\": \"\", \"offsetgroup\": \"\", \"orientation\": \"v\", \"showlegend\": false, \"textposition\": \"auto\", \"x\": [\"impeachment\", \"trump\", \"impeached\", \"2019\", \"debate\", \"new\", \"christmas\", \"briefing\", \"dec\", \"democrats\", \"review\", \"holiday\", \"brees\", \"day\", \"dies\", \"wars\", \"democratic\", \"star\", \"india\", \"weekend\"], \"xaxis\": \"x\", \"y\": [0.3663314193341261, 0.2891868144261788, 0.1774020222658441, 0.12930473730986305, 0.1024337274611198, 0.09821438980511732, 0.08588080223710798, 0.08457350233218436, 0.08449550697812254, 0.08184532483759778, 0.07638896984842458, 0.07626737614865255, 0.0749400534505237, 0.0709326148592514, 0.0709326148592514, 0.06899821290497696, 0.06614069682957281, 0.06547625987007821, 0.06366403615142352, 0.06274808237549162], \"yaxis\": \"y\", \"type\": \"bar\"}], \"name\": \"2019-12-Q3\"}, {\"data\": [{\"alignmentgroup\": \"True\", \"hovertemplate\": \"time_period=2019-12-Q4<br>plot_term=%{x}<br>tfidf=%{y}<extra></extra>\", \"legendgroup\": \"\", \"marker\": {\"color\": \"#636efa\"}, \"name\": \"\", \"offsetgroup\": \"\", \"orientation\": \"v\", \"showlegend\": false, \"textposition\": \"auto\", \"x\": [\"christmas\", \"new\", \"2019\", \"decade\", \"year\", \"dec\", \"dies\", \"eve\", \"trump\", \"briefing\", \"years\", \"2020\", \"khashoggi\", \"best\", \"tv\", \"herman\", \"women\", \"day\", \"seals\", \"000\"], \"xaxis\": \"x\", \"y\": [0.32954470253904816, 0.2226968306354584, 0.2165116304984777, 0.15794103053530625, 0.11991367803447757, 0.11495391853048227, 0.11420350288997864, 0.10955590360502344, 0.10278315260098078, 0.08279753959523453, 0.07423227687848613, 0.07423227687848613, 0.0731257597513585, 0.07137718930623665, 0.06852210173398719, 0.06769092238513574, 0.06281192658948825, 0.06281192658948825, 0.0584298152560125, 0.05424666387273985], \"yaxis\": \"y\", \"type\": \"bar\"}], \"name\": \"2019-12-Q4\"}, {\"data\": [{\"alignmentgroup\": \"True\", \"hovertemplate\": \"time_period=2020-1-Q1<br>plot_term=%{x}<br>tfidf=%{y}<extra></extra>\", \"legendgroup\": \"\", \"marker\": {\"color\": \"#636efa\"}, \"name\": \"\", \"offsetgroup\": \"\", \"orientation\": \"v\", \"showlegend\": false, \"textposition\": \"auto\", \"x\": [\"suleimani\", \"iran\", \"globes\", \"suleimanis\", \"new\", \"australia\", \"trump\", \"qassim\", \"golden\", \"carlos\", \"2020\", \"ghosn\", \"briefing\", \"iraq\", \"commander\", \"strike\", \"iranian\", \"impeachment\", \"fires\", \"altadena\"], \"xaxis\": \"x\", \"y\": [0.3003251540822429, 0.22689958478983674, 0.19758233821200194, 0.15860727497852278, 0.15800306806401784, 0.1277537385911778, 0.12640245445121426, 0.1168507727043694, 0.11574031674636928, 0.11333666040554415, 0.1069559229971813, 0.09669078605940812, 0.0948018408384107, 0.09402466838848328, 0.08830524261622484, 0.08679200158936917, 0.08402471708235107, 0.08160066888537802, 0.07814128810162818, 0.07401672832331062], \"yaxis\": \"y\", \"type\": \"bar\"}], \"name\": \"2020-1-Q1\"}, {\"data\": [{\"alignmentgroup\": \"True\", \"hovertemplate\": \"time_period=2020-1-Q2<br>plot_term=%{x}<br>tfidf=%{y}<extra></extra>\", \"legendgroup\": \"\", \"marker\": {\"color\": \"#636efa\"}, \"name\": \"\", \"offsetgroup\": \"\", \"orientation\": \"v\", \"showlegend\": false, \"textposition\": \"auto\", \"x\": [\"iran\", \"trump\", \"impeachment\", \"new\", \"2020\", \"meghan\", \"harry\", \"briefing\", \"articles\", \"jan\", \"review\", \"ukrainian\", \"trumps\", \"trial\", \"says\", \"textbooks\", \"warren\", \"ghosn\", \"carlos\", \"airliner\"], \"xaxis\": \"x\", \"y\": [0.2466957178707744, 0.21021547993090453, 0.2093232626535707, 0.16895823620614758, 0.16699360555258771, 0.09895195277411456, 0.08768361967754812, 0.08644374875663365, 0.0831480728207312, 0.08041294932565472, 0.07858522614239423, 0.07814727584017167, 0.07662059548883436, 0.07641017810156729, 0.07465596483527451, 0.07420360255541457, 0.07396187263615983, 0.07380576051571773, 0.07328062268993528, 0.07184176711548337], \"yaxis\": \"y\", \"type\": \"bar\"}], \"name\": \"2020-1-Q2\"}, {\"data\": [{\"alignmentgroup\": \"True\", \"hovertemplate\": \"time_period=2020-1-Q3<br>plot_term=%{x}<br>tfidf=%{y}<extra></extra>\", \"legendgroup\": \"\", \"marker\": {\"color\": \"#636efa\"}, \"name\": \"\", \"offsetgroup\": \"\", \"orientation\": \"v\", \"showlegend\": false, \"textposition\": \"auto\", \"x\": [\"impeachment\", \"davos\", \"trump\", \"trial\", \"quit\", \"touchdown\", \"new\", \"senate\", \"49ers\", \"2020\", \"says\", \"senators\", \"trumps\", \"managers\", \"democrats\", \"jan\", \"mcconnell\", \"sanders\", \"coronavirus\", \"briefing\"], \"xaxis\": \"x\", \"y\": [0.2734792135876985, 0.2519616406213885, 0.2299596751345064, 0.2011171510587225, 0.14881068749452167, 0.1245787600465134, 0.11072132506476233, 0.09923891408587833, 0.08715112671304748, 0.08304099379857174, 0.08091173754732632, 0.07649945422705187, 0.07452396879359002, 0.07321879419335142, 0.0723947125423446, 0.07081029045435107, 0.06915274494677827, 0.06723053506354817, 0.06708633578143403, 0.06600694378860833], \"yaxis\": \"y\", \"type\": \"bar\"}], \"name\": \"2020-1-Q3\"}, {\"data\": [{\"alignmentgroup\": \"True\", \"hovertemplate\": \"time_period=2020-1-Q4<br>plot_term=%{x}<br>tfidf=%{y}<extra></extra>\", \"legendgroup\": \"\", \"marker\": {\"color\": \"#636efa\"}, \"name\": \"\", \"offsetgroup\": \"\", \"orientation\": \"v\", \"showlegend\": false, \"textposition\": \"auto\", \"x\": [\"trump\", \"witnesses\", \"impeachment\", \"coronavirus\", \"kobe\", \"bolton\", \"trial\", \"iowa\", \"bryant\", \"democrats\", \"trumps\", \"new\", \"says\", \"senators\", \"grammys\", \"boltons\", \"schiff\", \"senate\", \"lawyers\", \"2020\"], \"xaxis\": \"x\", \"y\": [0.2715870828186113, 0.2572129008089548, 0.2448291964683001, 0.2255250041167443, 0.22185582606091545, 0.21434408400746227, 0.15723748548534752, 0.15198424190476245, 0.14539229471476434, 0.13465241921258878, 0.13351129701587194, 0.13351129701587194, 0.1289468082290045, 0.11518482741042227, 0.11309492726411065, 0.09807338438671197, 0.09659027903086212, 0.09100482880706548, 0.08758461287995037, 0.08672528695048091], \"yaxis\": \"y\", \"type\": \"bar\"}], \"name\": \"2020-1-Q4\"}, {\"data\": [{\"alignmentgroup\": \"True\", \"hovertemplate\": \"time_period=2020-2-Q1<br>plot_term=%{x}<br>tfidf=%{y}<extra></extra>\", \"legendgroup\": \"\", \"marker\": {\"color\": \"#636efa\"}, \"name\": \"\", \"offsetgroup\": \"\", \"orientation\": \"v\", \"showlegend\": false, \"textposition\": \"auto\", \"x\": [\"coronavirus\", \"iowa\", \"trump\", \"caucuses\", \"bowl\", \"impeachment\", \"caucus\", \"foreign\", \"super\", \"new\", \"policy\", \"china\", \"union\", \"trumps\", \"state\", \"dies\", \"acquittal\", \"2020\", \"feb\", \"kobe\"], \"xaxis\": \"x\", \"y\": [0.3131515747028119, 0.2884290819631162, 0.2301693730787162, 0.17664196289413991, 0.1525911028564893, 0.13437585649646155, 0.13191401103245848, 0.1253932223291215, 0.11966975189459875, 0.1131666084303688, 0.11261569699231715, 0.09974006166744367, 0.0994517531297356, 0.09590390544946507, 0.09014967112249718, 0.08631351490451858, 0.08526652408987705, 0.08055928057755067, 0.0795820891505519, 0.07360081787255829], \"yaxis\": \"y\", \"type\": \"bar\"}], \"name\": \"2020-2-Q1\"}, {\"data\": [{\"alignmentgroup\": \"True\", \"hovertemplate\": \"time_period=2020-2-Q2<br>plot_term=%{x}<br>tfidf=%{y}<extra></extra>\", \"legendgroup\": \"\", \"marker\": {\"color\": \"#636efa\"}, \"name\": \"\", \"offsetgroup\": \"\", \"orientation\": \"v\", \"showlegend\": false, \"textposition\": \"auto\", \"x\": [\"coronavirus\", \"hampshire\", \"new\", \"oscars\", \"trump\", \"review\", \"2020\", \"feb\", \"build\", \"love\", \"bloomberg\", \"day\", \"westminster\", \"world\", \"trumps\", \"china\", \"sanders\", \"briefing\", \"war\", \"valentines\"], \"xaxis\": \"x\", \"y\": [0.2995678047765229, 0.2601996070897728, 0.2501908001292266, 0.19090165966211173, 0.15995805254163667, 0.11894316727455034, 0.10868944595777877, 0.09724169031572537, 0.09578008165289596, 0.09433423611429856, 0.08796655431021155, 0.08613125906088129, 0.080284867678079, 0.07792828200746403, 0.07792828200746403, 0.07587753774410971, 0.07471332231067637, 0.0738267934807554, 0.0738267934807554, 0.06749165924033727], \"yaxis\": \"y\", \"type\": \"bar\"}], \"name\": \"2020-2-Q2\"}, {\"data\": [{\"alignmentgroup\": \"True\", \"hovertemplate\": \"time_period=2020-2-Q3<br>plot_term=%{x}<br>tfidf=%{y}<extra></extra>\", \"legendgroup\": \"\", \"marker\": {\"color\": \"#636efa\"}, \"name\": \"\", \"offsetgroup\": \"\", \"orientation\": \"v\", \"showlegend\": false, \"textposition\": \"auto\", \"x\": [\"nevada\", \"coronavirus\", \"bloomberg\", \"new\", \"trump\", \"2020\", \"briefing\", \"debate\", \"dies\", \"democratic\", \"caucuses\", \"fall\", \"sanders\", \"review\", \"democrats\", \"whats\", \"blagojevich\", \"affleck\", \"weinstein\", \"cobble\"], \"xaxis\": \"x\", \"y\": [0.2981862527187342, 0.28170189344110586, 0.20380368889637168, 0.13841913885771312, 0.13599073291284094, 0.12870551507822448, 0.10199304968463073, 0.09638852215419673, 0.09227942590514207, 0.08958960872496656, 0.08697099037629748, 0.08075795099405672, 0.07962516407934192, 0.07770899023590913, 0.07770899023590913, 0.07285217834616481, 0.0670508934633528, 0.0670508934633528, 0.06501892015808602, 0.06337999767096815], \"yaxis\": \"y\", \"type\": \"bar\"}], \"name\": \"2020-2-Q3\"}, {\"data\": [{\"alignmentgroup\": \"True\", \"hovertemplate\": \"time_period=2020-2-Q4<br>plot_term=%{x}<br>tfidf=%{y}<extra></extra>\", \"legendgroup\": \"\", \"marker\": {\"color\": \"#636efa\"}, \"name\": \"\", \"offsetgroup\": \"\", \"orientation\": \"v\", \"showlegend\": false, \"textposition\": \"auto\", \"x\": [\"coronavirus\", \"trump\", \"new\", \"weinstein\", \"2020\", \"sanders\", \"south\", \"review\", \"bernie\", \"nevada\", \"carolina\", \"bloomberg\", \"harvey\", \"feb\", \"bryant\", \"kobe\", \"dies\", \"fall\", \"debate\", \"briefing\"], \"xaxis\": \"x\", \"y\": [0.5601937704395411, 0.16028033452427332, 0.15837223530374625, 0.13623482914529642, 0.11830215167267792, 0.10890908285898783, 0.1087616555700426, 0.0992211594674073, 0.09893435086795878, 0.09274268128211237, 0.08949490444461021, 0.08184780360532269, 0.0816116341182763, 0.07916805971791127, 0.07798000231435627, 0.07321790627535188, 0.07250777038002841, 0.06959566378246017, 0.0593610073438631, 0.05915107583633896], \"yaxis\": \"y\", \"type\": \"bar\"}], \"name\": \"2020-2-Q4\"}, {\"data\": [{\"alignmentgroup\": \"True\", \"hovertemplate\": \"time_period=2020-3-Q1<br>plot_term=%{x}<br>tfidf=%{y}<extra></extra>\", \"legendgroup\": \"\", \"marker\": {\"color\": \"#636efa\"}, \"name\": \"\", \"offsetgroup\": \"\", \"orientation\": \"v\", \"showlegend\": false, \"textposition\": \"auto\", \"x\": [\"coronavirus\", \"super\", \"sanders\", \"tuesday\", \"trump\", \"review\", \"new\", \"biden\", \"2020\", \"dies\", \"bernie\", \"march\", \"briefing\", \"outbreak\", \"day\", \"million\", \"devs\", \"weekend\", \"fall\", \"elizabeth\"], \"xaxis\": \"x\", \"y\": [0.6908490556504954, 0.15114818159502927, 0.11850579155031114, 0.10863016239400446, 0.09758302723529214, 0.08837708126969854, 0.08285351369034237, 0.08285351369034237, 0.07732994611098623, 0.07180637853163006, 0.07098685939031621, 0.06787842165446772, 0.06628281095227391, 0.06482544923525763, 0.060759243372917736, 0.05339448660044287, 0.05083720894950238, 0.04971210821420543, 0.04740367031812375, 0.047372443671919034], \"yaxis\": \"y\", \"type\": \"bar\"}], \"name\": \"2020-3-Q1\"}, {\"data\": [{\"alignmentgroup\": \"True\", \"hovertemplate\": \"time_period=2020-3-Q2<br>plot_term=%{x}<br>tfidf=%{y}<extra></extra>\", \"legendgroup\": \"\", \"marker\": {\"color\": \"#636efa\"}, \"name\": \"\", \"offsetgroup\": \"\", \"orientation\": \"v\", \"showlegend\": false, \"textposition\": \"auto\", \"x\": [\"coronavirus\", \"sanders\", \"trump\", \"biden\", \"new\", \"home\", \"markets\", \"briefing\", \"virus\", \"pandemic\", \"march\", \"bernie\", \"new_york\", \"2020\", \"day\", \"review\", \"joe\", \"containment\", \"just\", \"fight\"], \"xaxis\": \"x\", \"y\": [0.8421640285863511, 0.09473180077184494, 0.09240763868488384, 0.07680634903678656, 0.06600545620348845, 0.0612050593886893, 0.05642555994905216, 0.055204563370190335, 0.05463230508516593, 0.05096502188946647, 0.05027681916392674, 0.04467419405713143, 0.043203571333192435, 0.04200347212949265, 0.04200347212949265, 0.039603273722093074, 0.03921454221966776, 0.036542215019161016, 0.0360029761109937, 0.0360029761109937], \"yaxis\": \"y\", \"type\": \"bar\"}], \"name\": \"2020-3-Q2\"}, {\"data\": [{\"alignmentgroup\": \"True\", \"hovertemplate\": \"time_period=2020-3-Q3<br>plot_term=%{x}<br>tfidf=%{y}<extra></extra>\", \"legendgroup\": \"\", \"marker\": {\"color\": \"#636efa\"}, \"name\": \"\", \"offsetgroup\": \"\", \"orientation\": \"v\", \"showlegend\": false, \"textposition\": \"auto\", \"x\": [\"coronavirus\", \"primary\", \"results\", \"election\", \"district\", \"virus\", \"house\", \"pandemic\", \"california\", \"illinois\", \"supported\", \"home\", \"ventilators\", \"2020\", \"trump\", \"live\", \"presidential\", \"new\", \"briefing\", \"brady\"], \"xaxis\": \"x\", \"y\": [0.7375383898198666, 0.2438778998459378, 0.22075401232215852, 0.17470265709869365, 0.15762896540178398, 0.12813642094779296, 0.11875405123328953, 0.1034313254758646, 0.092886832152771, 0.08314525339172703, 0.06969122005054497, 0.06584383038677437, 0.0649878142380547, 0.0587891342739057, 0.057613351588427585, 0.05504330292150622, 0.05226239445688089, 0.0505586554755589, 0.0505586554755589, 0.048125154381570515], \"yaxis\": \"y\", \"type\": \"bar\"}], \"name\": \"2020-3-Q3\"}, {\"data\": [{\"alignmentgroup\": \"True\", \"hovertemplate\": \"time_period=2020-3-Q4<br>plot_term=%{x}<br>tfidf=%{y}<extra></extra>\", \"legendgroup\": \"\", \"marker\": {\"color\": \"#636efa\"}, \"name\": \"\", \"offsetgroup\": \"\", \"orientation\": \"v\", \"showlegend\": false, \"textposition\": \"auto\", \"x\": [\"coronavirus\", \"virus\", \"pandemic\", \"dies\", \"stimulus\", \"home\", \"trump\", \"quarantine\", \"briefing\", \"crisis\", \"lockdown\", \"help\", \"new\", \"time\", \"fight\", \"day\", \"new_york\", \"health\", \"need\", \"2020\"], \"xaxis\": \"x\", \"y\": [0.8097620417068231, 0.15131922996983505, 0.1200601901897886, 0.08820608642934408, 0.08647011707204354, 0.08255185011977073, 0.07463591928636806, 0.06312732303582831, 0.05880405761956273, 0.05869400179094321, 0.05831494952075447, 0.05767321035764805, 0.04862643226233071, 0.047495585000416035, 0.046364737738501374, 0.04523389047658671, 0.04410304321467204, 0.04297219595275737, 0.0418413486908427, 0.040710501428928035], \"yaxis\": \"y\", \"type\": \"bar\"}], \"name\": \"2020-3-Q4\"}, {\"data\": [{\"alignmentgroup\": \"True\", \"hovertemplate\": \"time_period=2020-4-Q1<br>plot_term=%{x}<br>tfidf=%{y}<extra></extra>\", \"legendgroup\": \"\", \"marker\": {\"color\": \"#636efa\"}, \"name\": \"\", \"offsetgroup\": \"\", \"orientation\": \"v\", \"showlegend\": false, \"textposition\": \"auto\", \"x\": [\"coronavirus\", \"primary\", \"results\", \"district\", \"election\", \"house\", \"pandemic\", \"virus\", \"count\", \"california\", \"map\", \"dies\", \"trump\", \"supported\", \"case\", \"home\", \"texas\", \"2020\", \"masks\", \"new\"], \"xaxis\": \"x\", \"y\": [0.6136942578484058, 0.2847605479823053, 0.2585867466485087, 0.22114572032260496, 0.2087440006757443, 0.16461344404497885, 0.13672278086245962, 0.11714575355122775, 0.11384363054020805, 0.10582292831462924, 0.10098980044595507, 0.0836131779276083, 0.08230672202248943, 0.07743650854405144, 0.07446798659177614, 0.0705486188764195, 0.06823306276673381, 0.06140342754058735, 0.06059388026757305, 0.060096971635468475], \"yaxis\": \"y\", \"type\": \"bar\"}], \"name\": \"2020-4-Q1\"}, {\"data\": [{\"alignmentgroup\": \"True\", \"hovertemplate\": \"time_period=2020-4-Q2<br>plot_term=%{x}<br>tfidf=%{y}<extra></extra>\", \"legendgroup\": \"\", \"marker\": {\"color\": \"#636efa\"}, \"name\": \"\", \"offsetgroup\": \"\", \"orientation\": \"v\", \"showlegend\": false, \"textposition\": \"auto\", \"x\": [\"coronavirus\", \"pandemic\", \"virus\", \"trump\", \"new\", \"dies\", \"briefing\", \"stimulus\", \"quarantine\", \"day\", \"sanders\", \"bernie\", \"biden\", \"virtual\", \"world\", \"new_york\", \"help\", \"covid\", \"2020\", \"april\"], \"xaxis\": \"x\", \"y\": [0.6379024293678063, 0.2169701262899676, 0.1681899085239947, 0.12842433476205253, 0.10078871842085137, 0.09428622045821576, 0.0894093469862391, 0.08185820875364615, 0.061387871411242426, 0.06014810615437902, 0.057251058428155525, 0.05619208267865248, 0.053645608191743466, 0.05231467896839807, 0.052019983701084564, 0.050394359210425684, 0.050394359210425684, 0.049034683442171684, 0.04876873471976678, 0.047981953750153655], \"yaxis\": \"y\", \"type\": \"bar\"}], \"name\": \"2020-4-Q2\"}, {\"data\": [{\"alignmentgroup\": \"True\", \"hovertemplate\": \"time_period=2020-4-Q3<br>plot_term=%{x}<br>tfidf=%{y}<extra></extra>\", \"legendgroup\": \"\", \"marker\": {\"color\": \"#636efa\"}, \"name\": \"\", \"offsetgroup\": \"\", \"orientation\": \"v\", \"showlegend\": false, \"textposition\": \"auto\", \"x\": [\"coronavirus\", \"pandemic\", \"virus\", \"trump\", \"dies\", \"fertility\", \"kids\", \"day\", \"birth\", \"baby\", \"new\", \"home\", \"pregnancy\", \"know\", \"lockdown\", \"earth\", \"childbirth\", \"testing\", \"briefing\", \"right\"], \"xaxis\": \"x\", \"y\": [0.5643260545345669, 0.17114394822228024, 0.15319129523968258, 0.13612489364266486, 0.10925813831845467, 0.0900178946231393, 0.08955585108070055, 0.08776473405908654, 0.08704274857496593, 0.08647895699014341, 0.07880914895101647, 0.07343579788617445, 0.07174981601271968, 0.06985356384294643, 0.06519769456086866, 0.06340448472011549, 0.061500033264989436, 0.05953132067565435, 0.05910686171326236, 0.05731574469164835], \"yaxis\": \"y\", \"type\": \"bar\"}], \"name\": \"2020-4-Q3\"}, {\"data\": [{\"alignmentgroup\": \"True\", \"hovertemplate\": \"time_period=2020-4-Q4<br>plot_term=%{x}<br>tfidf=%{y}<extra></extra>\", \"legendgroup\": \"\", \"marker\": {\"color\": \"#636efa\"}, \"name\": \"\", \"offsetgroup\": \"\", \"orientation\": \"v\", \"showlegend\": false, \"textposition\": \"auto\", \"x\": [\"coronavirus\", \"pandemic\", \"virus\", \"dies\", \"trump\", \"covid\", \"new\", \"draft\", \"19\", \"home\", \"briefing\", \"ramadan\", \"april\", \"amash\", \"disinfectant\", \"reopening\", \"world\", \"isolation\", \"review\", \"house\"], \"xaxis\": \"x\", \"y\": [0.5140897110964671, 0.17399727547413546, 0.17357256145989947, 0.14802794473354666, 0.144327246115208, 0.13333151542063448, 0.13137480095102266, 0.10801419026844604, 0.08387696203172268, 0.08326571891262, 0.08326571891262, 0.08023110101346335, 0.07562067844925027, 0.06766277616139657, 0.06766277616139657, 0.06605579502416288, 0.06476222582092668, 0.06213065277682098, 0.06106152720258799, 0.06106152720258799], \"yaxis\": \"y\", \"type\": \"bar\"}], \"name\": \"2020-4-Q4\"}, {\"data\": [{\"alignmentgroup\": \"True\", \"hovertemplate\": \"time_period=2020-5-Q1<br>plot_term=%{x}<br>tfidf=%{y}<extra></extra>\", \"legendgroup\": \"\", \"marker\": {\"color\": \"#636efa\"}, \"name\": \"\", \"offsetgroup\": \"\", \"orientation\": \"v\", \"showlegend\": false, \"textposition\": \"auto\", \"x\": [\"coronavirus\", \"pandemic\", \"new\", \"virus\", \"briefing\", \"trump\", \"covid\", \"dies\", \"review\", \"home\", \"tara\", \"reopening\", \"livestrea...\", \"reade\", \"hornets\", \"day\", \"lockdown\", \"whats\", \"vaccine\", \"shula\"], \"xaxis\": \"x\", \"y\": [0.4464404046347277, 0.21520531979827376, 0.1848887482990989, 0.17794333217345382, 0.1031937199808924, 0.10104385081462383, 0.09727168354298556, 0.09674411248208664, 0.09459424331581803, 0.08384489748447509, 0.07659136849639123, 0.06907354446258722, 0.06643637533497121, 0.06643637533497121, 0.06546207271420176, 0.06449607498805776, 0.06195304660859395, 0.06019633665552058, 0.05961826748995476, 0.059360194176765226], \"yaxis\": \"y\", \"type\": \"bar\"}], \"name\": \"2020-5-Q1\"}, {\"data\": [{\"alignmentgroup\": \"True\", \"hovertemplate\": \"time_period=2020-5-Q2<br>plot_term=%{x}<br>tfidf=%{y}<extra></extra>\", \"legendgroup\": \"\", \"marker\": {\"color\": \"#636efa\"}, \"name\": \"\", \"offsetgroup\": \"\", \"orientation\": \"v\", \"showlegend\": false, \"textposition\": \"auto\", \"x\": [\"coronavirus\", \"pandemic\", \"virus\", \"arbery\", \"ahmaud\", \"flynn\", \"new\", \"trump\", \"dies\", \"day\", \"briefing\", \"covid\", \"silk\", \"home\", \"reopening\", \"quarantine\", \"fauci\", \"praying\", \"reopen\", \"mantises\"], \"xaxis\": \"x\", \"y\": [0.43265119675352864, 0.20799696045210167, 0.16998906635625627, 0.12369472167522845, 0.12369472167522845, 0.12026917443637705, 0.10335088627362757, 0.10136336922990397, 0.09937585218618036, 0.09341330105500953, 0.08745074992383871, 0.08659540483972474, 0.0862360366892315, 0.08546323288011509, 0.08159544279890639, 0.08158031455178684, 0.07924952614601782, 0.07267866676849401, 0.061475639505400324, 0.0605185595841488], \"yaxis\": \"y\", \"type\": \"bar\"}], \"name\": \"2020-5-Q2\"}, {\"data\": [{\"alignmentgroup\": \"True\", \"hovertemplate\": \"time_period=2020-5-Q3<br>plot_term=%{x}<br>tfidf=%{y}<extra></extra>\", \"legendgroup\": \"\", \"marker\": {\"color\": \"#636efa\"}, \"name\": \"\", \"offsetgroup\": \"\", \"orientation\": \"v\", \"showlegend\": false, \"textposition\": \"auto\", \"x\": [\"coronavirus\", \"pandemic\", \"virus\", \"trump\", \"dies\", \"new\", \"joy\", \"briefing\", \"day\", \"summer\", \"2020\", \"cyclone\", \"lockdown\", \"home\", \"reopening\", \"hydroxych...\", \"amphan\", \"zip\", \"end\", \"trumps\"], \"xaxis\": \"x\", \"y\": [0.3297959456132174, 0.21976418103476272, 0.17132925274439156, 0.1345473627004896, 0.1267850148523844, 0.11902266700427926, 0.10824766306989793, 0.09832307274266547, 0.09314817417726202, 0.07768500269401353, 0.07503602919834998, 0.07090817238359398, 0.07063848676117374, 0.06986113063294652, 0.06927719752964806, 0.06901370874132177, 0.06753093726263981, 0.06730042105726697, 0.0631979049785206, 0.06209878278484135], \"yaxis\": \"y\", \"type\": \"bar\"}], \"name\": \"2020-5-Q3\"}, {\"data\": [{\"alignmentgroup\": \"True\", \"hovertemplate\": \"time_period=2020-5-Q4<br>plot_term=%{x}<br>tfidf=%{y}<extra></extra>\", \"legendgroup\": \"\", \"marker\": {\"color\": \"#636efa\"}, \"name\": \"\", \"offsetgroup\": \"\", \"orientation\": \"v\", \"showlegend\": false, \"textposition\": \"auto\", \"x\": [\"coronavirus\", \"trump\", \"pandemic\", \"spacex\", \"lockdown\", \"minneapolis\", \"dies\", \"floyd\", \"hong_kong\", \"covid\", \"new\", \"day\", \"launch\", \"briefing\", \"police\", \"twitter\", \"virus\", \"kramer\", \"reopening\", \"protests\"], \"xaxis\": \"x\", \"y\": [0.32938521669573684, 0.2256971967742701, 0.18582697523541766, 0.15946300959859494, 0.15648587388245694, 0.14962401303811965, 0.1182223411674748, 0.11400096565079845, 0.09967682133525292, 0.09725484980611293, 0.09242837582184396, 0.09027887870970804, 0.0853243268461822, 0.08168089026116443, 0.08168089026116443, 0.07847166395377078, 0.07413022395190359, 0.07323025479762671, 0.0728983457035038, 0.07275195239796081], \"yaxis\": \"y\", \"type\": \"bar\"}], \"name\": \"2020-5-Q4\"}, {\"data\": [{\"alignmentgroup\": \"True\", \"hovertemplate\": \"time_period=2020-6-Q1<br>plot_term=%{x}<br>tfidf=%{y}<extra></extra>\", \"legendgroup\": \"\", \"marker\": {\"color\": \"#636efa\"}, \"name\": \"\", \"offsetgroup\": \"\", \"orientation\": \"v\", \"showlegend\": false, \"textposition\": \"auto\", \"x\": [\"coronavirus\", \"protests\", \"police\", \"floyd\", \"trump\", \"primary\", \"george\", \"pandemic\", \"minneapolis\", \"congressi...\", \"election\", \"protesters\", \"results\", \"district\", \"new_york\", \"curfew\", \"black\", \"dies\", \"says\", \"briefing\"], \"xaxis\": \"x\", \"y\": [0.2802874115399687, 0.24489301104482394, 0.2352956531446437, 0.218676977503413, 0.18471808284252406, 0.13657717190969784, 0.13564512942226412, 0.13340962207252555, 0.1170547360637538, 0.11423586054237098, 0.11413527683766532, 0.11338482196276806, 0.10197352694249176, 0.10124715146637003, 0.09016001662551767, 0.0857960554000305, 0.08504197097708398, 0.08356294223828467, 0.08136391744254035, 0.08136391744254035], \"yaxis\": \"y\", \"type\": \"bar\"}], \"name\": \"2020-6-Q1\"}, {\"data\": [{\"alignmentgroup\": \"True\", \"hovertemplate\": \"time_period=2020-6-Q2<br>plot_term=%{x}<br>tfidf=%{y}<extra></extra>\", \"legendgroup\": \"\", \"marker\": {\"color\": \"#636efa\"}, \"name\": \"\", \"offsetgroup\": \"\", \"orientation\": \"v\", \"showlegend\": false, \"textposition\": \"auto\", \"x\": [\"coronavirus\", \"police\", \"trump\", \"black\", \"pandemic\", \"virus\", \"floyd\", \"new\", \"fowl\", \"protests\", \"briefing\", \"dies\", \"atlanta\", \"statue\", \"lives\", \"says\", \"review\", \"pride\", \"matter\", \"covid\"], \"xaxis\": \"x\", \"y\": [0.2227717235734056, 0.21191191104695228, 0.1780961805607365, 0.15601128758858535, 0.13676801440963027, 0.12439586468294615, 0.11956365383793092, 0.1127191016207193, 0.10786980178785543, 0.09845405287562503, 0.09242966332898983, 0.09242966332898983, 0.08769334395120887, 0.08515932905839356, 0.08414240316642141, 0.0789033711345035, 0.07214022503726035, 0.07165885955282146, 0.0668950235123227, 0.060444687196886476], \"yaxis\": \"y\", \"type\": \"bar\"}], \"name\": \"2020-6-Q2\"}, {\"data\": [{\"alignmentgroup\": \"True\", \"hovertemplate\": \"time_period=2020-6-Q3<br>plot_term=%{x}<br>tfidf=%{y}<extra></extra>\", \"legendgroup\": \"\", \"marker\": {\"color\": \"#636efa\"}, \"name\": \"\", \"offsetgroup\": \"\", \"orientation\": \"v\", \"showlegend\": false, \"textposition\": \"auto\", \"x\": [\"juneteenth\", \"trump\", \"coronavirus\", \"tulsa\", \"pandemic\", \"black\", \"bolton\", \"new\", \"dies\", \"rayshard\", \"virus\", \"china\", \"briefing\", \"court\", \"confederate\", \"flag\", \"floyd\", \"policing\", \"daca\", \"rally\"], \"xaxis\": \"x\", \"y\": [0.4290116097080428, 0.2153946940379373, 0.1771434425746455, 0.14797584235474698, 0.14555367560748855, 0.1367331347426476, 0.11781865432318438, 0.10876365738549308, 0.10449841591939532, 0.08787114037200655, 0.08531591687993555, 0.0789069671228087, 0.07677434638975983, 0.07677434638975983, 0.0716087052391165, 0.07076920597038522, 0.07069119259391063, 0.06985847894988015, 0.06675975903102692, 0.06642250237917283], \"yaxis\": \"y\", \"type\": \"bar\"}], \"name\": \"2020-6-Q3\"}, {\"data\": [{\"alignmentgroup\": \"True\", \"hovertemplate\": \"time_period=2020-6-Q4<br>plot_term=%{x}<br>tfidf=%{y}<extra></extra>\", \"legendgroup\": \"\", \"marker\": {\"color\": \"#636efa\"}, \"name\": \"\", \"offsetgroup\": \"\", \"orientation\": \"v\", \"showlegend\": false, \"textposition\": \"auto\", \"x\": [\"primary\", \"results\", \"election\", \"district\", \"house\", \"coronavirus\", \"california\", \"congressi...\", \"texas\", \"presidential\", \"virus\", \"supported\", \"trump\", \"2020\", \"live\", \"pandemic\", \"new\", \"forecast\", \"groups\", \"dies\"], \"xaxis\": \"x\", \"y\": [0.4943336360792026, 0.44125507445331336, 0.360294951209868, 0.33511403666093736, 0.1955084369989642, 0.1172948482333464, 0.11624825983722195, 0.1092081088153974, 0.0968835347760565, 0.093947670085873, 0.0923303664165864, 0.08873857650812991, 0.08718619487791647, 0.086305526242786, 0.08514432926601359, 0.07346360817098355, 0.07045349081043754, 0.06838273473738687, 0.05075667473631591, 0.05019811220243675], \"yaxis\": \"y\", \"type\": \"bar\"}], \"name\": \"2020-6-Q4\"}, {\"data\": [{\"alignmentgroup\": \"True\", \"hovertemplate\": \"time_period=2020-7-Q1<br>plot_term=%{x}<br>tfidf=%{y}<extra></extra>\", \"legendgroup\": \"\", \"marker\": {\"color\": \"#636efa\"}, \"name\": \"\", \"offsetgroup\": \"\", \"orientation\": \"v\", \"showlegend\": false, \"textposition\": \"auto\", \"x\": [\"coronavirus\", \"congressi...\", \"primary\", \"results\", \"new\", \"election\", \"district\", \"virus\", \"july\", \"trump\", \"pandemic\", \"jersey\", \"dies\", \"new_york\", \"black\", \"fourth\", \"cases\", \"police\", \"briefing\", \"delaware\"], \"xaxis\": \"x\", \"y\": [0.24133545291856856, 0.2275973811016559, 0.2269476593814065, 0.21904182324501328, 0.2188175322429784, 0.21501152692128211, 0.19073248198431275, 0.1630719102814315, 0.15219708393916292, 0.1358177786335728, 0.11062617520227222, 0.10131898709661648, 0.10060576195079468, 0.0905451857557152, 0.08190915311286938, 0.0800805600172493, 0.07680687308591375, 0.06287860121924667, 0.06287860121924667, 0.06231804842478435], \"yaxis\": \"y\", \"type\": \"bar\"}], \"name\": \"2020-7-Q1\"}, {\"data\": [{\"alignmentgroup\": \"True\", \"hovertemplate\": \"time_period=2020-7-Q2<br>plot_term=%{x}<br>tfidf=%{y}<extra></extra>\", \"legendgroup\": \"\", \"marker\": {\"color\": \"#636efa\"}, \"name\": \"\", \"offsetgroup\": \"\", \"orientation\": \"v\", \"showlegend\": false, \"textposition\": \"auto\", \"x\": [\"trump\", \"coronavirus\", \"pandemic\", \"virus\", \"new\", \"covid\", \"seoul\", \"court\", \"runoff\", \"stone\", \"says\", \"dies\", \"story\", \"reopen\", \"short\", \"briefing\", \"review\", \"election\", \"primary\", \"schools\"], \"xaxis\": \"x\", \"y\": [0.2885455560846699, 0.2765261553918113, 0.14807178064638313, 0.13766990676964008, 0.13234044301627718, 0.1090673198516803, 0.10750872858837314, 0.10413674204559516, 0.10274597246525877, 0.10163791919191982, 0.09545868020846224, 0.08895013383061254, 0.08390076868608001, 0.08388126198556793, 0.08242124173871543, 0.0802720719934796, 0.0802720719934796, 0.0794849387552337, 0.07881276469938986, 0.07816688077000407], \"yaxis\": \"y\", \"type\": \"bar\"}], \"name\": \"2020-7-Q2\"}, {\"data\": [{\"alignmentgroup\": \"True\", \"hovertemplate\": \"time_period=2020-7-Q3<br>plot_term=%{x}<br>tfidf=%{y}<extra></extra>\", \"legendgroup\": \"\", \"marker\": {\"color\": \"#636efa\"}, \"name\": \"\", \"offsetgroup\": \"\", \"orientation\": \"v\", \"showlegend\": false, \"textposition\": \"auto\", \"x\": [\"coronavirus\", \"virus\", \"portland\", \"pandemic\", \"trump\", \"new\", \"says\", \"covid\", \"dies\", \"lewis\", \"trumps\", \"federal\", \"vaccine\", \"briefing\", \"19\", \"congressi...\", \"election\", \"police\", \"say\", \"reopening\"], \"xaxis\": \"x\", \"y\": [0.27768810389381715, 0.19518852977624976, 0.18529021967393194, 0.16691233091274155, 0.16245526278435518, 0.1283920625231194, 0.12053132400129578, 0.11416318613654768, 0.11005033930553093, 0.10422574856658673, 0.09694910843582487, 0.09275948858939988, 0.08031101403774464, 0.07860738521823638, 0.07501683040903548, 0.07464516016620425, 0.07199883242413997, 0.07074664669641274, 0.07074664669641274, 0.07015531202176442], \"yaxis\": \"y\", \"type\": \"bar\"}], \"name\": \"2020-7-Q3\"}, {\"data\": [{\"alignmentgroup\": \"True\", \"hovertemplate\": \"time_period=2020-7-Q4<br>plot_term=%{x}<br>tfidf=%{y}<extra></extra>\", \"legendgroup\": \"\", \"marker\": {\"color\": \"#636efa\"}, \"name\": \"\", \"offsetgroup\": \"\", \"orientation\": \"v\", \"showlegend\": false, \"textposition\": \"auto\", \"x\": [\"coronavirus\", \"trump\", \"pandemic\", \"virus\", \"portland\", \"new\", \"dies\", \"covid\", \"lewis\", \"review\", \"big\", \"briefing\", \"mars\", \"says\", \"china\", \"day\", \"tech\", \"summer\", \"week\", \"trumps\"], \"xaxis\": \"x\", \"y\": [0.2900186855377035, 0.2673894104467809, 0.18189977693540108, 0.16273275735226192, 0.13034277785780007, 0.1238642121922588, 0.10813542334244816, 0.10543041378333746, 0.0999294630243134, 0.08650833867395852, 0.08454224006773219, 0.08454224006773219, 0.08263516217111004, 0.06684735261169522, 0.06488125400546889, 0.06488125400546889, 0.06439803902561851, 0.06416272604440015, 0.06291515539924256, 0.060949056793016224], \"yaxis\": \"y\", \"type\": \"bar\"}], \"name\": \"2020-7-Q4\"}, {\"data\": [{\"alignmentgroup\": \"True\", \"hovertemplate\": \"time_period=2020-8-Q1<br>plot_term=%{x}<br>tfidf=%{y}<extra></extra>\", \"legendgroup\": \"\", \"marker\": {\"color\": \"#636efa\"}, \"name\": \"\", \"offsetgroup\": \"\", \"orientation\": \"v\", \"showlegend\": false, \"textposition\": \"auto\", \"x\": [\"beirut\", \"coronavirus\", \"trump\", \"tiktok\", \"pandemic\", \"virus\", \"primary\", \"new\", \"election\", \"covid\", \"congressi...\", \"dies\", \"isaias\", \"results\", \"briefing\", \"runoff\", \"says\", \"wechat\", \"district\", \"home\"], \"xaxis\": \"x\", \"y\": [0.3087913652136832, 0.2507775050396743, 0.2432050682086046, 0.15097449039291147, 0.14754675026231498, 0.13084455834052328, 0.11969996709976995, 0.11917048342221626, 0.1138544597295908, 0.10188805389069536, 0.10188805389069536, 0.09971407796552788, 0.08633767958755675, 0.0852722597683668, 0.0851217738730116, 0.08376681072733289, 0.07539357114466742, 0.07532404170443782, 0.07245511863086017, 0.07052946978049532], \"yaxis\": \"y\", \"type\": \"bar\"}], \"name\": \"2020-8-Q1\"}, {\"data\": [{\"alignmentgroup\": \"True\", \"hovertemplate\": \"time_period=2020-8-Q2<br>plot_term=%{x}<br>tfidf=%{y}<extra></extra>\", \"legendgroup\": \"\", \"marker\": {\"color\": \"#636efa\"}, \"name\": \"\", \"offsetgroup\": \"\", \"orientation\": \"v\", \"showlegend\": false, \"textposition\": \"auto\", \"x\": [\"congressi...\", \"kamala\", \"primary\", \"results\", \"election\", \"harris\", \"district\", \"trump\", \"coronavirus\", \"harriss\", \"new\", \"dies\", \"qanon\", \"virus\", \"biden\", \"missouri\", \"belarus\", \"pandemic\", \"michigan\", \"black\"], \"xaxis\": \"x\", \"y\": [0.26327189872248524, 0.2621606034675196, 0.24466608308439824, 0.2314669173839947, 0.2293117812917345, 0.22378991633907194, 0.2211470432572635, 0.1488376390534268, 0.13026160118656102, 0.10081554066215842, 0.09922509270228454, 0.09095633497709417, 0.08708600333962503, 0.08554999099719282, 0.08475476668320138, 0.08222676481647345, 0.07951217379184643, 0.07838217687319868, 0.07825566334309868, 0.07573600116057287], \"yaxis\": \"y\", \"type\": \"bar\"}], \"name\": \"2020-8-Q2\"}, {\"data\": [{\"alignmentgroup\": \"True\", \"hovertemplate\": \"time_period=2020-8-Q3<br>plot_term=%{x}<br>tfidf=%{y}<extra></extra>\", \"legendgroup\": \"\", \"marker\": {\"color\": \"#636efa\"}, \"name\": \"\", \"offsetgroup\": \"\", \"orientation\": \"v\", \"showlegend\": false, \"textposition\": \"auto\", \"x\": [\"convention\", \"trump\", \"biden\", \"election\", \"primary\", \"postal\", \"democratic\", \"congressi...\", \"new\", \"results\", \"coronavirus\", \"belarus\", \"says\", \"district\", \"night\", \"pandemic\", \"covid\", \"harris\", \"conventions\", \"speech\"], \"xaxis\": \"x\", \"y\": [0.3945336105085014, 0.2407252849361523, 0.1860149929052086, 0.17074783259282014, 0.13463576652328724, 0.12955109710153362, 0.12687031609107272, 0.12224142583614693, 0.1221863188691076, 0.11963251396091006, 0.11752865113457693, 0.1096026753338299, 0.1057732312598245, 0.10372198954421848, 0.10022155391317702, 0.09680835906245827, 0.09473710502301386, 0.09025264833494953, 0.08472274753472789, 0.0841565410486021], \"yaxis\": \"y\", \"type\": \"bar\"}], \"name\": \"2020-8-Q3\"}, {\"data\": [{\"alignmentgroup\": \"True\", \"hovertemplate\": \"time_period=2020-8-Q4<br>plot_term=%{x}<br>tfidf=%{y}<extra></extra>\", \"legendgroup\": \"\", \"marker\": {\"color\": \"#636efa\"}, \"name\": \"\", \"offsetgroup\": \"\", \"orientation\": \"v\", \"showlegend\": false, \"textposition\": \"auto\", \"x\": [\"trump\", \"kenosha\", \"convention\", \"coronavirus\", \"new\", \"pandemic\", \"trumps\", \"laura\", \"republican\", \"hurricane\", \"covid\", \"black\", \"night\", \"dies\", \"blake\", \"virus\", \"briefing\", \"biden\", \"2020\", \"says\"], \"xaxis\": \"x\", \"y\": [0.3353458824659931, 0.2717002814674031, 0.26369026213361824, 0.15576000772063242, 0.1359510334321594, 0.12096812871001747, 0.11963690942030025, 0.11851310168598365, 0.11028001061235264, 0.10544142775235743, 0.10024110076420294, 0.09592773439956034, 0.0922382061534234, 0.08700866139658199, 0.08058116099206644, 0.08001836359668063, 0.0797579396135335, 0.0797579396135335, 0.07431989827624713, 0.07431989827624713], \"yaxis\": \"y\", \"type\": \"bar\"}], \"name\": \"2020-8-Q4\"}, {\"data\": [{\"alignmentgroup\": \"True\", \"hovertemplate\": \"time_period=2020-9-Q1<br>plot_term=%{x}<br>tfidf=%{y}<extra></extra>\", \"legendgroup\": \"\", \"marker\": {\"color\": \"#636efa\"}, \"name\": \"\", \"offsetgroup\": \"\", \"orientation\": \"v\", \"showlegend\": false, \"textposition\": \"auto\", \"x\": [\"trump\", \"kenosha\", \"coronavirus\", \"election\", \"pandemic\", \"new\", \"navalny\", \"congressi...\", \"results\", \"primary\", \"2020\", \"open\", \"district\", \"day\", \"mulan\", \"dies\", \"biden\", \"black\", \"covid\", \"briefing\"], \"xaxis\": \"x\", \"y\": [0.2511439261359768, 0.17417527764951984, 0.17390714414508418, 0.1685202642327473, 0.16324614342255375, 0.14075099157071227, 0.13086462983055155, 0.12486930326848047, 0.124857528963295, 0.12289578929653346, 0.12143222802179095, 0.11867240465765935, 0.10090642528497508, 0.09935364110873808, 0.09870290176344072, 0.09107417101634324, 0.08831434765221162, 0.08706880318691944, 0.083246202178987, 0.07451523083155355], \"yaxis\": \"y\", \"type\": \"bar\"}], \"name\": \"2020-9-Q1\"}, {\"data\": [{\"alignmentgroup\": \"True\", \"hovertemplate\": \"time_period=2020-9-Q2<br>plot_term=%{x}<br>tfidf=%{y}<extra></extra>\", \"legendgroup\": \"\", \"marker\": {\"color\": \"#636efa\"}, \"name\": \"\", \"offsetgroup\": \"\", \"orientation\": \"v\", \"showlegend\": false, \"textposition\": \"auto\", \"x\": [\"trump\", \"wildfires\", \"new\", \"pandemic\", \"coronavirus\", \"covid\", \"virus\", \"open\", \"biden\", \"briefing\", \"dies\", \"vaccine\", \"says\", \"2020\", \"review\", \"trumps\", \"climate\", \"sept\", \"year\", \"indoor\"], \"xaxis\": \"x\", \"y\": [0.286528073028378, 0.2572087747172461, 0.20436193443935785, 0.20131023522179145, 0.17198342208230832, 0.13769035354752918, 0.1075346515704473, 0.10744802738564174, 0.08637978672179042, 0.08637978672179042, 0.08637978672179042, 0.08609937944164618, 0.08427296265540529, 0.08216613858902018, 0.0779524904562499, 0.07584566638986476, 0.07504398864840461, 0.07175197699327664, 0.0716320182570945, 0.07006428840572296], \"yaxis\": \"y\", \"type\": \"bar\"}], \"name\": \"2020-9-Q2\"}, {\"data\": [{\"alignmentgroup\": \"True\", \"hovertemplate\": \"time_period=2020-9-Q3<br>plot_term=%{x}<br>tfidf=%{y}<extra></extra>\", \"legendgroup\": \"\", \"marker\": {\"color\": \"#636efa\"}, \"name\": \"\", \"offsetgroup\": \"\", \"orientation\": \"v\", \"showlegend\": false, \"textposition\": \"auto\", \"x\": [\"ginsburgs\", \"ginsburg\", \"trump\", \"bader\", \"court\", \"ruth\", \"supreme\", \"biden\", \"election\", \"new\", \"coronavirus\", \"pandemic\", \"covid\", \"emmys\", \"tiktok\", \"emmy\", \"vacancy\", \"2020\", \"dies\", \"trumps\"], \"xaxis\": \"x\", \"y\": [0.3022343046230119, 0.2956153715024332, 0.26004800115521426, 0.2372175050472312, 0.19755584583884492, 0.18101035318083405, 0.1641244904193526, 0.13103193856658082, 0.110784031033063, 0.10482555085326466, 0.10104511297808848, 0.09783873392733228, 0.0912091085659618, 0.08740833334324266, 0.0862072796969024, 0.08286659895357547, 0.07865041240929865, 0.0725715352061063, 0.06853978325021151, 0.06652390727226411], \"yaxis\": \"y\", \"type\": \"bar\"}], \"name\": \"2020-9-Q3\"}, {\"data\": [{\"alignmentgroup\": \"True\", \"hovertemplate\": \"time_period=2020-9-Q4<br>plot_term=%{x}<br>tfidf=%{y}<extra></extra>\", \"legendgroup\": \"\", \"marker\": {\"color\": \"#636efa\"}, \"name\": \"\", \"offsetgroup\": \"\", \"orientation\": \"v\", \"showlegend\": false, \"textposition\": \"auto\", \"x\": [\"trump\", \"barrett\", \"debate\", \"pandemic\", \"ginsburg\", \"biden\", \"coney\", \"new\", \"coronavirus\", \"court\", \"election\", \"2020\", \"ginsburgs\", \"breonna\", \"notable\", \"supreme\", \"trumps\", \"covid\", \"says\", \"presidential\"], \"xaxis\": \"x\", \"y\": [0.3343217927325366, 0.20871486773233794, 0.17026667710335444, 0.16645999969234834, 0.15830603516465327, 0.15365294514475167, 0.15318370681463375, 0.14014499392323504, 0.13058001565617064, 0.11988306709096007, 0.11684980808774288, 0.10806360977213304, 0.10496499959029702, 0.10447634008649362, 0.10435743386616897, 0.10138439231142396, 0.10130963416137473, 0.09903259937218836, 0.08273620123178936, 0.08255709921342261], \"yaxis\": \"y\", \"type\": \"bar\"}], \"name\": \"2020-9-Q4\"}]);\n",
       "                        }).then(function(){\n",
       "                            \n",
       "var gd = document.getElementById('9f46c146-566c-480f-be10-a4059467a182');\n",
       "var x = new MutationObserver(function (mutations, observer) {{\n",
       "        var display = window.getComputedStyle(gd).display;\n",
       "        if (!display || display === 'none') {{\n",
       "            console.log([gd, 'removed!']);\n",
       "            Plotly.purge(gd);\n",
       "            observer.disconnect();\n",
       "        }}\n",
       "}});\n",
       "\n",
       "// Listen for the removal of the full notebook cells\n",
       "var notebookContainer = gd.closest('#notebook-container');\n",
       "if (notebookContainer) {{\n",
       "    x.observe(notebookContainer, {childList: true});\n",
       "}}\n",
       "\n",
       "// Listen for the clearing of the current output cell\n",
       "var outputEl = gd.closest('.output');\n",
       "if (outputEl) {{\n",
       "    x.observe(outputEl, {childList: true});\n",
       "}}\n",
       "\n",
       "                        })\n",
       "                };\n",
       "                });\n",
       "            </script>\n",
       "        </div>"
      ]
     },
     "metadata": {},
     "output_type": "display_data"
    }
   ],
   "source": [
    "import plotly.express as px\n",
    "\n",
    "fig = px.bar(df, x='plot_term', y='tfidf', animation_frame='time_period')\n",
    "fig.update_yaxes(range=[0, 1], row=1, col=1)\n",
    "fig.show()\n",
    "fig.write_html('visuals/plot.html', include_plotlyjs='cdn', full_html=False)"
   ]
  },
  {
   "cell_type": "code",
   "execution_count": null,
   "metadata": {},
   "outputs": [],
   "source": []
  },
  {
   "cell_type": "code",
   "execution_count": null,
   "metadata": {},
   "outputs": [],
   "source": []
  }
 ],
 "metadata": {
  "kernelspec": {
   "display_name": "Python 3",
   "language": "python",
   "name": "python3"
  },
  "language_info": {
   "codemirror_mode": {
    "name": "ipython",
    "version": 3
   },
   "file_extension": ".py",
   "mimetype": "text/x-python",
   "name": "python",
   "nbconvert_exporter": "python",
   "pygments_lexer": "ipython3",
   "version": "3.6.4"
  }
 },
 "nbformat": 4,
 "nbformat_minor": 2
}
