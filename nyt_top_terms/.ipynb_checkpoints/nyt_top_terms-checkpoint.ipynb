{
 "cells": [
  {
   "cell_type": "code",
   "execution_count": 1,
   "metadata": {},
   "outputs": [],
   "source": [
    "import json\n",
    "import requests \n",
    "import numpy as np\n",
    "from time import sleep\n",
    "from sklearn.feature_extraction.text import TfidfVectorizer\n",
    "import matplotlib.pyplot as plt\n",
    "import pandas as pd\n",
    "import plotly.graph_objects as go"
   ]
  },
  {
   "cell_type": "code",
   "execution_count": 3,
   "metadata": {},
   "outputs": [],
   "source": [
    "api_key = 'VUJxGmvIj8BWhJ62OjYFxjzDay4ijc56'"
   ]
  },
  {
   "cell_type": "code",
   "execution_count": 4,
   "metadata": {},
   "outputs": [],
   "source": [
    "time_periods = [\n",
    "    (2019,8),\n",
    "    (2019,9),\n",
    "    (2019,10),\n",
    "    (2019,11),\n",
    "    (2019,12),\n",
    "    (2020,1),\n",
    "    (2020,2),\n",
    "    (2020,3),\n",
    "    (2020,4),\n",
    "    (2020,5),\n",
    "    (2020,6),\n",
    "    (2020,7)\n",
    "]\n",
    "monthly_segments = [0, 7, 15, 22, 31]\n",
    "monthly_segment_categories = ['Q1', 'Q2', 'Q3', 'Q4'] # Must be one less than number of monthly_segments\n",
    "\n",
    "def find_month_bucket(day):\n",
    "    for i in range(len(monthly_segment_categories)):\n",
    "        if day > monthly_segments[i] and day <= monthly_segments[i+1]:\n",
    "            return monthly_segment_categories[i]\n",
    "    return \"ERROR\""
   ]
  },
  {
   "cell_type": "code",
   "execution_count": 5,
   "metadata": {},
   "outputs": [],
   "source": [
    "# Collect raw data\n",
    "\n",
    "abstracts = {}\n",
    "headlines = {}\n",
    "for year, month in time_periods:\n",
    "    url = 'https://api.nytimes.com/svc/archive/v1/{}/{}.json?api-key={}'.format(year, month, api_key)\n",
    "    r = requests.get(url)\n",
    "    sleep(10) # NYT API only accepts 10 request/min\n",
    "    json_data = r.json()\n",
    "    \n",
    "    for article in json_data['response']['docs']:\n",
    "        cur_publish_day = int(article['pub_date'][8:10])\n",
    "        save_index = '{}-{}-{}'.format(year, month, find_month_bucket(cur_publish_day))\n",
    "        \n",
    "        # Abstracts\n",
    "        if save_index in abstracts:\n",
    "            abstracts[save_index].append(article['abstract'])\n",
    "        else:\n",
    "            abstracts[save_index] = [article['abstract']]\n",
    "\n",
    "        # Headlines\n",
    "        if save_index in headlines:\n",
    "            headlines[save_index].append(article['headline']['main'])\n",
    "        else:\n",
    "            headlines[save_index] = [article['headline']['main']]"
   ]
  },
  {
   "cell_type": "code",
   "execution_count": 6,
   "metadata": {},
   "outputs": [],
   "source": [
    "# TF-IDF\n",
    "tfidf = TfidfVectorizer(\n",
    "    strip_accents='ascii',\n",
    "    analyzer='word',\n",
    "    stop_words='english'\n",
    "    #     pre_processor=,\n",
    "    #     tokenizer=,\n",
    ")"
   ]
  },
  {
   "cell_type": "code",
   "execution_count": 7,
   "metadata": {},
   "outputs": [],
   "source": [
    "# Manually clean terms\n",
    "\n",
    "# convert city names to \"hong_kong\"\n",
    "word_mappings = {\n",
    "    'Hong Kong': 'hong_kong',\n",
    "    'New York City': 'new_york_city',\n",
    "    'New York': 'new_york',\n",
    "    'El Paso': 'el_paso',\n",
    "    'White House': 'white_house',\n",
    "    'Jeffrey Epstein': 'jefrey_epstein',\n",
    "}"
   ]
  },
  {
   "cell_type": "code",
   "execution_count": 8,
   "metadata": {},
   "outputs": [
    {
     "data": {
      "text/plain": [
       "<48x29618 sparse matrix of type '<class 'numpy.float64'>'\n",
       "\twith 153616 stored elements in Compressed Sparse Row format>"
      ]
     },
     "execution_count": 8,
     "metadata": {},
     "output_type": "execute_result"
    }
   ],
   "source": [
    "# prepare doument list\n",
    "documents = []\n",
    "target = headlines # or abstracts\n",
    "for k, v in target.items():\n",
    "    content = ' '.join(v)\n",
    "    for word, replacement in word_mappings.items():\n",
    "        content = content.replace(word, replacement)\n",
    "    documents.append(content)\n",
    "\n",
    "# Fit vocabulary to all documents\n",
    "tfidf.fit_transform(documents)"
   ]
  },
  {
   "cell_type": "code",
   "execution_count": 9,
   "metadata": {
    "scrolled": true
   },
   "outputs": [],
   "source": [
    "# 20 most important features per time period\n",
    "\n",
    "top_features_per_time_period = []\n",
    "for i, time_period in enumerate(list(target.keys())):\n",
    "    cur_doc_scores = tfidf.transform([documents[i]]).toarray().flatten()\n",
    "    top_features = cur_doc_scores.argsort()[-20:][::-1]\n",
    "    all_features = tfidf.get_feature_names()\n",
    "\n",
    "    for idx in top_features:\n",
    "        top_features_per_time_period.append([time_period, all_features[idx], cur_doc_scores[idx]])\n",
    "        \n",
    "df = pd.DataFrame(top_features_per_time_period, columns=['time_period', 'term', 'tfidf'])"
   ]
  },
  {
   "cell_type": "code",
   "execution_count": 4,
   "metadata": {},
   "outputs": [],
   "source": [
    "# Read dataframe from saved data\n",
    "df.to\n",
    "df = pd.read_csv('data/top_terms_per_period.csv')"
   ]
  },
  {
   "cell_type": "code",
   "execution_count": 5,
   "metadata": {},
   "outputs": [
    {
     "data": {
      "text/html": [
       "<div>\n",
       "<style scoped>\n",
       "    .dataframe tbody tr th:only-of-type {\n",
       "        vertical-align: middle;\n",
       "    }\n",
       "\n",
       "    .dataframe tbody tr th {\n",
       "        vertical-align: top;\n",
       "    }\n",
       "\n",
       "    .dataframe thead th {\n",
       "        text-align: right;\n",
       "    }\n",
       "</style>\n",
       "<table border=\"1\" class=\"dataframe\">\n",
       "  <thead>\n",
       "    <tr style=\"text-align: right;\">\n",
       "      <th></th>\n",
       "      <th>time_period</th>\n",
       "      <th>term</th>\n",
       "      <th>tfidf</th>\n",
       "    </tr>\n",
       "  </thead>\n",
       "  <tbody>\n",
       "    <tr>\n",
       "      <th>0</th>\n",
       "      <td>2019-8-Q1</td>\n",
       "      <td>shootings</td>\n",
       "      <td>0.229416</td>\n",
       "    </tr>\n",
       "    <tr>\n",
       "      <th>1</th>\n",
       "      <td>2019-8-Q1</td>\n",
       "      <td>el_paso</td>\n",
       "      <td>0.225219</td>\n",
       "    </tr>\n",
       "    <tr>\n",
       "      <th>2</th>\n",
       "      <td>2019-8-Q1</td>\n",
       "      <td>toni</td>\n",
       "      <td>0.211570</td>\n",
       "    </tr>\n",
       "    <tr>\n",
       "      <th>3</th>\n",
       "      <td>2019-8-Q1</td>\n",
       "      <td>trump</td>\n",
       "      <td>0.179828</td>\n",
       "    </tr>\n",
       "    <tr>\n",
       "      <th>4</th>\n",
       "      <td>2019-8-Q1</td>\n",
       "      <td>dayton</td>\n",
       "      <td>0.150939</td>\n",
       "    </tr>\n",
       "  </tbody>\n",
       "</table>\n",
       "</div>"
      ],
      "text/plain": [
       "  time_period       term     tfidf\n",
       "0   2019-8-Q1  shootings  0.229416\n",
       "1   2019-8-Q1    el_paso  0.225219\n",
       "2   2019-8-Q1       toni  0.211570\n",
       "3   2019-8-Q1      trump  0.179828\n",
       "4   2019-8-Q1     dayton  0.150939"
      ]
     },
     "execution_count": 5,
     "metadata": {},
     "output_type": "execute_result"
    }
   ],
   "source": [
    "df.head()"
   ]
  },
  {
   "cell_type": "code",
   "execution_count": 12,
   "metadata": {},
   "outputs": [],
   "source": [
    "all_terms = list(df.groupby('time_period')['term'].apply(lambda x: set(x)))\n",
    "all_term_set = set()\n",
    "for t in all_terms:\n",
    "    all_terms"
   ]
  },
  {
   "cell_type": "code",
   "execution_count": 14,
   "metadata": {
    "scrolled": true
   },
   "outputs": [
    {
     "data": {
      "application/vnd.plotly.v1+json": {
       "config": {
        "plotlyServerURL": "https://plot.ly"
       },
       "data": [
        {
         "alignmentgroup": "True",
         "hovertemplate": "time_period=2019-8-Q1<br>term=%{x}<br>tfidf=%{y}<extra></extra>",
         "legendgroup": "",
         "marker": {
          "color": "#636efa"
         },
         "name": "",
         "offsetgroup": "",
         "orientation": "v",
         "showlegend": false,
         "textposition": "auto",
         "type": "bar",
         "x": [
          "shootings",
          "el_paso",
          "toni",
          "trump",
          "dayton",
          "morrison",
          "new",
          "woodstock",
          "trade",
          "gun",
          "hong_kong",
          "debates",
          "briefing",
          "china",
          "says",
          "war",
          "review",
          "white",
          "terrorism",
          "kashmir"
         ],
         "xaxis": "x",
         "y": [
          0.2294162654764872,
          0.22521932344035325,
          0.21156966747427125,
          0.1798276391000323,
          0.15093855918169768,
          0.1402124052760081,
          0.13170474976340393,
          0.12430234285551575,
          0.10099399808611964,
          0.09408320992936137,
          0.09163572197088836,
          0.09124625047613394,
          0.09118021137466427,
          0.08864742772536803,
          0.07851629312818313,
          0.07851629312818313,
          0.0759835094788869,
          0.07539845987250472,
          0.07379019470044502,
          0.07190322354182446
         ],
         "yaxis": "y"
        }
       ],
       "frames": [
        {
         "data": [
          {
           "alignmentgroup": "True",
           "hovertemplate": "time_period=2019-8-Q1<br>term=%{x}<br>tfidf=%{y}<extra></extra>",
           "legendgroup": "",
           "marker": {
            "color": "#636efa"
           },
           "name": "",
           "offsetgroup": "",
           "orientation": "v",
           "showlegend": false,
           "textposition": "auto",
           "type": "bar",
           "x": [
            "shootings",
            "el_paso",
            "toni",
            "trump",
            "dayton",
            "morrison",
            "new",
            "woodstock",
            "trade",
            "gun",
            "hong_kong",
            "debates",
            "briefing",
            "china",
            "says",
            "war",
            "review",
            "white",
            "terrorism",
            "kashmir"
           ],
           "xaxis": "x",
           "y": [
            0.2294162654764872,
            0.22521932344035325,
            0.21156966747427125,
            0.1798276391000323,
            0.15093855918169768,
            0.1402124052760081,
            0.13170474976340393,
            0.12430234285551575,
            0.10099399808611964,
            0.09408320992936137,
            0.09163572197088836,
            0.09124625047613394,
            0.09118021137466427,
            0.08864742772536803,
            0.07851629312818313,
            0.07851629312818313,
            0.0759835094788869,
            0.07539845987250472,
            0.07379019470044502,
            0.07190322354182446
           ],
           "yaxis": "y"
          }
         ],
         "name": "2019-8-Q1"
        },
        {
         "data": [
          {
           "alignmentgroup": "True",
           "hovertemplate": "time_period=2019-8-Q2<br>term=%{x}<br>tfidf=%{y}<extra></extra>",
           "legendgroup": "",
           "marker": {
            "color": "#636efa"
           },
           "name": "",
           "offsetgroup": "",
           "orientation": "v",
           "showlegend": false,
           "textposition": "auto",
           "type": "bar",
           "x": [
            "trump",
            "new",
            "jefrey_epstein",
            "el_paso",
            "review",
            "briefing",
            "woodstock",
            "hong_kong",
            "war",
            "summer",
            "kashmir",
            "august",
            "weekend",
            "epstein",
            "airport",
            "dies",
            "says",
            "police",
            "american",
            "2019"
           ],
           "xaxis": "x",
           "y": [
            0.2247415334400264,
            0.1698047141546866,
            0.15993195165479127,
            0.15476126898465326,
            0.13734204821334944,
            0.11736502301868044,
            0.11379871744122315,
            0.10446222889757972,
            0.09239374152534416,
            0.09206265700374516,
            0.08725046049460385,
            0.08522594603522574,
            0.08240522892800968,
            0.08224968597413157,
            0.08049117125549096,
            0.07491384448000879,
            0.06742246003200791,
            0.06492533188267427,
            0.06492533188267427,
            0.06340950641452434
           ],
           "yaxis": "y"
          }
         ],
         "name": "2019-8-Q2"
        },
        {
         "data": [
          {
           "alignmentgroup": "True",
           "hovertemplate": "time_period=2019-8-Q3<br>term=%{x}<br>tfidf=%{y}<extra></extra>",
           "legendgroup": "",
           "marker": {
            "color": "#636efa"
           },
           "name": "",
           "offsetgroup": "",
           "orientation": "v",
           "showlegend": false,
           "textposition": "auto",
           "type": "bar",
           "x": [
            "trump",
            "greenland",
            "hong_kong",
            "garner",
            "annual",
            "briefing",
            "new",
            "trumps",
            "contest",
            "dies",
            "summer",
            "american",
            "eric",
            "review",
            "man",
            "pantaleo",
            "recession",
            "august",
            "says",
            "china"
           ],
           "xaxis": "x",
           "y": [
            0.2316368695879208,
            0.1589107381540518,
            0.15067834834817168,
            0.14443509517859054,
            0.12219834364183993,
            0.11423188089267325,
            0.10788566528752473,
            0.08884701847207918,
            0.08812768737662689,
            0.08250080286693066,
            0.08232227016615473,
            0.07932769506435641,
            0.07838618146012409,
            0.07615458726178216,
            0.0729814794592079,
            0.07221754758929529,
            0.07089918473674027,
            0.06618140875597095,
            0.06346215605148513,
            0.060289048248910876
           ],
           "yaxis": "y"
          }
         ],
         "name": "2019-8-Q3"
        },
        {
         "data": [
          {
           "alignmentgroup": "True",
           "hovertemplate": "time_period=2019-8-Q4<br>term=%{x}<br>tfidf=%{y}<extra></extra>",
           "legendgroup": "",
           "marker": {
            "color": "#636efa"
           },
           "name": "",
           "offsetgroup": "",
           "orientation": "v",
           "showlegend": false,
           "textposition": "auto",
           "type": "bar",
           "x": [
            "trump",
            "g7",
            "dorian",
            "hurricane",
            "new",
            "war",
            "summer",
            "briefing",
            "amazon",
            "open",
            "hong_kong",
            "koch",
            "dies",
            "china",
            "2019",
            "trade",
            "day",
            "greenland",
            "coco",
            "johnson"
           ],
           "xaxis": "x",
           "y": [
            0.2404558636453532,
            0.18337679468317447,
            0.16503911521485706,
            0.15161625139245802,
            0.12249638336650068,
            0.1020803194720839,
            0.09911933859882263,
            0.09754341638443573,
            0.09647079282978242,
            0.09300651329678757,
            0.09233125553817577,
            0.09142039105195422,
            0.08846961020913939,
            0.0862011586653153,
            0.08185650772791836,
            0.08040340768557025,
            0.07485890094619486,
            0.07350919868150728,
            0.07335071787326979,
            0.06994132480159225
           ],
           "yaxis": "y"
          }
         ],
         "name": "2019-8-Q4"
        },
        {
         "data": [
          {
           "alignmentgroup": "True",
           "hovertemplate": "time_period=2019-9-Q1<br>term=%{x}<br>tfidf=%{y}<extra></extra>",
           "legendgroup": "",
           "marker": {
            "color": "#636efa"
           },
           "name": "",
           "offsetgroup": "",
           "orientation": "v",
           "showlegend": false,
           "textposition": "auto",
           "type": "bar",
           "x": [
            "dorian",
            "bahamas",
            "hurricane",
            "trump",
            "new",
            "brexit",
            "dorians",
            "review",
            "hong_kong",
            "open",
            "dies",
            "briefing",
            "serena",
            "september",
            "2019",
            "life",
            "bianca",
            "day",
            "new_york",
            "summer"
           ],
           "xaxis": "x",
           "y": [
            0.3485210189412373,
            0.22146055943497772,
            0.20493078834899486,
            0.1464234853016158,
            0.12934074534976062,
            0.11384586803022913,
            0.0941034096767226,
            0.09273487402435668,
            0.09105214121402036,
            0.09029448260266308,
            0.09029448260266308,
            0.08541369975927589,
            0.08214371598307635,
            0.0786623481483675,
            0.07501485377638745,
            0.0732117426508079,
            0.06843884340125281,
            0.06345017696403353,
            0.06100978554233993,
            0.05998061372226434
           ],
           "yaxis": "y"
          }
         ],
         "name": "2019-9-Q1"
        },
        {
         "data": [
          {
           "alignmentgroup": "True",
           "hovertemplate": "time_period=2019-9-Q2<br>term=%{x}<br>tfidf=%{y}<extra></extra>",
           "legendgroup": "",
           "marker": {
            "color": "#636efa"
           },
           "name": "",
           "offsetgroup": "",
           "orientation": "v",
           "showlegend": false,
           "textposition": "auto",
           "type": "bar",
           "x": [
            "trump",
            "new",
            "debate",
            "spring",
            "fpo",
            "briefing",
            "executive",
            "democratic",
            "11",
            "says",
            "2020",
            "dorian",
            "power",
            "bolton",
            "dies",
            "brexit",
            "day",
            "bahamas",
            "review",
            "cigarettes"
           ],
           "xaxis": "x",
           "y": [
            0.25238954885029746,
            0.18814493641567628,
            0.14939044891548414,
            0.11845460934497755,
            0.10597012139084884,
            0.1055447204283062,
            0.09906047697703024,
            0.09799272161511548,
            0.09636691865193177,
            0.09407246820783814,
            0.09177801776374453,
            0.08655662887457022,
            0.08430337356382164,
            0.08266202111669915,
            0.08030576554327645,
            0.08027821893800037,
            0.07571686465508923,
            0.07474446088369158,
            0.07342241421099563,
            0.062026235922022124
           ],
           "yaxis": "y"
          }
         ],
         "name": "2019-9-Q2"
        },
        {
         "data": [
          {
           "alignmentgroup": "True",
           "hovertemplate": "time_period=2019-9-Q3<br>term=%{x}<br>tfidf=%{y}<extra></extra>",
           "legendgroup": "",
           "marker": {
            "color": "#636efa"
           },
           "name": "",
           "offsetgroup": "",
           "orientation": "v",
           "showlegend": false,
           "textposition": "auto",
           "type": "bar",
           "x": [
            "trump",
            "new",
            "says",
            "trudeau",
            "spring",
            "iran",
            "review",
            "briefing",
            "2020",
            "climate",
            "whistle",
            "saudis",
            "blower",
            "strike",
            "saudi",
            "rugby",
            "kavanaugh",
            "2019",
            "dies",
            "cokie"
           ],
           "xaxis": "x",
           "y": [
            0.2614553831077567,
            0.1547389002066315,
            0.11472021911870955,
            0.10117192262581322,
            0.10050943576621987,
            0.10047208151063952,
            0.0987127466835408,
            0.09604483461101268,
            0.09604483461101268,
            0.09530228812241312,
            0.09128202208716164,
            0.08990007571849723,
            0.08599613423194122,
            0.08556615122471789,
            0.08201603850998146,
            0.07984287219612707,
            0.07443620739852637,
            0.0713118082936081,
            0.06936571388573137,
            0.06721014419347669
           ],
           "yaxis": "y"
          }
         ],
         "name": "2019-9-Q3"
        },
        {
         "data": [
          {
           "alignmentgroup": "True",
           "hovertemplate": "time_period=2019-9-Q4<br>term=%{x}<br>tfidf=%{y}<extra></extra>",
           "legendgroup": "",
           "marker": {
            "color": "#636efa"
           },
           "name": "",
           "offsetgroup": "",
           "orientation": "v",
           "showlegend": false,
           "textposition": "auto",
           "type": "bar",
           "x": [
            "impeachment",
            "trump",
            "ukraine",
            "spring",
            "new",
            "2020",
            "emmy",
            "whistle",
            "emmys",
            "inquiry",
            "review",
            "says",
            "briefing",
            "trumps",
            "2019",
            "dies",
            "blower",
            "september",
            "complaint",
            "climate"
           ],
           "xaxis": "x",
           "y": [
            0.35708958194627666,
            0.28841870370419065,
            0.16015740712220355,
            0.14170221505804628,
            0.1360848813252167,
            0.1320226460617774,
            0.11995771366446775,
            0.11338534056988253,
            0.11333858776104296,
            0.11248640857372316,
            0.10358699921770227,
            0.09749364632254333,
            0.09140029342738436,
            0.09140029342738436,
            0.08143596972315435,
            0.07921358763706644,
            0.07702355635938937,
            0.07702355635938937,
            0.07321002536633674,
            0.07048192620336108
           ],
           "yaxis": "y"
          }
         ],
         "name": "2019-9-Q4"
        },
        {
         "data": [
          {
           "alignmentgroup": "True",
           "hovertemplate": "time_period=2019-10-Q1<br>term=%{x}<br>tfidf=%{y}<extra></extra>",
           "legendgroup": "",
           "marker": {
            "color": "#636efa"
           },
           "name": "",
           "offsetgroup": "",
           "orientation": "v",
           "showlegend": false,
           "textposition": "auto",
           "type": "bar",
           "x": [
            "trump",
            "impeachment",
            "new",
            "review",
            "ukraine",
            "says",
            "trumps",
            "joker",
            "briefing",
            "police",
            "hong_kong",
            "october",
            "world",
            "new_york",
            "whistle",
            "day",
            "china",
            "dies",
            "million",
            "salazar"
           ],
           "xaxis": "x",
           "y": [
            0.3187369977794108,
            0.20152181229060212,
            0.17928956125091858,
            0.11952637416727906,
            0.10316779373282478,
            0.10209544460121753,
            0.09960531180606587,
            0.0993632719068712,
            0.09462504621576258,
            0.08964478062545929,
            0.08727722624800915,
            0.08111904695153924,
            0.0796842494448527,
            0.0796842494448527,
            0.07623099145600391,
            0.0747039838545494,
            0.06972371826424613,
            0.06972371826424613,
            0.06972371826424613,
            0.06947606823268941
           ],
           "yaxis": "y"
          }
         ],
         "name": "2019-10-Q1"
        },
        {
         "data": [
          {
           "alignmentgroup": "True",
           "hovertemplate": "time_period=2019-10-Q2<br>term=%{x}<br>tfidf=%{y}<extra></extra>",
           "legendgroup": "",
           "marker": {
            "color": "#636efa"
           },
           "name": "",
           "offsetgroup": "",
           "orientation": "v",
           "showlegend": false,
           "textposition": "auto",
           "type": "bar",
           "x": [
            "trump",
            "impeachment",
            "syria",
            "new",
            "kurds",
            "typhoon",
            "debate",
            "review",
            "lang",
            "october",
            "kurdish",
            "briefing",
            "hagibis",
            "nobel",
            "china",
            "turkey",
            "says",
            "ukraine",
            "california",
            "man"
           ],
           "xaxis": "x",
           "y": [
            0.28980972428774865,
            0.16474545164897278,
            0.16273850933259346,
            0.1459782314930882,
            0.1207488462213228,
            0.10750968842415863,
            0.10482976174793396,
            0.10304345752453284,
            0.09013454063494407,
            0.08491812620715318,
            0.08277993006008301,
            0.08157607054025517,
            0.08143026425056411,
            0.07969572418719457,
            0.0794293318418274,
            0.0753755067065474,
            0.0729891157465441,
            0.07172641674322675,
            0.06654889965126079,
            0.06440216095283302
           ],
           "yaxis": "y"
          }
         ],
         "name": "2019-10-Q2"
        },
        {
         "data": [
          {
           "alignmentgroup": "True",
           "hovertemplate": "time_period=2019-10-Q3<br>term=%{x}<br>tfidf=%{y}<extra></extra>",
           "legendgroup": "",
           "marker": {
            "color": "#636efa"
           },
           "name": "",
           "offsetgroup": "",
           "orientation": "v",
           "showlegend": false,
           "textposition": "auto",
           "type": "bar",
           "x": [
            "trump",
            "playoffs",
            "brexit",
            "review",
            "syria",
            "new",
            "impeachment",
            "week",
            "17",
            "moma",
            "debate",
            "cummings",
            "dies",
            "make",
            "elijah",
            "briefing",
            "mulvaney",
            "says",
            "deal",
            "astros"
           ],
           "xaxis": "x",
           "y": [
            0.2316210555487508,
            0.1928344505062736,
            0.18718376997751265,
            0.1535748303094978,
            0.15048106998192193,
            0.12336338828139988,
            0.11943749458687535,
            0.11832814794338355,
            0.10540178848662432,
            0.1042993723953198,
            0.09835254665403297,
            0.09204651924104323,
            0.0906343260842938,
            0.08811670591528563,
            0.0753450713246439,
            0.07301098490123667,
            0.07170581852178236,
            0.0704933647322285,
            0.06937735596318917,
            0.06737627503864194
           ],
           "yaxis": "y"
          }
         ],
         "name": "2019-10-Q3"
        },
        {
         "data": [
          {
           "alignmentgroup": "True",
           "hovertemplate": "time_period=2019-10-Q4<br>term=%{x}<br>tfidf=%{y}<extra></extra>",
           "legendgroup": "",
           "marker": {
            "color": "#636efa"
           },
           "name": "",
           "offsetgroup": "",
           "orientation": "v",
           "showlegend": false,
           "textposition": "auto",
           "type": "bar",
           "x": [
            "trump",
            "impeachment",
            "new",
            "baghdadi",
            "review",
            "california",
            "world",
            "halloween",
            "al",
            "nationals",
            "isis",
            "says",
            "dies",
            "series",
            "briefing",
            "trumps",
            "brexit",
            "inquiry",
            "raid",
            "zuckerberg"
           ],
           "xaxis": "x",
           "y": [
            0.2344726563091291,
            0.1887477021593731,
            0.17495267432296555,
            0.16576622827517232,
            0.15691631614534027,
            0.12625450724337722,
            0.12264723560785215,
            0.1217401693971125,
            0.11661484054746572,
            0.11208089655743957,
            0.10216455354959612,
            0.09559269834141418,
            0.09559269834141418,
            0.08895635490815876,
            0.08296724761707645,
            0.08116361179931393,
            0.07888199951947422,
            0.07591496887399922,
            0.07580756976532606,
            0.07554289989357886
           ],
           "yaxis": "y"
          }
         ],
         "name": "2019-10-Q4"
        },
        {
         "data": [
          {
           "alignmentgroup": "True",
           "hovertemplate": "time_period=2019-11-Q1<br>term=%{x}<br>tfidf=%{y}<extra></extra>",
           "legendgroup": "",
           "marker": {
            "color": "#636efa"
           },
           "name": "",
           "offsetgroup": "",
           "orientation": "v",
           "showlegend": false,
           "textposition": "auto",
           "type": "bar",
           "x": [
            "trump",
            "new",
            "2019",
            "impeachment",
            "election",
            "review",
            "kentucky",
            "day",
            "briefing",
            "warren",
            "general",
            "dies",
            "mormon",
            "new_york",
            "elizabeth",
            "testimony",
            "popeyes",
            "results",
            "november",
            "mexico"
           ],
           "xaxis": "x",
           "y": [
            0.2932307593159235,
            0.17694959613891936,
            0.17229856212244424,
            0.14108572870666974,
            0.11867879787681895,
            0.10869760905676476,
            0.09323435727907883,
            0.08594694669604654,
            0.0834190953226334,
            0.08339621947949764,
            0.0826797847210235,
            0.08089124394922027,
            0.07836493023955066,
            0.07330768982898088,
            0.07123447879480688,
            0.07004541650224404,
            0.06637899857359589,
            0.0641854703847948,
            0.06343432476494666,
            0.06341034978592483
           ],
           "yaxis": "y"
          }
         ],
         "name": "2019-11-Q1"
        },
        {
         "data": [
          {
           "alignmentgroup": "True",
           "hovertemplate": "time_period=2019-11-Q2<br>term=%{x}<br>tfidf=%{y}<extra></extra>",
           "legendgroup": "",
           "marker": {
            "color": "#636efa"
           },
           "name": "",
           "offsetgroup": "",
           "orientation": "v",
           "showlegend": false,
           "textposition": "auto",
           "type": "bar",
           "x": [
            "impeachment",
            "trump",
            "new",
            "hearings",
            "day",
            "review",
            "hearing",
            "briefing",
            "bloomberg",
            "says",
            "deval",
            "veterans",
            "dies",
            "ukraine",
            "court",
            "bolivia",
            "yovanovitch",
            "evo",
            "hong_kong",
            "morales"
           ],
           "xaxis": "x",
           "y": [
            0.3452845994669973,
            0.23226543055448776,
            0.14109582229945514,
            0.14051164245870096,
            0.10636454296420468,
            0.10419383800575152,
            0.1039322744904668,
            0.08682819833812626,
            0.08643280120794353,
            0.08248678842121994,
            0.08075180895314159,
            0.07626084612896689,
            0.07597467354586047,
            0.07542825968258482,
            0.07163326362895417,
            0.07019006750533996,
            0.06729317412761801,
            0.06729317412761801,
            0.06626455657469821,
            0.061048445116326386
           ],
           "yaxis": "y"
          }
         ],
         "name": "2019-11-Q2"
        },
        {
         "data": [
          {
           "alignmentgroup": "True",
           "hovertemplate": "time_period=2019-11-Q3<br>term=%{x}<br>tfidf=%{y}<extra></extra>",
           "legendgroup": "",
           "marker": {
            "color": "#636efa"
           },
           "name": "",
           "offsetgroup": "",
           "orientation": "v",
           "showlegend": false,
           "textposition": "auto",
           "type": "bar",
           "x": [
            "impeachment",
            "trump",
            "hearings",
            "sondland",
            "new",
            "curio",
            "debate",
            "nov",
            "hilton",
            "review",
            "briefing",
            "gordon",
            "statement",
            "hong_kong",
            "democratic",
            "day",
            "sondlands",
            "hearing",
            "trumps",
            "dies"
           ],
           "xaxis": "x",
           "y": [
            0.31767194267414545,
            0.2494690489803745,
            0.1818649250679729,
            0.13623329198823253,
            0.12352350968931165,
            0.1220317269454174,
            0.12090107938109765,
            0.10511814732696166,
            0.10188585106917844,
            0.10172524327355076,
            0.09203712486654593,
            0.08462649309397588,
            0.08453625446560163,
            0.08215186650454442,
            0.08073478739258161,
            0.07750494725603868,
            0.07349809667575644,
            0.07344486321285291,
            0.07023885845078505,
            0.07023885845078505
           ],
           "yaxis": "y"
          }
         ],
         "name": "2019-11-Q3"
        },
        {
         "data": [
          {
           "alignmentgroup": "True",
           "hovertemplate": "time_period=2019-11-Q4<br>term=%{x}<br>tfidf=%{y}<extra></extra>",
           "legendgroup": "",
           "marker": {
            "color": "#636efa"
           },
           "name": "",
           "offsetgroup": "",
           "orientation": "v",
           "showlegend": false,
           "textposition": "auto",
           "type": "bar",
           "x": [
            "thanksgiving",
            "trump",
            "holiday",
            "new",
            "impeachment",
            "nov",
            "black",
            "day",
            "ski",
            "review",
            "2019",
            "turkey",
            "tiffany",
            "hong_kong",
            "dies",
            "books",
            "briefing",
            "best",
            "albania",
            "gallagher"
           ],
           "xaxis": "x",
           "y": [
            0.4373663573930308,
            0.17884195357822635,
            0.1274628123828461,
            0.11404414431075305,
            0.1121123786361541,
            0.104456118159899,
            0.10052351873843847,
            0.08034928349166691,
            0.07840359248914709,
            0.07775737112096798,
            0.07620841631027225,
            0.07445968561992335,
            0.07289439289883846,
            0.07033124249684815,
            0.06998163400887117,
            0.06479780926747332,
            0.06479780926747332,
            0.06479780926747332,
            0.06360211229324579,
            0.06360211229324579
           ],
           "yaxis": "y"
          }
         ],
         "name": "2019-11-Q4"
        },
        {
         "data": [
          {
           "alignmentgroup": "True",
           "hovertemplate": "time_period=2019-12-Q1<br>term=%{x}<br>tfidf=%{y}<extra></extra>",
           "legendgroup": "",
           "marker": {
            "color": "#636efa"
           },
           "name": "",
           "offsetgroup": "",
           "orientation": "v",
           "showlegend": false,
           "textposition": "auto",
           "type": "bar",
           "x": [
            "trump",
            "impeachment",
            "nato",
            "2019",
            "new",
            "review",
            "beauty",
            "best",
            "dec",
            "important",
            "world",
            "says",
            "briefing",
            "kamala",
            "day",
            "dies",
            "weekend",
            "harris",
            "christmas",
            "trumps"
           ],
           "xaxis": "x",
           "y": [
            0.2437430728864021,
            0.21161641764180045,
            0.1897390563374521,
            0.18821449098481874,
            0.15437061282805464,
            0.11103851098158317,
            0.1020293442201538,
            0.10020548551996528,
            0.0957393589570641,
            0.09509131035980288,
            0.09478897278915636,
            0.09208071642375187,
            0.08937246005834742,
            0.08672697198504473,
            0.07041466550051614,
            0.07041466550051614,
            0.06499815276970722,
            0.06343067526077832,
            0.06313364645630193,
            0.06228989640430275
           ],
           "yaxis": "y"
          }
         ],
         "name": "2019-12-Q1"
        },
        {
         "data": [
          {
           "alignmentgroup": "True",
           "hovertemplate": "time_period=2019-12-Q2<br>term=%{x}<br>tfidf=%{y}<extra></extra>",
           "legendgroup": "",
           "marker": {
            "color": "#636efa"
           },
           "name": "",
           "offsetgroup": "",
           "orientation": "v",
           "showlegend": false,
           "textposition": "auto",
           "type": "bar",
           "x": [
            "impeachment",
            "trump",
            "new",
            "2019",
            "articles",
            "review",
            "briefing",
            "dies",
            "zealand",
            "dec",
            "volcano",
            "democrats",
            "million",
            "pensacola",
            "russia",
            "big",
            "christmas",
            "day",
            "election",
            "semitism"
           ],
           "xaxis": "x",
           "y": [
            0.3055762123700755,
            0.24865846584065304,
            0.1961892482779464,
            0.14024730509959102,
            0.11947566041312754,
            0.11178224611185318,
            0.0980946241389732,
            0.08896954282371987,
            0.08814640073803445,
            0.08736542638706925,
            0.08340535073559642,
            0.07756319117965323,
            0.07756319117965323,
            0.07488001544263373,
            0.07129011043900776,
            0.07071938019321324,
            0.06768356159485865,
            0.06615683953558657,
            0.06519263791348591,
            0.06166993581453506
           ],
           "yaxis": "y"
          }
         ],
         "name": "2019-12-Q2"
        },
        {
         "data": [
          {
           "alignmentgroup": "True",
           "hovertemplate": "time_period=2019-12-Q3<br>term=%{x}<br>tfidf=%{y}<extra></extra>",
           "legendgroup": "",
           "marker": {
            "color": "#636efa"
           },
           "name": "",
           "offsetgroup": "",
           "orientation": "v",
           "showlegend": false,
           "textposition": "auto",
           "type": "bar",
           "x": [
            "impeachment",
            "trump",
            "impeached",
            "2019",
            "debate",
            "new",
            "christmas",
            "briefing",
            "democrats",
            "dec",
            "holiday",
            "review",
            "brees",
            "day",
            "dies",
            "wars",
            "star",
            "pelosi",
            "democratic",
            "india"
           ],
           "xaxis": "x",
           "y": [
            0.3552670160306672,
            0.2933603179311673,
            0.1715914774277263,
            0.12945638875894533,
            0.10511300366138718,
            0.0996318060898304,
            0.08797619559442074,
            0.08579405524402063,
            0.08302650507485868,
            0.08152954131353955,
            0.07777152873351842,
            0.07749140473653476,
            0.07267326341386636,
            0.07195630439821085,
            0.07195630439821085,
            0.06858864582284263,
            0.06642120405988694,
            0.06640108548864973,
            0.06630627328409999,
            0.06437389207314556
           ],
           "yaxis": "y"
          }
         ],
         "name": "2019-12-Q3"
        },
        {
         "data": [
          {
           "alignmentgroup": "True",
           "hovertemplate": "time_period=2019-12-Q4<br>term=%{x}<br>tfidf=%{y}<extra></extra>",
           "legendgroup": "",
           "marker": {
            "color": "#636efa"
           },
           "name": "",
           "offsetgroup": "",
           "orientation": "v",
           "showlegend": false,
           "textposition": "auto",
           "type": "bar",
           "x": [
            "christmas",
            "new",
            "2019",
            "decade",
            "year",
            "dies",
            "dec",
            "eve",
            "trump",
            "briefing",
            "years",
            "2020",
            "khashoggi",
            "best",
            "tv",
            "herman",
            "day",
            "women",
            "seals",
            "jerry"
           ],
           "xaxis": "x",
           "y": [
            0.33573981237489464,
            0.22467582258167929,
            0.21558061475314194,
            0.15838652514783932,
            0.12097928908244268,
            0.11521837055470732,
            0.11031246433178664,
            0.107754741638282,
            0.10369653349923658,
            0.08353331865216279,
            0.07489194086055975,
            0.07489194086055975,
            0.07290848198219169,
            0.07201148159669206,
            0.06913102233282438,
            0.06480753953972596,
            0.06337010380508902,
            0.06337010380508902,
            0.05966549226328316,
            0.055464133725123765
           ],
           "yaxis": "y"
          }
         ],
         "name": "2019-12-Q4"
        },
        {
         "data": [
          {
           "alignmentgroup": "True",
           "hovertemplate": "time_period=2020-1-Q1<br>term=%{x}<br>tfidf=%{y}<extra></extra>",
           "legendgroup": "",
           "marker": {
            "color": "#636efa"
           },
           "name": "",
           "offsetgroup": "",
           "orientation": "v",
           "showlegend": false,
           "textposition": "auto",
           "type": "bar",
           "x": [
            "suleimani",
            "iran",
            "globes",
            "new",
            "suleimanis",
            "australia",
            "trump",
            "golden",
            "carlos",
            "qassim",
            "2020",
            "briefing",
            "ghosn",
            "commander",
            "iraq",
            "strike",
            "iranian",
            "fires",
            "impeachment",
            "killing"
           ],
           "xaxis": "x",
           "y": [
            0.2908890462540739,
            0.2297459223564991,
            0.19137437253557493,
            0.16050438880318585,
            0.15551664519619365,
            0.12968013283582974,
            0.12840351104254868,
            0.11699038729237188,
            0.1140382361611081,
            0.11347253693598393,
            0.10864912472831044,
            0.0963026332819115,
            0.09419426828794036,
            0.09193181492991416,
            0.09155712170045477,
            0.08639579433947643,
            0.08580386379652583,
            0.08052403351898119,
            0.07924519713293067,
            0.0730861903369743
           ],
           "yaxis": "y"
          }
         ],
         "name": "2020-1-Q1"
        },
        {
         "data": [
          {
           "alignmentgroup": "True",
           "hovertemplate": "time_period=2020-1-Q2<br>term=%{x}<br>tfidf=%{y}<extra></extra>",
           "legendgroup": "",
           "marker": {
            "color": "#636efa"
           },
           "name": "",
           "offsetgroup": "",
           "orientation": "v",
           "showlegend": false,
           "textposition": "auto",
           "type": "bar",
           "x": [
            "iran",
            "trump",
            "impeachment",
            "new",
            "2020",
            "meghan",
            "briefing",
            "harry",
            "jan",
            "review",
            "articles",
            "ukrainian",
            "trumps",
            "trial",
            "says",
            "airliner",
            "carlos",
            "debate",
            "warren",
            "textbooks"
           ],
           "xaxis": "x",
           "y": [
            0.2486125333715967,
            0.21253643068331907,
            0.20232242595824693,
            0.1708236732594901,
            0.168837351477403,
            0.10410408265819834,
            0.08739815841183214,
            0.08687176885547115,
            0.08228886858991696,
            0.07945287128348377,
            0.07925980161071748,
            0.07807806199364875,
            0.07746654950139667,
            0.07700388201775119,
            0.07548022771930958,
            0.07534531693142899,
            0.07338655956179972,
            0.07328606811808028,
            0.07255178392918694,
            0.07171854392789115
           ],
           "yaxis": "y"
          }
         ],
         "name": "2020-1-Q2"
        },
        {
         "data": [
          {
           "alignmentgroup": "True",
           "hovertemplate": "time_period=2020-1-Q3<br>term=%{x}<br>tfidf=%{y}<extra></extra>",
           "legendgroup": "",
           "marker": {
            "color": "#636efa"
           },
           "name": "",
           "offsetgroup": "",
           "orientation": "v",
           "showlegend": false,
           "textposition": "auto",
           "type": "bar",
           "x": [
            "impeachment",
            "davos",
            "trump",
            "trial",
            "quit",
            "touchdown",
            "new",
            "senate",
            "49ers",
            "2020",
            "says",
            "senators",
            "trumps",
            "democrats",
            "jan",
            "coronavirus",
            "mcconnell",
            "managers",
            "briefing",
            "sanders"
           ],
           "xaxis": "x",
           "y": [
            0.26467863271625125,
            0.2452971856108379,
            0.23280291141449955,
            0.2029450897097822,
            0.1552690092848391,
            0.12090320654377555,
            0.11209029068105536,
            0.10104351519293514,
            0.08601377877661819,
            0.0840677180107915,
            0.08191213549769429,
            0.08151622987454052,
            0.07544538795840264,
            0.07328980544530543,
            0.07255703169578487,
            0.07229724225409974,
            0.07059949091210266,
            0.06988619525600227,
            0.06682305790601377,
            0.06603509337638681
           ],
           "yaxis": "y"
          }
         ],
         "name": "2020-1-Q3"
        },
        {
         "data": [
          {
           "alignmentgroup": "True",
           "hovertemplate": "time_period=2020-1-Q4<br>term=%{x}<br>tfidf=%{y}<extra></extra>",
           "legendgroup": "",
           "marker": {
            "color": "#636efa"
           },
           "name": "",
           "offsetgroup": "",
           "orientation": "v",
           "showlegend": false,
           "textposition": "auto",
           "type": "bar",
           "x": [
            "trump",
            "witnesses",
            "coronavirus",
            "impeachment",
            "kobe",
            "bolton",
            "trial",
            "iowa",
            "bryant",
            "democrats",
            "new",
            "trumps",
            "says",
            "senators",
            "grammys",
            "boltons",
            "schiff",
            "senate",
            "2020",
            "lawyers"
           ],
           "xaxis": "x",
           "y": [
            0.27425526571762243,
            0.2490901795532719,
            0.2424328701999164,
            0.2363561521264115,
            0.21841124940235265,
            0.20757514962772652,
            0.15826856816599966,
            0.15282914871332928,
            0.14211050516920798,
            0.1359752998095775,
            0.1348229667603438,
            0.1348229667603438,
            0.13021363456340898,
            0.12243065366532015,
            0.10862942799454196,
            0.10359677388493063,
            0.09547716157104814,
            0.0924272483401009,
            0.0875773117417618,
            0.08702652135834155
           ],
           "yaxis": "y"
          }
         ],
         "name": "2020-1-Q4"
        },
        {
         "data": [
          {
           "alignmentgroup": "True",
           "hovertemplate": "time_period=2020-2-Q1<br>term=%{x}<br>tfidf=%{y}<extra></extra>",
           "legendgroup": "",
           "marker": {
            "color": "#636efa"
           },
           "name": "",
           "offsetgroup": "",
           "orientation": "v",
           "showlegend": false,
           "textposition": "auto",
           "type": "bar",
           "x": [
            "coronavirus",
            "iowa",
            "trump",
            "caucuses",
            "bowl",
            "caucus",
            "impeachment",
            "foreign",
            "super",
            "new",
            "policy",
            "china",
            "trumps",
            "union",
            "state",
            "dies",
            "acquittal",
            "2020",
            "feb",
            "review"
           ],
           "xaxis": "x",
           "y": [
            0.3348783659843645,
            0.2885242815658491,
            0.2312219649548645,
            0.1669593909725518,
            0.15148068385198835,
            0.1297157445690963,
            0.12905078107736356,
            0.12587342575523874,
            0.12249347764843993,
            0.11368413276947505,
            0.11110529358334292,
            0.10019618481377462,
            0.0963424853978602,
            0.0962561491069473,
            0.0905619362739886,
            0.08670823685807419,
            0.08128546778240571,
            0.08092768773420257,
            0.075866436596912,
            0.07322028890237375
           ],
           "yaxis": "y"
          }
         ],
         "name": "2020-2-Q1"
        },
        {
         "data": [
          {
           "alignmentgroup": "True",
           "hovertemplate": "time_period=2020-2-Q2<br>term=%{x}<br>tfidf=%{y}<extra></extra>",
           "legendgroup": "",
           "marker": {
            "color": "#636efa"
           },
           "name": "",
           "offsetgroup": "",
           "orientation": "v",
           "showlegend": false,
           "textposition": "auto",
           "type": "bar",
           "x": [
            "coronavirus",
            "hampshire",
            "new",
            "oscars",
            "trump",
            "review",
            "2020",
            "build",
            "love",
            "feb",
            "bloomberg",
            "day",
            "world",
            "trumps",
            "westminster",
            "china",
            "war",
            "briefing",
            "sanders",
            "astros"
           ],
           "xaxis": "x",
           "y": [
            0.3198153272216181,
            0.26033290161242056,
            0.2509137917496381,
            0.18414311024052565,
            0.1604202930858342,
            0.11928688460228695,
            0.10900353248140016,
            0.10264370125205936,
            0.09460683951215862,
            0.09254617935897463,
            0.08969144772007775,
            0.08638015781544918,
            0.07815347611873973,
            0.07815347611873973,
            0.0777175813948954,
            0.07609680569456237,
            0.07404013527038501,
            0.07404013527038501,
            0.07269804869617978,
            0.0677420165985528
           ],
           "yaxis": "y"
          }
         ],
         "name": "2020-2-Q2"
        },
        {
         "data": [
          {
           "alignmentgroup": "True",
           "hovertemplate": "time_period=2020-2-Q3<br>term=%{x}<br>tfidf=%{y}<extra></extra>",
           "legendgroup": "",
           "marker": {
            "color": "#636efa"
           },
           "name": "",
           "offsetgroup": "",
           "orientation": "v",
           "showlegend": false,
           "textposition": "auto",
           "type": "bar",
           "x": [
            "coronavirus",
            "nevada",
            "bloomberg",
            "new",
            "trump",
            "2020",
            "briefing",
            "debate",
            "dies",
            "democratic",
            "caucuses",
            "fall",
            "review",
            "democrats",
            "sanders",
            "whats",
            "affleck",
            "blagojevich",
            "cobble",
            "ship"
           ],
           "xaxis": "x",
           "y": [
            0.3015681993471594,
            0.29234169149856315,
            0.20837093187812444,
            0.13920055941179607,
            0.13675844433439613,
            0.12943209910219633,
            0.1025688332507971,
            0.09805296906892673,
            0.09280037294119738,
            0.08903596091584838,
            0.08229144154795705,
            0.08048856199432665,
            0.07814768247679779,
            0.07814768247679779,
            0.0776902798126037,
            0.07326345232199794,
            0.06484415330101627,
            0.06484415330101627,
            0.06152185755266575,
            0.059846121402303123
           ],
           "yaxis": "y"
          }
         ],
         "name": "2020-2-Q3"
        },
        {
         "data": [
          {
           "alignmentgroup": "True",
           "hovertemplate": "time_period=2020-2-Q4<br>term=%{x}<br>tfidf=%{y}<extra></extra>",
           "legendgroup": "",
           "marker": {
            "color": "#636efa"
           },
           "name": "",
           "offsetgroup": "",
           "orientation": "v",
           "showlegend": false,
           "textposition": "auto",
           "type": "bar",
           "x": [
            "coronavirus",
            "trump",
            "new",
            "weinstein",
            "2020",
            "south",
            "sanders",
            "review",
            "carolina",
            "bernie",
            "nevada",
            "bloomberg",
            "bryant",
            "feb",
            "harvey",
            "dies",
            "kobe",
            "fall",
            "debate",
            "case"
           ],
           "xaxis": "x",
           "y": [
            0.5896130677064592,
            0.15847403878773236,
            0.1565874430878784,
            0.12328704882133668,
            0.11696893339094533,
            0.10753595489167553,
            0.10447526819638946,
            0.09810297639240574,
            0.09147511938596073,
            0.09037187215429364,
            0.08939553634173318,
            0.08227448481448205,
            0.07462770008264295,
            0.07428150335540128,
            0.07355911097358271,
            0.07169063659445035,
            0.07057542342768408,
            0.06819681729513756,
            0.05937036759145524,
            0.05848446669547265
           ],
           "yaxis": "y"
          }
         ],
         "name": "2020-2-Q4"
        },
        {
         "data": [
          {
           "alignmentgroup": "True",
           "hovertemplate": "time_period=2020-3-Q1<br>term=%{x}<br>tfidf=%{y}<extra></extra>",
           "legendgroup": "",
           "marker": {
            "color": "#636efa"
           },
           "name": "",
           "offsetgroup": "",
           "orientation": "v",
           "showlegend": false,
           "textposition": "auto",
           "type": "bar",
           "x": [
            "coronavirus",
            "super",
            "sanders",
            "tuesday",
            "trump",
            "review",
            "biden",
            "new",
            "2020",
            "dies",
            "march",
            "briefing",
            "bernie",
            "outbreak",
            "day",
            "million",
            "weekend",
            "devs",
            "fall",
            "race"
           ],
           "xaxis": "x",
           "y": [
            0.7157706270873498,
            0.14989588578638668,
            0.11190534955378552,
            0.10572804301455442,
            0.09497603864019297,
            0.08601603499489173,
            0.080640032807711,
            0.080640032807711,
            0.07526403062053026,
            0.06988802843334953,
            0.06595418974601015,
            0.06451202624616881,
            0.06383017159490961,
            0.062268939782243724,
            0.059136024058988074,
            0.05196802114274709,
            0.0483840196846266,
            0.04758202062878705,
            0.045725216803854114,
            0.044800277553407236
           ],
           "yaxis": "y"
          }
         ],
         "name": "2020-3-Q1"
        },
        {
         "data": [
          {
           "alignmentgroup": "True",
           "hovertemplate": "time_period=2020-3-Q2<br>term=%{x}<br>tfidf=%{y}<extra></extra>",
           "legendgroup": "",
           "marker": {
            "color": "#636efa"
           },
           "name": "",
           "offsetgroup": "",
           "orientation": "v",
           "showlegend": false,
           "textposition": "auto",
           "type": "bar",
           "x": [
            "coronavirus",
            "trump",
            "sanders",
            "biden",
            "new",
            "home",
            "virus",
            "briefing",
            "pandemic",
            "markets",
            "march",
            "new_york",
            "day",
            "2020",
            "bernie",
            "review",
            "joe",
            "fight",
            "just",
            "president"
           ],
           "xaxis": "x",
           "y": [
            0.8583805917012686,
            0.08847898575343084,
            0.08800342274336764,
            0.07354097517168277,
            0.06319927553816489,
            0.05860296458993471,
            0.05528039722361523,
            0.05285757590464698,
            0.0525637168341705,
            0.0519300701191537,
            0.04805858123840827,
            0.04136679853407156,
            0.040217720797014016,
            0.040217720797014016,
            0.0395182108255103,
            0.03791956532289893,
            0.03710585004677242,
            0.0344723321117263,
            0.0344723321117263,
            0.0344723321117263
           ],
           "yaxis": "y"
          }
         ],
         "name": "2020-3-Q2"
        },
        {
         "data": [
          {
           "alignmentgroup": "True",
           "hovertemplate": "time_period=2020-3-Q3<br>term=%{x}<br>tfidf=%{y}<extra></extra>",
           "legendgroup": "",
           "marker": {
            "color": "#636efa"
           },
           "name": "",
           "offsetgroup": "",
           "orientation": "v",
           "showlegend": false,
           "textposition": "auto",
           "type": "bar",
           "x": [
            "coronavirus",
            "primary",
            "results",
            "election",
            "district",
            "virus",
            "house",
            "pandemic",
            "california",
            "illinois",
            "supported",
            "home",
            "ventilators",
            "2020",
            "trump",
            "live",
            "presidential",
            "briefing",
            "new",
            "brady"
           ],
           "xaxis": "x",
           "y": [
            0.7556677636289757,
            0.2360111109512301,
            0.2168168277988876,
            0.16863162041736462,
            0.15977278616425594,
            0.13033386741319306,
            0.11429934985197256,
            0.10723313554180926,
            0.08940246176540427,
            0.07674512199851373,
            0.06365407195990863,
            0.06337389694762835,
            0.059640533991369975,
            0.05658383656038246,
            0.05545215982917481,
            0.053130510542457335,
            0.05013919397754293,
            0.04866209944192892,
            0.04866209944192892,
            0.04688283573206559
           ],
           "yaxis": "y"
          }
         ],
         "name": "2020-3-Q3"
        },
        {
         "data": [
          {
           "alignmentgroup": "True",
           "hovertemplate": "time_period=2020-3-Q4<br>term=%{x}<br>tfidf=%{y}<extra></extra>",
           "legendgroup": "",
           "marker": {
            "color": "#636efa"
           },
           "name": "",
           "offsetgroup": "",
           "orientation": "v",
           "showlegend": false,
           "textposition": "auto",
           "type": "bar",
           "x": [
            "coronavirus",
            "virus",
            "pandemic",
            "stimulus",
            "dies",
            "home",
            "trump",
            "quarantine",
            "lockdown",
            "crisis",
            "briefing",
            "help",
            "new",
            "time",
            "fight",
            "day",
            "new_york",
            "health",
            "need",
            "covid"
           ],
           "xaxis": "x",
           "y": [
            0.8252972180415719,
            0.15310364025549567,
            0.12381767452198475,
            0.08884526004009219,
            0.08445018017513413,
            0.0790367070869845,
            0.07145784476357503,
            0.061583791210292324,
            0.05875073084011277,
            0.05635596945408829,
            0.05630012011675607,
            0.05521742549912617,
            0.04655586855808677,
            0.045473173940456836,
            0.04439047932282692,
            0.04330778470519698,
            0.042225090087567065,
            0.041142395469937136,
            0.04005970085230722,
            0.04000118901201002
           ],
           "yaxis": "y"
          }
         ],
         "name": "2020-3-Q4"
        },
        {
         "data": [
          {
           "alignmentgroup": "True",
           "hovertemplate": "time_period=2020-4-Q1<br>term=%{x}<br>tfidf=%{y}<extra></extra>",
           "legendgroup": "",
           "marker": {
            "color": "#636efa"
           },
           "name": "",
           "offsetgroup": "",
           "orientation": "v",
           "showlegend": false,
           "textposition": "auto",
           "type": "bar",
           "x": [
            "coronavirus",
            "primary",
            "results",
            "district",
            "election",
            "house",
            "pandemic",
            "virus",
            "count",
            "california",
            "map",
            "dies",
            "trump",
            "case",
            "supported",
            "home",
            "texas",
            "masks",
            "wisconsin",
            "2020"
           ],
           "xaxis": "x",
           "y": [
            0.6340981015255902,
            0.27790601767013584,
            0.2561231123144557,
            0.2260494480203113,
            0.2031943527681057,
            0.15977865289999096,
            0.14294728992257824,
            0.12016261516200688,
            0.1103146217792088,
            0.10271484829285134,
            0.0973155985629848,
            0.0811574109968208,
            0.07988932644999548,
            0.07228081916904354,
            0.07132668081699421,
            0.06847656552856755,
            0.06738493313763974,
            0.06237778422123614,
            0.061655541044287124,
            0.059599973700790274
           ],
           "yaxis": "y"
          }
         ],
         "name": "2020-4-Q1"
        },
        {
         "data": [
          {
           "alignmentgroup": "True",
           "hovertemplate": "time_period=2020-4-Q2<br>term=%{x}<br>tfidf=%{y}<extra></extra>",
           "legendgroup": "",
           "marker": {
            "color": "#636efa"
           },
           "name": "",
           "offsetgroup": "",
           "orientation": "v",
           "showlegend": false,
           "textposition": "auto",
           "type": "bar",
           "x": [
            "coronavirus",
            "pandemic",
            "virus",
            "trump",
            "new",
            "dies",
            "briefing",
            "stimulus",
            "quarantine",
            "day",
            "virtual",
            "sanders",
            "covid",
            "biden",
            "world",
            "bernie",
            "masks",
            "help",
            "new_york",
            "2020"
           ],
           "xaxis": "x",
           "y": [
            0.6596067454537257,
            0.2270185909820943,
            0.1726510383303578,
            0.12474616916241907,
            0.09790205681101244,
            0.0915857950812697,
            0.08684859878396264,
            0.08533129152559099,
            0.06075884212587311,
            0.058425421000120326,
            0.0554670760891593,
            0.05395540053822377,
            0.05250607550549702,
            0.05210915927037759,
            0.0505300938379419,
            0.05042702026526365,
            0.049429613523365175,
            0.04895102840550622,
            0.04895102840550622,
            0.04737196297307053
           ],
           "yaxis": "y"
          }
         ],
         "name": "2020-4-Q2"
        },
        {
         "data": [
          {
           "alignmentgroup": "True",
           "hovertemplate": "time_period=2020-4-Q3<br>term=%{x}<br>tfidf=%{y}<extra></extra>",
           "legendgroup": "",
           "marker": {
            "color": "#636efa"
           },
           "name": "",
           "offsetgroup": "",
           "orientation": "v",
           "showlegend": false,
           "textposition": "auto",
           "type": "bar",
           "x": [
            "coronavirus",
            "pandemic",
            "virus",
            "trump",
            "dies",
            "birth",
            "kids",
            "fertility",
            "day",
            "baby",
            "new",
            "home",
            "pregnancy",
            "know",
            "lockdown",
            "testing",
            "earth",
            "relief",
            "briefing",
            "childbirth"
           ],
           "xaxis": "x",
           "y": [
            0.5879132977381474,
            0.18041613642511248,
            0.15843666703894368,
            0.13322011242411552,
            0.10692666918251376,
            0.0892810629674613,
            0.08764481080533915,
            0.08623455127952717,
            0.08589191458923237,
            0.08377282445715656,
            0.07712743350869845,
            0.0718687448603781,
            0.0716847042511803,
            0.06836295242816454,
            0.0671422396585979,
            0.06114596040872811,
            0.060144581491552836,
            0.058791329773814724,
            0.05784557513152384,
            0.05753675663667938
           ],
           "yaxis": "y"
          }
         ],
         "name": "2020-4-Q3"
        },
        {
         "data": [
          {
           "alignmentgroup": "True",
           "hovertemplate": "time_period=2020-4-Q4<br>term=%{x}<br>tfidf=%{y}<extra></extra>",
           "legendgroup": "",
           "marker": {
            "color": "#636efa"
           },
           "name": "",
           "offsetgroup": "",
           "orientation": "v",
           "showlegend": false,
           "textposition": "auto",
           "type": "bar",
           "x": [
            "coronavirus",
            "pandemic",
            "virus",
            "dies",
            "covid",
            "trump",
            "new",
            "draft",
            "19",
            "briefing",
            "home",
            "ramadan",
            "april",
            "reopening",
            "amash",
            "disinfectant",
            "world",
            "lockdown",
            "new_york",
            "house"
           ],
           "xaxis": "x",
           "y": [
            0.5359799176591223,
            0.18356196725829207,
            0.17965077957476158,
            0.14497809059721214,
            0.14395202265274806,
            0.14135363833228182,
            0.12866805540502574,
            0.10206289804392688,
            0.08458353220876139,
            0.08155017596093182,
            0.08155017596093182,
            0.07474117498417288,
            0.071234734267703,
            0.07058190632130218,
            0.06352805711048999,
            0.06352805711048999,
            0.06342791463628031,
            0.06073794053553355,
            0.059803462371350015,
            0.059803462371350015
           ],
           "yaxis": "y"
          }
         ],
         "name": "2020-4-Q4"
        },
        {
         "data": [
          {
           "alignmentgroup": "True",
           "hovertemplate": "time_period=2020-5-Q1<br>term=%{x}<br>tfidf=%{y}<extra></extra>",
           "legendgroup": "",
           "marker": {
            "color": "#636efa"
           },
           "name": "",
           "offsetgroup": "",
           "orientation": "v",
           "showlegend": false,
           "textposition": "auto",
           "type": "bar",
           "x": [
            "coronavirus",
            "pandemic",
            "virus",
            "new",
            "covid",
            "briefing",
            "trump",
            "dies",
            "review",
            "home",
            "reopening",
            "tara",
            "lockdown",
            "day",
            "vaccine",
            "livestreaming",
            "reade",
            "hornets",
            "whats",
            "19"
           ],
           "xaxis": "x",
           "y": [
            0.4681495501720564,
            0.2283519738472537,
            0.18524276903295392,
            0.1821296530960161,
            0.10562893487079096,
            0.10165375986754384,
            0.09953597320363668,
            0.09530039987582237,
            0.0931826132119152,
            0.08259367989237938,
            0.07423448736243493,
            0.07128482123249273,
            0.06421909613829853,
            0.06353359991721491,
            0.06275573681366532,
            0.06256247078006576,
            0.06256247078006576,
            0.06224325754118044,
            0.059298026589400574,
            0.05722617544586602
           ],
           "yaxis": "y"
          }
         ],
         "name": "2020-5-Q1"
        },
        {
         "data": [
          {
           "alignmentgroup": "True",
           "hovertemplate": "time_period=2020-5-Q2<br>term=%{x}<br>tfidf=%{y}<extra></extra>",
           "legendgroup": "",
           "marker": {
            "color": "#636efa"
           },
           "name": "",
           "offsetgroup": "",
           "orientation": "v",
           "showlegend": false,
           "textposition": "auto",
           "type": "bar",
           "x": [
            "coronavirus",
            "pandemic",
            "virus",
            "flynn",
            "arbery",
            "ahmaud",
            "new",
            "trump",
            "dies",
            "covid",
            "day",
            "reopening",
            "briefing",
            "home",
            "quarantine",
            "silk",
            "fauci",
            "praying",
            "reopen",
            "19"
           ],
           "xaxis": "x",
           "y": [
            0.4538671806631737,
            0.22078954722295827,
            0.17703139316544872,
            0.12152256145522275,
            0.11567616881426362,
            0.11567616881426362,
            0.1018483825783123,
            0.09988975983642168,
            0.09793113709453106,
            0.09407214961040684,
            0.0920552688688592,
            0.08772626278359184,
            0.08617940064318734,
            0.08422077790129671,
            0.08191667728032102,
            0.08172409819217344,
            0.07886472803683342,
            0.07429463472015768,
            0.06553334182425682,
            0.05773668788865278
           ],
           "yaxis": "y"
          }
         ],
         "name": "2020-5-Q2"
        },
        {
         "data": [
          {
           "alignmentgroup": "True",
           "hovertemplate": "time_period=2020-5-Q3<br>term=%{x}<br>tfidf=%{y}<extra></extra>",
           "legendgroup": "",
           "marker": {
            "color": "#636efa"
           },
           "name": "",
           "offsetgroup": "",
           "orientation": "v",
           "showlegend": false,
           "textposition": "auto",
           "type": "bar",
           "x": [
            "coronavirus",
            "pandemic",
            "virus",
            "trump",
            "dies",
            "new",
            "joy",
            "briefing",
            "day",
            "summer",
            "reopening",
            "2020",
            "lockdown",
            "home",
            "cyclone",
            "covid",
            "hydroxychloroquine",
            "amphan",
            "zip",
            "end"
           ],
           "xaxis": "x",
           "y": [
            0.3480230389781522,
            0.2346660383423809,
            0.17948684821557165,
            0.13337883905715633,
            0.1256839060346281,
            0.11798897301209985,
            0.10895208923039117,
            0.09746915161869116,
            0.092339196270339,
            0.08055459818197322,
            0.07492484409299119,
            0.07438435255110643,
            0.07368591369073632,
            0.06925439720275425,
            0.06911577864716767,
            0.06633588877224995,
            0.06492319849414868,
            0.06461701684608476,
            0.0636126945173728,
            0.0628287764522046
           ],
           "yaxis": "y"
          }
         ],
         "name": "2020-5-Q3"
        },
        {
         "data": [
          {
           "alignmentgroup": "True",
           "hovertemplate": "time_period=2020-5-Q4<br>term=%{x}<br>tfidf=%{y}<extra></extra>",
           "legendgroup": "",
           "marker": {
            "color": "#636efa"
           },
           "name": "",
           "offsetgroup": "",
           "orientation": "v",
           "showlegend": false,
           "textposition": "auto",
           "type": "bar",
           "x": [
            "coronavirus",
            "trump",
            "pandemic",
            "lockdown",
            "minneapolis",
            "spacex",
            "floyd",
            "dies",
            "covid",
            "hong_kong",
            "new",
            "day",
            "launch",
            "police",
            "briefing",
            "reopening",
            "virus",
            "twitter",
            "protests",
            "home"
           ],
           "xaxis": "x",
           "y": [
            0.346933508088331,
            0.22331472976507524,
            0.19805305771162027,
            0.16292873547444806,
            0.1629005259063486,
            0.15381881523216176,
            0.11877132692783038,
            0.11697438225789655,
            0.10607884006833516,
            0.09858904533942553,
            0.09145269885617367,
            0.0893258919060301,
            0.0814502629531743,
            0.08081866410545581,
            0.08081866410545581,
            0.07869237835049482,
            0.07751323889179948,
            0.0741942654810884,
            0.07302721443869044,
            0.07018462935473793
           ],
           "yaxis": "y"
          }
         ],
         "name": "2020-5-Q4"
        },
        {
         "data": [
          {
           "alignmentgroup": "True",
           "hovertemplate": "time_period=2020-6-Q1<br>term=%{x}<br>tfidf=%{y}<extra></extra>",
           "legendgroup": "",
           "marker": {
            "color": "#636efa"
           },
           "name": "",
           "offsetgroup": "",
           "orientation": "v",
           "showlegend": false,
           "textposition": "auto",
           "type": "bar",
           "x": [
            "coronavirus",
            "protests",
            "police",
            "floyd",
            "trump",
            "pandemic",
            "primary",
            "george",
            "minneapolis",
            "congressional",
            "protesters",
            "election",
            "district",
            "results",
            "new_york",
            "black",
            "dies",
            "curfew",
            "says",
            "briefing"
           ],
           "xaxis": "x",
           "y": [
            0.2951803048249419,
            0.2457865498938112,
            0.2327805815765539,
            0.22779688492340666,
            0.18274363413486475,
            0.1421679129005553,
            0.13585500329962966,
            0.13370192762753574,
            0.12742417124273242,
            0.12144644424056167,
            0.11514893315682775,
            0.11323923283559192,
            0.10548412773086416,
            0.10294596752863304,
            0.08919629761344589,
            0.08437433034808807,
            0.08266973925148642,
            0.08093091170130602,
            0.08049421979749995,
            0.08049421979749995
           ],
           "yaxis": "y"
          }
         ],
         "name": "2020-6-Q1"
        },
        {
         "data": [
          {
           "alignmentgroup": "True",
           "hovertemplate": "time_period=2020-6-Q2<br>term=%{x}<br>tfidf=%{y}<extra></extra>",
           "legendgroup": "",
           "marker": {
            "color": "#636efa"
           },
           "name": "",
           "offsetgroup": "",
           "orientation": "v",
           "showlegend": false,
           "textposition": "auto",
           "type": "bar",
           "x": [
            "coronavirus",
            "police",
            "trump",
            "black",
            "pandemic",
            "virus",
            "floyd",
            "new",
            "fowl",
            "protests",
            "briefing",
            "dies",
            "statue",
            "lives",
            "atlanta",
            "says",
            "review",
            "matter",
            "pride",
            "covid"
           ],
           "xaxis": "x",
           "y": [
            0.236410852338888,
            0.21125732318029727,
            0.17754604820471792,
            0.15597557771109616,
            0.14686642909467354,
            0.13105443276722153,
            0.12550685778065032,
            0.1123709165852645,
            0.10379792426543764,
            0.09957237837859312,
            0.09214415159991687,
            0.09214415159991687,
            0.0857303980693349,
            0.08559736004799881,
            0.0809647567133936,
            0.07865964160968515,
            0.07191738661456927,
            0.06908936405333346,
            0.06870982927545176,
            0.06642641720886658
           ],
           "yaxis": "y"
          }
         ],
         "name": "2020-6-Q2"
        },
        {
         "data": [
          {
           "alignmentgroup": "True",
           "hovertemplate": "time_period=2020-6-Q3<br>term=%{x}<br>tfidf=%{y}<extra></extra>",
           "legendgroup": "",
           "marker": {
            "color": "#636efa"
           },
           "name": "",
           "offsetgroup": "",
           "orientation": "v",
           "showlegend": false,
           "textposition": "auto",
           "type": "bar",
           "x": [
            "juneteenth",
            "trump",
            "coronavirus",
            "pandemic",
            "tulsa",
            "black",
            "bolton",
            "new",
            "dies",
            "virus",
            "rayshard",
            "china",
            "briefing",
            "court",
            "confederate",
            "floyd",
            "policing",
            "flag",
            "rally",
            "day"
           ],
           "xaxis": "x",
           "y": [
            0.4148306889356707,
            0.216578537414538,
            0.18960790311309225,
            0.15764680804432568,
            0.1497391857752674,
            0.13787907570499522,
            0.11360892949129064,
            0.1093614396845687,
            0.10507275577536992,
            0.09065668729847144,
            0.09020455607550673,
            0.07934065232017729,
            0.0771963103655779,
            0.0771963103655779,
            0.0749239974114355,
            0.07484410471457972,
            0.07270971487442601,
            0.07098947488485682,
            0.07033428979228716,
            0.06647460059258098
           ],
           "yaxis": "y"
          }
         ],
         "name": "2020-6-Q3"
        },
        {
         "data": [
          {
           "alignmentgroup": "True",
           "hovertemplate": "time_period=2020-6-Q4<br>term=%{x}<br>tfidf=%{y}<extra></extra>",
           "legendgroup": "",
           "marker": {
            "color": "#636efa"
           },
           "name": "",
           "offsetgroup": "",
           "orientation": "v",
           "showlegend": false,
           "textposition": "auto",
           "type": "bar",
           "x": [
            "primary",
            "results",
            "election",
            "district",
            "house",
            "coronavirus",
            "congressional",
            "california",
            "texas",
            "virus",
            "presidential",
            "trump",
            "2020",
            "live",
            "supported",
            "pandemic",
            "forecast",
            "new",
            "groups",
            "republican"
           ],
           "xaxis": "x",
           "y": [
            0.4899779941721764,
            0.44388503486853176,
            0.35620014325826216,
            0.3479011090062457,
            0.1927335141181443,
            0.12308967163676415,
            0.11569008072173698,
            0.1145983056918696,
            0.09717536796452106,
            0.09618905599119144,
            0.0923146163264038,
            0.0859487292689022,
            0.08508056028638802,
            0.08417665076998733,
            0.0830150801161089,
            0.07800915619781933,
            0.07014761413709218,
            0.06945351860113308,
            0.050294704539753085,
            0.05011779501526365
           ],
           "yaxis": "y"
          }
         ],
         "name": "2020-6-Q4"
        },
        {
         "data": [
          {
           "alignmentgroup": "True",
           "hovertemplate": "time_period=2020-7-Q1<br>term=%{x}<br>tfidf=%{y}<extra></extra>",
           "legendgroup": "",
           "marker": {
            "color": "#636efa"
           },
           "name": "",
           "offsetgroup": "",
           "orientation": "v",
           "showlegend": false,
           "textposition": "auto",
           "type": "bar",
           "x": [
            "coronavirus",
            "congressional",
            "primary",
            "results",
            "new",
            "election",
            "district",
            "virus",
            "july",
            "trump",
            "pandemic",
            "dies",
            "jersey",
            "new_york",
            "fourth",
            "black",
            "cases",
            "delaware",
            "rushmore",
            "police"
           ],
           "xaxis": "x",
           "y": [
            0.253708168078724,
            0.2415344853449541,
            0.2253475129981368,
            0.22073870207617674,
            0.21609489154353947,
            0.2129454205830673,
            0.1983620109569197,
            0.1701887742530149,
            0.14994705519822898,
            0.13412786371667967,
            0.1176797862495224,
            0.09935397312346644,
            0.09762590167806673,
            0.08941857581111977,
            0.08288653782342323,
            0.08112206498402562,
            0.07740188254619182,
            0.06965758594547841,
            0.06257322841130271,
            0.06209623320216651
           ],
           "yaxis": "y"
          }
         ],
         "name": "2020-7-Q1"
        },
        {
         "data": [
          {
           "alignmentgroup": "True",
           "hovertemplate": "time_period=2020-7-Q2<br>term=%{x}<br>tfidf=%{y}<extra></extra>",
           "legendgroup": "",
           "marker": {
            "color": "#636efa"
           },
           "name": "",
           "offsetgroup": "",
           "orientation": "v",
           "showlegend": false,
           "textposition": "auto",
           "type": "bar",
           "x": [
            "coronavirus",
            "trump",
            "pandemic",
            "virus",
            "new",
            "covid",
            "runoff",
            "court",
            "seoul",
            "stone",
            "says",
            "reopen",
            "dies",
            "short",
            "story",
            "briefing",
            "review",
            "election",
            "schools",
            "primary"
           ],
           "xaxis": "x",
           "y": [
            0.2918279956188676,
            0.2860580590375491,
            0.1581225048996859,
            0.14423417772562167,
            0.1311995609119586,
            0.11919573843757462,
            0.11010258697808273,
            0.10323899875039366,
            0.1013776047323645,
            0.09535659075005973,
            0.09463574885452752,
            0.08995474603257958,
            0.08818331143262792,
            0.08362830278674471,
            0.08341610637528613,
            0.07958006153676178,
            0.07958006153676178,
            0.07902578498711317,
            0.07861609302006166,
            0.07855992079966928
           ],
           "yaxis": "y"
          }
         ],
         "name": "2020-7-Q2"
        },
        {
         "data": [
          {
           "alignmentgroup": "True",
           "hovertemplate": "time_period=2020-7-Q3<br>term=%{x}<br>tfidf=%{y}<extra></extra>",
           "legendgroup": "",
           "marker": {
            "color": "#636efa"
           },
           "name": "",
           "offsetgroup": "",
           "orientation": "v",
           "showlegend": false,
           "textposition": "auto",
           "type": "bar",
           "x": [
            "coronavirus",
            "portland",
            "virus",
            "pandemic",
            "trump",
            "new",
            "covid",
            "says",
            "dies",
            "lewis",
            "trumps",
            "federal",
            "vaccine",
            "congressional",
            "briefing",
            "19",
            "reopening",
            "election",
            "say",
            "police"
           ],
           "xaxis": "x",
           "y": [
            0.29077968881428,
            0.21355976306491206,
            0.2029081602717496,
            0.17685847028793206,
            0.1598047331198855,
            0.12629728907861915,
            0.12379645936895045,
            0.11856480199217312,
            0.10825481921024503,
            0.10451676337628613,
            0.0953673407328349,
            0.092300656137223,
            0.0844179625801965,
            0.07890545143726413,
            0.07732487086446073,
            0.07597995332206872,
            0.0752905045056112,
            0.07102732912625652,
            0.06959238377801465,
            0.06959238377801465
           ],
           "yaxis": "y"
          }
         ],
         "name": "2020-7-Q3"
        },
        {
         "data": [
          {
           "alignmentgroup": "True",
           "hovertemplate": "time_period=2020-7-Q4<br>term=%{x}<br>tfidf=%{y}<extra></extra>",
           "legendgroup": "",
           "marker": {
            "color": "#636efa"
           },
           "name": "",
           "offsetgroup": "",
           "orientation": "v",
           "showlegend": false,
           "textposition": "auto",
           "type": "bar",
           "x": [
            "coronavirus",
            "trump",
            "pandemic",
            "virus",
            "portland",
            "new",
            "covid",
            "dies",
            "lewis",
            "review",
            "briefing",
            "big",
            "mars",
            "summer",
            "says",
            "day",
            "china",
            "tech",
            "week",
            "trumps"
           ],
           "xaxis": "x",
           "y": [
            0.3044963961709832,
            0.2637238708723663,
            0.1932497734614621,
            0.1696170822956243,
            0.15062716122625372,
            0.122166204889405,
            0.11462977468130672,
            0.10665303601455993,
            0.1004740405501396,
            0.08532242881164794,
            0.0833832827022923,
            0.0833832827022923,
            0.07622368717213886,
            0.06619565018133547,
            0.06593096771809158,
            0.06399182160873594,
            0.06399182160873594,
            0.06312838626239982,
            0.06205267549938031,
            0.06011352939002468
           ],
           "yaxis": "y"
          }
         ],
         "name": "2020-7-Q4"
        }
       ],
       "layout": {
        "barmode": "relative",
        "legend": {
         "tracegroupgap": 0
        },
        "margin": {
         "t": 60
        },
        "sliders": [
         {
          "active": 0,
          "currentvalue": {
           "prefix": "time_period="
          },
          "len": 0.9,
          "pad": {
           "b": 10,
           "t": 60
          },
          "steps": [
           {
            "args": [
             [
              "2019-8-Q1"
             ],
             {
              "frame": {
               "duration": 0,
               "redraw": true
              },
              "fromcurrent": true,
              "mode": "immediate",
              "transition": {
               "duration": 0,
               "easing": "linear"
              }
             }
            ],
            "label": "2019-8-Q1",
            "method": "animate"
           },
           {
            "args": [
             [
              "2019-8-Q2"
             ],
             {
              "frame": {
               "duration": 0,
               "redraw": true
              },
              "fromcurrent": true,
              "mode": "immediate",
              "transition": {
               "duration": 0,
               "easing": "linear"
              }
             }
            ],
            "label": "2019-8-Q2",
            "method": "animate"
           },
           {
            "args": [
             [
              "2019-8-Q3"
             ],
             {
              "frame": {
               "duration": 0,
               "redraw": true
              },
              "fromcurrent": true,
              "mode": "immediate",
              "transition": {
               "duration": 0,
               "easing": "linear"
              }
             }
            ],
            "label": "2019-8-Q3",
            "method": "animate"
           },
           {
            "args": [
             [
              "2019-8-Q4"
             ],
             {
              "frame": {
               "duration": 0,
               "redraw": true
              },
              "fromcurrent": true,
              "mode": "immediate",
              "transition": {
               "duration": 0,
               "easing": "linear"
              }
             }
            ],
            "label": "2019-8-Q4",
            "method": "animate"
           },
           {
            "args": [
             [
              "2019-9-Q1"
             ],
             {
              "frame": {
               "duration": 0,
               "redraw": true
              },
              "fromcurrent": true,
              "mode": "immediate",
              "transition": {
               "duration": 0,
               "easing": "linear"
              }
             }
            ],
            "label": "2019-9-Q1",
            "method": "animate"
           },
           {
            "args": [
             [
              "2019-9-Q2"
             ],
             {
              "frame": {
               "duration": 0,
               "redraw": true
              },
              "fromcurrent": true,
              "mode": "immediate",
              "transition": {
               "duration": 0,
               "easing": "linear"
              }
             }
            ],
            "label": "2019-9-Q2",
            "method": "animate"
           },
           {
            "args": [
             [
              "2019-9-Q3"
             ],
             {
              "frame": {
               "duration": 0,
               "redraw": true
              },
              "fromcurrent": true,
              "mode": "immediate",
              "transition": {
               "duration": 0,
               "easing": "linear"
              }
             }
            ],
            "label": "2019-9-Q3",
            "method": "animate"
           },
           {
            "args": [
             [
              "2019-9-Q4"
             ],
             {
              "frame": {
               "duration": 0,
               "redraw": true
              },
              "fromcurrent": true,
              "mode": "immediate",
              "transition": {
               "duration": 0,
               "easing": "linear"
              }
             }
            ],
            "label": "2019-9-Q4",
            "method": "animate"
           },
           {
            "args": [
             [
              "2019-10-Q1"
             ],
             {
              "frame": {
               "duration": 0,
               "redraw": true
              },
              "fromcurrent": true,
              "mode": "immediate",
              "transition": {
               "duration": 0,
               "easing": "linear"
              }
             }
            ],
            "label": "2019-10-Q1",
            "method": "animate"
           },
           {
            "args": [
             [
              "2019-10-Q2"
             ],
             {
              "frame": {
               "duration": 0,
               "redraw": true
              },
              "fromcurrent": true,
              "mode": "immediate",
              "transition": {
               "duration": 0,
               "easing": "linear"
              }
             }
            ],
            "label": "2019-10-Q2",
            "method": "animate"
           },
           {
            "args": [
             [
              "2019-10-Q3"
             ],
             {
              "frame": {
               "duration": 0,
               "redraw": true
              },
              "fromcurrent": true,
              "mode": "immediate",
              "transition": {
               "duration": 0,
               "easing": "linear"
              }
             }
            ],
            "label": "2019-10-Q3",
            "method": "animate"
           },
           {
            "args": [
             [
              "2019-10-Q4"
             ],
             {
              "frame": {
               "duration": 0,
               "redraw": true
              },
              "fromcurrent": true,
              "mode": "immediate",
              "transition": {
               "duration": 0,
               "easing": "linear"
              }
             }
            ],
            "label": "2019-10-Q4",
            "method": "animate"
           },
           {
            "args": [
             [
              "2019-11-Q1"
             ],
             {
              "frame": {
               "duration": 0,
               "redraw": true
              },
              "fromcurrent": true,
              "mode": "immediate",
              "transition": {
               "duration": 0,
               "easing": "linear"
              }
             }
            ],
            "label": "2019-11-Q1",
            "method": "animate"
           },
           {
            "args": [
             [
              "2019-11-Q2"
             ],
             {
              "frame": {
               "duration": 0,
               "redraw": true
              },
              "fromcurrent": true,
              "mode": "immediate",
              "transition": {
               "duration": 0,
               "easing": "linear"
              }
             }
            ],
            "label": "2019-11-Q2",
            "method": "animate"
           },
           {
            "args": [
             [
              "2019-11-Q3"
             ],
             {
              "frame": {
               "duration": 0,
               "redraw": true
              },
              "fromcurrent": true,
              "mode": "immediate",
              "transition": {
               "duration": 0,
               "easing": "linear"
              }
             }
            ],
            "label": "2019-11-Q3",
            "method": "animate"
           },
           {
            "args": [
             [
              "2019-11-Q4"
             ],
             {
              "frame": {
               "duration": 0,
               "redraw": true
              },
              "fromcurrent": true,
              "mode": "immediate",
              "transition": {
               "duration": 0,
               "easing": "linear"
              }
             }
            ],
            "label": "2019-11-Q4",
            "method": "animate"
           },
           {
            "args": [
             [
              "2019-12-Q1"
             ],
             {
              "frame": {
               "duration": 0,
               "redraw": true
              },
              "fromcurrent": true,
              "mode": "immediate",
              "transition": {
               "duration": 0,
               "easing": "linear"
              }
             }
            ],
            "label": "2019-12-Q1",
            "method": "animate"
           },
           {
            "args": [
             [
              "2019-12-Q2"
             ],
             {
              "frame": {
               "duration": 0,
               "redraw": true
              },
              "fromcurrent": true,
              "mode": "immediate",
              "transition": {
               "duration": 0,
               "easing": "linear"
              }
             }
            ],
            "label": "2019-12-Q2",
            "method": "animate"
           },
           {
            "args": [
             [
              "2019-12-Q3"
             ],
             {
              "frame": {
               "duration": 0,
               "redraw": true
              },
              "fromcurrent": true,
              "mode": "immediate",
              "transition": {
               "duration": 0,
               "easing": "linear"
              }
             }
            ],
            "label": "2019-12-Q3",
            "method": "animate"
           },
           {
            "args": [
             [
              "2019-12-Q4"
             ],
             {
              "frame": {
               "duration": 0,
               "redraw": true
              },
              "fromcurrent": true,
              "mode": "immediate",
              "transition": {
               "duration": 0,
               "easing": "linear"
              }
             }
            ],
            "label": "2019-12-Q4",
            "method": "animate"
           },
           {
            "args": [
             [
              "2020-1-Q1"
             ],
             {
              "frame": {
               "duration": 0,
               "redraw": true
              },
              "fromcurrent": true,
              "mode": "immediate",
              "transition": {
               "duration": 0,
               "easing": "linear"
              }
             }
            ],
            "label": "2020-1-Q1",
            "method": "animate"
           },
           {
            "args": [
             [
              "2020-1-Q2"
             ],
             {
              "frame": {
               "duration": 0,
               "redraw": true
              },
              "fromcurrent": true,
              "mode": "immediate",
              "transition": {
               "duration": 0,
               "easing": "linear"
              }
             }
            ],
            "label": "2020-1-Q2",
            "method": "animate"
           },
           {
            "args": [
             [
              "2020-1-Q3"
             ],
             {
              "frame": {
               "duration": 0,
               "redraw": true
              },
              "fromcurrent": true,
              "mode": "immediate",
              "transition": {
               "duration": 0,
               "easing": "linear"
              }
             }
            ],
            "label": "2020-1-Q3",
            "method": "animate"
           },
           {
            "args": [
             [
              "2020-1-Q4"
             ],
             {
              "frame": {
               "duration": 0,
               "redraw": true
              },
              "fromcurrent": true,
              "mode": "immediate",
              "transition": {
               "duration": 0,
               "easing": "linear"
              }
             }
            ],
            "label": "2020-1-Q4",
            "method": "animate"
           },
           {
            "args": [
             [
              "2020-2-Q1"
             ],
             {
              "frame": {
               "duration": 0,
               "redraw": true
              },
              "fromcurrent": true,
              "mode": "immediate",
              "transition": {
               "duration": 0,
               "easing": "linear"
              }
             }
            ],
            "label": "2020-2-Q1",
            "method": "animate"
           },
           {
            "args": [
             [
              "2020-2-Q2"
             ],
             {
              "frame": {
               "duration": 0,
               "redraw": true
              },
              "fromcurrent": true,
              "mode": "immediate",
              "transition": {
               "duration": 0,
               "easing": "linear"
              }
             }
            ],
            "label": "2020-2-Q2",
            "method": "animate"
           },
           {
            "args": [
             [
              "2020-2-Q3"
             ],
             {
              "frame": {
               "duration": 0,
               "redraw": true
              },
              "fromcurrent": true,
              "mode": "immediate",
              "transition": {
               "duration": 0,
               "easing": "linear"
              }
             }
            ],
            "label": "2020-2-Q3",
            "method": "animate"
           },
           {
            "args": [
             [
              "2020-2-Q4"
             ],
             {
              "frame": {
               "duration": 0,
               "redraw": true
              },
              "fromcurrent": true,
              "mode": "immediate",
              "transition": {
               "duration": 0,
               "easing": "linear"
              }
             }
            ],
            "label": "2020-2-Q4",
            "method": "animate"
           },
           {
            "args": [
             [
              "2020-3-Q1"
             ],
             {
              "frame": {
               "duration": 0,
               "redraw": true
              },
              "fromcurrent": true,
              "mode": "immediate",
              "transition": {
               "duration": 0,
               "easing": "linear"
              }
             }
            ],
            "label": "2020-3-Q1",
            "method": "animate"
           },
           {
            "args": [
             [
              "2020-3-Q2"
             ],
             {
              "frame": {
               "duration": 0,
               "redraw": true
              },
              "fromcurrent": true,
              "mode": "immediate",
              "transition": {
               "duration": 0,
               "easing": "linear"
              }
             }
            ],
            "label": "2020-3-Q2",
            "method": "animate"
           },
           {
            "args": [
             [
              "2020-3-Q3"
             ],
             {
              "frame": {
               "duration": 0,
               "redraw": true
              },
              "fromcurrent": true,
              "mode": "immediate",
              "transition": {
               "duration": 0,
               "easing": "linear"
              }
             }
            ],
            "label": "2020-3-Q3",
            "method": "animate"
           },
           {
            "args": [
             [
              "2020-3-Q4"
             ],
             {
              "frame": {
               "duration": 0,
               "redraw": true
              },
              "fromcurrent": true,
              "mode": "immediate",
              "transition": {
               "duration": 0,
               "easing": "linear"
              }
             }
            ],
            "label": "2020-3-Q4",
            "method": "animate"
           },
           {
            "args": [
             [
              "2020-4-Q1"
             ],
             {
              "frame": {
               "duration": 0,
               "redraw": true
              },
              "fromcurrent": true,
              "mode": "immediate",
              "transition": {
               "duration": 0,
               "easing": "linear"
              }
             }
            ],
            "label": "2020-4-Q1",
            "method": "animate"
           },
           {
            "args": [
             [
              "2020-4-Q2"
             ],
             {
              "frame": {
               "duration": 0,
               "redraw": true
              },
              "fromcurrent": true,
              "mode": "immediate",
              "transition": {
               "duration": 0,
               "easing": "linear"
              }
             }
            ],
            "label": "2020-4-Q2",
            "method": "animate"
           },
           {
            "args": [
             [
              "2020-4-Q3"
             ],
             {
              "frame": {
               "duration": 0,
               "redraw": true
              },
              "fromcurrent": true,
              "mode": "immediate",
              "transition": {
               "duration": 0,
               "easing": "linear"
              }
             }
            ],
            "label": "2020-4-Q3",
            "method": "animate"
           },
           {
            "args": [
             [
              "2020-4-Q4"
             ],
             {
              "frame": {
               "duration": 0,
               "redraw": true
              },
              "fromcurrent": true,
              "mode": "immediate",
              "transition": {
               "duration": 0,
               "easing": "linear"
              }
             }
            ],
            "label": "2020-4-Q4",
            "method": "animate"
           },
           {
            "args": [
             [
              "2020-5-Q1"
             ],
             {
              "frame": {
               "duration": 0,
               "redraw": true
              },
              "fromcurrent": true,
              "mode": "immediate",
              "transition": {
               "duration": 0,
               "easing": "linear"
              }
             }
            ],
            "label": "2020-5-Q1",
            "method": "animate"
           },
           {
            "args": [
             [
              "2020-5-Q2"
             ],
             {
              "frame": {
               "duration": 0,
               "redraw": true
              },
              "fromcurrent": true,
              "mode": "immediate",
              "transition": {
               "duration": 0,
               "easing": "linear"
              }
             }
            ],
            "label": "2020-5-Q2",
            "method": "animate"
           },
           {
            "args": [
             [
              "2020-5-Q3"
             ],
             {
              "frame": {
               "duration": 0,
               "redraw": true
              },
              "fromcurrent": true,
              "mode": "immediate",
              "transition": {
               "duration": 0,
               "easing": "linear"
              }
             }
            ],
            "label": "2020-5-Q3",
            "method": "animate"
           },
           {
            "args": [
             [
              "2020-5-Q4"
             ],
             {
              "frame": {
               "duration": 0,
               "redraw": true
              },
              "fromcurrent": true,
              "mode": "immediate",
              "transition": {
               "duration": 0,
               "easing": "linear"
              }
             }
            ],
            "label": "2020-5-Q4",
            "method": "animate"
           },
           {
            "args": [
             [
              "2020-6-Q1"
             ],
             {
              "frame": {
               "duration": 0,
               "redraw": true
              },
              "fromcurrent": true,
              "mode": "immediate",
              "transition": {
               "duration": 0,
               "easing": "linear"
              }
             }
            ],
            "label": "2020-6-Q1",
            "method": "animate"
           },
           {
            "args": [
             [
              "2020-6-Q2"
             ],
             {
              "frame": {
               "duration": 0,
               "redraw": true
              },
              "fromcurrent": true,
              "mode": "immediate",
              "transition": {
               "duration": 0,
               "easing": "linear"
              }
             }
            ],
            "label": "2020-6-Q2",
            "method": "animate"
           },
           {
            "args": [
             [
              "2020-6-Q3"
             ],
             {
              "frame": {
               "duration": 0,
               "redraw": true
              },
              "fromcurrent": true,
              "mode": "immediate",
              "transition": {
               "duration": 0,
               "easing": "linear"
              }
             }
            ],
            "label": "2020-6-Q3",
            "method": "animate"
           },
           {
            "args": [
             [
              "2020-6-Q4"
             ],
             {
              "frame": {
               "duration": 0,
               "redraw": true
              },
              "fromcurrent": true,
              "mode": "immediate",
              "transition": {
               "duration": 0,
               "easing": "linear"
              }
             }
            ],
            "label": "2020-6-Q4",
            "method": "animate"
           },
           {
            "args": [
             [
              "2020-7-Q1"
             ],
             {
              "frame": {
               "duration": 0,
               "redraw": true
              },
              "fromcurrent": true,
              "mode": "immediate",
              "transition": {
               "duration": 0,
               "easing": "linear"
              }
             }
            ],
            "label": "2020-7-Q1",
            "method": "animate"
           },
           {
            "args": [
             [
              "2020-7-Q2"
             ],
             {
              "frame": {
               "duration": 0,
               "redraw": true
              },
              "fromcurrent": true,
              "mode": "immediate",
              "transition": {
               "duration": 0,
               "easing": "linear"
              }
             }
            ],
            "label": "2020-7-Q2",
            "method": "animate"
           },
           {
            "args": [
             [
              "2020-7-Q3"
             ],
             {
              "frame": {
               "duration": 0,
               "redraw": true
              },
              "fromcurrent": true,
              "mode": "immediate",
              "transition": {
               "duration": 0,
               "easing": "linear"
              }
             }
            ],
            "label": "2020-7-Q3",
            "method": "animate"
           },
           {
            "args": [
             [
              "2020-7-Q4"
             ],
             {
              "frame": {
               "duration": 0,
               "redraw": true
              },
              "fromcurrent": true,
              "mode": "immediate",
              "transition": {
               "duration": 0,
               "easing": "linear"
              }
             }
            ],
            "label": "2020-7-Q4",
            "method": "animate"
           }
          ],
          "x": 0.1,
          "xanchor": "left",
          "y": 0,
          "yanchor": "top"
         }
        ],
        "template": {
         "data": {
          "bar": [
           {
            "error_x": {
             "color": "#2a3f5f"
            },
            "error_y": {
             "color": "#2a3f5f"
            },
            "marker": {
             "line": {
              "color": "#E5ECF6",
              "width": 0.5
             }
            },
            "type": "bar"
           }
          ],
          "barpolar": [
           {
            "marker": {
             "line": {
              "color": "#E5ECF6",
              "width": 0.5
             }
            },
            "type": "barpolar"
           }
          ],
          "carpet": [
           {
            "aaxis": {
             "endlinecolor": "#2a3f5f",
             "gridcolor": "white",
             "linecolor": "white",
             "minorgridcolor": "white",
             "startlinecolor": "#2a3f5f"
            },
            "baxis": {
             "endlinecolor": "#2a3f5f",
             "gridcolor": "white",
             "linecolor": "white",
             "minorgridcolor": "white",
             "startlinecolor": "#2a3f5f"
            },
            "type": "carpet"
           }
          ],
          "choropleth": [
           {
            "colorbar": {
             "outlinewidth": 0,
             "ticks": ""
            },
            "type": "choropleth"
           }
          ],
          "contour": [
           {
            "colorbar": {
             "outlinewidth": 0,
             "ticks": ""
            },
            "colorscale": [
             [
              0,
              "#0d0887"
             ],
             [
              0.1111111111111111,
              "#46039f"
             ],
             [
              0.2222222222222222,
              "#7201a8"
             ],
             [
              0.3333333333333333,
              "#9c179e"
             ],
             [
              0.4444444444444444,
              "#bd3786"
             ],
             [
              0.5555555555555556,
              "#d8576b"
             ],
             [
              0.6666666666666666,
              "#ed7953"
             ],
             [
              0.7777777777777778,
              "#fb9f3a"
             ],
             [
              0.8888888888888888,
              "#fdca26"
             ],
             [
              1,
              "#f0f921"
             ]
            ],
            "type": "contour"
           }
          ],
          "contourcarpet": [
           {
            "colorbar": {
             "outlinewidth": 0,
             "ticks": ""
            },
            "type": "contourcarpet"
           }
          ],
          "heatmap": [
           {
            "colorbar": {
             "outlinewidth": 0,
             "ticks": ""
            },
            "colorscale": [
             [
              0,
              "#0d0887"
             ],
             [
              0.1111111111111111,
              "#46039f"
             ],
             [
              0.2222222222222222,
              "#7201a8"
             ],
             [
              0.3333333333333333,
              "#9c179e"
             ],
             [
              0.4444444444444444,
              "#bd3786"
             ],
             [
              0.5555555555555556,
              "#d8576b"
             ],
             [
              0.6666666666666666,
              "#ed7953"
             ],
             [
              0.7777777777777778,
              "#fb9f3a"
             ],
             [
              0.8888888888888888,
              "#fdca26"
             ],
             [
              1,
              "#f0f921"
             ]
            ],
            "type": "heatmap"
           }
          ],
          "heatmapgl": [
           {
            "colorbar": {
             "outlinewidth": 0,
             "ticks": ""
            },
            "colorscale": [
             [
              0,
              "#0d0887"
             ],
             [
              0.1111111111111111,
              "#46039f"
             ],
             [
              0.2222222222222222,
              "#7201a8"
             ],
             [
              0.3333333333333333,
              "#9c179e"
             ],
             [
              0.4444444444444444,
              "#bd3786"
             ],
             [
              0.5555555555555556,
              "#d8576b"
             ],
             [
              0.6666666666666666,
              "#ed7953"
             ],
             [
              0.7777777777777778,
              "#fb9f3a"
             ],
             [
              0.8888888888888888,
              "#fdca26"
             ],
             [
              1,
              "#f0f921"
             ]
            ],
            "type": "heatmapgl"
           }
          ],
          "histogram": [
           {
            "marker": {
             "colorbar": {
              "outlinewidth": 0,
              "ticks": ""
             }
            },
            "type": "histogram"
           }
          ],
          "histogram2d": [
           {
            "colorbar": {
             "outlinewidth": 0,
             "ticks": ""
            },
            "colorscale": [
             [
              0,
              "#0d0887"
             ],
             [
              0.1111111111111111,
              "#46039f"
             ],
             [
              0.2222222222222222,
              "#7201a8"
             ],
             [
              0.3333333333333333,
              "#9c179e"
             ],
             [
              0.4444444444444444,
              "#bd3786"
             ],
             [
              0.5555555555555556,
              "#d8576b"
             ],
             [
              0.6666666666666666,
              "#ed7953"
             ],
             [
              0.7777777777777778,
              "#fb9f3a"
             ],
             [
              0.8888888888888888,
              "#fdca26"
             ],
             [
              1,
              "#f0f921"
             ]
            ],
            "type": "histogram2d"
           }
          ],
          "histogram2dcontour": [
           {
            "colorbar": {
             "outlinewidth": 0,
             "ticks": ""
            },
            "colorscale": [
             [
              0,
              "#0d0887"
             ],
             [
              0.1111111111111111,
              "#46039f"
             ],
             [
              0.2222222222222222,
              "#7201a8"
             ],
             [
              0.3333333333333333,
              "#9c179e"
             ],
             [
              0.4444444444444444,
              "#bd3786"
             ],
             [
              0.5555555555555556,
              "#d8576b"
             ],
             [
              0.6666666666666666,
              "#ed7953"
             ],
             [
              0.7777777777777778,
              "#fb9f3a"
             ],
             [
              0.8888888888888888,
              "#fdca26"
             ],
             [
              1,
              "#f0f921"
             ]
            ],
            "type": "histogram2dcontour"
           }
          ],
          "mesh3d": [
           {
            "colorbar": {
             "outlinewidth": 0,
             "ticks": ""
            },
            "type": "mesh3d"
           }
          ],
          "parcoords": [
           {
            "line": {
             "colorbar": {
              "outlinewidth": 0,
              "ticks": ""
             }
            },
            "type": "parcoords"
           }
          ],
          "pie": [
           {
            "automargin": true,
            "type": "pie"
           }
          ],
          "scatter": [
           {
            "marker": {
             "colorbar": {
              "outlinewidth": 0,
              "ticks": ""
             }
            },
            "type": "scatter"
           }
          ],
          "scatter3d": [
           {
            "line": {
             "colorbar": {
              "outlinewidth": 0,
              "ticks": ""
             }
            },
            "marker": {
             "colorbar": {
              "outlinewidth": 0,
              "ticks": ""
             }
            },
            "type": "scatter3d"
           }
          ],
          "scattercarpet": [
           {
            "marker": {
             "colorbar": {
              "outlinewidth": 0,
              "ticks": ""
             }
            },
            "type": "scattercarpet"
           }
          ],
          "scattergeo": [
           {
            "marker": {
             "colorbar": {
              "outlinewidth": 0,
              "ticks": ""
             }
            },
            "type": "scattergeo"
           }
          ],
          "scattergl": [
           {
            "marker": {
             "colorbar": {
              "outlinewidth": 0,
              "ticks": ""
             }
            },
            "type": "scattergl"
           }
          ],
          "scattermapbox": [
           {
            "marker": {
             "colorbar": {
              "outlinewidth": 0,
              "ticks": ""
             }
            },
            "type": "scattermapbox"
           }
          ],
          "scatterpolar": [
           {
            "marker": {
             "colorbar": {
              "outlinewidth": 0,
              "ticks": ""
             }
            },
            "type": "scatterpolar"
           }
          ],
          "scatterpolargl": [
           {
            "marker": {
             "colorbar": {
              "outlinewidth": 0,
              "ticks": ""
             }
            },
            "type": "scatterpolargl"
           }
          ],
          "scatterternary": [
           {
            "marker": {
             "colorbar": {
              "outlinewidth": 0,
              "ticks": ""
             }
            },
            "type": "scatterternary"
           }
          ],
          "surface": [
           {
            "colorbar": {
             "outlinewidth": 0,
             "ticks": ""
            },
            "colorscale": [
             [
              0,
              "#0d0887"
             ],
             [
              0.1111111111111111,
              "#46039f"
             ],
             [
              0.2222222222222222,
              "#7201a8"
             ],
             [
              0.3333333333333333,
              "#9c179e"
             ],
             [
              0.4444444444444444,
              "#bd3786"
             ],
             [
              0.5555555555555556,
              "#d8576b"
             ],
             [
              0.6666666666666666,
              "#ed7953"
             ],
             [
              0.7777777777777778,
              "#fb9f3a"
             ],
             [
              0.8888888888888888,
              "#fdca26"
             ],
             [
              1,
              "#f0f921"
             ]
            ],
            "type": "surface"
           }
          ],
          "table": [
           {
            "cells": {
             "fill": {
              "color": "#EBF0F8"
             },
             "line": {
              "color": "white"
             }
            },
            "header": {
             "fill": {
              "color": "#C8D4E3"
             },
             "line": {
              "color": "white"
             }
            },
            "type": "table"
           }
          ]
         },
         "layout": {
          "annotationdefaults": {
           "arrowcolor": "#2a3f5f",
           "arrowhead": 0,
           "arrowwidth": 1
          },
          "coloraxis": {
           "colorbar": {
            "outlinewidth": 0,
            "ticks": ""
           }
          },
          "colorscale": {
           "diverging": [
            [
             0,
             "#8e0152"
            ],
            [
             0.1,
             "#c51b7d"
            ],
            [
             0.2,
             "#de77ae"
            ],
            [
             0.3,
             "#f1b6da"
            ],
            [
             0.4,
             "#fde0ef"
            ],
            [
             0.5,
             "#f7f7f7"
            ],
            [
             0.6,
             "#e6f5d0"
            ],
            [
             0.7,
             "#b8e186"
            ],
            [
             0.8,
             "#7fbc41"
            ],
            [
             0.9,
             "#4d9221"
            ],
            [
             1,
             "#276419"
            ]
           ],
           "sequential": [
            [
             0,
             "#0d0887"
            ],
            [
             0.1111111111111111,
             "#46039f"
            ],
            [
             0.2222222222222222,
             "#7201a8"
            ],
            [
             0.3333333333333333,
             "#9c179e"
            ],
            [
             0.4444444444444444,
             "#bd3786"
            ],
            [
             0.5555555555555556,
             "#d8576b"
            ],
            [
             0.6666666666666666,
             "#ed7953"
            ],
            [
             0.7777777777777778,
             "#fb9f3a"
            ],
            [
             0.8888888888888888,
             "#fdca26"
            ],
            [
             1,
             "#f0f921"
            ]
           ],
           "sequentialminus": [
            [
             0,
             "#0d0887"
            ],
            [
             0.1111111111111111,
             "#46039f"
            ],
            [
             0.2222222222222222,
             "#7201a8"
            ],
            [
             0.3333333333333333,
             "#9c179e"
            ],
            [
             0.4444444444444444,
             "#bd3786"
            ],
            [
             0.5555555555555556,
             "#d8576b"
            ],
            [
             0.6666666666666666,
             "#ed7953"
            ],
            [
             0.7777777777777778,
             "#fb9f3a"
            ],
            [
             0.8888888888888888,
             "#fdca26"
            ],
            [
             1,
             "#f0f921"
            ]
           ]
          },
          "colorway": [
           "#636efa",
           "#EF553B",
           "#00cc96",
           "#ab63fa",
           "#FFA15A",
           "#19d3f3",
           "#FF6692",
           "#B6E880",
           "#FF97FF",
           "#FECB52"
          ],
          "font": {
           "color": "#2a3f5f"
          },
          "geo": {
           "bgcolor": "white",
           "lakecolor": "white",
           "landcolor": "#E5ECF6",
           "showlakes": true,
           "showland": true,
           "subunitcolor": "white"
          },
          "hoverlabel": {
           "align": "left"
          },
          "hovermode": "closest",
          "mapbox": {
           "style": "light"
          },
          "paper_bgcolor": "white",
          "plot_bgcolor": "#E5ECF6",
          "polar": {
           "angularaxis": {
            "gridcolor": "white",
            "linecolor": "white",
            "ticks": ""
           },
           "bgcolor": "#E5ECF6",
           "radialaxis": {
            "gridcolor": "white",
            "linecolor": "white",
            "ticks": ""
           }
          },
          "scene": {
           "xaxis": {
            "backgroundcolor": "#E5ECF6",
            "gridcolor": "white",
            "gridwidth": 2,
            "linecolor": "white",
            "showbackground": true,
            "ticks": "",
            "zerolinecolor": "white"
           },
           "yaxis": {
            "backgroundcolor": "#E5ECF6",
            "gridcolor": "white",
            "gridwidth": 2,
            "linecolor": "white",
            "showbackground": true,
            "ticks": "",
            "zerolinecolor": "white"
           },
           "zaxis": {
            "backgroundcolor": "#E5ECF6",
            "gridcolor": "white",
            "gridwidth": 2,
            "linecolor": "white",
            "showbackground": true,
            "ticks": "",
            "zerolinecolor": "white"
           }
          },
          "shapedefaults": {
           "line": {
            "color": "#2a3f5f"
           }
          },
          "ternary": {
           "aaxis": {
            "gridcolor": "white",
            "linecolor": "white",
            "ticks": ""
           },
           "baxis": {
            "gridcolor": "white",
            "linecolor": "white",
            "ticks": ""
           },
           "bgcolor": "#E5ECF6",
           "caxis": {
            "gridcolor": "white",
            "linecolor": "white",
            "ticks": ""
           }
          },
          "title": {
           "x": 0.05
          },
          "xaxis": {
           "automargin": true,
           "gridcolor": "white",
           "linecolor": "white",
           "ticks": "",
           "title": {
            "standoff": 15
           },
           "zerolinecolor": "white",
           "zerolinewidth": 2
          },
          "yaxis": {
           "automargin": true,
           "gridcolor": "white",
           "linecolor": "white",
           "ticks": "",
           "title": {
            "standoff": 15
           },
           "zerolinecolor": "white",
           "zerolinewidth": 2
          }
         }
        },
        "updatemenus": [
         {
          "buttons": [
           {
            "args": [
             null,
             {
              "frame": {
               "duration": 500,
               "redraw": true
              },
              "fromcurrent": true,
              "mode": "immediate",
              "transition": {
               "duration": 500,
               "easing": "linear"
              }
             }
            ],
            "label": "&#9654;",
            "method": "animate"
           },
           {
            "args": [
             [
              null
             ],
             {
              "frame": {
               "duration": 0,
               "redraw": true
              },
              "fromcurrent": true,
              "mode": "immediate",
              "transition": {
               "duration": 0,
               "easing": "linear"
              }
             }
            ],
            "label": "&#9724;",
            "method": "animate"
           }
          ],
          "direction": "left",
          "pad": {
           "r": 10,
           "t": 70
          },
          "showactive": false,
          "type": "buttons",
          "x": 0.1,
          "xanchor": "right",
          "y": 0,
          "yanchor": "top"
         }
        ],
        "xaxis": {
         "anchor": "y",
         "domain": [
          0,
          1
         ],
         "title": {
          "text": "term"
         }
        },
        "yaxis": {
         "anchor": "x",
         "domain": [
          0,
          1
         ],
         "title": {
          "text": "tfidf"
         }
        }
       }
      },
      "text/html": [
       "<div>\n",
       "        \n",
       "        \n",
       "            <div id=\"15da4389-ffda-457e-ad82-08ffea03daf3\" class=\"plotly-graph-div\" style=\"height:525px; width:100%;\"></div>\n",
       "            <script type=\"text/javascript\">\n",
       "                require([\"plotly\"], function(Plotly) {\n",
       "                    window.PLOTLYENV=window.PLOTLYENV || {};\n",
       "                    \n",
       "                if (document.getElementById(\"15da4389-ffda-457e-ad82-08ffea03daf3\")) {\n",
       "                    Plotly.newPlot(\n",
       "                        '15da4389-ffda-457e-ad82-08ffea03daf3',\n",
       "                        [{\"alignmentgroup\": \"True\", \"hovertemplate\": \"time_period=2019-8-Q1<br>term=%{x}<br>tfidf=%{y}<extra></extra>\", \"legendgroup\": \"\", \"marker\": {\"color\": \"#636efa\"}, \"name\": \"\", \"offsetgroup\": \"\", \"orientation\": \"v\", \"showlegend\": false, \"textposition\": \"auto\", \"type\": \"bar\", \"x\": [\"shootings\", \"el_paso\", \"toni\", \"trump\", \"dayton\", \"morrison\", \"new\", \"woodstock\", \"trade\", \"gun\", \"hong_kong\", \"debates\", \"briefing\", \"china\", \"says\", \"war\", \"review\", \"white\", \"terrorism\", \"kashmir\"], \"xaxis\": \"x\", \"y\": [0.2294162654764872, 0.22521932344035325, 0.21156966747427125, 0.1798276391000323, 0.15093855918169768, 0.1402124052760081, 0.13170474976340393, 0.12430234285551575, 0.10099399808611964, 0.09408320992936137, 0.09163572197088836, 0.09124625047613394, 0.09118021137466427, 0.08864742772536803, 0.07851629312818313, 0.07851629312818313, 0.0759835094788869, 0.07539845987250472, 0.07379019470044502, 0.07190322354182446], \"yaxis\": \"y\"}],\n",
       "                        {\"barmode\": \"relative\", \"legend\": {\"tracegroupgap\": 0}, \"margin\": {\"t\": 60}, \"sliders\": [{\"active\": 0, \"currentvalue\": {\"prefix\": \"time_period=\"}, \"len\": 0.9, \"pad\": {\"b\": 10, \"t\": 60}, \"steps\": [{\"args\": [[\"2019-8-Q1\"], {\"frame\": {\"duration\": 0, \"redraw\": true}, \"fromcurrent\": true, \"mode\": \"immediate\", \"transition\": {\"duration\": 0, \"easing\": \"linear\"}}], \"label\": \"2019-8-Q1\", \"method\": \"animate\"}, {\"args\": [[\"2019-8-Q2\"], {\"frame\": {\"duration\": 0, \"redraw\": true}, \"fromcurrent\": true, \"mode\": \"immediate\", \"transition\": {\"duration\": 0, \"easing\": \"linear\"}}], \"label\": \"2019-8-Q2\", \"method\": \"animate\"}, {\"args\": [[\"2019-8-Q3\"], {\"frame\": {\"duration\": 0, \"redraw\": true}, \"fromcurrent\": true, \"mode\": \"immediate\", \"transition\": {\"duration\": 0, \"easing\": \"linear\"}}], \"label\": \"2019-8-Q3\", \"method\": \"animate\"}, {\"args\": [[\"2019-8-Q4\"], {\"frame\": {\"duration\": 0, \"redraw\": true}, \"fromcurrent\": true, \"mode\": \"immediate\", \"transition\": {\"duration\": 0, \"easing\": \"linear\"}}], \"label\": \"2019-8-Q4\", \"method\": \"animate\"}, {\"args\": [[\"2019-9-Q1\"], {\"frame\": {\"duration\": 0, \"redraw\": true}, \"fromcurrent\": true, \"mode\": \"immediate\", \"transition\": {\"duration\": 0, \"easing\": \"linear\"}}], \"label\": \"2019-9-Q1\", \"method\": \"animate\"}, {\"args\": [[\"2019-9-Q2\"], {\"frame\": {\"duration\": 0, \"redraw\": true}, \"fromcurrent\": true, \"mode\": \"immediate\", \"transition\": {\"duration\": 0, \"easing\": \"linear\"}}], \"label\": \"2019-9-Q2\", \"method\": \"animate\"}, {\"args\": [[\"2019-9-Q3\"], {\"frame\": {\"duration\": 0, \"redraw\": true}, \"fromcurrent\": true, \"mode\": \"immediate\", \"transition\": {\"duration\": 0, \"easing\": \"linear\"}}], \"label\": \"2019-9-Q3\", \"method\": \"animate\"}, {\"args\": [[\"2019-9-Q4\"], {\"frame\": {\"duration\": 0, \"redraw\": true}, \"fromcurrent\": true, \"mode\": \"immediate\", \"transition\": {\"duration\": 0, \"easing\": \"linear\"}}], \"label\": \"2019-9-Q4\", \"method\": \"animate\"}, {\"args\": [[\"2019-10-Q1\"], {\"frame\": {\"duration\": 0, \"redraw\": true}, \"fromcurrent\": true, \"mode\": \"immediate\", \"transition\": {\"duration\": 0, \"easing\": \"linear\"}}], \"label\": \"2019-10-Q1\", \"method\": \"animate\"}, {\"args\": [[\"2019-10-Q2\"], {\"frame\": {\"duration\": 0, \"redraw\": true}, \"fromcurrent\": true, \"mode\": \"immediate\", \"transition\": {\"duration\": 0, \"easing\": \"linear\"}}], \"label\": \"2019-10-Q2\", \"method\": \"animate\"}, {\"args\": [[\"2019-10-Q3\"], {\"frame\": {\"duration\": 0, \"redraw\": true}, \"fromcurrent\": true, \"mode\": \"immediate\", \"transition\": {\"duration\": 0, \"easing\": \"linear\"}}], \"label\": \"2019-10-Q3\", \"method\": \"animate\"}, {\"args\": [[\"2019-10-Q4\"], {\"frame\": {\"duration\": 0, \"redraw\": true}, \"fromcurrent\": true, \"mode\": \"immediate\", \"transition\": {\"duration\": 0, \"easing\": \"linear\"}}], \"label\": \"2019-10-Q4\", \"method\": \"animate\"}, {\"args\": [[\"2019-11-Q1\"], {\"frame\": {\"duration\": 0, \"redraw\": true}, \"fromcurrent\": true, \"mode\": \"immediate\", \"transition\": {\"duration\": 0, \"easing\": \"linear\"}}], \"label\": \"2019-11-Q1\", \"method\": \"animate\"}, {\"args\": [[\"2019-11-Q2\"], {\"frame\": {\"duration\": 0, \"redraw\": true}, \"fromcurrent\": true, \"mode\": \"immediate\", \"transition\": {\"duration\": 0, \"easing\": \"linear\"}}], \"label\": \"2019-11-Q2\", \"method\": \"animate\"}, {\"args\": [[\"2019-11-Q3\"], {\"frame\": {\"duration\": 0, \"redraw\": true}, \"fromcurrent\": true, \"mode\": \"immediate\", \"transition\": {\"duration\": 0, \"easing\": \"linear\"}}], \"label\": \"2019-11-Q3\", \"method\": \"animate\"}, {\"args\": [[\"2019-11-Q4\"], {\"frame\": {\"duration\": 0, \"redraw\": true}, \"fromcurrent\": true, \"mode\": \"immediate\", \"transition\": {\"duration\": 0, \"easing\": \"linear\"}}], \"label\": \"2019-11-Q4\", \"method\": \"animate\"}, {\"args\": [[\"2019-12-Q1\"], {\"frame\": {\"duration\": 0, \"redraw\": true}, \"fromcurrent\": true, \"mode\": \"immediate\", \"transition\": {\"duration\": 0, \"easing\": \"linear\"}}], \"label\": \"2019-12-Q1\", \"method\": \"animate\"}, {\"args\": [[\"2019-12-Q2\"], {\"frame\": {\"duration\": 0, \"redraw\": true}, \"fromcurrent\": true, \"mode\": \"immediate\", \"transition\": {\"duration\": 0, \"easing\": \"linear\"}}], \"label\": \"2019-12-Q2\", \"method\": \"animate\"}, {\"args\": [[\"2019-12-Q3\"], {\"frame\": {\"duration\": 0, \"redraw\": true}, \"fromcurrent\": true, \"mode\": \"immediate\", \"transition\": {\"duration\": 0, \"easing\": \"linear\"}}], \"label\": \"2019-12-Q3\", \"method\": \"animate\"}, {\"args\": [[\"2019-12-Q4\"], {\"frame\": {\"duration\": 0, \"redraw\": true}, \"fromcurrent\": true, \"mode\": \"immediate\", \"transition\": {\"duration\": 0, \"easing\": \"linear\"}}], \"label\": \"2019-12-Q4\", \"method\": \"animate\"}, {\"args\": [[\"2020-1-Q1\"], {\"frame\": {\"duration\": 0, \"redraw\": true}, \"fromcurrent\": true, \"mode\": \"immediate\", \"transition\": {\"duration\": 0, \"easing\": \"linear\"}}], \"label\": \"2020-1-Q1\", \"method\": \"animate\"}, {\"args\": [[\"2020-1-Q2\"], {\"frame\": {\"duration\": 0, \"redraw\": true}, \"fromcurrent\": true, \"mode\": \"immediate\", \"transition\": {\"duration\": 0, \"easing\": \"linear\"}}], \"label\": \"2020-1-Q2\", \"method\": \"animate\"}, {\"args\": [[\"2020-1-Q3\"], {\"frame\": {\"duration\": 0, \"redraw\": true}, \"fromcurrent\": true, \"mode\": \"immediate\", \"transition\": {\"duration\": 0, \"easing\": \"linear\"}}], \"label\": \"2020-1-Q3\", \"method\": \"animate\"}, {\"args\": [[\"2020-1-Q4\"], {\"frame\": {\"duration\": 0, \"redraw\": true}, \"fromcurrent\": true, \"mode\": \"immediate\", \"transition\": {\"duration\": 0, \"easing\": \"linear\"}}], \"label\": \"2020-1-Q4\", \"method\": \"animate\"}, {\"args\": [[\"2020-2-Q1\"], {\"frame\": {\"duration\": 0, \"redraw\": true}, \"fromcurrent\": true, \"mode\": \"immediate\", \"transition\": {\"duration\": 0, \"easing\": \"linear\"}}], \"label\": \"2020-2-Q1\", \"method\": \"animate\"}, {\"args\": [[\"2020-2-Q2\"], {\"frame\": {\"duration\": 0, \"redraw\": true}, \"fromcurrent\": true, \"mode\": \"immediate\", \"transition\": {\"duration\": 0, \"easing\": \"linear\"}}], \"label\": \"2020-2-Q2\", \"method\": \"animate\"}, {\"args\": [[\"2020-2-Q3\"], {\"frame\": {\"duration\": 0, \"redraw\": true}, \"fromcurrent\": true, \"mode\": \"immediate\", \"transition\": {\"duration\": 0, \"easing\": \"linear\"}}], \"label\": \"2020-2-Q3\", \"method\": \"animate\"}, {\"args\": [[\"2020-2-Q4\"], {\"frame\": {\"duration\": 0, \"redraw\": true}, \"fromcurrent\": true, \"mode\": \"immediate\", \"transition\": {\"duration\": 0, \"easing\": \"linear\"}}], \"label\": \"2020-2-Q4\", \"method\": \"animate\"}, {\"args\": [[\"2020-3-Q1\"], {\"frame\": {\"duration\": 0, \"redraw\": true}, \"fromcurrent\": true, \"mode\": \"immediate\", \"transition\": {\"duration\": 0, \"easing\": \"linear\"}}], \"label\": \"2020-3-Q1\", \"method\": \"animate\"}, {\"args\": [[\"2020-3-Q2\"], {\"frame\": {\"duration\": 0, \"redraw\": true}, \"fromcurrent\": true, \"mode\": \"immediate\", \"transition\": {\"duration\": 0, \"easing\": \"linear\"}}], \"label\": \"2020-3-Q2\", \"method\": \"animate\"}, {\"args\": [[\"2020-3-Q3\"], {\"frame\": {\"duration\": 0, \"redraw\": true}, \"fromcurrent\": true, \"mode\": \"immediate\", \"transition\": {\"duration\": 0, \"easing\": \"linear\"}}], \"label\": \"2020-3-Q3\", \"method\": \"animate\"}, {\"args\": [[\"2020-3-Q4\"], {\"frame\": {\"duration\": 0, \"redraw\": true}, \"fromcurrent\": true, \"mode\": \"immediate\", \"transition\": {\"duration\": 0, \"easing\": \"linear\"}}], \"label\": \"2020-3-Q4\", \"method\": \"animate\"}, {\"args\": [[\"2020-4-Q1\"], {\"frame\": {\"duration\": 0, \"redraw\": true}, \"fromcurrent\": true, \"mode\": \"immediate\", \"transition\": {\"duration\": 0, \"easing\": \"linear\"}}], \"label\": \"2020-4-Q1\", \"method\": \"animate\"}, {\"args\": [[\"2020-4-Q2\"], {\"frame\": {\"duration\": 0, \"redraw\": true}, \"fromcurrent\": true, \"mode\": \"immediate\", \"transition\": {\"duration\": 0, \"easing\": \"linear\"}}], \"label\": \"2020-4-Q2\", \"method\": \"animate\"}, {\"args\": [[\"2020-4-Q3\"], {\"frame\": {\"duration\": 0, \"redraw\": true}, \"fromcurrent\": true, \"mode\": \"immediate\", \"transition\": {\"duration\": 0, \"easing\": \"linear\"}}], \"label\": \"2020-4-Q3\", \"method\": \"animate\"}, {\"args\": [[\"2020-4-Q4\"], {\"frame\": {\"duration\": 0, \"redraw\": true}, \"fromcurrent\": true, \"mode\": \"immediate\", \"transition\": {\"duration\": 0, \"easing\": \"linear\"}}], \"label\": \"2020-4-Q4\", \"method\": \"animate\"}, {\"args\": [[\"2020-5-Q1\"], {\"frame\": {\"duration\": 0, \"redraw\": true}, \"fromcurrent\": true, \"mode\": \"immediate\", \"transition\": {\"duration\": 0, \"easing\": \"linear\"}}], \"label\": \"2020-5-Q1\", \"method\": \"animate\"}, {\"args\": [[\"2020-5-Q2\"], {\"frame\": {\"duration\": 0, \"redraw\": true}, \"fromcurrent\": true, \"mode\": \"immediate\", \"transition\": {\"duration\": 0, \"easing\": \"linear\"}}], \"label\": \"2020-5-Q2\", \"method\": \"animate\"}, {\"args\": [[\"2020-5-Q3\"], {\"frame\": {\"duration\": 0, \"redraw\": true}, \"fromcurrent\": true, \"mode\": \"immediate\", \"transition\": {\"duration\": 0, \"easing\": \"linear\"}}], \"label\": \"2020-5-Q3\", \"method\": \"animate\"}, {\"args\": [[\"2020-5-Q4\"], {\"frame\": {\"duration\": 0, \"redraw\": true}, \"fromcurrent\": true, \"mode\": \"immediate\", \"transition\": {\"duration\": 0, \"easing\": \"linear\"}}], \"label\": \"2020-5-Q4\", \"method\": \"animate\"}, {\"args\": [[\"2020-6-Q1\"], {\"frame\": {\"duration\": 0, \"redraw\": true}, \"fromcurrent\": true, \"mode\": \"immediate\", \"transition\": {\"duration\": 0, \"easing\": \"linear\"}}], \"label\": \"2020-6-Q1\", \"method\": \"animate\"}, {\"args\": [[\"2020-6-Q2\"], {\"frame\": {\"duration\": 0, \"redraw\": true}, \"fromcurrent\": true, \"mode\": \"immediate\", \"transition\": {\"duration\": 0, \"easing\": \"linear\"}}], \"label\": \"2020-6-Q2\", \"method\": \"animate\"}, {\"args\": [[\"2020-6-Q3\"], {\"frame\": {\"duration\": 0, \"redraw\": true}, \"fromcurrent\": true, \"mode\": \"immediate\", \"transition\": {\"duration\": 0, \"easing\": \"linear\"}}], \"label\": \"2020-6-Q3\", \"method\": \"animate\"}, {\"args\": [[\"2020-6-Q4\"], {\"frame\": {\"duration\": 0, \"redraw\": true}, \"fromcurrent\": true, \"mode\": \"immediate\", \"transition\": {\"duration\": 0, \"easing\": \"linear\"}}], \"label\": \"2020-6-Q4\", \"method\": \"animate\"}, {\"args\": [[\"2020-7-Q1\"], {\"frame\": {\"duration\": 0, \"redraw\": true}, \"fromcurrent\": true, \"mode\": \"immediate\", \"transition\": {\"duration\": 0, \"easing\": \"linear\"}}], \"label\": \"2020-7-Q1\", \"method\": \"animate\"}, {\"args\": [[\"2020-7-Q2\"], {\"frame\": {\"duration\": 0, \"redraw\": true}, \"fromcurrent\": true, \"mode\": \"immediate\", \"transition\": {\"duration\": 0, \"easing\": \"linear\"}}], \"label\": \"2020-7-Q2\", \"method\": \"animate\"}, {\"args\": [[\"2020-7-Q3\"], {\"frame\": {\"duration\": 0, \"redraw\": true}, \"fromcurrent\": true, \"mode\": \"immediate\", \"transition\": {\"duration\": 0, \"easing\": \"linear\"}}], \"label\": \"2020-7-Q3\", \"method\": \"animate\"}, {\"args\": [[\"2020-7-Q4\"], {\"frame\": {\"duration\": 0, \"redraw\": true}, \"fromcurrent\": true, \"mode\": \"immediate\", \"transition\": {\"duration\": 0, \"easing\": \"linear\"}}], \"label\": \"2020-7-Q4\", \"method\": \"animate\"}], \"x\": 0.1, \"xanchor\": \"left\", \"y\": 0, \"yanchor\": \"top\"}], \"template\": {\"data\": {\"bar\": [{\"error_x\": {\"color\": \"#2a3f5f\"}, \"error_y\": {\"color\": \"#2a3f5f\"}, \"marker\": {\"line\": {\"color\": \"#E5ECF6\", \"width\": 0.5}}, \"type\": \"bar\"}], \"barpolar\": [{\"marker\": {\"line\": {\"color\": \"#E5ECF6\", \"width\": 0.5}}, \"type\": \"barpolar\"}], \"carpet\": [{\"aaxis\": {\"endlinecolor\": \"#2a3f5f\", \"gridcolor\": \"white\", \"linecolor\": \"white\", \"minorgridcolor\": \"white\", \"startlinecolor\": \"#2a3f5f\"}, \"baxis\": {\"endlinecolor\": \"#2a3f5f\", \"gridcolor\": \"white\", \"linecolor\": \"white\", \"minorgridcolor\": \"white\", \"startlinecolor\": \"#2a3f5f\"}, \"type\": \"carpet\"}], \"choropleth\": [{\"colorbar\": {\"outlinewidth\": 0, \"ticks\": \"\"}, \"type\": \"choropleth\"}], \"contour\": [{\"colorbar\": {\"outlinewidth\": 0, \"ticks\": \"\"}, \"colorscale\": [[0.0, \"#0d0887\"], [0.1111111111111111, \"#46039f\"], [0.2222222222222222, \"#7201a8\"], [0.3333333333333333, \"#9c179e\"], [0.4444444444444444, \"#bd3786\"], [0.5555555555555556, \"#d8576b\"], [0.6666666666666666, \"#ed7953\"], [0.7777777777777778, \"#fb9f3a\"], [0.8888888888888888, \"#fdca26\"], [1.0, \"#f0f921\"]], \"type\": \"contour\"}], \"contourcarpet\": [{\"colorbar\": {\"outlinewidth\": 0, \"ticks\": \"\"}, \"type\": \"contourcarpet\"}], \"heatmap\": [{\"colorbar\": {\"outlinewidth\": 0, \"ticks\": \"\"}, \"colorscale\": [[0.0, \"#0d0887\"], [0.1111111111111111, \"#46039f\"], [0.2222222222222222, \"#7201a8\"], [0.3333333333333333, \"#9c179e\"], [0.4444444444444444, \"#bd3786\"], [0.5555555555555556, \"#d8576b\"], [0.6666666666666666, \"#ed7953\"], [0.7777777777777778, \"#fb9f3a\"], [0.8888888888888888, \"#fdca26\"], [1.0, \"#f0f921\"]], \"type\": \"heatmap\"}], \"heatmapgl\": [{\"colorbar\": {\"outlinewidth\": 0, \"ticks\": \"\"}, \"colorscale\": [[0.0, \"#0d0887\"], [0.1111111111111111, \"#46039f\"], [0.2222222222222222, \"#7201a8\"], [0.3333333333333333, \"#9c179e\"], [0.4444444444444444, \"#bd3786\"], [0.5555555555555556, \"#d8576b\"], [0.6666666666666666, \"#ed7953\"], [0.7777777777777778, \"#fb9f3a\"], [0.8888888888888888, \"#fdca26\"], [1.0, \"#f0f921\"]], \"type\": \"heatmapgl\"}], \"histogram\": [{\"marker\": {\"colorbar\": {\"outlinewidth\": 0, \"ticks\": \"\"}}, \"type\": \"histogram\"}], \"histogram2d\": [{\"colorbar\": {\"outlinewidth\": 0, \"ticks\": \"\"}, \"colorscale\": [[0.0, \"#0d0887\"], [0.1111111111111111, \"#46039f\"], [0.2222222222222222, \"#7201a8\"], [0.3333333333333333, \"#9c179e\"], [0.4444444444444444, \"#bd3786\"], [0.5555555555555556, \"#d8576b\"], [0.6666666666666666, \"#ed7953\"], [0.7777777777777778, \"#fb9f3a\"], [0.8888888888888888, \"#fdca26\"], [1.0, \"#f0f921\"]], \"type\": \"histogram2d\"}], \"histogram2dcontour\": [{\"colorbar\": {\"outlinewidth\": 0, \"ticks\": \"\"}, \"colorscale\": [[0.0, \"#0d0887\"], [0.1111111111111111, \"#46039f\"], [0.2222222222222222, \"#7201a8\"], [0.3333333333333333, \"#9c179e\"], [0.4444444444444444, \"#bd3786\"], [0.5555555555555556, \"#d8576b\"], [0.6666666666666666, \"#ed7953\"], [0.7777777777777778, \"#fb9f3a\"], [0.8888888888888888, \"#fdca26\"], [1.0, \"#f0f921\"]], \"type\": \"histogram2dcontour\"}], \"mesh3d\": [{\"colorbar\": {\"outlinewidth\": 0, \"ticks\": \"\"}, \"type\": \"mesh3d\"}], \"parcoords\": [{\"line\": {\"colorbar\": {\"outlinewidth\": 0, \"ticks\": \"\"}}, \"type\": \"parcoords\"}], \"pie\": [{\"automargin\": true, \"type\": \"pie\"}], \"scatter\": [{\"marker\": {\"colorbar\": {\"outlinewidth\": 0, \"ticks\": \"\"}}, \"type\": \"scatter\"}], \"scatter3d\": [{\"line\": {\"colorbar\": {\"outlinewidth\": 0, \"ticks\": \"\"}}, \"marker\": {\"colorbar\": {\"outlinewidth\": 0, \"ticks\": \"\"}}, \"type\": \"scatter3d\"}], \"scattercarpet\": [{\"marker\": {\"colorbar\": {\"outlinewidth\": 0, \"ticks\": \"\"}}, \"type\": \"scattercarpet\"}], \"scattergeo\": [{\"marker\": {\"colorbar\": {\"outlinewidth\": 0, \"ticks\": \"\"}}, \"type\": \"scattergeo\"}], \"scattergl\": [{\"marker\": {\"colorbar\": {\"outlinewidth\": 0, \"ticks\": \"\"}}, \"type\": \"scattergl\"}], \"scattermapbox\": [{\"marker\": {\"colorbar\": {\"outlinewidth\": 0, \"ticks\": \"\"}}, \"type\": \"scattermapbox\"}], \"scatterpolar\": [{\"marker\": {\"colorbar\": {\"outlinewidth\": 0, \"ticks\": \"\"}}, \"type\": \"scatterpolar\"}], \"scatterpolargl\": [{\"marker\": {\"colorbar\": {\"outlinewidth\": 0, \"ticks\": \"\"}}, \"type\": \"scatterpolargl\"}], \"scatterternary\": [{\"marker\": {\"colorbar\": {\"outlinewidth\": 0, \"ticks\": \"\"}}, \"type\": \"scatterternary\"}], \"surface\": [{\"colorbar\": {\"outlinewidth\": 0, \"ticks\": \"\"}, \"colorscale\": [[0.0, \"#0d0887\"], [0.1111111111111111, \"#46039f\"], [0.2222222222222222, \"#7201a8\"], [0.3333333333333333, \"#9c179e\"], [0.4444444444444444, \"#bd3786\"], [0.5555555555555556, \"#d8576b\"], [0.6666666666666666, \"#ed7953\"], [0.7777777777777778, \"#fb9f3a\"], [0.8888888888888888, \"#fdca26\"], [1.0, \"#f0f921\"]], \"type\": \"surface\"}], \"table\": [{\"cells\": {\"fill\": {\"color\": \"#EBF0F8\"}, \"line\": {\"color\": \"white\"}}, \"header\": {\"fill\": {\"color\": \"#C8D4E3\"}, \"line\": {\"color\": \"white\"}}, \"type\": \"table\"}]}, \"layout\": {\"annotationdefaults\": {\"arrowcolor\": \"#2a3f5f\", \"arrowhead\": 0, \"arrowwidth\": 1}, \"coloraxis\": {\"colorbar\": {\"outlinewidth\": 0, \"ticks\": \"\"}}, \"colorscale\": {\"diverging\": [[0, \"#8e0152\"], [0.1, \"#c51b7d\"], [0.2, \"#de77ae\"], [0.3, \"#f1b6da\"], [0.4, \"#fde0ef\"], [0.5, \"#f7f7f7\"], [0.6, \"#e6f5d0\"], [0.7, \"#b8e186\"], [0.8, \"#7fbc41\"], [0.9, \"#4d9221\"], [1, \"#276419\"]], \"sequential\": [[0.0, \"#0d0887\"], [0.1111111111111111, \"#46039f\"], [0.2222222222222222, \"#7201a8\"], [0.3333333333333333, \"#9c179e\"], [0.4444444444444444, \"#bd3786\"], [0.5555555555555556, \"#d8576b\"], [0.6666666666666666, \"#ed7953\"], [0.7777777777777778, \"#fb9f3a\"], [0.8888888888888888, \"#fdca26\"], [1.0, \"#f0f921\"]], \"sequentialminus\": [[0.0, \"#0d0887\"], [0.1111111111111111, \"#46039f\"], [0.2222222222222222, \"#7201a8\"], [0.3333333333333333, \"#9c179e\"], [0.4444444444444444, \"#bd3786\"], [0.5555555555555556, \"#d8576b\"], [0.6666666666666666, \"#ed7953\"], [0.7777777777777778, \"#fb9f3a\"], [0.8888888888888888, \"#fdca26\"], [1.0, \"#f0f921\"]]}, \"colorway\": [\"#636efa\", \"#EF553B\", \"#00cc96\", \"#ab63fa\", \"#FFA15A\", \"#19d3f3\", \"#FF6692\", \"#B6E880\", \"#FF97FF\", \"#FECB52\"], \"font\": {\"color\": \"#2a3f5f\"}, \"geo\": {\"bgcolor\": \"white\", \"lakecolor\": \"white\", \"landcolor\": \"#E5ECF6\", \"showlakes\": true, \"showland\": true, \"subunitcolor\": \"white\"}, \"hoverlabel\": {\"align\": \"left\"}, \"hovermode\": \"closest\", \"mapbox\": {\"style\": \"light\"}, \"paper_bgcolor\": \"white\", \"plot_bgcolor\": \"#E5ECF6\", \"polar\": {\"angularaxis\": {\"gridcolor\": \"white\", \"linecolor\": \"white\", \"ticks\": \"\"}, \"bgcolor\": \"#E5ECF6\", \"radialaxis\": {\"gridcolor\": \"white\", \"linecolor\": \"white\", \"ticks\": \"\"}}, \"scene\": {\"xaxis\": {\"backgroundcolor\": \"#E5ECF6\", \"gridcolor\": \"white\", \"gridwidth\": 2, \"linecolor\": \"white\", \"showbackground\": true, \"ticks\": \"\", \"zerolinecolor\": \"white\"}, \"yaxis\": {\"backgroundcolor\": \"#E5ECF6\", \"gridcolor\": \"white\", \"gridwidth\": 2, \"linecolor\": \"white\", \"showbackground\": true, \"ticks\": \"\", \"zerolinecolor\": \"white\"}, \"zaxis\": {\"backgroundcolor\": \"#E5ECF6\", \"gridcolor\": \"white\", \"gridwidth\": 2, \"linecolor\": \"white\", \"showbackground\": true, \"ticks\": \"\", \"zerolinecolor\": \"white\"}}, \"shapedefaults\": {\"line\": {\"color\": \"#2a3f5f\"}}, \"ternary\": {\"aaxis\": {\"gridcolor\": \"white\", \"linecolor\": \"white\", \"ticks\": \"\"}, \"baxis\": {\"gridcolor\": \"white\", \"linecolor\": \"white\", \"ticks\": \"\"}, \"bgcolor\": \"#E5ECF6\", \"caxis\": {\"gridcolor\": \"white\", \"linecolor\": \"white\", \"ticks\": \"\"}}, \"title\": {\"x\": 0.05}, \"xaxis\": {\"automargin\": true, \"gridcolor\": \"white\", \"linecolor\": \"white\", \"ticks\": \"\", \"title\": {\"standoff\": 15}, \"zerolinecolor\": \"white\", \"zerolinewidth\": 2}, \"yaxis\": {\"automargin\": true, \"gridcolor\": \"white\", \"linecolor\": \"white\", \"ticks\": \"\", \"title\": {\"standoff\": 15}, \"zerolinecolor\": \"white\", \"zerolinewidth\": 2}}}, \"updatemenus\": [{\"buttons\": [{\"args\": [null, {\"frame\": {\"duration\": 500, \"redraw\": true}, \"fromcurrent\": true, \"mode\": \"immediate\", \"transition\": {\"duration\": 500, \"easing\": \"linear\"}}], \"label\": \"&#9654;\", \"method\": \"animate\"}, {\"args\": [[null], {\"frame\": {\"duration\": 0, \"redraw\": true}, \"fromcurrent\": true, \"mode\": \"immediate\", \"transition\": {\"duration\": 0, \"easing\": \"linear\"}}], \"label\": \"&#9724;\", \"method\": \"animate\"}], \"direction\": \"left\", \"pad\": {\"r\": 10, \"t\": 70}, \"showactive\": false, \"type\": \"buttons\", \"x\": 0.1, \"xanchor\": \"right\", \"y\": 0, \"yanchor\": \"top\"}], \"xaxis\": {\"anchor\": \"y\", \"domain\": [0.0, 1.0], \"title\": {\"text\": \"term\"}}, \"yaxis\": {\"anchor\": \"x\", \"domain\": [0.0, 1.0], \"title\": {\"text\": \"tfidf\"}}},\n",
       "                        {\"responsive\": true}\n",
       "                    ).then(function(){\n",
       "                            Plotly.addFrames('15da4389-ffda-457e-ad82-08ffea03daf3', [{\"data\": [{\"alignmentgroup\": \"True\", \"hovertemplate\": \"time_period=2019-8-Q1<br>term=%{x}<br>tfidf=%{y}<extra></extra>\", \"legendgroup\": \"\", \"marker\": {\"color\": \"#636efa\"}, \"name\": \"\", \"offsetgroup\": \"\", \"orientation\": \"v\", \"showlegend\": false, \"textposition\": \"auto\", \"x\": [\"shootings\", \"el_paso\", \"toni\", \"trump\", \"dayton\", \"morrison\", \"new\", \"woodstock\", \"trade\", \"gun\", \"hong_kong\", \"debates\", \"briefing\", \"china\", \"says\", \"war\", \"review\", \"white\", \"terrorism\", \"kashmir\"], \"xaxis\": \"x\", \"y\": [0.2294162654764872, 0.22521932344035325, 0.21156966747427125, 0.1798276391000323, 0.15093855918169768, 0.1402124052760081, 0.13170474976340393, 0.12430234285551575, 0.10099399808611964, 0.09408320992936137, 0.09163572197088836, 0.09124625047613394, 0.09118021137466427, 0.08864742772536803, 0.07851629312818313, 0.07851629312818313, 0.0759835094788869, 0.07539845987250472, 0.07379019470044502, 0.07190322354182446], \"yaxis\": \"y\", \"type\": \"bar\"}], \"name\": \"2019-8-Q1\"}, {\"data\": [{\"alignmentgroup\": \"True\", \"hovertemplate\": \"time_period=2019-8-Q2<br>term=%{x}<br>tfidf=%{y}<extra></extra>\", \"legendgroup\": \"\", \"marker\": {\"color\": \"#636efa\"}, \"name\": \"\", \"offsetgroup\": \"\", \"orientation\": \"v\", \"showlegend\": false, \"textposition\": \"auto\", \"x\": [\"trump\", \"new\", \"jefrey_epstein\", \"el_paso\", \"review\", \"briefing\", \"woodstock\", \"hong_kong\", \"war\", \"summer\", \"kashmir\", \"august\", \"weekend\", \"epstein\", \"airport\", \"dies\", \"says\", \"police\", \"american\", \"2019\"], \"xaxis\": \"x\", \"y\": [0.2247415334400264, 0.1698047141546866, 0.15993195165479127, 0.15476126898465326, 0.13734204821334944, 0.11736502301868044, 0.11379871744122315, 0.10446222889757972, 0.09239374152534416, 0.09206265700374516, 0.08725046049460385, 0.08522594603522574, 0.08240522892800968, 0.08224968597413157, 0.08049117125549096, 0.07491384448000879, 0.06742246003200791, 0.06492533188267427, 0.06492533188267427, 0.06340950641452434], \"yaxis\": \"y\", \"type\": \"bar\"}], \"name\": \"2019-8-Q2\"}, {\"data\": [{\"alignmentgroup\": \"True\", \"hovertemplate\": \"time_period=2019-8-Q3<br>term=%{x}<br>tfidf=%{y}<extra></extra>\", \"legendgroup\": \"\", \"marker\": {\"color\": \"#636efa\"}, \"name\": \"\", \"offsetgroup\": \"\", \"orientation\": \"v\", \"showlegend\": false, \"textposition\": \"auto\", \"x\": [\"trump\", \"greenland\", \"hong_kong\", \"garner\", \"annual\", \"briefing\", \"new\", \"trumps\", \"contest\", \"dies\", \"summer\", \"american\", \"eric\", \"review\", \"man\", \"pantaleo\", \"recession\", \"august\", \"says\", \"china\"], \"xaxis\": \"x\", \"y\": [0.2316368695879208, 0.1589107381540518, 0.15067834834817168, 0.14443509517859054, 0.12219834364183993, 0.11423188089267325, 0.10788566528752473, 0.08884701847207918, 0.08812768737662689, 0.08250080286693066, 0.08232227016615473, 0.07932769506435641, 0.07838618146012409, 0.07615458726178216, 0.0729814794592079, 0.07221754758929529, 0.07089918473674027, 0.06618140875597095, 0.06346215605148513, 0.060289048248910876], \"yaxis\": \"y\", \"type\": \"bar\"}], \"name\": \"2019-8-Q3\"}, {\"data\": [{\"alignmentgroup\": \"True\", \"hovertemplate\": \"time_period=2019-8-Q4<br>term=%{x}<br>tfidf=%{y}<extra></extra>\", \"legendgroup\": \"\", \"marker\": {\"color\": \"#636efa\"}, \"name\": \"\", \"offsetgroup\": \"\", \"orientation\": \"v\", \"showlegend\": false, \"textposition\": \"auto\", \"x\": [\"trump\", \"g7\", \"dorian\", \"hurricane\", \"new\", \"war\", \"summer\", \"briefing\", \"amazon\", \"open\", \"hong_kong\", \"koch\", \"dies\", \"china\", \"2019\", \"trade\", \"day\", \"greenland\", \"coco\", \"johnson\"], \"xaxis\": \"x\", \"y\": [0.2404558636453532, 0.18337679468317447, 0.16503911521485706, 0.15161625139245802, 0.12249638336650068, 0.1020803194720839, 0.09911933859882263, 0.09754341638443573, 0.09647079282978242, 0.09300651329678757, 0.09233125553817577, 0.09142039105195422, 0.08846961020913939, 0.0862011586653153, 0.08185650772791836, 0.08040340768557025, 0.07485890094619486, 0.07350919868150728, 0.07335071787326979, 0.06994132480159225], \"yaxis\": \"y\", \"type\": \"bar\"}], \"name\": \"2019-8-Q4\"}, {\"data\": [{\"alignmentgroup\": \"True\", \"hovertemplate\": \"time_period=2019-9-Q1<br>term=%{x}<br>tfidf=%{y}<extra></extra>\", \"legendgroup\": \"\", \"marker\": {\"color\": \"#636efa\"}, \"name\": \"\", \"offsetgroup\": \"\", \"orientation\": \"v\", \"showlegend\": false, \"textposition\": \"auto\", \"x\": [\"dorian\", \"bahamas\", \"hurricane\", \"trump\", \"new\", \"brexit\", \"dorians\", \"review\", \"hong_kong\", \"open\", \"dies\", \"briefing\", \"serena\", \"september\", \"2019\", \"life\", \"bianca\", \"day\", \"new_york\", \"summer\"], \"xaxis\": \"x\", \"y\": [0.3485210189412373, 0.22146055943497772, 0.20493078834899486, 0.1464234853016158, 0.12934074534976062, 0.11384586803022913, 0.0941034096767226, 0.09273487402435668, 0.09105214121402036, 0.09029448260266308, 0.09029448260266308, 0.08541369975927589, 0.08214371598307635, 0.0786623481483675, 0.07501485377638745, 0.0732117426508079, 0.06843884340125281, 0.06345017696403353, 0.06100978554233993, 0.05998061372226434], \"yaxis\": \"y\", \"type\": \"bar\"}], \"name\": \"2019-9-Q1\"}, {\"data\": [{\"alignmentgroup\": \"True\", \"hovertemplate\": \"time_period=2019-9-Q2<br>term=%{x}<br>tfidf=%{y}<extra></extra>\", \"legendgroup\": \"\", \"marker\": {\"color\": \"#636efa\"}, \"name\": \"\", \"offsetgroup\": \"\", \"orientation\": \"v\", \"showlegend\": false, \"textposition\": \"auto\", \"x\": [\"trump\", \"new\", \"debate\", \"spring\", \"fpo\", \"briefing\", \"executive\", \"democratic\", \"11\", \"says\", \"2020\", \"dorian\", \"power\", \"bolton\", \"dies\", \"brexit\", \"day\", \"bahamas\", \"review\", \"cigarettes\"], \"xaxis\": \"x\", \"y\": [0.25238954885029746, 0.18814493641567628, 0.14939044891548414, 0.11845460934497755, 0.10597012139084884, 0.1055447204283062, 0.09906047697703024, 0.09799272161511548, 0.09636691865193177, 0.09407246820783814, 0.09177801776374453, 0.08655662887457022, 0.08430337356382164, 0.08266202111669915, 0.08030576554327645, 0.08027821893800037, 0.07571686465508923, 0.07474446088369158, 0.07342241421099563, 0.062026235922022124], \"yaxis\": \"y\", \"type\": \"bar\"}], \"name\": \"2019-9-Q2\"}, {\"data\": [{\"alignmentgroup\": \"True\", \"hovertemplate\": \"time_period=2019-9-Q3<br>term=%{x}<br>tfidf=%{y}<extra></extra>\", \"legendgroup\": \"\", \"marker\": {\"color\": \"#636efa\"}, \"name\": \"\", \"offsetgroup\": \"\", \"orientation\": \"v\", \"showlegend\": false, \"textposition\": \"auto\", \"x\": [\"trump\", \"new\", \"says\", \"trudeau\", \"spring\", \"iran\", \"review\", \"briefing\", \"2020\", \"climate\", \"whistle\", \"saudis\", \"blower\", \"strike\", \"saudi\", \"rugby\", \"kavanaugh\", \"2019\", \"dies\", \"cokie\"], \"xaxis\": \"x\", \"y\": [0.2614553831077567, 0.1547389002066315, 0.11472021911870955, 0.10117192262581322, 0.10050943576621987, 0.10047208151063952, 0.0987127466835408, 0.09604483461101268, 0.09604483461101268, 0.09530228812241312, 0.09128202208716164, 0.08990007571849723, 0.08599613423194122, 0.08556615122471789, 0.08201603850998146, 0.07984287219612707, 0.07443620739852637, 0.0713118082936081, 0.06936571388573137, 0.06721014419347669], \"yaxis\": \"y\", \"type\": \"bar\"}], \"name\": \"2019-9-Q3\"}, {\"data\": [{\"alignmentgroup\": \"True\", \"hovertemplate\": \"time_period=2019-9-Q4<br>term=%{x}<br>tfidf=%{y}<extra></extra>\", \"legendgroup\": \"\", \"marker\": {\"color\": \"#636efa\"}, \"name\": \"\", \"offsetgroup\": \"\", \"orientation\": \"v\", \"showlegend\": false, \"textposition\": \"auto\", \"x\": [\"impeachment\", \"trump\", \"ukraine\", \"spring\", \"new\", \"2020\", \"emmy\", \"whistle\", \"emmys\", \"inquiry\", \"review\", \"says\", \"briefing\", \"trumps\", \"2019\", \"dies\", \"blower\", \"september\", \"complaint\", \"climate\"], \"xaxis\": \"x\", \"y\": [0.35708958194627666, 0.28841870370419065, 0.16015740712220355, 0.14170221505804628, 0.1360848813252167, 0.1320226460617774, 0.11995771366446775, 0.11338534056988253, 0.11333858776104296, 0.11248640857372316, 0.10358699921770227, 0.09749364632254333, 0.09140029342738436, 0.09140029342738436, 0.08143596972315435, 0.07921358763706644, 0.07702355635938937, 0.07702355635938937, 0.07321002536633674, 0.07048192620336108], \"yaxis\": \"y\", \"type\": \"bar\"}], \"name\": \"2019-9-Q4\"}, {\"data\": [{\"alignmentgroup\": \"True\", \"hovertemplate\": \"time_period=2019-10-Q1<br>term=%{x}<br>tfidf=%{y}<extra></extra>\", \"legendgroup\": \"\", \"marker\": {\"color\": \"#636efa\"}, \"name\": \"\", \"offsetgroup\": \"\", \"orientation\": \"v\", \"showlegend\": false, \"textposition\": \"auto\", \"x\": [\"trump\", \"impeachment\", \"new\", \"review\", \"ukraine\", \"says\", \"trumps\", \"joker\", \"briefing\", \"police\", \"hong_kong\", \"october\", \"world\", \"new_york\", \"whistle\", \"day\", \"china\", \"dies\", \"million\", \"salazar\"], \"xaxis\": \"x\", \"y\": [0.3187369977794108, 0.20152181229060212, 0.17928956125091858, 0.11952637416727906, 0.10316779373282478, 0.10209544460121753, 0.09960531180606587, 0.0993632719068712, 0.09462504621576258, 0.08964478062545929, 0.08727722624800915, 0.08111904695153924, 0.0796842494448527, 0.0796842494448527, 0.07623099145600391, 0.0747039838545494, 0.06972371826424613, 0.06972371826424613, 0.06972371826424613, 0.06947606823268941], \"yaxis\": \"y\", \"type\": \"bar\"}], \"name\": \"2019-10-Q1\"}, {\"data\": [{\"alignmentgroup\": \"True\", \"hovertemplate\": \"time_period=2019-10-Q2<br>term=%{x}<br>tfidf=%{y}<extra></extra>\", \"legendgroup\": \"\", \"marker\": {\"color\": \"#636efa\"}, \"name\": \"\", \"offsetgroup\": \"\", \"orientation\": \"v\", \"showlegend\": false, \"textposition\": \"auto\", \"x\": [\"trump\", \"impeachment\", \"syria\", \"new\", \"kurds\", \"typhoon\", \"debate\", \"review\", \"lang\", \"october\", \"kurdish\", \"briefing\", \"hagibis\", \"nobel\", \"china\", \"turkey\", \"says\", \"ukraine\", \"california\", \"man\"], \"xaxis\": \"x\", \"y\": [0.28980972428774865, 0.16474545164897278, 0.16273850933259346, 0.1459782314930882, 0.1207488462213228, 0.10750968842415863, 0.10482976174793396, 0.10304345752453284, 0.09013454063494407, 0.08491812620715318, 0.08277993006008301, 0.08157607054025517, 0.08143026425056411, 0.07969572418719457, 0.0794293318418274, 0.0753755067065474, 0.0729891157465441, 0.07172641674322675, 0.06654889965126079, 0.06440216095283302], \"yaxis\": \"y\", \"type\": \"bar\"}], \"name\": \"2019-10-Q2\"}, {\"data\": [{\"alignmentgroup\": \"True\", \"hovertemplate\": \"time_period=2019-10-Q3<br>term=%{x}<br>tfidf=%{y}<extra></extra>\", \"legendgroup\": \"\", \"marker\": {\"color\": \"#636efa\"}, \"name\": \"\", \"offsetgroup\": \"\", \"orientation\": \"v\", \"showlegend\": false, \"textposition\": \"auto\", \"x\": [\"trump\", \"playoffs\", \"brexit\", \"review\", \"syria\", \"new\", \"impeachment\", \"week\", \"17\", \"moma\", \"debate\", \"cummings\", \"dies\", \"make\", \"elijah\", \"briefing\", \"mulvaney\", \"says\", \"deal\", \"astros\"], \"xaxis\": \"x\", \"y\": [0.2316210555487508, 0.1928344505062736, 0.18718376997751265, 0.1535748303094978, 0.15048106998192193, 0.12336338828139988, 0.11943749458687535, 0.11832814794338355, 0.10540178848662432, 0.1042993723953198, 0.09835254665403297, 0.09204651924104323, 0.0906343260842938, 0.08811670591528563, 0.0753450713246439, 0.07301098490123667, 0.07170581852178236, 0.0704933647322285, 0.06937735596318917, 0.06737627503864194], \"yaxis\": \"y\", \"type\": \"bar\"}], \"name\": \"2019-10-Q3\"}, {\"data\": [{\"alignmentgroup\": \"True\", \"hovertemplate\": \"time_period=2019-10-Q4<br>term=%{x}<br>tfidf=%{y}<extra></extra>\", \"legendgroup\": \"\", \"marker\": {\"color\": \"#636efa\"}, \"name\": \"\", \"offsetgroup\": \"\", \"orientation\": \"v\", \"showlegend\": false, \"textposition\": \"auto\", \"x\": [\"trump\", \"impeachment\", \"new\", \"baghdadi\", \"review\", \"california\", \"world\", \"halloween\", \"al\", \"nationals\", \"isis\", \"says\", \"dies\", \"series\", \"briefing\", \"trumps\", \"brexit\", \"inquiry\", \"raid\", \"zuckerberg\"], \"xaxis\": \"x\", \"y\": [0.2344726563091291, 0.1887477021593731, 0.17495267432296555, 0.16576622827517232, 0.15691631614534027, 0.12625450724337722, 0.12264723560785215, 0.1217401693971125, 0.11661484054746572, 0.11208089655743957, 0.10216455354959612, 0.09559269834141418, 0.09559269834141418, 0.08895635490815876, 0.08296724761707645, 0.08116361179931393, 0.07888199951947422, 0.07591496887399922, 0.07580756976532606, 0.07554289989357886], \"yaxis\": \"y\", \"type\": \"bar\"}], \"name\": \"2019-10-Q4\"}, {\"data\": [{\"alignmentgroup\": \"True\", \"hovertemplate\": \"time_period=2019-11-Q1<br>term=%{x}<br>tfidf=%{y}<extra></extra>\", \"legendgroup\": \"\", \"marker\": {\"color\": \"#636efa\"}, \"name\": \"\", \"offsetgroup\": \"\", \"orientation\": \"v\", \"showlegend\": false, \"textposition\": \"auto\", \"x\": [\"trump\", \"new\", \"2019\", \"impeachment\", \"election\", \"review\", \"kentucky\", \"day\", \"briefing\", \"warren\", \"general\", \"dies\", \"mormon\", \"new_york\", \"elizabeth\", \"testimony\", \"popeyes\", \"results\", \"november\", \"mexico\"], \"xaxis\": \"x\", \"y\": [0.2932307593159235, 0.17694959613891936, 0.17229856212244424, 0.14108572870666974, 0.11867879787681895, 0.10869760905676476, 0.09323435727907883, 0.08594694669604654, 0.0834190953226334, 0.08339621947949764, 0.0826797847210235, 0.08089124394922027, 0.07836493023955066, 0.07330768982898088, 0.07123447879480688, 0.07004541650224404, 0.06637899857359589, 0.0641854703847948, 0.06343432476494666, 0.06341034978592483], \"yaxis\": \"y\", \"type\": \"bar\"}], \"name\": \"2019-11-Q1\"}, {\"data\": [{\"alignmentgroup\": \"True\", \"hovertemplate\": \"time_period=2019-11-Q2<br>term=%{x}<br>tfidf=%{y}<extra></extra>\", \"legendgroup\": \"\", \"marker\": {\"color\": \"#636efa\"}, \"name\": \"\", \"offsetgroup\": \"\", \"orientation\": \"v\", \"showlegend\": false, \"textposition\": \"auto\", \"x\": [\"impeachment\", \"trump\", \"new\", \"hearings\", \"day\", \"review\", \"hearing\", \"briefing\", \"bloomberg\", \"says\", \"deval\", \"veterans\", \"dies\", \"ukraine\", \"court\", \"bolivia\", \"yovanovitch\", \"evo\", \"hong_kong\", \"morales\"], \"xaxis\": \"x\", \"y\": [0.3452845994669973, 0.23226543055448776, 0.14109582229945514, 0.14051164245870096, 0.10636454296420468, 0.10419383800575152, 0.1039322744904668, 0.08682819833812626, 0.08643280120794353, 0.08248678842121994, 0.08075180895314159, 0.07626084612896689, 0.07597467354586047, 0.07542825968258482, 0.07163326362895417, 0.07019006750533996, 0.06729317412761801, 0.06729317412761801, 0.06626455657469821, 0.061048445116326386], \"yaxis\": \"y\", \"type\": \"bar\"}], \"name\": \"2019-11-Q2\"}, {\"data\": [{\"alignmentgroup\": \"True\", \"hovertemplate\": \"time_period=2019-11-Q3<br>term=%{x}<br>tfidf=%{y}<extra></extra>\", \"legendgroup\": \"\", \"marker\": {\"color\": \"#636efa\"}, \"name\": \"\", \"offsetgroup\": \"\", \"orientation\": \"v\", \"showlegend\": false, \"textposition\": \"auto\", \"x\": [\"impeachment\", \"trump\", \"hearings\", \"sondland\", \"new\", \"curio\", \"debate\", \"nov\", \"hilton\", \"review\", \"briefing\", \"gordon\", \"statement\", \"hong_kong\", \"democratic\", \"day\", \"sondlands\", \"hearing\", \"trumps\", \"dies\"], \"xaxis\": \"x\", \"y\": [0.31767194267414545, 0.2494690489803745, 0.1818649250679729, 0.13623329198823253, 0.12352350968931165, 0.1220317269454174, 0.12090107938109765, 0.10511814732696166, 0.10188585106917844, 0.10172524327355076, 0.09203712486654593, 0.08462649309397588, 0.08453625446560163, 0.08215186650454442, 0.08073478739258161, 0.07750494725603868, 0.07349809667575644, 0.07344486321285291, 0.07023885845078505, 0.07023885845078505], \"yaxis\": \"y\", \"type\": \"bar\"}], \"name\": \"2019-11-Q3\"}, {\"data\": [{\"alignmentgroup\": \"True\", \"hovertemplate\": \"time_period=2019-11-Q4<br>term=%{x}<br>tfidf=%{y}<extra></extra>\", \"legendgroup\": \"\", \"marker\": {\"color\": \"#636efa\"}, \"name\": \"\", \"offsetgroup\": \"\", \"orientation\": \"v\", \"showlegend\": false, \"textposition\": \"auto\", \"x\": [\"thanksgiving\", \"trump\", \"holiday\", \"new\", \"impeachment\", \"nov\", \"black\", \"day\", \"ski\", \"review\", \"2019\", \"turkey\", \"tiffany\", \"hong_kong\", \"dies\", \"books\", \"briefing\", \"best\", \"albania\", \"gallagher\"], \"xaxis\": \"x\", \"y\": [0.4373663573930308, 0.17884195357822635, 0.1274628123828461, 0.11404414431075305, 0.1121123786361541, 0.104456118159899, 0.10052351873843847, 0.08034928349166691, 0.07840359248914709, 0.07775737112096798, 0.07620841631027225, 0.07445968561992335, 0.07289439289883846, 0.07033124249684815, 0.06998163400887117, 0.06479780926747332, 0.06479780926747332, 0.06479780926747332, 0.06360211229324579, 0.06360211229324579], \"yaxis\": \"y\", \"type\": \"bar\"}], \"name\": \"2019-11-Q4\"}, {\"data\": [{\"alignmentgroup\": \"True\", \"hovertemplate\": \"time_period=2019-12-Q1<br>term=%{x}<br>tfidf=%{y}<extra></extra>\", \"legendgroup\": \"\", \"marker\": {\"color\": \"#636efa\"}, \"name\": \"\", \"offsetgroup\": \"\", \"orientation\": \"v\", \"showlegend\": false, \"textposition\": \"auto\", \"x\": [\"trump\", \"impeachment\", \"nato\", \"2019\", \"new\", \"review\", \"beauty\", \"best\", \"dec\", \"important\", \"world\", \"says\", \"briefing\", \"kamala\", \"day\", \"dies\", \"weekend\", \"harris\", \"christmas\", \"trumps\"], \"xaxis\": \"x\", \"y\": [0.2437430728864021, 0.21161641764180045, 0.1897390563374521, 0.18821449098481874, 0.15437061282805464, 0.11103851098158317, 0.1020293442201538, 0.10020548551996528, 0.0957393589570641, 0.09509131035980288, 0.09478897278915636, 0.09208071642375187, 0.08937246005834742, 0.08672697198504473, 0.07041466550051614, 0.07041466550051614, 0.06499815276970722, 0.06343067526077832, 0.06313364645630193, 0.06228989640430275], \"yaxis\": \"y\", \"type\": \"bar\"}], \"name\": \"2019-12-Q1\"}, {\"data\": [{\"alignmentgroup\": \"True\", \"hovertemplate\": \"time_period=2019-12-Q2<br>term=%{x}<br>tfidf=%{y}<extra></extra>\", \"legendgroup\": \"\", \"marker\": {\"color\": \"#636efa\"}, \"name\": \"\", \"offsetgroup\": \"\", \"orientation\": \"v\", \"showlegend\": false, \"textposition\": \"auto\", \"x\": [\"impeachment\", \"trump\", \"new\", \"2019\", \"articles\", \"review\", \"briefing\", \"dies\", \"zealand\", \"dec\", \"volcano\", \"democrats\", \"million\", \"pensacola\", \"russia\", \"big\", \"christmas\", \"day\", \"election\", \"semitism\"], \"xaxis\": \"x\", \"y\": [0.3055762123700755, 0.24865846584065304, 0.1961892482779464, 0.14024730509959102, 0.11947566041312754, 0.11178224611185318, 0.0980946241389732, 0.08896954282371987, 0.08814640073803445, 0.08736542638706925, 0.08340535073559642, 0.07756319117965323, 0.07756319117965323, 0.07488001544263373, 0.07129011043900776, 0.07071938019321324, 0.06768356159485865, 0.06615683953558657, 0.06519263791348591, 0.06166993581453506], \"yaxis\": \"y\", \"type\": \"bar\"}], \"name\": \"2019-12-Q2\"}, {\"data\": [{\"alignmentgroup\": \"True\", \"hovertemplate\": \"time_period=2019-12-Q3<br>term=%{x}<br>tfidf=%{y}<extra></extra>\", \"legendgroup\": \"\", \"marker\": {\"color\": \"#636efa\"}, \"name\": \"\", \"offsetgroup\": \"\", \"orientation\": \"v\", \"showlegend\": false, \"textposition\": \"auto\", \"x\": [\"impeachment\", \"trump\", \"impeached\", \"2019\", \"debate\", \"new\", \"christmas\", \"briefing\", \"democrats\", \"dec\", \"holiday\", \"review\", \"brees\", \"day\", \"dies\", \"wars\", \"star\", \"pelosi\", \"democratic\", \"india\"], \"xaxis\": \"x\", \"y\": [0.3552670160306672, 0.2933603179311673, 0.1715914774277263, 0.12945638875894533, 0.10511300366138718, 0.0996318060898304, 0.08797619559442074, 0.08579405524402063, 0.08302650507485868, 0.08152954131353955, 0.07777152873351842, 0.07749140473653476, 0.07267326341386636, 0.07195630439821085, 0.07195630439821085, 0.06858864582284263, 0.06642120405988694, 0.06640108548864973, 0.06630627328409999, 0.06437389207314556], \"yaxis\": \"y\", \"type\": \"bar\"}], \"name\": \"2019-12-Q3\"}, {\"data\": [{\"alignmentgroup\": \"True\", \"hovertemplate\": \"time_period=2019-12-Q4<br>term=%{x}<br>tfidf=%{y}<extra></extra>\", \"legendgroup\": \"\", \"marker\": {\"color\": \"#636efa\"}, \"name\": \"\", \"offsetgroup\": \"\", \"orientation\": \"v\", \"showlegend\": false, \"textposition\": \"auto\", \"x\": [\"christmas\", \"new\", \"2019\", \"decade\", \"year\", \"dies\", \"dec\", \"eve\", \"trump\", \"briefing\", \"years\", \"2020\", \"khashoggi\", \"best\", \"tv\", \"herman\", \"day\", \"women\", \"seals\", \"jerry\"], \"xaxis\": \"x\", \"y\": [0.33573981237489464, 0.22467582258167929, 0.21558061475314194, 0.15838652514783932, 0.12097928908244268, 0.11521837055470732, 0.11031246433178664, 0.107754741638282, 0.10369653349923658, 0.08353331865216279, 0.07489194086055975, 0.07489194086055975, 0.07290848198219169, 0.07201148159669206, 0.06913102233282438, 0.06480753953972596, 0.06337010380508902, 0.06337010380508902, 0.05966549226328316, 0.055464133725123765], \"yaxis\": \"y\", \"type\": \"bar\"}], \"name\": \"2019-12-Q4\"}, {\"data\": [{\"alignmentgroup\": \"True\", \"hovertemplate\": \"time_period=2020-1-Q1<br>term=%{x}<br>tfidf=%{y}<extra></extra>\", \"legendgroup\": \"\", \"marker\": {\"color\": \"#636efa\"}, \"name\": \"\", \"offsetgroup\": \"\", \"orientation\": \"v\", \"showlegend\": false, \"textposition\": \"auto\", \"x\": [\"suleimani\", \"iran\", \"globes\", \"new\", \"suleimanis\", \"australia\", \"trump\", \"golden\", \"carlos\", \"qassim\", \"2020\", \"briefing\", \"ghosn\", \"commander\", \"iraq\", \"strike\", \"iranian\", \"fires\", \"impeachment\", \"killing\"], \"xaxis\": \"x\", \"y\": [0.2908890462540739, 0.2297459223564991, 0.19137437253557493, 0.16050438880318585, 0.15551664519619365, 0.12968013283582974, 0.12840351104254868, 0.11699038729237188, 0.1140382361611081, 0.11347253693598393, 0.10864912472831044, 0.0963026332819115, 0.09419426828794036, 0.09193181492991416, 0.09155712170045477, 0.08639579433947643, 0.08580386379652583, 0.08052403351898119, 0.07924519713293067, 0.0730861903369743], \"yaxis\": \"y\", \"type\": \"bar\"}], \"name\": \"2020-1-Q1\"}, {\"data\": [{\"alignmentgroup\": \"True\", \"hovertemplate\": \"time_period=2020-1-Q2<br>term=%{x}<br>tfidf=%{y}<extra></extra>\", \"legendgroup\": \"\", \"marker\": {\"color\": \"#636efa\"}, \"name\": \"\", \"offsetgroup\": \"\", \"orientation\": \"v\", \"showlegend\": false, \"textposition\": \"auto\", \"x\": [\"iran\", \"trump\", \"impeachment\", \"new\", \"2020\", \"meghan\", \"briefing\", \"harry\", \"jan\", \"review\", \"articles\", \"ukrainian\", \"trumps\", \"trial\", \"says\", \"airliner\", \"carlos\", \"debate\", \"warren\", \"textbooks\"], \"xaxis\": \"x\", \"y\": [0.2486125333715967, 0.21253643068331907, 0.20232242595824693, 0.1708236732594901, 0.168837351477403, 0.10410408265819834, 0.08739815841183214, 0.08687176885547115, 0.08228886858991696, 0.07945287128348377, 0.07925980161071748, 0.07807806199364875, 0.07746654950139667, 0.07700388201775119, 0.07548022771930958, 0.07534531693142899, 0.07338655956179972, 0.07328606811808028, 0.07255178392918694, 0.07171854392789115], \"yaxis\": \"y\", \"type\": \"bar\"}], \"name\": \"2020-1-Q2\"}, {\"data\": [{\"alignmentgroup\": \"True\", \"hovertemplate\": \"time_period=2020-1-Q3<br>term=%{x}<br>tfidf=%{y}<extra></extra>\", \"legendgroup\": \"\", \"marker\": {\"color\": \"#636efa\"}, \"name\": \"\", \"offsetgroup\": \"\", \"orientation\": \"v\", \"showlegend\": false, \"textposition\": \"auto\", \"x\": [\"impeachment\", \"davos\", \"trump\", \"trial\", \"quit\", \"touchdown\", \"new\", \"senate\", \"49ers\", \"2020\", \"says\", \"senators\", \"trumps\", \"democrats\", \"jan\", \"coronavirus\", \"mcconnell\", \"managers\", \"briefing\", \"sanders\"], \"xaxis\": \"x\", \"y\": [0.26467863271625125, 0.2452971856108379, 0.23280291141449955, 0.2029450897097822, 0.1552690092848391, 0.12090320654377555, 0.11209029068105536, 0.10104351519293514, 0.08601377877661819, 0.0840677180107915, 0.08191213549769429, 0.08151622987454052, 0.07544538795840264, 0.07328980544530543, 0.07255703169578487, 0.07229724225409974, 0.07059949091210266, 0.06988619525600227, 0.06682305790601377, 0.06603509337638681], \"yaxis\": \"y\", \"type\": \"bar\"}], \"name\": \"2020-1-Q3\"}, {\"data\": [{\"alignmentgroup\": \"True\", \"hovertemplate\": \"time_period=2020-1-Q4<br>term=%{x}<br>tfidf=%{y}<extra></extra>\", \"legendgroup\": \"\", \"marker\": {\"color\": \"#636efa\"}, \"name\": \"\", \"offsetgroup\": \"\", \"orientation\": \"v\", \"showlegend\": false, \"textposition\": \"auto\", \"x\": [\"trump\", \"witnesses\", \"coronavirus\", \"impeachment\", \"kobe\", \"bolton\", \"trial\", \"iowa\", \"bryant\", \"democrats\", \"new\", \"trumps\", \"says\", \"senators\", \"grammys\", \"boltons\", \"schiff\", \"senate\", \"2020\", \"lawyers\"], \"xaxis\": \"x\", \"y\": [0.27425526571762243, 0.2490901795532719, 0.2424328701999164, 0.2363561521264115, 0.21841124940235265, 0.20757514962772652, 0.15826856816599966, 0.15282914871332928, 0.14211050516920798, 0.1359752998095775, 0.1348229667603438, 0.1348229667603438, 0.13021363456340898, 0.12243065366532015, 0.10862942799454196, 0.10359677388493063, 0.09547716157104814, 0.0924272483401009, 0.0875773117417618, 0.08702652135834155], \"yaxis\": \"y\", \"type\": \"bar\"}], \"name\": \"2020-1-Q4\"}, {\"data\": [{\"alignmentgroup\": \"True\", \"hovertemplate\": \"time_period=2020-2-Q1<br>term=%{x}<br>tfidf=%{y}<extra></extra>\", \"legendgroup\": \"\", \"marker\": {\"color\": \"#636efa\"}, \"name\": \"\", \"offsetgroup\": \"\", \"orientation\": \"v\", \"showlegend\": false, \"textposition\": \"auto\", \"x\": [\"coronavirus\", \"iowa\", \"trump\", \"caucuses\", \"bowl\", \"caucus\", \"impeachment\", \"foreign\", \"super\", \"new\", \"policy\", \"china\", \"trumps\", \"union\", \"state\", \"dies\", \"acquittal\", \"2020\", \"feb\", \"review\"], \"xaxis\": \"x\", \"y\": [0.3348783659843645, 0.2885242815658491, 0.2312219649548645, 0.1669593909725518, 0.15148068385198835, 0.1297157445690963, 0.12905078107736356, 0.12587342575523874, 0.12249347764843993, 0.11368413276947505, 0.11110529358334292, 0.10019618481377462, 0.0963424853978602, 0.0962561491069473, 0.0905619362739886, 0.08670823685807419, 0.08128546778240571, 0.08092768773420257, 0.075866436596912, 0.07322028890237375], \"yaxis\": \"y\", \"type\": \"bar\"}], \"name\": \"2020-2-Q1\"}, {\"data\": [{\"alignmentgroup\": \"True\", \"hovertemplate\": \"time_period=2020-2-Q2<br>term=%{x}<br>tfidf=%{y}<extra></extra>\", \"legendgroup\": \"\", \"marker\": {\"color\": \"#636efa\"}, \"name\": \"\", \"offsetgroup\": \"\", \"orientation\": \"v\", \"showlegend\": false, \"textposition\": \"auto\", \"x\": [\"coronavirus\", \"hampshire\", \"new\", \"oscars\", \"trump\", \"review\", \"2020\", \"build\", \"love\", \"feb\", \"bloomberg\", \"day\", \"world\", \"trumps\", \"westminster\", \"china\", \"war\", \"briefing\", \"sanders\", \"astros\"], \"xaxis\": \"x\", \"y\": [0.3198153272216181, 0.26033290161242056, 0.2509137917496381, 0.18414311024052565, 0.1604202930858342, 0.11928688460228695, 0.10900353248140016, 0.10264370125205936, 0.09460683951215862, 0.09254617935897463, 0.08969144772007775, 0.08638015781544918, 0.07815347611873973, 0.07815347611873973, 0.0777175813948954, 0.07609680569456237, 0.07404013527038501, 0.07404013527038501, 0.07269804869617978, 0.0677420165985528], \"yaxis\": \"y\", \"type\": \"bar\"}], \"name\": \"2020-2-Q2\"}, {\"data\": [{\"alignmentgroup\": \"True\", \"hovertemplate\": \"time_period=2020-2-Q3<br>term=%{x}<br>tfidf=%{y}<extra></extra>\", \"legendgroup\": \"\", \"marker\": {\"color\": \"#636efa\"}, \"name\": \"\", \"offsetgroup\": \"\", \"orientation\": \"v\", \"showlegend\": false, \"textposition\": \"auto\", \"x\": [\"coronavirus\", \"nevada\", \"bloomberg\", \"new\", \"trump\", \"2020\", \"briefing\", \"debate\", \"dies\", \"democratic\", \"caucuses\", \"fall\", \"review\", \"democrats\", \"sanders\", \"whats\", \"affleck\", \"blagojevich\", \"cobble\", \"ship\"], \"xaxis\": \"x\", \"y\": [0.3015681993471594, 0.29234169149856315, 0.20837093187812444, 0.13920055941179607, 0.13675844433439613, 0.12943209910219633, 0.1025688332507971, 0.09805296906892673, 0.09280037294119738, 0.08903596091584838, 0.08229144154795705, 0.08048856199432665, 0.07814768247679779, 0.07814768247679779, 0.0776902798126037, 0.07326345232199794, 0.06484415330101627, 0.06484415330101627, 0.06152185755266575, 0.059846121402303123], \"yaxis\": \"y\", \"type\": \"bar\"}], \"name\": \"2020-2-Q3\"}, {\"data\": [{\"alignmentgroup\": \"True\", \"hovertemplate\": \"time_period=2020-2-Q4<br>term=%{x}<br>tfidf=%{y}<extra></extra>\", \"legendgroup\": \"\", \"marker\": {\"color\": \"#636efa\"}, \"name\": \"\", \"offsetgroup\": \"\", \"orientation\": \"v\", \"showlegend\": false, \"textposition\": \"auto\", \"x\": [\"coronavirus\", \"trump\", \"new\", \"weinstein\", \"2020\", \"south\", \"sanders\", \"review\", \"carolina\", \"bernie\", \"nevada\", \"bloomberg\", \"bryant\", \"feb\", \"harvey\", \"dies\", \"kobe\", \"fall\", \"debate\", \"case\"], \"xaxis\": \"x\", \"y\": [0.5896130677064592, 0.15847403878773236, 0.1565874430878784, 0.12328704882133668, 0.11696893339094533, 0.10753595489167553, 0.10447526819638946, 0.09810297639240574, 0.09147511938596073, 0.09037187215429364, 0.08939553634173318, 0.08227448481448205, 0.07462770008264295, 0.07428150335540128, 0.07355911097358271, 0.07169063659445035, 0.07057542342768408, 0.06819681729513756, 0.05937036759145524, 0.05848446669547265], \"yaxis\": \"y\", \"type\": \"bar\"}], \"name\": \"2020-2-Q4\"}, {\"data\": [{\"alignmentgroup\": \"True\", \"hovertemplate\": \"time_period=2020-3-Q1<br>term=%{x}<br>tfidf=%{y}<extra></extra>\", \"legendgroup\": \"\", \"marker\": {\"color\": \"#636efa\"}, \"name\": \"\", \"offsetgroup\": \"\", \"orientation\": \"v\", \"showlegend\": false, \"textposition\": \"auto\", \"x\": [\"coronavirus\", \"super\", \"sanders\", \"tuesday\", \"trump\", \"review\", \"biden\", \"new\", \"2020\", \"dies\", \"march\", \"briefing\", \"bernie\", \"outbreak\", \"day\", \"million\", \"weekend\", \"devs\", \"fall\", \"race\"], \"xaxis\": \"x\", \"y\": [0.7157706270873498, 0.14989588578638668, 0.11190534955378552, 0.10572804301455442, 0.09497603864019297, 0.08601603499489173, 0.080640032807711, 0.080640032807711, 0.07526403062053026, 0.06988802843334953, 0.06595418974601015, 0.06451202624616881, 0.06383017159490961, 0.062268939782243724, 0.059136024058988074, 0.05196802114274709, 0.0483840196846266, 0.04758202062878705, 0.045725216803854114, 0.044800277553407236], \"yaxis\": \"y\", \"type\": \"bar\"}], \"name\": \"2020-3-Q1\"}, {\"data\": [{\"alignmentgroup\": \"True\", \"hovertemplate\": \"time_period=2020-3-Q2<br>term=%{x}<br>tfidf=%{y}<extra></extra>\", \"legendgroup\": \"\", \"marker\": {\"color\": \"#636efa\"}, \"name\": \"\", \"offsetgroup\": \"\", \"orientation\": \"v\", \"showlegend\": false, \"textposition\": \"auto\", \"x\": [\"coronavirus\", \"trump\", \"sanders\", \"biden\", \"new\", \"home\", \"virus\", \"briefing\", \"pandemic\", \"markets\", \"march\", \"new_york\", \"day\", \"2020\", \"bernie\", \"review\", \"joe\", \"fight\", \"just\", \"president\"], \"xaxis\": \"x\", \"y\": [0.8583805917012686, 0.08847898575343084, 0.08800342274336764, 0.07354097517168277, 0.06319927553816489, 0.05860296458993471, 0.05528039722361523, 0.05285757590464698, 0.0525637168341705, 0.0519300701191537, 0.04805858123840827, 0.04136679853407156, 0.040217720797014016, 0.040217720797014016, 0.0395182108255103, 0.03791956532289893, 0.03710585004677242, 0.0344723321117263, 0.0344723321117263, 0.0344723321117263], \"yaxis\": \"y\", \"type\": \"bar\"}], \"name\": \"2020-3-Q2\"}, {\"data\": [{\"alignmentgroup\": \"True\", \"hovertemplate\": \"time_period=2020-3-Q3<br>term=%{x}<br>tfidf=%{y}<extra></extra>\", \"legendgroup\": \"\", \"marker\": {\"color\": \"#636efa\"}, \"name\": \"\", \"offsetgroup\": \"\", \"orientation\": \"v\", \"showlegend\": false, \"textposition\": \"auto\", \"x\": [\"coronavirus\", \"primary\", \"results\", \"election\", \"district\", \"virus\", \"house\", \"pandemic\", \"california\", \"illinois\", \"supported\", \"home\", \"ventilators\", \"2020\", \"trump\", \"live\", \"presidential\", \"briefing\", \"new\", \"brady\"], \"xaxis\": \"x\", \"y\": [0.7556677636289757, 0.2360111109512301, 0.2168168277988876, 0.16863162041736462, 0.15977278616425594, 0.13033386741319306, 0.11429934985197256, 0.10723313554180926, 0.08940246176540427, 0.07674512199851373, 0.06365407195990863, 0.06337389694762835, 0.059640533991369975, 0.05658383656038246, 0.05545215982917481, 0.053130510542457335, 0.05013919397754293, 0.04866209944192892, 0.04866209944192892, 0.04688283573206559], \"yaxis\": \"y\", \"type\": \"bar\"}], \"name\": \"2020-3-Q3\"}, {\"data\": [{\"alignmentgroup\": \"True\", \"hovertemplate\": \"time_period=2020-3-Q4<br>term=%{x}<br>tfidf=%{y}<extra></extra>\", \"legendgroup\": \"\", \"marker\": {\"color\": \"#636efa\"}, \"name\": \"\", \"offsetgroup\": \"\", \"orientation\": \"v\", \"showlegend\": false, \"textposition\": \"auto\", \"x\": [\"coronavirus\", \"virus\", \"pandemic\", \"stimulus\", \"dies\", \"home\", \"trump\", \"quarantine\", \"lockdown\", \"crisis\", \"briefing\", \"help\", \"new\", \"time\", \"fight\", \"day\", \"new_york\", \"health\", \"need\", \"covid\"], \"xaxis\": \"x\", \"y\": [0.8252972180415719, 0.15310364025549567, 0.12381767452198475, 0.08884526004009219, 0.08445018017513413, 0.0790367070869845, 0.07145784476357503, 0.061583791210292324, 0.05875073084011277, 0.05635596945408829, 0.05630012011675607, 0.05521742549912617, 0.04655586855808677, 0.045473173940456836, 0.04439047932282692, 0.04330778470519698, 0.042225090087567065, 0.041142395469937136, 0.04005970085230722, 0.04000118901201002], \"yaxis\": \"y\", \"type\": \"bar\"}], \"name\": \"2020-3-Q4\"}, {\"data\": [{\"alignmentgroup\": \"True\", \"hovertemplate\": \"time_period=2020-4-Q1<br>term=%{x}<br>tfidf=%{y}<extra></extra>\", \"legendgroup\": \"\", \"marker\": {\"color\": \"#636efa\"}, \"name\": \"\", \"offsetgroup\": \"\", \"orientation\": \"v\", \"showlegend\": false, \"textposition\": \"auto\", \"x\": [\"coronavirus\", \"primary\", \"results\", \"district\", \"election\", \"house\", \"pandemic\", \"virus\", \"count\", \"california\", \"map\", \"dies\", \"trump\", \"case\", \"supported\", \"home\", \"texas\", \"masks\", \"wisconsin\", \"2020\"], \"xaxis\": \"x\", \"y\": [0.6340981015255902, 0.27790601767013584, 0.2561231123144557, 0.2260494480203113, 0.2031943527681057, 0.15977865289999096, 0.14294728992257824, 0.12016261516200688, 0.1103146217792088, 0.10271484829285134, 0.0973155985629848, 0.0811574109968208, 0.07988932644999548, 0.07228081916904354, 0.07132668081699421, 0.06847656552856755, 0.06738493313763974, 0.06237778422123614, 0.061655541044287124, 0.059599973700790274], \"yaxis\": \"y\", \"type\": \"bar\"}], \"name\": \"2020-4-Q1\"}, {\"data\": [{\"alignmentgroup\": \"True\", \"hovertemplate\": \"time_period=2020-4-Q2<br>term=%{x}<br>tfidf=%{y}<extra></extra>\", \"legendgroup\": \"\", \"marker\": {\"color\": \"#636efa\"}, \"name\": \"\", \"offsetgroup\": \"\", \"orientation\": \"v\", \"showlegend\": false, \"textposition\": \"auto\", \"x\": [\"coronavirus\", \"pandemic\", \"virus\", \"trump\", \"new\", \"dies\", \"briefing\", \"stimulus\", \"quarantine\", \"day\", \"virtual\", \"sanders\", \"covid\", \"biden\", \"world\", \"bernie\", \"masks\", \"help\", \"new_york\", \"2020\"], \"xaxis\": \"x\", \"y\": [0.6596067454537257, 0.2270185909820943, 0.1726510383303578, 0.12474616916241907, 0.09790205681101244, 0.0915857950812697, 0.08684859878396264, 0.08533129152559099, 0.06075884212587311, 0.058425421000120326, 0.0554670760891593, 0.05395540053822377, 0.05250607550549702, 0.05210915927037759, 0.0505300938379419, 0.05042702026526365, 0.049429613523365175, 0.04895102840550622, 0.04895102840550622, 0.04737196297307053], \"yaxis\": \"y\", \"type\": \"bar\"}], \"name\": \"2020-4-Q2\"}, {\"data\": [{\"alignmentgroup\": \"True\", \"hovertemplate\": \"time_period=2020-4-Q3<br>term=%{x}<br>tfidf=%{y}<extra></extra>\", \"legendgroup\": \"\", \"marker\": {\"color\": \"#636efa\"}, \"name\": \"\", \"offsetgroup\": \"\", \"orientation\": \"v\", \"showlegend\": false, \"textposition\": \"auto\", \"x\": [\"coronavirus\", \"pandemic\", \"virus\", \"trump\", \"dies\", \"birth\", \"kids\", \"fertility\", \"day\", \"baby\", \"new\", \"home\", \"pregnancy\", \"know\", \"lockdown\", \"testing\", \"earth\", \"relief\", \"briefing\", \"childbirth\"], \"xaxis\": \"x\", \"y\": [0.5879132977381474, 0.18041613642511248, 0.15843666703894368, 0.13322011242411552, 0.10692666918251376, 0.0892810629674613, 0.08764481080533915, 0.08623455127952717, 0.08589191458923237, 0.08377282445715656, 0.07712743350869845, 0.0718687448603781, 0.0716847042511803, 0.06836295242816454, 0.0671422396585979, 0.06114596040872811, 0.060144581491552836, 0.058791329773814724, 0.05784557513152384, 0.05753675663667938], \"yaxis\": \"y\", \"type\": \"bar\"}], \"name\": \"2020-4-Q3\"}, {\"data\": [{\"alignmentgroup\": \"True\", \"hovertemplate\": \"time_period=2020-4-Q4<br>term=%{x}<br>tfidf=%{y}<extra></extra>\", \"legendgroup\": \"\", \"marker\": {\"color\": \"#636efa\"}, \"name\": \"\", \"offsetgroup\": \"\", \"orientation\": \"v\", \"showlegend\": false, \"textposition\": \"auto\", \"x\": [\"coronavirus\", \"pandemic\", \"virus\", \"dies\", \"covid\", \"trump\", \"new\", \"draft\", \"19\", \"briefing\", \"home\", \"ramadan\", \"april\", \"reopening\", \"amash\", \"disinfectant\", \"world\", \"lockdown\", \"new_york\", \"house\"], \"xaxis\": \"x\", \"y\": [0.5359799176591223, 0.18356196725829207, 0.17965077957476158, 0.14497809059721214, 0.14395202265274806, 0.14135363833228182, 0.12866805540502574, 0.10206289804392688, 0.08458353220876139, 0.08155017596093182, 0.08155017596093182, 0.07474117498417288, 0.071234734267703, 0.07058190632130218, 0.06352805711048999, 0.06352805711048999, 0.06342791463628031, 0.06073794053553355, 0.059803462371350015, 0.059803462371350015], \"yaxis\": \"y\", \"type\": \"bar\"}], \"name\": \"2020-4-Q4\"}, {\"data\": [{\"alignmentgroup\": \"True\", \"hovertemplate\": \"time_period=2020-5-Q1<br>term=%{x}<br>tfidf=%{y}<extra></extra>\", \"legendgroup\": \"\", \"marker\": {\"color\": \"#636efa\"}, \"name\": \"\", \"offsetgroup\": \"\", \"orientation\": \"v\", \"showlegend\": false, \"textposition\": \"auto\", \"x\": [\"coronavirus\", \"pandemic\", \"virus\", \"new\", \"covid\", \"briefing\", \"trump\", \"dies\", \"review\", \"home\", \"reopening\", \"tara\", \"lockdown\", \"day\", \"vaccine\", \"livestreaming\", \"reade\", \"hornets\", \"whats\", \"19\"], \"xaxis\": \"x\", \"y\": [0.4681495501720564, 0.2283519738472537, 0.18524276903295392, 0.1821296530960161, 0.10562893487079096, 0.10165375986754384, 0.09953597320363668, 0.09530039987582237, 0.0931826132119152, 0.08259367989237938, 0.07423448736243493, 0.07128482123249273, 0.06421909613829853, 0.06353359991721491, 0.06275573681366532, 0.06256247078006576, 0.06256247078006576, 0.06224325754118044, 0.059298026589400574, 0.05722617544586602], \"yaxis\": \"y\", \"type\": \"bar\"}], \"name\": \"2020-5-Q1\"}, {\"data\": [{\"alignmentgroup\": \"True\", \"hovertemplate\": \"time_period=2020-5-Q2<br>term=%{x}<br>tfidf=%{y}<extra></extra>\", \"legendgroup\": \"\", \"marker\": {\"color\": \"#636efa\"}, \"name\": \"\", \"offsetgroup\": \"\", \"orientation\": \"v\", \"showlegend\": false, \"textposition\": \"auto\", \"x\": [\"coronavirus\", \"pandemic\", \"virus\", \"flynn\", \"arbery\", \"ahmaud\", \"new\", \"trump\", \"dies\", \"covid\", \"day\", \"reopening\", \"briefing\", \"home\", \"quarantine\", \"silk\", \"fauci\", \"praying\", \"reopen\", \"19\"], \"xaxis\": \"x\", \"y\": [0.4538671806631737, 0.22078954722295827, 0.17703139316544872, 0.12152256145522275, 0.11567616881426362, 0.11567616881426362, 0.1018483825783123, 0.09988975983642168, 0.09793113709453106, 0.09407214961040684, 0.0920552688688592, 0.08772626278359184, 0.08617940064318734, 0.08422077790129671, 0.08191667728032102, 0.08172409819217344, 0.07886472803683342, 0.07429463472015768, 0.06553334182425682, 0.05773668788865278], \"yaxis\": \"y\", \"type\": \"bar\"}], \"name\": \"2020-5-Q2\"}, {\"data\": [{\"alignmentgroup\": \"True\", \"hovertemplate\": \"time_period=2020-5-Q3<br>term=%{x}<br>tfidf=%{y}<extra></extra>\", \"legendgroup\": \"\", \"marker\": {\"color\": \"#636efa\"}, \"name\": \"\", \"offsetgroup\": \"\", \"orientation\": \"v\", \"showlegend\": false, \"textposition\": \"auto\", \"x\": [\"coronavirus\", \"pandemic\", \"virus\", \"trump\", \"dies\", \"new\", \"joy\", \"briefing\", \"day\", \"summer\", \"reopening\", \"2020\", \"lockdown\", \"home\", \"cyclone\", \"covid\", \"hydroxychloroquine\", \"amphan\", \"zip\", \"end\"], \"xaxis\": \"x\", \"y\": [0.3480230389781522, 0.2346660383423809, 0.17948684821557165, 0.13337883905715633, 0.1256839060346281, 0.11798897301209985, 0.10895208923039117, 0.09746915161869116, 0.092339196270339, 0.08055459818197322, 0.07492484409299119, 0.07438435255110643, 0.07368591369073632, 0.06925439720275425, 0.06911577864716767, 0.06633588877224995, 0.06492319849414868, 0.06461701684608476, 0.0636126945173728, 0.0628287764522046], \"yaxis\": \"y\", \"type\": \"bar\"}], \"name\": \"2020-5-Q3\"}, {\"data\": [{\"alignmentgroup\": \"True\", \"hovertemplate\": \"time_period=2020-5-Q4<br>term=%{x}<br>tfidf=%{y}<extra></extra>\", \"legendgroup\": \"\", \"marker\": {\"color\": \"#636efa\"}, \"name\": \"\", \"offsetgroup\": \"\", \"orientation\": \"v\", \"showlegend\": false, \"textposition\": \"auto\", \"x\": [\"coronavirus\", \"trump\", \"pandemic\", \"lockdown\", \"minneapolis\", \"spacex\", \"floyd\", \"dies\", \"covid\", \"hong_kong\", \"new\", \"day\", \"launch\", \"police\", \"briefing\", \"reopening\", \"virus\", \"twitter\", \"protests\", \"home\"], \"xaxis\": \"x\", \"y\": [0.346933508088331, 0.22331472976507524, 0.19805305771162027, 0.16292873547444806, 0.1629005259063486, 0.15381881523216176, 0.11877132692783038, 0.11697438225789655, 0.10607884006833516, 0.09858904533942553, 0.09145269885617367, 0.0893258919060301, 0.0814502629531743, 0.08081866410545581, 0.08081866410545581, 0.07869237835049482, 0.07751323889179948, 0.0741942654810884, 0.07302721443869044, 0.07018462935473793], \"yaxis\": \"y\", \"type\": \"bar\"}], \"name\": \"2020-5-Q4\"}, {\"data\": [{\"alignmentgroup\": \"True\", \"hovertemplate\": \"time_period=2020-6-Q1<br>term=%{x}<br>tfidf=%{y}<extra></extra>\", \"legendgroup\": \"\", \"marker\": {\"color\": \"#636efa\"}, \"name\": \"\", \"offsetgroup\": \"\", \"orientation\": \"v\", \"showlegend\": false, \"textposition\": \"auto\", \"x\": [\"coronavirus\", \"protests\", \"police\", \"floyd\", \"trump\", \"pandemic\", \"primary\", \"george\", \"minneapolis\", \"congressional\", \"protesters\", \"election\", \"district\", \"results\", \"new_york\", \"black\", \"dies\", \"curfew\", \"says\", \"briefing\"], \"xaxis\": \"x\", \"y\": [0.2951803048249419, 0.2457865498938112, 0.2327805815765539, 0.22779688492340666, 0.18274363413486475, 0.1421679129005553, 0.13585500329962966, 0.13370192762753574, 0.12742417124273242, 0.12144644424056167, 0.11514893315682775, 0.11323923283559192, 0.10548412773086416, 0.10294596752863304, 0.08919629761344589, 0.08437433034808807, 0.08266973925148642, 0.08093091170130602, 0.08049421979749995, 0.08049421979749995], \"yaxis\": \"y\", \"type\": \"bar\"}], \"name\": \"2020-6-Q1\"}, {\"data\": [{\"alignmentgroup\": \"True\", \"hovertemplate\": \"time_period=2020-6-Q2<br>term=%{x}<br>tfidf=%{y}<extra></extra>\", \"legendgroup\": \"\", \"marker\": {\"color\": \"#636efa\"}, \"name\": \"\", \"offsetgroup\": \"\", \"orientation\": \"v\", \"showlegend\": false, \"textposition\": \"auto\", \"x\": [\"coronavirus\", \"police\", \"trump\", \"black\", \"pandemic\", \"virus\", \"floyd\", \"new\", \"fowl\", \"protests\", \"briefing\", \"dies\", \"statue\", \"lives\", \"atlanta\", \"says\", \"review\", \"matter\", \"pride\", \"covid\"], \"xaxis\": \"x\", \"y\": [0.236410852338888, 0.21125732318029727, 0.17754604820471792, 0.15597557771109616, 0.14686642909467354, 0.13105443276722153, 0.12550685778065032, 0.1123709165852645, 0.10379792426543764, 0.09957237837859312, 0.09214415159991687, 0.09214415159991687, 0.0857303980693349, 0.08559736004799881, 0.0809647567133936, 0.07865964160968515, 0.07191738661456927, 0.06908936405333346, 0.06870982927545176, 0.06642641720886658], \"yaxis\": \"y\", \"type\": \"bar\"}], \"name\": \"2020-6-Q2\"}, {\"data\": [{\"alignmentgroup\": \"True\", \"hovertemplate\": \"time_period=2020-6-Q3<br>term=%{x}<br>tfidf=%{y}<extra></extra>\", \"legendgroup\": \"\", \"marker\": {\"color\": \"#636efa\"}, \"name\": \"\", \"offsetgroup\": \"\", \"orientation\": \"v\", \"showlegend\": false, \"textposition\": \"auto\", \"x\": [\"juneteenth\", \"trump\", \"coronavirus\", \"pandemic\", \"tulsa\", \"black\", \"bolton\", \"new\", \"dies\", \"virus\", \"rayshard\", \"china\", \"briefing\", \"court\", \"confederate\", \"floyd\", \"policing\", \"flag\", \"rally\", \"day\"], \"xaxis\": \"x\", \"y\": [0.4148306889356707, 0.216578537414538, 0.18960790311309225, 0.15764680804432568, 0.1497391857752674, 0.13787907570499522, 0.11360892949129064, 0.1093614396845687, 0.10507275577536992, 0.09065668729847144, 0.09020455607550673, 0.07934065232017729, 0.0771963103655779, 0.0771963103655779, 0.0749239974114355, 0.07484410471457972, 0.07270971487442601, 0.07098947488485682, 0.07033428979228716, 0.06647460059258098], \"yaxis\": \"y\", \"type\": \"bar\"}], \"name\": \"2020-6-Q3\"}, {\"data\": [{\"alignmentgroup\": \"True\", \"hovertemplate\": \"time_period=2020-6-Q4<br>term=%{x}<br>tfidf=%{y}<extra></extra>\", \"legendgroup\": \"\", \"marker\": {\"color\": \"#636efa\"}, \"name\": \"\", \"offsetgroup\": \"\", \"orientation\": \"v\", \"showlegend\": false, \"textposition\": \"auto\", \"x\": [\"primary\", \"results\", \"election\", \"district\", \"house\", \"coronavirus\", \"congressional\", \"california\", \"texas\", \"virus\", \"presidential\", \"trump\", \"2020\", \"live\", \"supported\", \"pandemic\", \"forecast\", \"new\", \"groups\", \"republican\"], \"xaxis\": \"x\", \"y\": [0.4899779941721764, 0.44388503486853176, 0.35620014325826216, 0.3479011090062457, 0.1927335141181443, 0.12308967163676415, 0.11569008072173698, 0.1145983056918696, 0.09717536796452106, 0.09618905599119144, 0.0923146163264038, 0.0859487292689022, 0.08508056028638802, 0.08417665076998733, 0.0830150801161089, 0.07800915619781933, 0.07014761413709218, 0.06945351860113308, 0.050294704539753085, 0.05011779501526365], \"yaxis\": \"y\", \"type\": \"bar\"}], \"name\": \"2020-6-Q4\"}, {\"data\": [{\"alignmentgroup\": \"True\", \"hovertemplate\": \"time_period=2020-7-Q1<br>term=%{x}<br>tfidf=%{y}<extra></extra>\", \"legendgroup\": \"\", \"marker\": {\"color\": \"#636efa\"}, \"name\": \"\", \"offsetgroup\": \"\", \"orientation\": \"v\", \"showlegend\": false, \"textposition\": \"auto\", \"x\": [\"coronavirus\", \"congressional\", \"primary\", \"results\", \"new\", \"election\", \"district\", \"virus\", \"july\", \"trump\", \"pandemic\", \"dies\", \"jersey\", \"new_york\", \"fourth\", \"black\", \"cases\", \"delaware\", \"rushmore\", \"police\"], \"xaxis\": \"x\", \"y\": [0.253708168078724, 0.2415344853449541, 0.2253475129981368, 0.22073870207617674, 0.21609489154353947, 0.2129454205830673, 0.1983620109569197, 0.1701887742530149, 0.14994705519822898, 0.13412786371667967, 0.1176797862495224, 0.09935397312346644, 0.09762590167806673, 0.08941857581111977, 0.08288653782342323, 0.08112206498402562, 0.07740188254619182, 0.06965758594547841, 0.06257322841130271, 0.06209623320216651], \"yaxis\": \"y\", \"type\": \"bar\"}], \"name\": \"2020-7-Q1\"}, {\"data\": [{\"alignmentgroup\": \"True\", \"hovertemplate\": \"time_period=2020-7-Q2<br>term=%{x}<br>tfidf=%{y}<extra></extra>\", \"legendgroup\": \"\", \"marker\": {\"color\": \"#636efa\"}, \"name\": \"\", \"offsetgroup\": \"\", \"orientation\": \"v\", \"showlegend\": false, \"textposition\": \"auto\", \"x\": [\"coronavirus\", \"trump\", \"pandemic\", \"virus\", \"new\", \"covid\", \"runoff\", \"court\", \"seoul\", \"stone\", \"says\", \"reopen\", \"dies\", \"short\", \"story\", \"briefing\", \"review\", \"election\", \"schools\", \"primary\"], \"xaxis\": \"x\", \"y\": [0.2918279956188676, 0.2860580590375491, 0.1581225048996859, 0.14423417772562167, 0.1311995609119586, 0.11919573843757462, 0.11010258697808273, 0.10323899875039366, 0.1013776047323645, 0.09535659075005973, 0.09463574885452752, 0.08995474603257958, 0.08818331143262792, 0.08362830278674471, 0.08341610637528613, 0.07958006153676178, 0.07958006153676178, 0.07902578498711317, 0.07861609302006166, 0.07855992079966928], \"yaxis\": \"y\", \"type\": \"bar\"}], \"name\": \"2020-7-Q2\"}, {\"data\": [{\"alignmentgroup\": \"True\", \"hovertemplate\": \"time_period=2020-7-Q3<br>term=%{x}<br>tfidf=%{y}<extra></extra>\", \"legendgroup\": \"\", \"marker\": {\"color\": \"#636efa\"}, \"name\": \"\", \"offsetgroup\": \"\", \"orientation\": \"v\", \"showlegend\": false, \"textposition\": \"auto\", \"x\": [\"coronavirus\", \"portland\", \"virus\", \"pandemic\", \"trump\", \"new\", \"covid\", \"says\", \"dies\", \"lewis\", \"trumps\", \"federal\", \"vaccine\", \"congressional\", \"briefing\", \"19\", \"reopening\", \"election\", \"say\", \"police\"], \"xaxis\": \"x\", \"y\": [0.29077968881428, 0.21355976306491206, 0.2029081602717496, 0.17685847028793206, 0.1598047331198855, 0.12629728907861915, 0.12379645936895045, 0.11856480199217312, 0.10825481921024503, 0.10451676337628613, 0.0953673407328349, 0.092300656137223, 0.0844179625801965, 0.07890545143726413, 0.07732487086446073, 0.07597995332206872, 0.0752905045056112, 0.07102732912625652, 0.06959238377801465, 0.06959238377801465], \"yaxis\": \"y\", \"type\": \"bar\"}], \"name\": \"2020-7-Q3\"}, {\"data\": [{\"alignmentgroup\": \"True\", \"hovertemplate\": \"time_period=2020-7-Q4<br>term=%{x}<br>tfidf=%{y}<extra></extra>\", \"legendgroup\": \"\", \"marker\": {\"color\": \"#636efa\"}, \"name\": \"\", \"offsetgroup\": \"\", \"orientation\": \"v\", \"showlegend\": false, \"textposition\": \"auto\", \"x\": [\"coronavirus\", \"trump\", \"pandemic\", \"virus\", \"portland\", \"new\", \"covid\", \"dies\", \"lewis\", \"review\", \"briefing\", \"big\", \"mars\", \"summer\", \"says\", \"day\", \"china\", \"tech\", \"week\", \"trumps\"], \"xaxis\": \"x\", \"y\": [0.3044963961709832, 0.2637238708723663, 0.1932497734614621, 0.1696170822956243, 0.15062716122625372, 0.122166204889405, 0.11462977468130672, 0.10665303601455993, 0.1004740405501396, 0.08532242881164794, 0.0833832827022923, 0.0833832827022923, 0.07622368717213886, 0.06619565018133547, 0.06593096771809158, 0.06399182160873594, 0.06399182160873594, 0.06312838626239982, 0.06205267549938031, 0.06011352939002468], \"yaxis\": \"y\", \"type\": \"bar\"}], \"name\": \"2020-7-Q4\"}]);\n",
       "                        }).then(function(){\n",
       "                            \n",
       "var gd = document.getElementById('15da4389-ffda-457e-ad82-08ffea03daf3');\n",
       "var x = new MutationObserver(function (mutations, observer) {{\n",
       "        var display = window.getComputedStyle(gd).display;\n",
       "        if (!display || display === 'none') {{\n",
       "            console.log([gd, 'removed!']);\n",
       "            Plotly.purge(gd);\n",
       "            observer.disconnect();\n",
       "        }}\n",
       "}});\n",
       "\n",
       "// Listen for the removal of the full notebook cells\n",
       "var notebookContainer = gd.closest('#notebook-container');\n",
       "if (notebookContainer) {{\n",
       "    x.observe(notebookContainer, {childList: true});\n",
       "}}\n",
       "\n",
       "// Listen for the clearing of the current output cell\n",
       "var outputEl = gd.closest('.output');\n",
       "if (outputEl) {{\n",
       "    x.observe(outputEl, {childList: true});\n",
       "}}\n",
       "\n",
       "                        })\n",
       "                };\n",
       "                });\n",
       "            </script>\n",
       "        </div>"
      ]
     },
     "metadata": {},
     "output_type": "display_data"
    }
   ],
   "source": [
    "import plotly.express as px\n",
    "\n",
    "fig = px.bar(df, x='term', y='tfidf', animation_frame='time_period')\n",
    "fig.show()\n",
    "fig.write_html('index.html', include_plotlyjs='cdn', full_html=False)"
   ]
  },
  {
   "cell_type": "code",
   "execution_count": null,
   "metadata": {},
   "outputs": [],
   "source": []
  },
  {
   "cell_type": "code",
   "execution_count": null,
   "metadata": {},
   "outputs": [],
   "source": []
  }
 ],
 "metadata": {
  "kernelspec": {
   "display_name": "Python 3",
   "language": "python",
   "name": "python3"
  },
  "language_info": {
   "codemirror_mode": {
    "name": "ipython",
    "version": 3
   },
   "file_extension": ".py",
   "mimetype": "text/x-python",
   "name": "python",
   "nbconvert_exporter": "python",
   "pygments_lexer": "ipython3",
   "version": "3.6.4"
  }
 },
 "nbformat": 4,
 "nbformat_minor": 2
}
