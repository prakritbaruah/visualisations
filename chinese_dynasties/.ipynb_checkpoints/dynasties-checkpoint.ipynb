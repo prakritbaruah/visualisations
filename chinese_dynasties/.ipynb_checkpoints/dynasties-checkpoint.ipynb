{
 "cells": [
  {
   "cell_type": "code",
   "execution_count": null,
   "metadata": {},
   "outputs": [],
   "source": [
    "from bs4 import BeautifulSoup\n",
    "import requests\n",
    "import pandas as pd\n",
    "import plotly.express as px"
   ]
  },
  {
   "cell_type": "markdown",
   "metadata": {},
   "source": [
    "# Indian Empires"
   ]
  },
  {
   "cell_type": "code",
   "execution_count": null,
   "metadata": {},
   "outputs": [],
   "source": [
    "url = \"https://en.wikipedia.org/wiki/List_of_empires\""
   ]
  },
  {
   "cell_type": "code",
   "execution_count": null,
   "metadata": {},
   "outputs": [],
   "source": [
    "r = requests.get(url)"
   ]
  },
  {
   "cell_type": "code",
   "execution_count": null,
   "metadata": {},
   "outputs": [],
   "source": [
    "soup = BeautifulSoup(r.content, \"lxml\")"
   ]
  },
  {
   "cell_type": "code",
   "execution_count": null,
   "metadata": {},
   "outputs": [],
   "source": [
    "table = soup.table"
   ]
  },
  {
   "cell_type": "code",
   "execution_count": null,
   "metadata": {},
   "outputs": [],
   "source": [
    "headers = [header.text.strip() for header in table.find_all('th')]\n",
    "print(headers)"
   ]
  },
  {
   "cell_type": "code",
   "execution_count": null,
   "metadata": {},
   "outputs": [],
   "source": [
    "rows = []\n",
    "for row in table.findAll(\"tr\"):\n",
    "    cur_row = []\n",
    "    for value in row.findAll(\"td\"):\n",
    "        clean_value = value.text.strip()\n",
    "        clean_value = clean_value.encode('ascii', 'ignore')\n",
    "        clean_value = clean_value.decode('ascii', 'ignore')\n",
    "        cur_row.append(clean_value)\n",
    "    rows.append(cur_row)\n",
    "rows = rows[1:]"
   ]
  },
  {
   "cell_type": "code",
   "execution_count": null,
   "metadata": {},
   "outputs": [],
   "source": [
    "empires_df = pd.DataFrame(rows, columns=headers)"
   ]
  },
  {
   "cell_type": "code",
   "execution_count": null,
   "metadata": {},
   "outputs": [],
   "source": [
    "indian_empires_df = empires_df.query(\"Origin.str.contains('India')\").reset_index(drop=True)"
   ]
  },
  {
   "cell_type": "code",
   "execution_count": null,
   "metadata": {},
   "outputs": [],
   "source": [
    "indian_empires_df.loc[19, \"To\"] = \"1759\""
   ]
  },
  {
   "cell_type": "code",
   "execution_count": null,
   "metadata": {},
   "outputs": [],
   "source": [
    "indian_empires_df[\"From\"] = indian_empires_df[\"From\"].apply(\n",
    "    lambda x: -1 * int(x.replace(\"BC\", \"\")) if \"BC\" in x else int(x)\n",
    ")\n",
    "\n",
    "indian_empires_df[\"To\"] = indian_empires_df[\"To\"].apply(\n",
    "    lambda x: -1 * int(x.replace(\"BC\", \"\")) if \"BC\" in x else int(x)\n",
    ")"
   ]
  },
  {
   "cell_type": "code",
   "execution_count": null,
   "metadata": {},
   "outputs": [],
   "source": [
    "indian_empires_df = indian_empires_df.sort_values(\"From\", ascending=True)"
   ]
  },
  {
   "cell_type": "code",
   "execution_count": null,
   "metadata": {},
   "outputs": [],
   "source": [
    "indian_empires_df['delta'] = indian_empires_df['To'] - indian_empires_df['From']\n",
    "\n",
    "NUM_SPACES = 3\n",
    "indian_empires_df[\"empire_labels\"] = indian_empires_df[\"Empire\"].apply(lambda x: x + \" \"*NUM_SPACES)\n",
    "indian_empires_df[\"empire_labels\"] = indian_empires_df[\"empire_labels\"].str.replace(\"dynasty\", \"Dynasty\")\n",
    "indian_empires_df[\"empire_labels\"] = indian_empires_df[\"empire_labels\"].str.replace(\"empire\", \"Empire\")\n",
    "\n",
    "fig = px.timeline(\n",
    "    indian_empires_df, \n",
    "    x_start=\"From\", \n",
    "    x_end=\"To\", \n",
    "    y=\"empire_labels\",\n",
    "    hover_name=\"Empire\",\n",
    "    hover_data={\"Empire\": True, \"empire_labels\": False},\n",
    "    labels={\"empire_labels\": \"Empire\"},\n",
    ")\n",
    "fig.update_yaxes(autorange=\"reversed\") \n",
    "\n",
    "fig.layout.xaxis.type = 'linear'\n",
    "fig.data[0].x = indian_empires_df.delta.tolist()\n",
    "fig.update_layout(\n",
    "    width = 1000,\n",
    "    height = 800,\n",
    "    \n",
    ")\n",
    "fig.show()"
   ]
  },
  {
   "cell_type": "markdown",
   "metadata": {},
   "source": [
    "# Chinese Empires"
   ]
  },
  {
   "cell_type": "code",
   "execution_count": null,
   "metadata": {},
   "outputs": [],
   "source": [
    "chinese_empires = [\n",
    "    {\"Dynasty\": \"Xia Dynasty\", \"Ethnicity\": \"Huaxia\", \"From\": -2070, \"To\": -1600},\n",
    "    {\"Dynasty\": \"Shang Dynasty\", \"Ethnicity\": \"Huaxia\", \"From\": -1600, \"To\": -1046},\n",
    "    {\"Dynasty\": \"Western Zhou\", \"Ethnicity\": \"Huaxia\", \"From\": -1046, \"To\": -771},\n",
    "    {\"Dynasty\": \"Eastern Zhou\", \"Ethnicity\": \"Huaxia\", \"From\": -770, \"To\": -256},\n",
    "    {\"Dynasty\": \"Qin Dynasty\", \"Ethnicity\": \"Huaxia\", \"From\": -221, \"To\": -207},\n",
    "    {\"Dynasty\": \"Western Han\", \"Ethnicity\": \"Han\", \"From\": -202, \"To\": 9},\n",
    "    {\"Dynasty\": \"Xin Dynasty\", \"Ethnicity\": \"Han\", \"From\": 9, \"To\": 23},\n",
    "    {\"Dynasty\": \"Eastern Han\", \"Ethnicity\": \"Han\", \"From\": 25, \"To\": 220},\n",
    "#     {\"Dynasty\": \"Three Kingdoms\", \"Ethnicity\": None, \"From\": 220, \"To\": 280},\n",
    "    {\"Dynasty\": \"Cao Wei\", \"Ethnicity\": \"Han\", \"From\": 220, \"To\": 266},\n",
    "    {\"Dynasty\": \"Shu Han\", \"Ethnicity\": \"Han\", \"From\": 221, \"To\": 263},\n",
    "    {\"Dynasty\": \"Eastern Wu\", \"Ethnicity\": \"Han\", \"From\": 222, \"To\": 280},\n",
    "    {\"Dynasty\": \"Western Jin\", \"Ethnicity\": \"Han\", \"From\": 266, \"To\": 316},\n",
    "    {\"Dynasty\": \"Eastern Jin\", \"Ethnicity\": \"Han\", \"From\": 317, \"To\": 420},\n",
    "#     {\"Dynasty\": \"Sixteen Kingdoms\", \"Ethnicity\": None, \"From\": 304, \"To\": 439},\n",
    "    {\"Dynasty\": \"Han Zhao\", \"Ethnicity\": \"Xiongnu\", \"From\": 304, \"To\": 329},\n",
    "    {\"Dynasty\": \"Cheng Han\", \"Ethnicity\": \"Di\", \"From\": 304, \"To\": 347},\n",
    "    {\"Dynasty\": \"Later Zhao\", \"Ethnicity\": \"Jie\", \"From\": 319, \"To\": 351},\n",
    "    {\"Dynasty\": \"Former Liang\", \"Ethnicity\": \"Han\", \"From\": 320, \"To\": 376},\n",
    "    {\"Dynasty\": \"Former Yan\", \"Ethnicity\": \"Xianbei\", \"From\": 337, \"To\": 370},\n",
    "    {\"Dynasty\": \"Former Qin\", \"Ethnicity\": \"Di\", \"From\": 351, \"To\": 394},\n",
    "    {\"Dynasty\": \"Later Yan\", \"Ethnicity\": \"Xianbei\", \"From\": 384, \"To\": 409},\n",
    "    {\"Dynasty\": \"Later Qin\", \"Ethnicity\": \"Qiang\", \"From\": 384, \"To\": 417},\n",
    "    {\"Dynasty\": \"Western Qin\", \"Ethnicity\": \"Xianbei\", \"From\": 385, \"To\": 400},\n",
    "    {\"Dynasty\": \"Western Qin\", \"Ethnicity\": \"Xianbei\", \"From\": 409, \"To\": 431},\n",
    "    {\"Dynasty\": \"Later Liang\", \"Ethnicity\": \"Di\", \"From\": 386, \"To\": 403},\n",
    "    {\"Dynasty\": \"Southern Liang\", \"Ethnicity\": \"Xianbei\", \"From\": 397, \"To\": 439},\n",
    "    {\"Dynasty\": \"Northern Liang\", \"Ethnicity\": \"Xiongnu\", \"From\": 397, \"To\": 439},\n",
    "    {\"Dynasty\": \"Southern Yan\", \"Ethnicity\": \"Xianbei\", \"From\": 398, \"To\": 410},\n",
    "    {\"Dynasty\": \"Western Liang\", \"Ethnicity\": \"Han\", \"From\": 400, \"To\": 421},\n",
    "    {\"Dynasty\": \"Hu Xia\", \"Ethnicity\": \"Han\", \"From\": 407, \"To\": 431},\n",
    "    {\"Dynasty\": \"Northern Yan\", \"Ethnicity\": \"Han\", \"From\": 407, \"To\": 436},\n",
    "#     {\"Dynasty\": \"Northern Dynasties\", \"Ethnicity\": None, \"From\": 386, \"To\": 581},\n",
    "    {\"Dynasty\": \"Northern Wei\", \"Ethnicity\": \"Xianbei\", \"From\": 386, \"To\": 535},\n",
    "    {\"Dynasty\": \"Eastern Wei\", \"Ethnicity\": \"Xianbei\", \"From\": 534, \"To\": 550},\n",
    "    {\"Dynasty\": \"Western Wei\", \"Ethnicity\": \"Xianbei\", \"From\": 534, \"To\": 550},\n",
    "    {\"Dynasty\": \"Northern Qi\", \"Ethnicity\": \"Han\", \"From\": 550, \"To\": 577},\n",
    "    {\"Dynasty\": \"Northern Zhou\", \"Ethnicity\": \"Xianbei\", \"From\": 557, \"To\": 581},\n",
    "#     {\"Dynasty\": \"Southern Dynasties\", \"Ethnicity\": None, \"From\": 420, \"To\": 589},\n",
    "    {\"Dynasty\": \"Liu Song\", \"Ethnicity\": \"Han\", \"From\": 420, \"To\": 479},\n",
    "    {\"Dynasty\": \"Southern Qi\", \"Ethnicity\": \"Han\", \"From\": 479, \"To\": 502},\n",
    "    {\"Dynasty\": \"Liang Dynasty\", \"Ethnicity\": \"Han\", \"From\": 502, \"To\": 557},\n",
    "    {\"Dynasty\": \"Chen Dynasty\", \"Ethnicity\": \"Han\", \"From\": 557, \"To\": 589},\n",
    "    {\"Dynasty\": \"Sui Dynasty\", \"Ethnicity\": \"Han\", \"From\": 581, \"To\": 619},\n",
    "    {\"Dynasty\": \"Tang Dynasty\", \"Ethnicity\": \"Han\", \"From\": 618, \"To\": 690},\n",
    "    {\"Dynasty\": \"Tang Dynasty\", \"Ethnicity\": \"Han\", \"From\": 705, \"To\": 907},\n",
    "    {\"Dynasty\": \"Wu Zhou\", \"Ethnicity\": \"Han\", \"From\": 690, \"To\": 705},\n",
    "#     {\"Dynasty\": \"Five Dynasties\", \"Ethnicity\": None, \"From\": 907, \"To\": 960},\n",
    "    {\"Dynasty\": \"Later Liang\", \"Ethnicity\": \"Han\", \"From\": 907, \"To\": 923},\n",
    "    {\"Dynasty\": \"Later Tang\", \"Ethnicity\": \"Shatuo\", \"From\": 923, \"To\": 937},\n",
    "    {\"Dynasty\": \"Later Jin\", \"Ethnicity\": \"Shatuo\", \"From\": 936, \"To\": 947},\n",
    "    {\"Dynasty\": \"Later Han\", \"Ethnicity\": \"Shatuo\", \"From\": 947, \"To\": 951},\n",
    "    {\"Dynasty\": \"Later Zhou\", \"Ethnicity\": \"Han\", \"From\": 951, \"To\": 961},\n",
    "#     {\"Dynasty\": \"Ten Kingdoms\", \"Ethnicity\": None, \"From\": 907, \"To\": 979},\n",
    "    {\"Dynasty\": \"Former Shu\", \"Ethnicity\": \"Han\", \"From\": 907, \"To\": 925},\n",
    "    {\"Dynasty\": \"Yang Wu\", \"Ethnicity\": \"Han\", \"From\": 907, \"To\": 937},\n",
    "    {\"Dynasty\": \"Ma Chu\", \"Ethnicity\": \"Han\", \"From\": 907, \"To\": 951},\n",
    "    {\"Dynasty\": \"Wuyue\", \"Ethnicity\": \"Han\", \"From\": 907, \"To\": 978},\n",
    "    {\"Dynasty\": \"Min\", \"Ethnicity\": \"Han\", \"From\": 909, \"To\": 945},\n",
    "    {\"Dynasty\": \"Southern Han\", \"Ethnicity\": \"Han\", \"From\": 917, \"To\": 971},\n",
    "    {\"Dynasty\": \"Jingnan\", \"Ethnicity\": \"Han\", \"From\": 924, \"To\": 936},\n",
    "    {\"Dynasty\": \"Later Shu\", \"Ethnicity\": \"Han\", \"From\": 934, \"To\": 965},\n",
    "    {\"Dynasty\": \"Southern Tang\", \"Ethnicity\": \"Han\", \"From\": 937, \"To\": 976},\n",
    "    {\"Dynasty\": \"Northern Han\", \"Ethnicity\": \"Shatuo\", \"From\": 951, \"To\": 979},\n",
    "    {\"Dynasty\": \"Liao Dynasty\", \"Ethnicity\": \"Khitan\", \"From\": 916, \"To\": 1125},\n",
    "    {\"Dynasty\": \"Western Liao\", \"Ethnicity\": \"Khitan\", \"From\": 1124, \"To\": 1218},\n",
    "    {\"Dynasty\": \"Northern Song\", \"Ethnicity\": \"Han\", \"From\": 960, \"To\": 1127},\n",
    "    {\"Dynasty\": \"Southern Song\", \"Ethnicity\": \"Han\", \"From\": 1127, \"To\": 1279},\n",
    "    {\"Dynasty\": \"Western Xia\", \"Ethnicity\": \"Tangut\", \"From\": 1038, \"To\": 1227},\n",
    "    {\"Dynasty\": \"Jin Dynasty\", \"Ethnicity\": \"Jurchen\", \"From\": 1115, \"To\": 1234},\n",
    "    {\"Dynasty\": \"Yuan Dynasty\", \"Ethnicity\": \"Mongol\", \"From\": 1271, \"To\": 1368},\n",
    "    {\"Dynasty\": \"Northern Yuan\", \"Ethnicity\": \"Mongol\", \"From\": 1368, \"To\": 1635},\n",
    "    {\"Dynasty\": \"Ming Dynasty\", \"Ethnicity\": \"Han\", \"From\": 1368, \"To\": 1644},\n",
    "    {\"Dynasty\": \"Southern Ming\", \"Ethnicity\": \"Han\", \"From\": 1644, \"To\": 1662},\n",
    "    {\"Dynasty\": \"Later Jin\", \"Ethnicity\": \"Jurchen\", \"From\": 1616, \"To\": 1636},\n",
    "    {\"Dynasty\": \"Qing Dynasty\", \"Ethnicity\": \"Manchu\", \"From\": 1636, \"To\": 1912},\n",
    "]"
   ]
  },
  {
   "cell_type": "code",
   "execution_count": null,
   "metadata": {},
   "outputs": [],
   "source": [
    "chinese_empires_df = pd.DataFrame(chinese_empires)\n",
    "chinese_empires_df[\"binary_ethnicity\"] = chinese_empires_df[\"Ethnicity\"].apply(lambda x: \"Non-Han\" if x != \"Han\" else \"Han\")"
   ]
  },
  {
   "cell_type": "code",
   "execution_count": null,
   "metadata": {},
   "outputs": [],
   "source": [
    "chinese_empires_df = chinese_empires_df.sort_values(\"From\")\n",
    "chinese_empires_df[\"delta\"] = chinese_empires_df['To'] - chinese_empires_df['From']\n",
    "\n",
    "chinese_han_empires_df = chinese_empires_df.loc[chinese_empires_df[\"binary_ethnicity\"] == \"Han\"]\n",
    "chinese_non_han_empires_df = chinese_empires_df.loc[chinese_empires_df[\"binary_ethnicity\"] != \"Han\"]\n",
    "\n",
    "NUM_SPACES = 3\n",
    "chinese_empires_df[\"dynasty_labels\"] = chinese_empires_df[\"Dynasty\"].apply(lambda x: x + \" \"*NUM_SPACES)\n",
    "\n",
    "fig = px.timeline(\n",
    "    chinese_empires_df, \n",
    "    x_start=\"From\", \n",
    "    x_end=\"To\", \n",
    "    y=\"dynasty_labels\", \n",
    "    hover_name=\"Dynasty\",\n",
    "    hover_data={\"Ethnicity\": True, \"binary_ethnicity\": False, \"Dynasty\": False, \"dynasty_labels\": False},\n",
    "    labels={\"binary_ethnicity\": \"Grouped Ethnicity\", \"dynasty_labels\": \"Dynasty\"},\n",
    "    color=\"binary_ethnicity\",\n",
    "    title=\"Dynasties of China\"\n",
    ") \n",
    "\n",
    "fig.layout.xaxis.type = \"linear\"\n",
    "fig.data[0].x = chinese_empires_df.query(\"binary_ethnicity != 'Han'\").delta.tolist()\n",
    "fig.data[1].x = chinese_empires_df.query(\"binary_ethnicity == 'Han'\").delta.tolist()\n",
    "fig.update_xaxes(range=[-2000, 2000])\n",
    "fig.update_yaxes(\n",
    "    autorange=\"reversed\",\n",
    "    categoryorder=\"array\",\n",
    "    categoryarray=chinese_empires_df.dynasty_labels.tolist(),\n",
    ")\n",
    "fig.update_layout(\n",
    "    width = 1000,\n",
    "    height = 1500,\n",
    ")\n",
    "fig.show()"
   ]
  },
  {
   "cell_type": "code",
   "execution_count": null,
   "metadata": {},
   "outputs": [],
   "source": [
    "fig.write_html(\"visuals/plot_chinese_dynasties.html\", include_plotlyjs=\"cdn\", full_html=False)"
   ]
  },
  {
   "cell_type": "code",
   "execution_count": null,
   "metadata": {},
   "outputs": [],
   "source": []
  }
 ],
 "metadata": {
  "kernelspec": {
   "display_name": "Python 3",
   "language": "python",
   "name": "python3"
  },
  "language_info": {
   "codemirror_mode": {
    "name": "ipython",
    "version": 3
   },
   "file_extension": ".py",
   "mimetype": "text/x-python",
   "name": "python",
   "nbconvert_exporter": "python",
   "pygments_lexer": "ipython3",
   "version": "3.6.4"
  }
 },
 "nbformat": 4,
 "nbformat_minor": 4
}
