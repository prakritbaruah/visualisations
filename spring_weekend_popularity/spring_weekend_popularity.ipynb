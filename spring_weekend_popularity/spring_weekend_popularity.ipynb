{
 "cells": [
  {
   "cell_type": "code",
   "execution_count": 1,
   "metadata": {},
   "outputs": [],
   "source": [
    "import pandas as pd\n",
    "import numpy as np\n",
    "import plotly.graph_objects as go"
   ]
  },
  {
   "cell_type": "code",
   "execution_count": 2,
   "metadata": {},
   "outputs": [],
   "source": [
    "path = 'sw_performers.csv'\n",
    "performers_df = pd.read_csv(path)"
   ]
  },
  {
   "cell_type": "code",
   "execution_count": 3,
   "metadata": {},
   "outputs": [],
   "source": [
    "path = 'billboard_data/data/hot_stuff_2.csv'\n",
    "df = pd.read_csv(path)"
   ]
  },
  {
   "cell_type": "code",
   "execution_count": 4,
   "metadata": {},
   "outputs": [
    {
     "name": "stdout",
     "output_type": "stream",
     "text": [
      "Naive Overlap Size: 83\n"
     ]
    }
   ],
   "source": [
    "# Find out which artists have top-100 appearances\n",
    "\n",
    "# Naive approach\n",
    "sw_artists = set(performers_df['Performer'])\n",
    "top_100_artists = set(df['performer'])\n",
    "popular_artists = set(sw_artists & top_100_artists)\n",
    "df = df.loc[df['performer'].isin(popular_artists)]\n",
    "print('Naive Overlap Size:', len(popular_artists))"
   ]
  },
  {
   "cell_type": "code",
   "execution_count": 5,
   "metadata": {},
   "outputs": [],
   "source": [
    "# Add weekly score \n",
    "df['score'] = df['week_position'].apply(lambda x: 101 - x)\n",
    "\n",
    "# Clean up artists who have multiple hits in same week\n",
    "result_df = df[['weekid', 'performer', 'score']]\n",
    "result_df = result_df.groupby(['performer', 'weekid']).sum().reset_index()\n",
    "result_df = result_df.sort_values(['performer', 'weekid'])\n",
    "\n",
    "# Add cumulative score\n",
    "cum_scores = []\n",
    "prev_performer = None\n",
    "for i, row in result_df.iterrows():   \n",
    "    cur_score = row['score']\n",
    "    \n",
    "    if row['performer'] == prev_performer:\n",
    "         cur_score += cum_scores[-1]\n",
    "    cum_scores.append(cur_score)\n",
    "    \n",
    "    prev_performer = row['performer']\n",
    "\n",
    "result_df['cum_score'] = cum_scores"
   ]
  },
  {
   "cell_type": "code",
   "execution_count": 6,
   "metadata": {},
   "outputs": [],
   "source": [
    "# Visualisation: which years overall are the most popular\n",
    "\n",
    "# Final popularity per artist\n",
    "final_popularity_df = result_df.groupby('performer').last().reset_index()\n",
    "\n",
    "# Find the best scores per artist\n",
    "best_scores_df = performers_df.merge(\n",
    "    final_popularity_df[['performer', 'cum_score']], \n",
    "    left_on='Performer', \n",
    "    right_on='performer'\n",
    ")\n",
    "    \n",
    "best_scores_df = best_scores_df[['Year', 'Performer', 'cum_score']]\n",
    "best_scores_df = best_scores_df.sort_values(['Year', 'Performer'])"
   ]
  },
  {
   "cell_type": "code",
   "execution_count": 26,
   "metadata": {
    "scrolled": true
   },
   "outputs": [
    {
     "data": {
      "application/vnd.plotly.v1+json": {
       "config": {
        "plotlyServerURL": "https://plot.ly"
       },
       "data": [
        {
         "hovertext": [
          "Ray Charles",
          "The Isley Brothers",
          "Bob Dylan",
          "The Shirelles",
          "The Crystals",
          "Dionne Warwick",
          "Smokey Robinson",
          "Ray Charles",
          "Boz Scaggs",
          "Bonnie Raitt",
          "Todd Rundgren",
          "Bruce Springsteen",
          "Harry Chapin",
          "J.D. Souther",
          "Bonnie Raitt",
          "The Tubes",
          "Robin Lane & The Chartbusters",
          "NRBQ",
          "Graham Parker",
          "U2",
          "Paul Young",
          "R.E.M.",
          "Los Lobos",
          "Elvis Costello",
          "The Wailers",
          "A Tribe Called Quest",
          "10,000 Maniacs",
          "Digable Planets",
          "Coolio",
          "Bob Dylan",
          "KRS-One",
          "Busta Rhymes",
          "Kelis",
          "The Roots",
          "Lisa Loeb",
          "Howie Day",
          "Common",
          "The Roots",
          "Lupe Fiasco",
          "Nas",
          "Snoop Dogg",
          "Wyclef Jean",
          "Childish Gambino",
          "Kendrick Lamar",
          "Lauryn Hill",
          "Modest Mouse",
          "Fetty Wap",
          "Erykah Badu"
         ],
         "type": "bar",
         "x": [
          1962,
          1963,
          1964,
          1965,
          1966,
          1968,
          1969,
          1970,
          1971,
          1972,
          1973,
          1974,
          1975,
          1976,
          1978,
          1979,
          1980,
          1981,
          1982,
          1983,
          1984,
          1985,
          1986,
          1987,
          1988,
          1992,
          1993,
          1995,
          1996,
          1997,
          1998,
          1999,
          2000,
          2002,
          2003,
          2005,
          2006,
          2007,
          2008,
          2009,
          2010,
          2011,
          2012,
          2013,
          2014,
          2015,
          2016,
          2017
         ],
         "y": [
          17381,
          14186,
          9660,
          11458,
          5555,
          23605,
          11267,
          17381,
          9065,
          5997,
          3524,
          20082,
          3899,
          1367,
          5997,
          2276,
          32,
          119,
          12,
          18790,
          6496,
          11733,
          2278,
          740,
          1088,
          1472,
          4098,
          1312,
          5127,
          9660,
          635,
          6395,
          1982,
          583,
          1661,
          1877,
          770,
          583,
          2387,
          4245,
          4488,
          1611,
          4202,
          8780,
          3743,
          483,
          6844,
          2600
         ]
        },
        {
         "hovertext": [
          null,
          "The Limeliters",
          "The Coasters",
          "Bo Diddley",
          null,
          "James Brown",
          "Gordon Lightfoot",
          "Judy Collins",
          "Gordon Lightfoot",
          "Ike & Tina Turner",
          "Country Joe McDonald",
          null,
          "Richie Havens",
          null,
          "NRBQ",
          null,
          null,
          null,
          null,
          "NRBQ",
          null,
          null,
          null,
          null,
          "NRBQ",
          "De La Soul",
          "Black Sheep",
          "Indigo Girls",
          null,
          "Bo Diddley",
          "Grandmaster Flash",
          "Common",
          "Wyclef Jean",
          null,
          "The Wallflowers",
          "Matt Nathanson",
          "OK Go",
          "The Flaming Lips",
          "M.I.A.",
          null,
          "The Black Keys",
          null,
          "Cam'ron",
          null,
          null,
          "Waka Flocka Flame",
          null,
          "Young Thug"
         ],
         "type": "bar",
         "x": [
          1962,
          1963,
          1964,
          1965,
          1966,
          1968,
          1969,
          1970,
          1971,
          1972,
          1973,
          1974,
          1975,
          1976,
          1978,
          1979,
          1980,
          1981,
          1982,
          1983,
          1984,
          1985,
          1986,
          1987,
          1988,
          1992,
          1993,
          1995,
          1996,
          1997,
          1998,
          1999,
          2000,
          2002,
          2003,
          2005,
          2006,
          2007,
          2008,
          2009,
          2010,
          2011,
          2012,
          2013,
          2014,
          2015,
          2016,
          2017
         ],
         "y": [
          0,
          101,
          6268,
          1337,
          0,
          19972,
          6623,
          4348,
          6623,
          5085,
          41,
          0,
          825,
          0,
          119,
          0,
          0,
          0,
          0,
          119,
          0,
          0,
          0,
          0,
          119,
          761,
          668,
          313,
          0,
          1337,
          176,
          770,
          1611,
          0,
          120,
          684,
          724,
          542,
          1655,
          0,
          527,
          0,
          110,
          0,
          0,
          209,
          0,
          1451
         ]
        },
        {
         "hovertext": [
          null,
          null,
          null,
          "Ella Fitzgerald",
          null,
          "The Yardbirds",
          "Janis Joplin",
          "Jefferson Airplane",
          "Poco",
          "Blue Oyster Cult",
          null,
          null,
          "John Mayall",
          null,
          null,
          null,
          null,
          null,
          null,
          null,
          null,
          null,
          null,
          null,
          null,
          null,
          null,
          null,
          null,
          null,
          null,
          null,
          null,
          null,
          null,
          "Talib Kweli",
          null,
          null,
          null,
          null,
          "Wale",
          null,
          null,
          null,
          null,
          "Pusha T",
          null,
          null
         ],
         "type": "bar",
         "x": [
          1962,
          1963,
          1964,
          1965,
          1966,
          1968,
          1969,
          1970,
          1971,
          1972,
          1973,
          1974,
          1975,
          1976,
          1978,
          1979,
          1980,
          1981,
          1982,
          1983,
          1984,
          1985,
          1986,
          1987,
          1988,
          1992,
          1993,
          1995,
          1996,
          1997,
          1998,
          1999,
          2000,
          2002,
          2003,
          2005,
          2006,
          2007,
          2008,
          2009,
          2010,
          2011,
          2012,
          2013,
          2014,
          2015,
          2016,
          2017
         ],
         "y": [
          0,
          0,
          0,
          868,
          0,
          4797,
          1929,
          2849,
          4598,
          1961,
          0,
          0,
          45,
          0,
          0,
          0,
          0,
          0,
          0,
          0,
          0,
          0,
          0,
          0,
          0,
          0,
          0,
          0,
          0,
          0,
          0,
          0,
          0,
          0,
          0,
          139,
          0,
          0,
          0,
          0,
          475,
          0,
          0,
          0,
          0,
          65,
          0,
          0
         ]
        },
        {
         "hovertext": [
          null,
          null,
          null,
          null,
          null,
          "Procol Harum",
          null,
          "John Sebastian",
          "Sha Na Na",
          null,
          null,
          null,
          null,
          null,
          null,
          null,
          null,
          null,
          null,
          null,
          null,
          null,
          null,
          null,
          null,
          null,
          null,
          null,
          null,
          null,
          null,
          null,
          null,
          null,
          null,
          "Ben Folds",
          null,
          null,
          null,
          null,
          "MGMT",
          null,
          null,
          null,
          null,
          null,
          null,
          null
         ],
         "type": "bar",
         "x": [
          1962,
          1963,
          1964,
          1965,
          1966,
          1968,
          1969,
          1970,
          1971,
          1972,
          1973,
          1974,
          1975,
          1976,
          1978,
          1979,
          1980,
          1981,
          1982,
          1983,
          1984,
          1985,
          1986,
          1987,
          1988,
          1992,
          1993,
          1995,
          1996,
          1997,
          1998,
          1999,
          2000,
          2002,
          2003,
          2005,
          2006,
          2007,
          2008,
          2009,
          2010,
          2011,
          2012,
          2013,
          2014,
          2015,
          2016,
          2017
         ],
         "y": [
          0,
          0,
          0,
          0,
          0,
          2081,
          0,
          1198,
          310,
          0,
          0,
          0,
          0,
          0,
          0,
          0,
          0,
          0,
          0,
          0,
          0,
          0,
          0,
          0,
          0,
          0,
          0,
          0,
          0,
          0,
          0,
          0,
          0,
          0,
          0,
          58,
          0,
          0,
          0,
          0,
          36,
          0,
          0,
          0,
          0,
          0,
          0,
          0
         ]
        },
        {
         "hovertext": [
          null,
          null,
          null,
          null,
          null,
          null,
          null,
          "John Mayall",
          "Laura Nyro",
          null,
          null,
          null,
          null,
          null,
          null,
          null,
          null,
          null,
          null,
          null,
          null,
          null,
          null,
          null,
          null,
          null,
          null,
          null,
          null,
          null,
          null,
          null,
          null,
          null,
          null,
          "The Shins",
          null,
          null,
          null,
          null,
          null,
          null,
          null,
          null,
          null,
          null,
          null,
          null
         ],
         "type": "bar",
         "x": [
          1962,
          1963,
          1964,
          1965,
          1966,
          1968,
          1969,
          1970,
          1971,
          1972,
          1973,
          1974,
          1975,
          1976,
          1978,
          1979,
          1980,
          1981,
          1982,
          1983,
          1984,
          1985,
          1986,
          1987,
          1988,
          1992,
          1993,
          1995,
          1996,
          1997,
          1998,
          1999,
          2000,
          2002,
          2003,
          2005,
          2006,
          2007,
          2008,
          2009,
          2010,
          2011,
          2012,
          2013,
          2014,
          2015,
          2016,
          2017
         ],
         "y": [
          0,
          0,
          0,
          0,
          0,
          0,
          0,
          45,
          18,
          0,
          0,
          0,
          0,
          0,
          0,
          0,
          0,
          0,
          0,
          0,
          0,
          0,
          0,
          0,
          0,
          0,
          0,
          0,
          0,
          0,
          0,
          0,
          0,
          0,
          0,
          15,
          0,
          0,
          0,
          0,
          0,
          0,
          0,
          0,
          0,
          0,
          0,
          0
         ]
        }
       ],
       "layout": {
        "barmode": "stack",
        "showlegend": false,
        "template": {
         "data": {
          "bar": [
           {
            "error_x": {
             "color": "#2a3f5f"
            },
            "error_y": {
             "color": "#2a3f5f"
            },
            "marker": {
             "line": {
              "color": "#E5ECF6",
              "width": 0.5
             }
            },
            "type": "bar"
           }
          ],
          "barpolar": [
           {
            "marker": {
             "line": {
              "color": "#E5ECF6",
              "width": 0.5
             }
            },
            "type": "barpolar"
           }
          ],
          "carpet": [
           {
            "aaxis": {
             "endlinecolor": "#2a3f5f",
             "gridcolor": "white",
             "linecolor": "white",
             "minorgridcolor": "white",
             "startlinecolor": "#2a3f5f"
            },
            "baxis": {
             "endlinecolor": "#2a3f5f",
             "gridcolor": "white",
             "linecolor": "white",
             "minorgridcolor": "white",
             "startlinecolor": "#2a3f5f"
            },
            "type": "carpet"
           }
          ],
          "choropleth": [
           {
            "colorbar": {
             "outlinewidth": 0,
             "ticks": ""
            },
            "type": "choropleth"
           }
          ],
          "contour": [
           {
            "colorbar": {
             "outlinewidth": 0,
             "ticks": ""
            },
            "colorscale": [
             [
              0,
              "#0d0887"
             ],
             [
              0.1111111111111111,
              "#46039f"
             ],
             [
              0.2222222222222222,
              "#7201a8"
             ],
             [
              0.3333333333333333,
              "#9c179e"
             ],
             [
              0.4444444444444444,
              "#bd3786"
             ],
             [
              0.5555555555555556,
              "#d8576b"
             ],
             [
              0.6666666666666666,
              "#ed7953"
             ],
             [
              0.7777777777777778,
              "#fb9f3a"
             ],
             [
              0.8888888888888888,
              "#fdca26"
             ],
             [
              1,
              "#f0f921"
             ]
            ],
            "type": "contour"
           }
          ],
          "contourcarpet": [
           {
            "colorbar": {
             "outlinewidth": 0,
             "ticks": ""
            },
            "type": "contourcarpet"
           }
          ],
          "heatmap": [
           {
            "colorbar": {
             "outlinewidth": 0,
             "ticks": ""
            },
            "colorscale": [
             [
              0,
              "#0d0887"
             ],
             [
              0.1111111111111111,
              "#46039f"
             ],
             [
              0.2222222222222222,
              "#7201a8"
             ],
             [
              0.3333333333333333,
              "#9c179e"
             ],
             [
              0.4444444444444444,
              "#bd3786"
             ],
             [
              0.5555555555555556,
              "#d8576b"
             ],
             [
              0.6666666666666666,
              "#ed7953"
             ],
             [
              0.7777777777777778,
              "#fb9f3a"
             ],
             [
              0.8888888888888888,
              "#fdca26"
             ],
             [
              1,
              "#f0f921"
             ]
            ],
            "type": "heatmap"
           }
          ],
          "heatmapgl": [
           {
            "colorbar": {
             "outlinewidth": 0,
             "ticks": ""
            },
            "colorscale": [
             [
              0,
              "#0d0887"
             ],
             [
              0.1111111111111111,
              "#46039f"
             ],
             [
              0.2222222222222222,
              "#7201a8"
             ],
             [
              0.3333333333333333,
              "#9c179e"
             ],
             [
              0.4444444444444444,
              "#bd3786"
             ],
             [
              0.5555555555555556,
              "#d8576b"
             ],
             [
              0.6666666666666666,
              "#ed7953"
             ],
             [
              0.7777777777777778,
              "#fb9f3a"
             ],
             [
              0.8888888888888888,
              "#fdca26"
             ],
             [
              1,
              "#f0f921"
             ]
            ],
            "type": "heatmapgl"
           }
          ],
          "histogram": [
           {
            "marker": {
             "colorbar": {
              "outlinewidth": 0,
              "ticks": ""
             }
            },
            "type": "histogram"
           }
          ],
          "histogram2d": [
           {
            "colorbar": {
             "outlinewidth": 0,
             "ticks": ""
            },
            "colorscale": [
             [
              0,
              "#0d0887"
             ],
             [
              0.1111111111111111,
              "#46039f"
             ],
             [
              0.2222222222222222,
              "#7201a8"
             ],
             [
              0.3333333333333333,
              "#9c179e"
             ],
             [
              0.4444444444444444,
              "#bd3786"
             ],
             [
              0.5555555555555556,
              "#d8576b"
             ],
             [
              0.6666666666666666,
              "#ed7953"
             ],
             [
              0.7777777777777778,
              "#fb9f3a"
             ],
             [
              0.8888888888888888,
              "#fdca26"
             ],
             [
              1,
              "#f0f921"
             ]
            ],
            "type": "histogram2d"
           }
          ],
          "histogram2dcontour": [
           {
            "colorbar": {
             "outlinewidth": 0,
             "ticks": ""
            },
            "colorscale": [
             [
              0,
              "#0d0887"
             ],
             [
              0.1111111111111111,
              "#46039f"
             ],
             [
              0.2222222222222222,
              "#7201a8"
             ],
             [
              0.3333333333333333,
              "#9c179e"
             ],
             [
              0.4444444444444444,
              "#bd3786"
             ],
             [
              0.5555555555555556,
              "#d8576b"
             ],
             [
              0.6666666666666666,
              "#ed7953"
             ],
             [
              0.7777777777777778,
              "#fb9f3a"
             ],
             [
              0.8888888888888888,
              "#fdca26"
             ],
             [
              1,
              "#f0f921"
             ]
            ],
            "type": "histogram2dcontour"
           }
          ],
          "mesh3d": [
           {
            "colorbar": {
             "outlinewidth": 0,
             "ticks": ""
            },
            "type": "mesh3d"
           }
          ],
          "parcoords": [
           {
            "line": {
             "colorbar": {
              "outlinewidth": 0,
              "ticks": ""
             }
            },
            "type": "parcoords"
           }
          ],
          "pie": [
           {
            "automargin": true,
            "type": "pie"
           }
          ],
          "scatter": [
           {
            "marker": {
             "colorbar": {
              "outlinewidth": 0,
              "ticks": ""
             }
            },
            "type": "scatter"
           }
          ],
          "scatter3d": [
           {
            "line": {
             "colorbar": {
              "outlinewidth": 0,
              "ticks": ""
             }
            },
            "marker": {
             "colorbar": {
              "outlinewidth": 0,
              "ticks": ""
             }
            },
            "type": "scatter3d"
           }
          ],
          "scattercarpet": [
           {
            "marker": {
             "colorbar": {
              "outlinewidth": 0,
              "ticks": ""
             }
            },
            "type": "scattercarpet"
           }
          ],
          "scattergeo": [
           {
            "marker": {
             "colorbar": {
              "outlinewidth": 0,
              "ticks": ""
             }
            },
            "type": "scattergeo"
           }
          ],
          "scattergl": [
           {
            "marker": {
             "colorbar": {
              "outlinewidth": 0,
              "ticks": ""
             }
            },
            "type": "scattergl"
           }
          ],
          "scattermapbox": [
           {
            "marker": {
             "colorbar": {
              "outlinewidth": 0,
              "ticks": ""
             }
            },
            "type": "scattermapbox"
           }
          ],
          "scatterpolar": [
           {
            "marker": {
             "colorbar": {
              "outlinewidth": 0,
              "ticks": ""
             }
            },
            "type": "scatterpolar"
           }
          ],
          "scatterpolargl": [
           {
            "marker": {
             "colorbar": {
              "outlinewidth": 0,
              "ticks": ""
             }
            },
            "type": "scatterpolargl"
           }
          ],
          "scatterternary": [
           {
            "marker": {
             "colorbar": {
              "outlinewidth": 0,
              "ticks": ""
             }
            },
            "type": "scatterternary"
           }
          ],
          "surface": [
           {
            "colorbar": {
             "outlinewidth": 0,
             "ticks": ""
            },
            "colorscale": [
             [
              0,
              "#0d0887"
             ],
             [
              0.1111111111111111,
              "#46039f"
             ],
             [
              0.2222222222222222,
              "#7201a8"
             ],
             [
              0.3333333333333333,
              "#9c179e"
             ],
             [
              0.4444444444444444,
              "#bd3786"
             ],
             [
              0.5555555555555556,
              "#d8576b"
             ],
             [
              0.6666666666666666,
              "#ed7953"
             ],
             [
              0.7777777777777778,
              "#fb9f3a"
             ],
             [
              0.8888888888888888,
              "#fdca26"
             ],
             [
              1,
              "#f0f921"
             ]
            ],
            "type": "surface"
           }
          ],
          "table": [
           {
            "cells": {
             "fill": {
              "color": "#EBF0F8"
             },
             "line": {
              "color": "white"
             }
            },
            "header": {
             "fill": {
              "color": "#C8D4E3"
             },
             "line": {
              "color": "white"
             }
            },
            "type": "table"
           }
          ]
         },
         "layout": {
          "annotationdefaults": {
           "arrowcolor": "#2a3f5f",
           "arrowhead": 0,
           "arrowwidth": 1
          },
          "coloraxis": {
           "colorbar": {
            "outlinewidth": 0,
            "ticks": ""
           }
          },
          "colorscale": {
           "diverging": [
            [
             0,
             "#8e0152"
            ],
            [
             0.1,
             "#c51b7d"
            ],
            [
             0.2,
             "#de77ae"
            ],
            [
             0.3,
             "#f1b6da"
            ],
            [
             0.4,
             "#fde0ef"
            ],
            [
             0.5,
             "#f7f7f7"
            ],
            [
             0.6,
             "#e6f5d0"
            ],
            [
             0.7,
             "#b8e186"
            ],
            [
             0.8,
             "#7fbc41"
            ],
            [
             0.9,
             "#4d9221"
            ],
            [
             1,
             "#276419"
            ]
           ],
           "sequential": [
            [
             0,
             "#0d0887"
            ],
            [
             0.1111111111111111,
             "#46039f"
            ],
            [
             0.2222222222222222,
             "#7201a8"
            ],
            [
             0.3333333333333333,
             "#9c179e"
            ],
            [
             0.4444444444444444,
             "#bd3786"
            ],
            [
             0.5555555555555556,
             "#d8576b"
            ],
            [
             0.6666666666666666,
             "#ed7953"
            ],
            [
             0.7777777777777778,
             "#fb9f3a"
            ],
            [
             0.8888888888888888,
             "#fdca26"
            ],
            [
             1,
             "#f0f921"
            ]
           ],
           "sequentialminus": [
            [
             0,
             "#0d0887"
            ],
            [
             0.1111111111111111,
             "#46039f"
            ],
            [
             0.2222222222222222,
             "#7201a8"
            ],
            [
             0.3333333333333333,
             "#9c179e"
            ],
            [
             0.4444444444444444,
             "#bd3786"
            ],
            [
             0.5555555555555556,
             "#d8576b"
            ],
            [
             0.6666666666666666,
             "#ed7953"
            ],
            [
             0.7777777777777778,
             "#fb9f3a"
            ],
            [
             0.8888888888888888,
             "#fdca26"
            ],
            [
             1,
             "#f0f921"
            ]
           ]
          },
          "colorway": [
           "#636efa",
           "#EF553B",
           "#00cc96",
           "#ab63fa",
           "#FFA15A",
           "#19d3f3",
           "#FF6692",
           "#B6E880",
           "#FF97FF",
           "#FECB52"
          ],
          "font": {
           "color": "#2a3f5f"
          },
          "geo": {
           "bgcolor": "white",
           "lakecolor": "white",
           "landcolor": "#E5ECF6",
           "showlakes": true,
           "showland": true,
           "subunitcolor": "white"
          },
          "hoverlabel": {
           "align": "left"
          },
          "hovermode": "closest",
          "mapbox": {
           "style": "light"
          },
          "paper_bgcolor": "white",
          "plot_bgcolor": "#E5ECF6",
          "polar": {
           "angularaxis": {
            "gridcolor": "white",
            "linecolor": "white",
            "ticks": ""
           },
           "bgcolor": "#E5ECF6",
           "radialaxis": {
            "gridcolor": "white",
            "linecolor": "white",
            "ticks": ""
           }
          },
          "scene": {
           "xaxis": {
            "backgroundcolor": "#E5ECF6",
            "gridcolor": "white",
            "gridwidth": 2,
            "linecolor": "white",
            "showbackground": true,
            "ticks": "",
            "zerolinecolor": "white"
           },
           "yaxis": {
            "backgroundcolor": "#E5ECF6",
            "gridcolor": "white",
            "gridwidth": 2,
            "linecolor": "white",
            "showbackground": true,
            "ticks": "",
            "zerolinecolor": "white"
           },
           "zaxis": {
            "backgroundcolor": "#E5ECF6",
            "gridcolor": "white",
            "gridwidth": 2,
            "linecolor": "white",
            "showbackground": true,
            "ticks": "",
            "zerolinecolor": "white"
           }
          },
          "shapedefaults": {
           "line": {
            "color": "#2a3f5f"
           }
          },
          "ternary": {
           "aaxis": {
            "gridcolor": "white",
            "linecolor": "white",
            "ticks": ""
           },
           "baxis": {
            "gridcolor": "white",
            "linecolor": "white",
            "ticks": ""
           },
           "bgcolor": "#E5ECF6",
           "caxis": {
            "gridcolor": "white",
            "linecolor": "white",
            "ticks": ""
           }
          },
          "title": {
           "x": 0.05
          },
          "xaxis": {
           "automargin": true,
           "gridcolor": "white",
           "linecolor": "white",
           "ticks": "",
           "title": {
            "standoff": 15
           },
           "zerolinecolor": "white",
           "zerolinewidth": 2
          },
          "yaxis": {
           "automargin": true,
           "gridcolor": "white",
           "linecolor": "white",
           "ticks": "",
           "title": {
            "standoff": 15
           },
           "zerolinecolor": "white",
           "zerolinewidth": 2
          }
         }
        },
        "title": {
         "text": "Most Popular Spring Weekend Lineups"
        },
        "xaxis": {
         "title": {
          "text": "Year"
         }
        },
        "yaxis": {
         "title": {
          "text": "Popularity Points"
         }
        }
       }
      },
      "text/html": [
       "<div>\n",
       "        \n",
       "        \n",
       "            <div id=\"39b1f9a3-21f1-420c-86e9-955de3713f71\" class=\"plotly-graph-div\" style=\"height:525px; width:100%;\"></div>\n",
       "            <script type=\"text/javascript\">\n",
       "                require([\"plotly\"], function(Plotly) {\n",
       "                    window.PLOTLYENV=window.PLOTLYENV || {};\n",
       "                    \n",
       "                if (document.getElementById(\"39b1f9a3-21f1-420c-86e9-955de3713f71\")) {\n",
       "                    Plotly.newPlot(\n",
       "                        '39b1f9a3-21f1-420c-86e9-955de3713f71',\n",
       "                        [{\"hovertext\": [\"Ray Charles\", \"The Isley Brothers\", \"Bob Dylan\", \"The Shirelles\", \"The Crystals\", \"Dionne Warwick\", \"Smokey Robinson\", \"Ray Charles\", \"Boz Scaggs\", \"Bonnie Raitt\", \"Todd Rundgren\", \"Bruce Springsteen\", \"Harry Chapin\", \"J.D. Souther\", \"Bonnie Raitt\", \"The Tubes\", \"Robin Lane & The Chartbusters\", \"NRBQ\", \"Graham Parker\", \"U2\", \"Paul Young\", \"R.E.M.\", \"Los Lobos\", \"Elvis Costello\", \"The Wailers\", \"A Tribe Called Quest\", \"10,000 Maniacs\", \"Digable Planets\", \"Coolio\", \"Bob Dylan\", \"KRS-One\", \"Busta Rhymes\", \"Kelis\", \"The Roots\", \"Lisa Loeb\", \"Howie Day\", \"Common\", \"The Roots\", \"Lupe Fiasco\", \"Nas\", \"Snoop Dogg\", \"Wyclef Jean\", \"Childish Gambino\", \"Kendrick Lamar\", \"Lauryn Hill\", \"Modest Mouse\", \"Fetty Wap\", \"Erykah Badu\"], \"type\": \"bar\", \"x\": [1962, 1963, 1964, 1965, 1966, 1968, 1969, 1970, 1971, 1972, 1973, 1974, 1975, 1976, 1978, 1979, 1980, 1981, 1982, 1983, 1984, 1985, 1986, 1987, 1988, 1992, 1993, 1995, 1996, 1997, 1998, 1999, 2000, 2002, 2003, 2005, 2006, 2007, 2008, 2009, 2010, 2011, 2012, 2013, 2014, 2015, 2016, 2017], \"y\": [17381, 14186, 9660, 11458, 5555, 23605, 11267, 17381, 9065, 5997, 3524, 20082, 3899, 1367, 5997, 2276, 32, 119, 12, 18790, 6496, 11733, 2278, 740, 1088, 1472, 4098, 1312, 5127, 9660, 635, 6395, 1982, 583, 1661, 1877, 770, 583, 2387, 4245, 4488, 1611, 4202, 8780, 3743, 483, 6844, 2600]}, {\"hovertext\": [null, \"The Limeliters\", \"The Coasters\", \"Bo Diddley\", null, \"James Brown\", \"Gordon Lightfoot\", \"Judy Collins\", \"Gordon Lightfoot\", \"Ike & Tina Turner\", \"Country Joe McDonald\", null, \"Richie Havens\", null, \"NRBQ\", null, null, null, null, \"NRBQ\", null, null, null, null, \"NRBQ\", \"De La Soul\", \"Black Sheep\", \"Indigo Girls\", null, \"Bo Diddley\", \"Grandmaster Flash\", \"Common\", \"Wyclef Jean\", null, \"The Wallflowers\", \"Matt Nathanson\", \"OK Go\", \"The Flaming Lips\", \"M.I.A.\", null, \"The Black Keys\", null, \"Cam'ron\", null, null, \"Waka Flocka Flame\", null, \"Young Thug\"], \"type\": \"bar\", \"x\": [1962, 1963, 1964, 1965, 1966, 1968, 1969, 1970, 1971, 1972, 1973, 1974, 1975, 1976, 1978, 1979, 1980, 1981, 1982, 1983, 1984, 1985, 1986, 1987, 1988, 1992, 1993, 1995, 1996, 1997, 1998, 1999, 2000, 2002, 2003, 2005, 2006, 2007, 2008, 2009, 2010, 2011, 2012, 2013, 2014, 2015, 2016, 2017], \"y\": [0, 101, 6268, 1337, 0, 19972, 6623, 4348, 6623, 5085, 41, 0, 825, 0, 119, 0, 0, 0, 0, 119, 0, 0, 0, 0, 119, 761, 668, 313, 0, 1337, 176, 770, 1611, 0, 120, 684, 724, 542, 1655, 0, 527, 0, 110, 0, 0, 209, 0, 1451]}, {\"hovertext\": [null, null, null, \"Ella Fitzgerald\", null, \"The Yardbirds\", \"Janis Joplin\", \"Jefferson Airplane\", \"Poco\", \"Blue Oyster Cult\", null, null, \"John Mayall\", null, null, null, null, null, null, null, null, null, null, null, null, null, null, null, null, null, null, null, null, null, null, \"Talib Kweli\", null, null, null, null, \"Wale\", null, null, null, null, \"Pusha T\", null, null], \"type\": \"bar\", \"x\": [1962, 1963, 1964, 1965, 1966, 1968, 1969, 1970, 1971, 1972, 1973, 1974, 1975, 1976, 1978, 1979, 1980, 1981, 1982, 1983, 1984, 1985, 1986, 1987, 1988, 1992, 1993, 1995, 1996, 1997, 1998, 1999, 2000, 2002, 2003, 2005, 2006, 2007, 2008, 2009, 2010, 2011, 2012, 2013, 2014, 2015, 2016, 2017], \"y\": [0, 0, 0, 868, 0, 4797, 1929, 2849, 4598, 1961, 0, 0, 45, 0, 0, 0, 0, 0, 0, 0, 0, 0, 0, 0, 0, 0, 0, 0, 0, 0, 0, 0, 0, 0, 0, 139, 0, 0, 0, 0, 475, 0, 0, 0, 0, 65, 0, 0]}, {\"hovertext\": [null, null, null, null, null, \"Procol Harum\", null, \"John Sebastian\", \"Sha Na Na\", null, null, null, null, null, null, null, null, null, null, null, null, null, null, null, null, null, null, null, null, null, null, null, null, null, null, \"Ben Folds\", null, null, null, null, \"MGMT\", null, null, null, null, null, null, null], \"type\": \"bar\", \"x\": [1962, 1963, 1964, 1965, 1966, 1968, 1969, 1970, 1971, 1972, 1973, 1974, 1975, 1976, 1978, 1979, 1980, 1981, 1982, 1983, 1984, 1985, 1986, 1987, 1988, 1992, 1993, 1995, 1996, 1997, 1998, 1999, 2000, 2002, 2003, 2005, 2006, 2007, 2008, 2009, 2010, 2011, 2012, 2013, 2014, 2015, 2016, 2017], \"y\": [0, 0, 0, 0, 0, 2081, 0, 1198, 310, 0, 0, 0, 0, 0, 0, 0, 0, 0, 0, 0, 0, 0, 0, 0, 0, 0, 0, 0, 0, 0, 0, 0, 0, 0, 0, 58, 0, 0, 0, 0, 36, 0, 0, 0, 0, 0, 0, 0]}, {\"hovertext\": [null, null, null, null, null, null, null, \"John Mayall\", \"Laura Nyro\", null, null, null, null, null, null, null, null, null, null, null, null, null, null, null, null, null, null, null, null, null, null, null, null, null, null, \"The Shins\", null, null, null, null, null, null, null, null, null, null, null, null], \"type\": \"bar\", \"x\": [1962, 1963, 1964, 1965, 1966, 1968, 1969, 1970, 1971, 1972, 1973, 1974, 1975, 1976, 1978, 1979, 1980, 1981, 1982, 1983, 1984, 1985, 1986, 1987, 1988, 1992, 1993, 1995, 1996, 1997, 1998, 1999, 2000, 2002, 2003, 2005, 2006, 2007, 2008, 2009, 2010, 2011, 2012, 2013, 2014, 2015, 2016, 2017], \"y\": [0, 0, 0, 0, 0, 0, 0, 45, 18, 0, 0, 0, 0, 0, 0, 0, 0, 0, 0, 0, 0, 0, 0, 0, 0, 0, 0, 0, 0, 0, 0, 0, 0, 0, 0, 15, 0, 0, 0, 0, 0, 0, 0, 0, 0, 0, 0, 0]}],\n",
       "                        {\"barmode\": \"stack\", \"showlegend\": false, \"template\": {\"data\": {\"bar\": [{\"error_x\": {\"color\": \"#2a3f5f\"}, \"error_y\": {\"color\": \"#2a3f5f\"}, \"marker\": {\"line\": {\"color\": \"#E5ECF6\", \"width\": 0.5}}, \"type\": \"bar\"}], \"barpolar\": [{\"marker\": {\"line\": {\"color\": \"#E5ECF6\", \"width\": 0.5}}, \"type\": \"barpolar\"}], \"carpet\": [{\"aaxis\": {\"endlinecolor\": \"#2a3f5f\", \"gridcolor\": \"white\", \"linecolor\": \"white\", \"minorgridcolor\": \"white\", \"startlinecolor\": \"#2a3f5f\"}, \"baxis\": {\"endlinecolor\": \"#2a3f5f\", \"gridcolor\": \"white\", \"linecolor\": \"white\", \"minorgridcolor\": \"white\", \"startlinecolor\": \"#2a3f5f\"}, \"type\": \"carpet\"}], \"choropleth\": [{\"colorbar\": {\"outlinewidth\": 0, \"ticks\": \"\"}, \"type\": \"choropleth\"}], \"contour\": [{\"colorbar\": {\"outlinewidth\": 0, \"ticks\": \"\"}, \"colorscale\": [[0.0, \"#0d0887\"], [0.1111111111111111, \"#46039f\"], [0.2222222222222222, \"#7201a8\"], [0.3333333333333333, \"#9c179e\"], [0.4444444444444444, \"#bd3786\"], [0.5555555555555556, \"#d8576b\"], [0.6666666666666666, \"#ed7953\"], [0.7777777777777778, \"#fb9f3a\"], [0.8888888888888888, \"#fdca26\"], [1.0, \"#f0f921\"]], \"type\": \"contour\"}], \"contourcarpet\": [{\"colorbar\": {\"outlinewidth\": 0, \"ticks\": \"\"}, \"type\": \"contourcarpet\"}], \"heatmap\": [{\"colorbar\": {\"outlinewidth\": 0, \"ticks\": \"\"}, \"colorscale\": [[0.0, \"#0d0887\"], [0.1111111111111111, \"#46039f\"], [0.2222222222222222, \"#7201a8\"], [0.3333333333333333, \"#9c179e\"], [0.4444444444444444, \"#bd3786\"], [0.5555555555555556, \"#d8576b\"], [0.6666666666666666, \"#ed7953\"], [0.7777777777777778, \"#fb9f3a\"], [0.8888888888888888, \"#fdca26\"], [1.0, \"#f0f921\"]], \"type\": \"heatmap\"}], \"heatmapgl\": [{\"colorbar\": {\"outlinewidth\": 0, \"ticks\": \"\"}, \"colorscale\": [[0.0, \"#0d0887\"], [0.1111111111111111, \"#46039f\"], [0.2222222222222222, \"#7201a8\"], [0.3333333333333333, \"#9c179e\"], [0.4444444444444444, \"#bd3786\"], [0.5555555555555556, \"#d8576b\"], [0.6666666666666666, \"#ed7953\"], [0.7777777777777778, \"#fb9f3a\"], [0.8888888888888888, \"#fdca26\"], [1.0, \"#f0f921\"]], \"type\": \"heatmapgl\"}], \"histogram\": [{\"marker\": {\"colorbar\": {\"outlinewidth\": 0, \"ticks\": \"\"}}, \"type\": \"histogram\"}], \"histogram2d\": [{\"colorbar\": {\"outlinewidth\": 0, \"ticks\": \"\"}, \"colorscale\": [[0.0, \"#0d0887\"], [0.1111111111111111, \"#46039f\"], [0.2222222222222222, \"#7201a8\"], [0.3333333333333333, \"#9c179e\"], [0.4444444444444444, \"#bd3786\"], [0.5555555555555556, \"#d8576b\"], [0.6666666666666666, \"#ed7953\"], [0.7777777777777778, \"#fb9f3a\"], [0.8888888888888888, \"#fdca26\"], [1.0, \"#f0f921\"]], \"type\": \"histogram2d\"}], \"histogram2dcontour\": [{\"colorbar\": {\"outlinewidth\": 0, \"ticks\": \"\"}, \"colorscale\": [[0.0, \"#0d0887\"], [0.1111111111111111, \"#46039f\"], [0.2222222222222222, \"#7201a8\"], [0.3333333333333333, \"#9c179e\"], [0.4444444444444444, \"#bd3786\"], [0.5555555555555556, \"#d8576b\"], [0.6666666666666666, \"#ed7953\"], [0.7777777777777778, \"#fb9f3a\"], [0.8888888888888888, \"#fdca26\"], [1.0, \"#f0f921\"]], \"type\": \"histogram2dcontour\"}], \"mesh3d\": [{\"colorbar\": {\"outlinewidth\": 0, \"ticks\": \"\"}, \"type\": \"mesh3d\"}], \"parcoords\": [{\"line\": {\"colorbar\": {\"outlinewidth\": 0, \"ticks\": \"\"}}, \"type\": \"parcoords\"}], \"pie\": [{\"automargin\": true, \"type\": \"pie\"}], \"scatter\": [{\"marker\": {\"colorbar\": {\"outlinewidth\": 0, \"ticks\": \"\"}}, \"type\": \"scatter\"}], \"scatter3d\": [{\"line\": {\"colorbar\": {\"outlinewidth\": 0, \"ticks\": \"\"}}, \"marker\": {\"colorbar\": {\"outlinewidth\": 0, \"ticks\": \"\"}}, \"type\": \"scatter3d\"}], \"scattercarpet\": [{\"marker\": {\"colorbar\": {\"outlinewidth\": 0, \"ticks\": \"\"}}, \"type\": \"scattercarpet\"}], \"scattergeo\": [{\"marker\": {\"colorbar\": {\"outlinewidth\": 0, \"ticks\": \"\"}}, \"type\": \"scattergeo\"}], \"scattergl\": [{\"marker\": {\"colorbar\": {\"outlinewidth\": 0, \"ticks\": \"\"}}, \"type\": \"scattergl\"}], \"scattermapbox\": [{\"marker\": {\"colorbar\": {\"outlinewidth\": 0, \"ticks\": \"\"}}, \"type\": \"scattermapbox\"}], \"scatterpolar\": [{\"marker\": {\"colorbar\": {\"outlinewidth\": 0, \"ticks\": \"\"}}, \"type\": \"scatterpolar\"}], \"scatterpolargl\": [{\"marker\": {\"colorbar\": {\"outlinewidth\": 0, \"ticks\": \"\"}}, \"type\": \"scatterpolargl\"}], \"scatterternary\": [{\"marker\": {\"colorbar\": {\"outlinewidth\": 0, \"ticks\": \"\"}}, \"type\": \"scatterternary\"}], \"surface\": [{\"colorbar\": {\"outlinewidth\": 0, \"ticks\": \"\"}, \"colorscale\": [[0.0, \"#0d0887\"], [0.1111111111111111, \"#46039f\"], [0.2222222222222222, \"#7201a8\"], [0.3333333333333333, \"#9c179e\"], [0.4444444444444444, \"#bd3786\"], [0.5555555555555556, \"#d8576b\"], [0.6666666666666666, \"#ed7953\"], [0.7777777777777778, \"#fb9f3a\"], [0.8888888888888888, \"#fdca26\"], [1.0, \"#f0f921\"]], \"type\": \"surface\"}], \"table\": [{\"cells\": {\"fill\": {\"color\": \"#EBF0F8\"}, \"line\": {\"color\": \"white\"}}, \"header\": {\"fill\": {\"color\": \"#C8D4E3\"}, \"line\": {\"color\": \"white\"}}, \"type\": \"table\"}]}, \"layout\": {\"annotationdefaults\": {\"arrowcolor\": \"#2a3f5f\", \"arrowhead\": 0, \"arrowwidth\": 1}, \"coloraxis\": {\"colorbar\": {\"outlinewidth\": 0, \"ticks\": \"\"}}, \"colorscale\": {\"diverging\": [[0, \"#8e0152\"], [0.1, \"#c51b7d\"], [0.2, \"#de77ae\"], [0.3, \"#f1b6da\"], [0.4, \"#fde0ef\"], [0.5, \"#f7f7f7\"], [0.6, \"#e6f5d0\"], [0.7, \"#b8e186\"], [0.8, \"#7fbc41\"], [0.9, \"#4d9221\"], [1, \"#276419\"]], \"sequential\": [[0.0, \"#0d0887\"], [0.1111111111111111, \"#46039f\"], [0.2222222222222222, \"#7201a8\"], [0.3333333333333333, \"#9c179e\"], [0.4444444444444444, \"#bd3786\"], [0.5555555555555556, \"#d8576b\"], [0.6666666666666666, \"#ed7953\"], [0.7777777777777778, \"#fb9f3a\"], [0.8888888888888888, \"#fdca26\"], [1.0, \"#f0f921\"]], \"sequentialminus\": [[0.0, \"#0d0887\"], [0.1111111111111111, \"#46039f\"], [0.2222222222222222, \"#7201a8\"], [0.3333333333333333, \"#9c179e\"], [0.4444444444444444, \"#bd3786\"], [0.5555555555555556, \"#d8576b\"], [0.6666666666666666, \"#ed7953\"], [0.7777777777777778, \"#fb9f3a\"], [0.8888888888888888, \"#fdca26\"], [1.0, \"#f0f921\"]]}, \"colorway\": [\"#636efa\", \"#EF553B\", \"#00cc96\", \"#ab63fa\", \"#FFA15A\", \"#19d3f3\", \"#FF6692\", \"#B6E880\", \"#FF97FF\", \"#FECB52\"], \"font\": {\"color\": \"#2a3f5f\"}, \"geo\": {\"bgcolor\": \"white\", \"lakecolor\": \"white\", \"landcolor\": \"#E5ECF6\", \"showlakes\": true, \"showland\": true, \"subunitcolor\": \"white\"}, \"hoverlabel\": {\"align\": \"left\"}, \"hovermode\": \"closest\", \"mapbox\": {\"style\": \"light\"}, \"paper_bgcolor\": \"white\", \"plot_bgcolor\": \"#E5ECF6\", \"polar\": {\"angularaxis\": {\"gridcolor\": \"white\", \"linecolor\": \"white\", \"ticks\": \"\"}, \"bgcolor\": \"#E5ECF6\", \"radialaxis\": {\"gridcolor\": \"white\", \"linecolor\": \"white\", \"ticks\": \"\"}}, \"scene\": {\"xaxis\": {\"backgroundcolor\": \"#E5ECF6\", \"gridcolor\": \"white\", \"gridwidth\": 2, \"linecolor\": \"white\", \"showbackground\": true, \"ticks\": \"\", \"zerolinecolor\": \"white\"}, \"yaxis\": {\"backgroundcolor\": \"#E5ECF6\", \"gridcolor\": \"white\", \"gridwidth\": 2, \"linecolor\": \"white\", \"showbackground\": true, \"ticks\": \"\", \"zerolinecolor\": \"white\"}, \"zaxis\": {\"backgroundcolor\": \"#E5ECF6\", \"gridcolor\": \"white\", \"gridwidth\": 2, \"linecolor\": \"white\", \"showbackground\": true, \"ticks\": \"\", \"zerolinecolor\": \"white\"}}, \"shapedefaults\": {\"line\": {\"color\": \"#2a3f5f\"}}, \"ternary\": {\"aaxis\": {\"gridcolor\": \"white\", \"linecolor\": \"white\", \"ticks\": \"\"}, \"baxis\": {\"gridcolor\": \"white\", \"linecolor\": \"white\", \"ticks\": \"\"}, \"bgcolor\": \"#E5ECF6\", \"caxis\": {\"gridcolor\": \"white\", \"linecolor\": \"white\", \"ticks\": \"\"}}, \"title\": {\"x\": 0.05}, \"xaxis\": {\"automargin\": true, \"gridcolor\": \"white\", \"linecolor\": \"white\", \"ticks\": \"\", \"title\": {\"standoff\": 15}, \"zerolinecolor\": \"white\", \"zerolinewidth\": 2}, \"yaxis\": {\"automargin\": true, \"gridcolor\": \"white\", \"linecolor\": \"white\", \"ticks\": \"\", \"title\": {\"standoff\": 15}, \"zerolinecolor\": \"white\", \"zerolinewidth\": 2}}}, \"title\": {\"text\": \"Most Popular Spring Weekend Lineups\"}, \"xaxis\": {\"title\": {\"text\": \"Year\"}}, \"yaxis\": {\"title\": {\"text\": \"Popularity Points\"}}},\n",
       "                        {\"responsive\": true}\n",
       "                    ).then(function(){\n",
       "                            \n",
       "var gd = document.getElementById('39b1f9a3-21f1-420c-86e9-955de3713f71');\n",
       "var x = new MutationObserver(function (mutations, observer) {{\n",
       "        var display = window.getComputedStyle(gd).display;\n",
       "        if (!display || display === 'none') {{\n",
       "            console.log([gd, 'removed!']);\n",
       "            Plotly.purge(gd);\n",
       "            observer.disconnect();\n",
       "        }}\n",
       "}});\n",
       "\n",
       "// Listen for the removal of the full notebook cells\n",
       "var notebookContainer = gd.closest('#notebook-container');\n",
       "if (notebookContainer) {{\n",
       "    x.observe(notebookContainer, {childList: true});\n",
       "}}\n",
       "\n",
       "// Listen for the clearing of the current output cell\n",
       "var outputEl = gd.closest('.output');\n",
       "if (outputEl) {{\n",
       "    x.observe(outputEl, {childList: true});\n",
       "}}\n",
       "\n",
       "                        })\n",
       "                };\n",
       "                });\n",
       "            </script>\n",
       "        </div>"
      ]
     },
     "metadata": {},
     "output_type": "display_data"
    }
   ],
   "source": [
    "# Stacked bar chart visualisation\n",
    "\n",
    "# MAKE SCORE AND NAME ARRAYS FOR VISUALIZATION\n",
    "max_artists_in_year = best_scores_df['Year'].value_counts().max()\n",
    "number_of_years = len(set(best_scores_df['Year']))\n",
    "\n",
    "score_array = np.full((number_of_years, max_artists_in_year), 0)\n",
    "name_array = np.full((number_of_years, max_artists_in_year), None)\n",
    "\n",
    "for x, year in enumerate(best_scores_df['Year'].unique()):\n",
    "    cur_year = best_scores_df.loc[best_scores_df['Year'] == year]\\\n",
    "        .sort_values('cum_score', ascending=False)\\\n",
    "        .reset_index()\n",
    "    for y, row in cur_year.iterrows():\n",
    "        score_array[x, y] = row['cum_score']\n",
    "        name_array[x, y] = row['Performer']\n",
    "\n",
    "years = best_scores_df['Year'].unique()\n",
    "\n",
    "fig = go.Figure(data=[\n",
    "    go.Bar(x=years, y=score_array[:, 0], hovertext=name_array[:, 0]),\n",
    "    go.Bar(x=years, y=score_array[:, 1], hovertext=name_array[:, 1]),\n",
    "    go.Bar(x=years, y=score_array[:, 2], hovertext=name_array[:, 2]),\n",
    "    go.Bar(x=years, y=score_array[:, 3], hovertext=name_array[:, 3]),\n",
    "    go.Bar(x=years, y=score_array[:, 4], hovertext=name_array[:, 4]),\n",
    "])\n",
    "# Change the bar mode\n",
    "fig.update_layout(\n",
    "    barmode='stack',\n",
    "    showlegend=False,\n",
    "    title=\"Most Popular Spring Weekend Lineups\"\n",
    ")\n",
    "\n",
    "fig.update_xaxes(title='Year')\n",
    "fig.update_yaxes(title='Popularity Points')\n",
    "\n",
    "fig.show()\n",
    "fig.write_html('visuals/plot_most_popular_lineups.html', include_plotlyjs='cdn', full_html=False)"
   ]
  },
  {
   "cell_type": "code",
   "execution_count": 40,
   "metadata": {},
   "outputs": [
    {
     "data": {
      "text/plain": [
       "Year\n",
       "1968    50455\n",
       "1970    25821\n",
       "1971    20614\n",
       "1974    20082\n",
       "1969    19819\n",
       "1983    18909\n",
       "1962    17381\n",
       "1964    15928\n",
       "1963    14287\n",
       "1965    13663\n",
       "dtype: int64"
      ]
     },
     "execution_count": 40,
     "metadata": {},
     "output_type": "execute_result"
    }
   ],
   "source": [
    "# Top 10 lineup years\n",
    "best_scores_df.groupby(\"Year\")\\\n",
    "    .apply(lambda x: sum(x[\"cum_score\"]))\\\n",
    "    .sort_values(ascending=False)\\\n",
    "    .iloc[:10]"
   ]
  },
  {
   "cell_type": "code",
   "execution_count": 58,
   "metadata": {
    "scrolled": true
   },
   "outputs": [
    {
     "data": {
      "application/vnd.plotly.v1+json": {
       "config": {
        "plotlyServerURL": "https://plot.ly"
       },
       "data": [
        {
         "line": {
          "color": "rgb(131, 90, 241)",
          "width": 0.5
         },
         "mode": "lines",
         "name": "Kendrick Lamar",
         "stackgroup": "one",
         "type": "scatter",
         "x": [
          "2012-08-18",
          "2012-08-25",
          "2012-09-15",
          "2012-09-22",
          "2012-09-29",
          "2012-10-06",
          "2012-10-13",
          "2012-10-20",
          "2012-10-27",
          "2012-11-03",
          "2012-11-10",
          "2012-11-17",
          "2012-11-24",
          "2012-12-01",
          "2012-12-08",
          "2012-12-15",
          "2012-12-22",
          "2012-12-29",
          "2013-01-05",
          "2013-01-12",
          "2013-01-19",
          "2013-01-26",
          "2013-02-02",
          "2013-02-09",
          "2013-02-16",
          "2013-02-23",
          "2013-03-02",
          "2013-03-09",
          "2013-03-16",
          "2013-04-06",
          "2013-04-13",
          "2013-04-20",
          "2013-04-27",
          "2013-05-04",
          "2013-05-11",
          "2013-05-18",
          "2013-05-25",
          "2013-06-01",
          "2013-06-08",
          "2013-06-15",
          "2013-06-22",
          "2013-06-29",
          "2013-07-06",
          "2013-07-13",
          "2013-07-20",
          "2013-07-27",
          "2014-10-11",
          "2014-10-18",
          "2014-10-25",
          "2014-11-01",
          "2014-11-08",
          "2014-11-15",
          "2014-11-22",
          "2014-11-29",
          "2014-12-06",
          "2014-12-13",
          "2014-12-20",
          "2015-04-04",
          "2015-04-11",
          "2015-04-18",
          "2015-04-25",
          "2015-05-02",
          "2015-05-09",
          "2015-05-16",
          "2015-05-23",
          "2015-05-30",
          "2015-06-06",
          "2015-06-13",
          "2015-07-18",
          "2015-07-25",
          "2015-08-01",
          "2015-08-08",
          "2015-08-15",
          "2015-08-22",
          "2015-08-29",
          "2015-09-05",
          "2015-09-12",
          "2015-09-19",
          "2015-09-26",
          "2015-10-03",
          "2015-10-10",
          "2016-03-26",
          "2017-04-15",
          "2017-04-22",
          "2017-04-29",
          "2017-05-06",
          "2017-05-13",
          "2017-05-20",
          "2017-05-27",
          "2017-06-03",
          "2017-06-10",
          "2017-06-17",
          "2017-06-24",
          "2017-07-01",
          "2017-07-08",
          "2017-07-15",
          "2017-07-22",
          "2017-07-29",
          "2017-08-05",
          "2017-08-12",
          "2017-08-19",
          "2017-08-26",
          "2017-09-02",
          "2017-09-09",
          "2017-09-16",
          "2017-09-23",
          "2017-09-30",
          "2017-10-07",
          "2017-10-14",
          "2017-10-21",
          "2017-10-28",
          "2017-11-04",
          "2017-11-11",
          "2017-11-18",
          "2017-11-25",
          "2017-12-02",
          "2017-12-09",
          "2017-12-16",
          "2017-12-23",
          "2017-12-30",
          "2018-02-24"
         ],
         "y": [
          1,
          7,
          11,
          15,
          24,
          44,
          73,
          103,
          143,
          189,
          258,
          334,
          415,
          497,
          578,
          662,
          744,
          824,
          905,
          986,
          1067,
          1148,
          1226,
          1305,
          1387,
          1469,
          1528,
          1586,
          1639,
          1656,
          1679,
          1705,
          1741,
          1782,
          1826,
          1874,
          1917,
          1986,
          2048,
          2109,
          2169,
          2228,
          2287,
          2355,
          2419,
          2470,
          2532,
          2585,
          2632,
          2682,
          2730,
          2781,
          2834,
          2876,
          2915,
          2936,
          2941,
          3034,
          3057,
          3097,
          3140,
          3173,
          3208,
          3237,
          3258,
          3276,
          3287,
          3290,
          3309,
          3324,
          3337,
          3348,
          3355,
          3364,
          3376,
          3383,
          3395,
          3412,
          3431,
          3451,
          3454,
          3487,
          3566,
          3681,
          3779,
          4498,
          4894,
          5141,
          5362,
          5572,
          5768,
          5945,
          6115,
          6280,
          6440,
          6606,
          6765,
          6916,
          7059,
          7190,
          7319,
          7446,
          7565,
          7683,
          7808,
          7888,
          7966,
          8042,
          8115,
          8194,
          8262,
          8328,
          8391,
          8450,
          8505,
          8559,
          8611,
          8665,
          8716,
          8770,
          8780
         ]
        }
       ],
       "layout": {
        "shapes": [
         {
          "fillcolor": "Grey",
          "layer": "below",
          "line": {
           "width": 0
          },
          "opacity": 0.7,
          "type": "rect",
          "x0": "2012-08-18",
          "x1": "2013-04-21",
          "xref": "x",
          "y0": 0,
          "y1": 1,
          "yref": "paper"
         }
        ],
        "showlegend": true,
        "template": {
         "data": {
          "bar": [
           {
            "error_x": {
             "color": "#2a3f5f"
            },
            "error_y": {
             "color": "#2a3f5f"
            },
            "marker": {
             "line": {
              "color": "#E5ECF6",
              "width": 0.5
             }
            },
            "type": "bar"
           }
          ],
          "barpolar": [
           {
            "marker": {
             "line": {
              "color": "#E5ECF6",
              "width": 0.5
             }
            },
            "type": "barpolar"
           }
          ],
          "carpet": [
           {
            "aaxis": {
             "endlinecolor": "#2a3f5f",
             "gridcolor": "white",
             "linecolor": "white",
             "minorgridcolor": "white",
             "startlinecolor": "#2a3f5f"
            },
            "baxis": {
             "endlinecolor": "#2a3f5f",
             "gridcolor": "white",
             "linecolor": "white",
             "minorgridcolor": "white",
             "startlinecolor": "#2a3f5f"
            },
            "type": "carpet"
           }
          ],
          "choropleth": [
           {
            "colorbar": {
             "outlinewidth": 0,
             "ticks": ""
            },
            "type": "choropleth"
           }
          ],
          "contour": [
           {
            "colorbar": {
             "outlinewidth": 0,
             "ticks": ""
            },
            "colorscale": [
             [
              0,
              "#0d0887"
             ],
             [
              0.1111111111111111,
              "#46039f"
             ],
             [
              0.2222222222222222,
              "#7201a8"
             ],
             [
              0.3333333333333333,
              "#9c179e"
             ],
             [
              0.4444444444444444,
              "#bd3786"
             ],
             [
              0.5555555555555556,
              "#d8576b"
             ],
             [
              0.6666666666666666,
              "#ed7953"
             ],
             [
              0.7777777777777778,
              "#fb9f3a"
             ],
             [
              0.8888888888888888,
              "#fdca26"
             ],
             [
              1,
              "#f0f921"
             ]
            ],
            "type": "contour"
           }
          ],
          "contourcarpet": [
           {
            "colorbar": {
             "outlinewidth": 0,
             "ticks": ""
            },
            "type": "contourcarpet"
           }
          ],
          "heatmap": [
           {
            "colorbar": {
             "outlinewidth": 0,
             "ticks": ""
            },
            "colorscale": [
             [
              0,
              "#0d0887"
             ],
             [
              0.1111111111111111,
              "#46039f"
             ],
             [
              0.2222222222222222,
              "#7201a8"
             ],
             [
              0.3333333333333333,
              "#9c179e"
             ],
             [
              0.4444444444444444,
              "#bd3786"
             ],
             [
              0.5555555555555556,
              "#d8576b"
             ],
             [
              0.6666666666666666,
              "#ed7953"
             ],
             [
              0.7777777777777778,
              "#fb9f3a"
             ],
             [
              0.8888888888888888,
              "#fdca26"
             ],
             [
              1,
              "#f0f921"
             ]
            ],
            "type": "heatmap"
           }
          ],
          "heatmapgl": [
           {
            "colorbar": {
             "outlinewidth": 0,
             "ticks": ""
            },
            "colorscale": [
             [
              0,
              "#0d0887"
             ],
             [
              0.1111111111111111,
              "#46039f"
             ],
             [
              0.2222222222222222,
              "#7201a8"
             ],
             [
              0.3333333333333333,
              "#9c179e"
             ],
             [
              0.4444444444444444,
              "#bd3786"
             ],
             [
              0.5555555555555556,
              "#d8576b"
             ],
             [
              0.6666666666666666,
              "#ed7953"
             ],
             [
              0.7777777777777778,
              "#fb9f3a"
             ],
             [
              0.8888888888888888,
              "#fdca26"
             ],
             [
              1,
              "#f0f921"
             ]
            ],
            "type": "heatmapgl"
           }
          ],
          "histogram": [
           {
            "marker": {
             "colorbar": {
              "outlinewidth": 0,
              "ticks": ""
             }
            },
            "type": "histogram"
           }
          ],
          "histogram2d": [
           {
            "colorbar": {
             "outlinewidth": 0,
             "ticks": ""
            },
            "colorscale": [
             [
              0,
              "#0d0887"
             ],
             [
              0.1111111111111111,
              "#46039f"
             ],
             [
              0.2222222222222222,
              "#7201a8"
             ],
             [
              0.3333333333333333,
              "#9c179e"
             ],
             [
              0.4444444444444444,
              "#bd3786"
             ],
             [
              0.5555555555555556,
              "#d8576b"
             ],
             [
              0.6666666666666666,
              "#ed7953"
             ],
             [
              0.7777777777777778,
              "#fb9f3a"
             ],
             [
              0.8888888888888888,
              "#fdca26"
             ],
             [
              1,
              "#f0f921"
             ]
            ],
            "type": "histogram2d"
           }
          ],
          "histogram2dcontour": [
           {
            "colorbar": {
             "outlinewidth": 0,
             "ticks": ""
            },
            "colorscale": [
             [
              0,
              "#0d0887"
             ],
             [
              0.1111111111111111,
              "#46039f"
             ],
             [
              0.2222222222222222,
              "#7201a8"
             ],
             [
              0.3333333333333333,
              "#9c179e"
             ],
             [
              0.4444444444444444,
              "#bd3786"
             ],
             [
              0.5555555555555556,
              "#d8576b"
             ],
             [
              0.6666666666666666,
              "#ed7953"
             ],
             [
              0.7777777777777778,
              "#fb9f3a"
             ],
             [
              0.8888888888888888,
              "#fdca26"
             ],
             [
              1,
              "#f0f921"
             ]
            ],
            "type": "histogram2dcontour"
           }
          ],
          "mesh3d": [
           {
            "colorbar": {
             "outlinewidth": 0,
             "ticks": ""
            },
            "type": "mesh3d"
           }
          ],
          "parcoords": [
           {
            "line": {
             "colorbar": {
              "outlinewidth": 0,
              "ticks": ""
             }
            },
            "type": "parcoords"
           }
          ],
          "pie": [
           {
            "automargin": true,
            "type": "pie"
           }
          ],
          "scatter": [
           {
            "marker": {
             "colorbar": {
              "outlinewidth": 0,
              "ticks": ""
             }
            },
            "type": "scatter"
           }
          ],
          "scatter3d": [
           {
            "line": {
             "colorbar": {
              "outlinewidth": 0,
              "ticks": ""
             }
            },
            "marker": {
             "colorbar": {
              "outlinewidth": 0,
              "ticks": ""
             }
            },
            "type": "scatter3d"
           }
          ],
          "scattercarpet": [
           {
            "marker": {
             "colorbar": {
              "outlinewidth": 0,
              "ticks": ""
             }
            },
            "type": "scattercarpet"
           }
          ],
          "scattergeo": [
           {
            "marker": {
             "colorbar": {
              "outlinewidth": 0,
              "ticks": ""
             }
            },
            "type": "scattergeo"
           }
          ],
          "scattergl": [
           {
            "marker": {
             "colorbar": {
              "outlinewidth": 0,
              "ticks": ""
             }
            },
            "type": "scattergl"
           }
          ],
          "scattermapbox": [
           {
            "marker": {
             "colorbar": {
              "outlinewidth": 0,
              "ticks": ""
             }
            },
            "type": "scattermapbox"
           }
          ],
          "scatterpolar": [
           {
            "marker": {
             "colorbar": {
              "outlinewidth": 0,
              "ticks": ""
             }
            },
            "type": "scatterpolar"
           }
          ],
          "scatterpolargl": [
           {
            "marker": {
             "colorbar": {
              "outlinewidth": 0,
              "ticks": ""
             }
            },
            "type": "scatterpolargl"
           }
          ],
          "scatterternary": [
           {
            "marker": {
             "colorbar": {
              "outlinewidth": 0,
              "ticks": ""
             }
            },
            "type": "scatterternary"
           }
          ],
          "surface": [
           {
            "colorbar": {
             "outlinewidth": 0,
             "ticks": ""
            },
            "colorscale": [
             [
              0,
              "#0d0887"
             ],
             [
              0.1111111111111111,
              "#46039f"
             ],
             [
              0.2222222222222222,
              "#7201a8"
             ],
             [
              0.3333333333333333,
              "#9c179e"
             ],
             [
              0.4444444444444444,
              "#bd3786"
             ],
             [
              0.5555555555555556,
              "#d8576b"
             ],
             [
              0.6666666666666666,
              "#ed7953"
             ],
             [
              0.7777777777777778,
              "#fb9f3a"
             ],
             [
              0.8888888888888888,
              "#fdca26"
             ],
             [
              1,
              "#f0f921"
             ]
            ],
            "type": "surface"
           }
          ],
          "table": [
           {
            "cells": {
             "fill": {
              "color": "#EBF0F8"
             },
             "line": {
              "color": "white"
             }
            },
            "header": {
             "fill": {
              "color": "#C8D4E3"
             },
             "line": {
              "color": "white"
             }
            },
            "type": "table"
           }
          ]
         },
         "layout": {
          "annotationdefaults": {
           "arrowcolor": "#2a3f5f",
           "arrowhead": 0,
           "arrowwidth": 1
          },
          "coloraxis": {
           "colorbar": {
            "outlinewidth": 0,
            "ticks": ""
           }
          },
          "colorscale": {
           "diverging": [
            [
             0,
             "#8e0152"
            ],
            [
             0.1,
             "#c51b7d"
            ],
            [
             0.2,
             "#de77ae"
            ],
            [
             0.3,
             "#f1b6da"
            ],
            [
             0.4,
             "#fde0ef"
            ],
            [
             0.5,
             "#f7f7f7"
            ],
            [
             0.6,
             "#e6f5d0"
            ],
            [
             0.7,
             "#b8e186"
            ],
            [
             0.8,
             "#7fbc41"
            ],
            [
             0.9,
             "#4d9221"
            ],
            [
             1,
             "#276419"
            ]
           ],
           "sequential": [
            [
             0,
             "#0d0887"
            ],
            [
             0.1111111111111111,
             "#46039f"
            ],
            [
             0.2222222222222222,
             "#7201a8"
            ],
            [
             0.3333333333333333,
             "#9c179e"
            ],
            [
             0.4444444444444444,
             "#bd3786"
            ],
            [
             0.5555555555555556,
             "#d8576b"
            ],
            [
             0.6666666666666666,
             "#ed7953"
            ],
            [
             0.7777777777777778,
             "#fb9f3a"
            ],
            [
             0.8888888888888888,
             "#fdca26"
            ],
            [
             1,
             "#f0f921"
            ]
           ],
           "sequentialminus": [
            [
             0,
             "#0d0887"
            ],
            [
             0.1111111111111111,
             "#46039f"
            ],
            [
             0.2222222222222222,
             "#7201a8"
            ],
            [
             0.3333333333333333,
             "#9c179e"
            ],
            [
             0.4444444444444444,
             "#bd3786"
            ],
            [
             0.5555555555555556,
             "#d8576b"
            ],
            [
             0.6666666666666666,
             "#ed7953"
            ],
            [
             0.7777777777777778,
             "#fb9f3a"
            ],
            [
             0.8888888888888888,
             "#fdca26"
            ],
            [
             1,
             "#f0f921"
            ]
           ]
          },
          "colorway": [
           "#636efa",
           "#EF553B",
           "#00cc96",
           "#ab63fa",
           "#FFA15A",
           "#19d3f3",
           "#FF6692",
           "#B6E880",
           "#FF97FF",
           "#FECB52"
          ],
          "font": {
           "color": "#2a3f5f"
          },
          "geo": {
           "bgcolor": "white",
           "lakecolor": "white",
           "landcolor": "#E5ECF6",
           "showlakes": true,
           "showland": true,
           "subunitcolor": "white"
          },
          "hoverlabel": {
           "align": "left"
          },
          "hovermode": "closest",
          "mapbox": {
           "style": "light"
          },
          "paper_bgcolor": "white",
          "plot_bgcolor": "#E5ECF6",
          "polar": {
           "angularaxis": {
            "gridcolor": "white",
            "linecolor": "white",
            "ticks": ""
           },
           "bgcolor": "#E5ECF6",
           "radialaxis": {
            "gridcolor": "white",
            "linecolor": "white",
            "ticks": ""
           }
          },
          "scene": {
           "xaxis": {
            "backgroundcolor": "#E5ECF6",
            "gridcolor": "white",
            "gridwidth": 2,
            "linecolor": "white",
            "showbackground": true,
            "ticks": "",
            "zerolinecolor": "white"
           },
           "yaxis": {
            "backgroundcolor": "#E5ECF6",
            "gridcolor": "white",
            "gridwidth": 2,
            "linecolor": "white",
            "showbackground": true,
            "ticks": "",
            "zerolinecolor": "white"
           },
           "zaxis": {
            "backgroundcolor": "#E5ECF6",
            "gridcolor": "white",
            "gridwidth": 2,
            "linecolor": "white",
            "showbackground": true,
            "ticks": "",
            "zerolinecolor": "white"
           }
          },
          "shapedefaults": {
           "line": {
            "color": "#2a3f5f"
           }
          },
          "ternary": {
           "aaxis": {
            "gridcolor": "white",
            "linecolor": "white",
            "ticks": ""
           },
           "baxis": {
            "gridcolor": "white",
            "linecolor": "white",
            "ticks": ""
           },
           "bgcolor": "#E5ECF6",
           "caxis": {
            "gridcolor": "white",
            "linecolor": "white",
            "ticks": ""
           }
          },
          "title": {
           "x": 0.05
          },
          "xaxis": {
           "automargin": true,
           "gridcolor": "white",
           "linecolor": "white",
           "ticks": "",
           "title": {
            "standoff": 15
           },
           "zerolinecolor": "white",
           "zerolinewidth": 2
          },
          "yaxis": {
           "automargin": true,
           "gridcolor": "white",
           "linecolor": "white",
           "ticks": "",
           "title": {
            "standoff": 15
           },
           "zerolinecolor": "white",
           "zerolinewidth": 2
          }
         }
        },
        "title": {
         "text": "Spring Weekend Lineup 2013"
        },
        "xaxis": {
         "title": {
          "text": "Year"
         }
        },
        "yaxis": {
         "title": {
          "text": "Popularity Points"
         }
        }
       }
      },
      "text/html": [
       "<div>\n",
       "        \n",
       "        \n",
       "            <div id=\"f0969b0c-7d64-4200-9881-4dfc58e4b24b\" class=\"plotly-graph-div\" style=\"height:525px; width:100%;\"></div>\n",
       "            <script type=\"text/javascript\">\n",
       "                require([\"plotly\"], function(Plotly) {\n",
       "                    window.PLOTLYENV=window.PLOTLYENV || {};\n",
       "                    \n",
       "                if (document.getElementById(\"f0969b0c-7d64-4200-9881-4dfc58e4b24b\")) {\n",
       "                    Plotly.newPlot(\n",
       "                        'f0969b0c-7d64-4200-9881-4dfc58e4b24b',\n",
       "                        [{\"line\": {\"color\": \"rgb(131, 90, 241)\", \"width\": 0.5}, \"mode\": \"lines\", \"name\": \"Kendrick Lamar\", \"stackgroup\": \"one\", \"type\": \"scatter\", \"x\": [\"2012-08-18\", \"2012-08-25\", \"2012-09-15\", \"2012-09-22\", \"2012-09-29\", \"2012-10-06\", \"2012-10-13\", \"2012-10-20\", \"2012-10-27\", \"2012-11-03\", \"2012-11-10\", \"2012-11-17\", \"2012-11-24\", \"2012-12-01\", \"2012-12-08\", \"2012-12-15\", \"2012-12-22\", \"2012-12-29\", \"2013-01-05\", \"2013-01-12\", \"2013-01-19\", \"2013-01-26\", \"2013-02-02\", \"2013-02-09\", \"2013-02-16\", \"2013-02-23\", \"2013-03-02\", \"2013-03-09\", \"2013-03-16\", \"2013-04-06\", \"2013-04-13\", \"2013-04-20\", \"2013-04-27\", \"2013-05-04\", \"2013-05-11\", \"2013-05-18\", \"2013-05-25\", \"2013-06-01\", \"2013-06-08\", \"2013-06-15\", \"2013-06-22\", \"2013-06-29\", \"2013-07-06\", \"2013-07-13\", \"2013-07-20\", \"2013-07-27\", \"2014-10-11\", \"2014-10-18\", \"2014-10-25\", \"2014-11-01\", \"2014-11-08\", \"2014-11-15\", \"2014-11-22\", \"2014-11-29\", \"2014-12-06\", \"2014-12-13\", \"2014-12-20\", \"2015-04-04\", \"2015-04-11\", \"2015-04-18\", \"2015-04-25\", \"2015-05-02\", \"2015-05-09\", \"2015-05-16\", \"2015-05-23\", \"2015-05-30\", \"2015-06-06\", \"2015-06-13\", \"2015-07-18\", \"2015-07-25\", \"2015-08-01\", \"2015-08-08\", \"2015-08-15\", \"2015-08-22\", \"2015-08-29\", \"2015-09-05\", \"2015-09-12\", \"2015-09-19\", \"2015-09-26\", \"2015-10-03\", \"2015-10-10\", \"2016-03-26\", \"2017-04-15\", \"2017-04-22\", \"2017-04-29\", \"2017-05-06\", \"2017-05-13\", \"2017-05-20\", \"2017-05-27\", \"2017-06-03\", \"2017-06-10\", \"2017-06-17\", \"2017-06-24\", \"2017-07-01\", \"2017-07-08\", \"2017-07-15\", \"2017-07-22\", \"2017-07-29\", \"2017-08-05\", \"2017-08-12\", \"2017-08-19\", \"2017-08-26\", \"2017-09-02\", \"2017-09-09\", \"2017-09-16\", \"2017-09-23\", \"2017-09-30\", \"2017-10-07\", \"2017-10-14\", \"2017-10-21\", \"2017-10-28\", \"2017-11-04\", \"2017-11-11\", \"2017-11-18\", \"2017-11-25\", \"2017-12-02\", \"2017-12-09\", \"2017-12-16\", \"2017-12-23\", \"2017-12-30\", \"2018-02-24\"], \"y\": [1.0, 7.0, 11.0, 15.0, 24.0, 44.0, 73.0, 103.0, 143.0, 189.0, 258.0, 334.0, 415.0, 497.0, 578.0, 662.0, 744.0, 824.0, 905.0, 986.0, 1067.0, 1148.0, 1226.0, 1305.0, 1387.0, 1469.0, 1528.0, 1586.0, 1639.0, 1656.0, 1679.0, 1705.0, 1741.0, 1782.0, 1826.0, 1874.0, 1917.0, 1986.0, 2048.0, 2109.0, 2169.0, 2228.0, 2287.0, 2355.0, 2419.0, 2470.0, 2532.0, 2585.0, 2632.0, 2682.0, 2730.0, 2781.0, 2834.0, 2876.0, 2915.0, 2936.0, 2941.0, 3034.0, 3057.0, 3097.0, 3140.0, 3173.0, 3208.0, 3237.0, 3258.0, 3276.0, 3287.0, 3290.0, 3309.0, 3324.0, 3337.0, 3348.0, 3355.0, 3364.0, 3376.0, 3383.0, 3395.0, 3412.0, 3431.0, 3451.0, 3454.0, 3487.0, 3566.0, 3681.0, 3779.0, 4498.0, 4894.0, 5141.0, 5362.0, 5572.0, 5768.0, 5945.0, 6115.0, 6280.0, 6440.0, 6606.0, 6765.0, 6916.0, 7059.0, 7190.0, 7319.0, 7446.0, 7565.0, 7683.0, 7808.0, 7888.0, 7966.0, 8042.0, 8115.0, 8194.0, 8262.0, 8328.0, 8391.0, 8450.0, 8505.0, 8559.0, 8611.0, 8665.0, 8716.0, 8770.0, 8780.0]}],\n",
       "                        {\"shapes\": [{\"fillcolor\": \"Grey\", \"layer\": \"below\", \"line\": {\"width\": 0}, \"opacity\": 0.7, \"type\": \"rect\", \"x0\": \"2012-08-18\", \"x1\": \"2013-04-21\", \"xref\": \"x\", \"y0\": 0, \"y1\": 1, \"yref\": \"paper\"}], \"showlegend\": true, \"template\": {\"data\": {\"bar\": [{\"error_x\": {\"color\": \"#2a3f5f\"}, \"error_y\": {\"color\": \"#2a3f5f\"}, \"marker\": {\"line\": {\"color\": \"#E5ECF6\", \"width\": 0.5}}, \"type\": \"bar\"}], \"barpolar\": [{\"marker\": {\"line\": {\"color\": \"#E5ECF6\", \"width\": 0.5}}, \"type\": \"barpolar\"}], \"carpet\": [{\"aaxis\": {\"endlinecolor\": \"#2a3f5f\", \"gridcolor\": \"white\", \"linecolor\": \"white\", \"minorgridcolor\": \"white\", \"startlinecolor\": \"#2a3f5f\"}, \"baxis\": {\"endlinecolor\": \"#2a3f5f\", \"gridcolor\": \"white\", \"linecolor\": \"white\", \"minorgridcolor\": \"white\", \"startlinecolor\": \"#2a3f5f\"}, \"type\": \"carpet\"}], \"choropleth\": [{\"colorbar\": {\"outlinewidth\": 0, \"ticks\": \"\"}, \"type\": \"choropleth\"}], \"contour\": [{\"colorbar\": {\"outlinewidth\": 0, \"ticks\": \"\"}, \"colorscale\": [[0.0, \"#0d0887\"], [0.1111111111111111, \"#46039f\"], [0.2222222222222222, \"#7201a8\"], [0.3333333333333333, \"#9c179e\"], [0.4444444444444444, \"#bd3786\"], [0.5555555555555556, \"#d8576b\"], [0.6666666666666666, \"#ed7953\"], [0.7777777777777778, \"#fb9f3a\"], [0.8888888888888888, \"#fdca26\"], [1.0, \"#f0f921\"]], \"type\": \"contour\"}], \"contourcarpet\": [{\"colorbar\": {\"outlinewidth\": 0, \"ticks\": \"\"}, \"type\": \"contourcarpet\"}], \"heatmap\": [{\"colorbar\": {\"outlinewidth\": 0, \"ticks\": \"\"}, \"colorscale\": [[0.0, \"#0d0887\"], [0.1111111111111111, \"#46039f\"], [0.2222222222222222, \"#7201a8\"], [0.3333333333333333, \"#9c179e\"], [0.4444444444444444, \"#bd3786\"], [0.5555555555555556, \"#d8576b\"], [0.6666666666666666, \"#ed7953\"], [0.7777777777777778, \"#fb9f3a\"], [0.8888888888888888, \"#fdca26\"], [1.0, \"#f0f921\"]], \"type\": \"heatmap\"}], \"heatmapgl\": [{\"colorbar\": {\"outlinewidth\": 0, \"ticks\": \"\"}, \"colorscale\": [[0.0, \"#0d0887\"], [0.1111111111111111, \"#46039f\"], [0.2222222222222222, \"#7201a8\"], [0.3333333333333333, \"#9c179e\"], [0.4444444444444444, \"#bd3786\"], [0.5555555555555556, \"#d8576b\"], [0.6666666666666666, \"#ed7953\"], [0.7777777777777778, \"#fb9f3a\"], [0.8888888888888888, \"#fdca26\"], [1.0, \"#f0f921\"]], \"type\": \"heatmapgl\"}], \"histogram\": [{\"marker\": {\"colorbar\": {\"outlinewidth\": 0, \"ticks\": \"\"}}, \"type\": \"histogram\"}], \"histogram2d\": [{\"colorbar\": {\"outlinewidth\": 0, \"ticks\": \"\"}, \"colorscale\": [[0.0, \"#0d0887\"], [0.1111111111111111, \"#46039f\"], [0.2222222222222222, \"#7201a8\"], [0.3333333333333333, \"#9c179e\"], [0.4444444444444444, \"#bd3786\"], [0.5555555555555556, \"#d8576b\"], [0.6666666666666666, \"#ed7953\"], [0.7777777777777778, \"#fb9f3a\"], [0.8888888888888888, \"#fdca26\"], [1.0, \"#f0f921\"]], \"type\": \"histogram2d\"}], \"histogram2dcontour\": [{\"colorbar\": {\"outlinewidth\": 0, \"ticks\": \"\"}, \"colorscale\": [[0.0, \"#0d0887\"], [0.1111111111111111, \"#46039f\"], [0.2222222222222222, \"#7201a8\"], [0.3333333333333333, \"#9c179e\"], [0.4444444444444444, \"#bd3786\"], [0.5555555555555556, \"#d8576b\"], [0.6666666666666666, \"#ed7953\"], [0.7777777777777778, \"#fb9f3a\"], [0.8888888888888888, \"#fdca26\"], [1.0, \"#f0f921\"]], \"type\": \"histogram2dcontour\"}], \"mesh3d\": [{\"colorbar\": {\"outlinewidth\": 0, \"ticks\": \"\"}, \"type\": \"mesh3d\"}], \"parcoords\": [{\"line\": {\"colorbar\": {\"outlinewidth\": 0, \"ticks\": \"\"}}, \"type\": \"parcoords\"}], \"pie\": [{\"automargin\": true, \"type\": \"pie\"}], \"scatter\": [{\"marker\": {\"colorbar\": {\"outlinewidth\": 0, \"ticks\": \"\"}}, \"type\": \"scatter\"}], \"scatter3d\": [{\"line\": {\"colorbar\": {\"outlinewidth\": 0, \"ticks\": \"\"}}, \"marker\": {\"colorbar\": {\"outlinewidth\": 0, \"ticks\": \"\"}}, \"type\": \"scatter3d\"}], \"scattercarpet\": [{\"marker\": {\"colorbar\": {\"outlinewidth\": 0, \"ticks\": \"\"}}, \"type\": \"scattercarpet\"}], \"scattergeo\": [{\"marker\": {\"colorbar\": {\"outlinewidth\": 0, \"ticks\": \"\"}}, \"type\": \"scattergeo\"}], \"scattergl\": [{\"marker\": {\"colorbar\": {\"outlinewidth\": 0, \"ticks\": \"\"}}, \"type\": \"scattergl\"}], \"scattermapbox\": [{\"marker\": {\"colorbar\": {\"outlinewidth\": 0, \"ticks\": \"\"}}, \"type\": \"scattermapbox\"}], \"scatterpolar\": [{\"marker\": {\"colorbar\": {\"outlinewidth\": 0, \"ticks\": \"\"}}, \"type\": \"scatterpolar\"}], \"scatterpolargl\": [{\"marker\": {\"colorbar\": {\"outlinewidth\": 0, \"ticks\": \"\"}}, \"type\": \"scatterpolargl\"}], \"scatterternary\": [{\"marker\": {\"colorbar\": {\"outlinewidth\": 0, \"ticks\": \"\"}}, \"type\": \"scatterternary\"}], \"surface\": [{\"colorbar\": {\"outlinewidth\": 0, \"ticks\": \"\"}, \"colorscale\": [[0.0, \"#0d0887\"], [0.1111111111111111, \"#46039f\"], [0.2222222222222222, \"#7201a8\"], [0.3333333333333333, \"#9c179e\"], [0.4444444444444444, \"#bd3786\"], [0.5555555555555556, \"#d8576b\"], [0.6666666666666666, \"#ed7953\"], [0.7777777777777778, \"#fb9f3a\"], [0.8888888888888888, \"#fdca26\"], [1.0, \"#f0f921\"]], \"type\": \"surface\"}], \"table\": [{\"cells\": {\"fill\": {\"color\": \"#EBF0F8\"}, \"line\": {\"color\": \"white\"}}, \"header\": {\"fill\": {\"color\": \"#C8D4E3\"}, \"line\": {\"color\": \"white\"}}, \"type\": \"table\"}]}, \"layout\": {\"annotationdefaults\": {\"arrowcolor\": \"#2a3f5f\", \"arrowhead\": 0, \"arrowwidth\": 1}, \"coloraxis\": {\"colorbar\": {\"outlinewidth\": 0, \"ticks\": \"\"}}, \"colorscale\": {\"diverging\": [[0, \"#8e0152\"], [0.1, \"#c51b7d\"], [0.2, \"#de77ae\"], [0.3, \"#f1b6da\"], [0.4, \"#fde0ef\"], [0.5, \"#f7f7f7\"], [0.6, \"#e6f5d0\"], [0.7, \"#b8e186\"], [0.8, \"#7fbc41\"], [0.9, \"#4d9221\"], [1, \"#276419\"]], \"sequential\": [[0.0, \"#0d0887\"], [0.1111111111111111, \"#46039f\"], [0.2222222222222222, \"#7201a8\"], [0.3333333333333333, \"#9c179e\"], [0.4444444444444444, \"#bd3786\"], [0.5555555555555556, \"#d8576b\"], [0.6666666666666666, \"#ed7953\"], [0.7777777777777778, \"#fb9f3a\"], [0.8888888888888888, \"#fdca26\"], [1.0, \"#f0f921\"]], \"sequentialminus\": [[0.0, \"#0d0887\"], [0.1111111111111111, \"#46039f\"], [0.2222222222222222, \"#7201a8\"], [0.3333333333333333, \"#9c179e\"], [0.4444444444444444, \"#bd3786\"], [0.5555555555555556, \"#d8576b\"], [0.6666666666666666, \"#ed7953\"], [0.7777777777777778, \"#fb9f3a\"], [0.8888888888888888, \"#fdca26\"], [1.0, \"#f0f921\"]]}, \"colorway\": [\"#636efa\", \"#EF553B\", \"#00cc96\", \"#ab63fa\", \"#FFA15A\", \"#19d3f3\", \"#FF6692\", \"#B6E880\", \"#FF97FF\", \"#FECB52\"], \"font\": {\"color\": \"#2a3f5f\"}, \"geo\": {\"bgcolor\": \"white\", \"lakecolor\": \"white\", \"landcolor\": \"#E5ECF6\", \"showlakes\": true, \"showland\": true, \"subunitcolor\": \"white\"}, \"hoverlabel\": {\"align\": \"left\"}, \"hovermode\": \"closest\", \"mapbox\": {\"style\": \"light\"}, \"paper_bgcolor\": \"white\", \"plot_bgcolor\": \"#E5ECF6\", \"polar\": {\"angularaxis\": {\"gridcolor\": \"white\", \"linecolor\": \"white\", \"ticks\": \"\"}, \"bgcolor\": \"#E5ECF6\", \"radialaxis\": {\"gridcolor\": \"white\", \"linecolor\": \"white\", \"ticks\": \"\"}}, \"scene\": {\"xaxis\": {\"backgroundcolor\": \"#E5ECF6\", \"gridcolor\": \"white\", \"gridwidth\": 2, \"linecolor\": \"white\", \"showbackground\": true, \"ticks\": \"\", \"zerolinecolor\": \"white\"}, \"yaxis\": {\"backgroundcolor\": \"#E5ECF6\", \"gridcolor\": \"white\", \"gridwidth\": 2, \"linecolor\": \"white\", \"showbackground\": true, \"ticks\": \"\", \"zerolinecolor\": \"white\"}, \"zaxis\": {\"backgroundcolor\": \"#E5ECF6\", \"gridcolor\": \"white\", \"gridwidth\": 2, \"linecolor\": \"white\", \"showbackground\": true, \"ticks\": \"\", \"zerolinecolor\": \"white\"}}, \"shapedefaults\": {\"line\": {\"color\": \"#2a3f5f\"}}, \"ternary\": {\"aaxis\": {\"gridcolor\": \"white\", \"linecolor\": \"white\", \"ticks\": \"\"}, \"baxis\": {\"gridcolor\": \"white\", \"linecolor\": \"white\", \"ticks\": \"\"}, \"bgcolor\": \"#E5ECF6\", \"caxis\": {\"gridcolor\": \"white\", \"linecolor\": \"white\", \"ticks\": \"\"}}, \"title\": {\"x\": 0.05}, \"xaxis\": {\"automargin\": true, \"gridcolor\": \"white\", \"linecolor\": \"white\", \"ticks\": \"\", \"title\": {\"standoff\": 15}, \"zerolinecolor\": \"white\", \"zerolinewidth\": 2}, \"yaxis\": {\"automargin\": true, \"gridcolor\": \"white\", \"linecolor\": \"white\", \"ticks\": \"\", \"title\": {\"standoff\": 15}, \"zerolinecolor\": \"white\", \"zerolinewidth\": 2}}}, \"title\": {\"text\": \"Spring Weekend Lineup 2013\"}, \"xaxis\": {\"title\": {\"text\": \"Year\"}}, \"yaxis\": {\"title\": {\"text\": \"Popularity Points\"}}},\n",
       "                        {\"responsive\": true}\n",
       "                    ).then(function(){\n",
       "                            \n",
       "var gd = document.getElementById('f0969b0c-7d64-4200-9881-4dfc58e4b24b');\n",
       "var x = new MutationObserver(function (mutations, observer) {{\n",
       "        var display = window.getComputedStyle(gd).display;\n",
       "        if (!display || display === 'none') {{\n",
       "            console.log([gd, 'removed!']);\n",
       "            Plotly.purge(gd);\n",
       "            observer.disconnect();\n",
       "        }}\n",
       "}});\n",
       "\n",
       "// Listen for the removal of the full notebook cells\n",
       "var notebookContainer = gd.closest('#notebook-container');\n",
       "if (notebookContainer) {{\n",
       "    x.observe(notebookContainer, {childList: true});\n",
       "}}\n",
       "\n",
       "// Listen for the clearing of the current output cell\n",
       "var outputEl = gd.closest('.output');\n",
       "if (outputEl) {{\n",
       "    x.observe(outputEl, {childList: true});\n",
       "}}\n",
       "\n",
       "                        })\n",
       "                };\n",
       "                });\n",
       "            </script>\n",
       "        </div>"
      ]
     },
     "metadata": {},
     "output_type": "display_data"
    }
   ],
   "source": [
    "import plotly.graph_objects as go\n",
    "\n",
    "year_of_interest = 2013\n",
    "yof_artists = list(best_scores_df.loc[best_scores_df['Year'] == year_of_interest]['Performer'])\n",
    "\n",
    "# Find all dates and create (artist, artist_df) tuples\n",
    "yof_artists_tuples = []\n",
    "all_dates = set()\n",
    "for a in yof_artists:\n",
    "    yof_artists_tuples.append((a, result_df.loc[result_df['performer'] == a]))\n",
    "    all_dates = set(all_dates | set(result_df.loc[result_df['performer'] == a]['weekid']))\n",
    "\n",
    "# Append missing dates to each performer\n",
    "for i, artist_tuple in enumerate(yof_artists_tuples):\n",
    "    a, cur_df = artist_tuple\n",
    "    missing_dates = set(all_dates - set(cur_df['weekid']))\n",
    "    n = len(missing_dates)\n",
    "    missing_dates_df = pd.DataFrame([\n",
    "                                [a for i in range(n)], # artist name\n",
    "                                list(missing_dates), # weekid\n",
    "                                [0 for i in range(n)], # temporary score\n",
    "                                [0 for i in range(n)] # temporary cum_score\n",
    "                            ]\n",
    "                        )\n",
    "    missing_dates_df = missing_dates_df.transpose()\n",
    "    missing_dates_df.columns = ['performer', 'weekid', 'score', 'cum_score']\n",
    "    \n",
    "    # Append missing dates to each artist\n",
    "    cur_df = cur_df.append(missing_dates_df, ignore_index=True)\n",
    "    cur_df = cur_df.sort_values('weekid').reset_index(drop=True)\n",
    "    \n",
    "    # Reset score and cum_score so that all zero values are populated\n",
    "    new_cum_scores = []\n",
    "    prev_cum_score = 0\n",
    "    for _, row in cur_df.iterrows():\n",
    "        # If cum_score is zero then append with previous value\n",
    "        if row['cum_score'] == 0:\n",
    "            new_cum_scores.append(prev_cum_score)\n",
    "            \n",
    "        # If cum_score is non zero then set to current value\n",
    "        else:\n",
    "            new_cum_scores.append(row['cum_score'])\n",
    "            \n",
    "            # Update previous score values ONLY when cum_score non zero\n",
    "            prev_cum_score = row['cum_score']\n",
    "        \n",
    "    # Overwrite artist dataframe scores and cum_scores\n",
    "    cur_df['cum_score'] = new_cum_scores\n",
    "    \n",
    "    # Update artist tuples\n",
    "    yof_artists_tuples[i] = (a, cur_df)\n",
    "    \n",
    "\n",
    "\n",
    "colors = ['rgb(131, 90, 241)', 'rgb(111, 231, 219)', 'rgb(184, 247, 212)', 'rgb(185, 50, 194)', 'rgb(172, 46, 254)']\n",
    "fig = go.Figure()\n",
    "min_date = '2100-01-01'\n",
    "for i, artist_tuple in enumerate(yof_artists_tuples):\n",
    "\n",
    "    # Unpack tuple\n",
    "    artist, artist_df = artist_tuple\n",
    "\n",
    "    fig.add_trace(go.Scatter(\n",
    "        name=artist,\n",
    "        x=artist_df['weekid'], \n",
    "        y=artist_df['cum_score'],\n",
    "        mode='lines',\n",
    "        line=dict(width=0.5, color=colors[i]),\n",
    "        stackgroup='one' # define stack group\n",
    "    ))\n",
    "    \n",
    "    # Find minimum date for plotting purposes ranges\n",
    "    min_date = min(min_date, min(artist_df['weekid']))\n",
    "\n",
    "    \n",
    "sw_date = str(year_of_interest) + '-04-21'\n",
    "# Add shape regions: highlight post SW\n",
    "fig.update_layout(\n",
    "    shapes=[\n",
    "        dict(\n",
    "            type=\"rect\",\n",
    "            # x-reference is assigned to the x-values\n",
    "            xref=\"x\",\n",
    "            # y-reference is assigned to the plot paper [0,1]\n",
    "            yref=\"paper\",\n",
    "            x0=min_date,\n",
    "            y0=0,\n",
    "            x1=sw_date,\n",
    "            y1=1,\n",
    "            fillcolor=\"Grey\",\n",
    "            opacity=0.7,\n",
    "            layer=\"below\",\n",
    "            line_width=0,\n",
    "        )\n",
    "    ],\n",
    "    title=\"Spring Weekend Lineup \" + str(year_of_interest),\n",
    "    showlegend=True,\n",
    ")\n",
    "\n",
    "fig.update_xaxes(title='Year')\n",
    "fig.update_yaxes(title='Popularity Points')\n",
    "    \n",
    "fig.show()\n",
    "fig.write_html('visuals/plot_{}_lineup.html'.format(year_of_interest), include_plotlyjs='cdn', full_html=False)"
   ]
  },
  {
   "cell_type": "code",
   "execution_count": null,
   "metadata": {},
   "outputs": [],
   "source": []
  },
  {
   "cell_type": "code",
   "execution_count": null,
   "metadata": {},
   "outputs": [],
   "source": []
  },
  {
   "cell_type": "code",
   "execution_count": 121,
   "metadata": {},
   "outputs": [
    {
     "data": {
      "text/plain": [
       "2"
      ]
     },
     "execution_count": 121,
     "metadata": {},
     "output_type": "execute_result"
    }
   ],
   "source": []
  },
  {
   "cell_type": "code",
   "execution_count": null,
   "metadata": {},
   "outputs": [],
   "source": []
  }
 ],
 "metadata": {
  "kernelspec": {
   "display_name": "Python 3",
   "language": "python",
   "name": "python3"
  },
  "language_info": {
   "codemirror_mode": {
    "name": "ipython",
    "version": 3
   },
   "file_extension": ".py",
   "mimetype": "text/x-python",
   "name": "python",
   "nbconvert_exporter": "python",
   "pygments_lexer": "ipython3",
   "version": "3.6.4"
  }
 },
 "nbformat": 4,
 "nbformat_minor": 2
}
