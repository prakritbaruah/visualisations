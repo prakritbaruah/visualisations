{
 "cells": [
  {
   "cell_type": "code",
   "execution_count": 821,
   "metadata": {},
   "outputs": [],
   "source": [
    "import requests\n",
    "from bs4 import BeautifulSoup\n",
    "import unicodedata\n",
    "import pandas as pd\n",
    "import time\n",
    "import random\n",
    "import os\n",
    "import shutil\n",
    "import matplotlib.pyplot as plt\n",
    "import plotly.io as pio\n",
    "import plotly.express as px"
   ]
  },
  {
   "cell_type": "code",
   "execution_count": 263,
   "metadata": {},
   "outputs": [],
   "source": [
    "SLEEP_UPPER_BOUND = 5"
   ]
  },
  {
   "cell_type": "markdown",
   "metadata": {},
   "source": [
    "# Scrape Data"
   ]
  },
  {
   "cell_type": "markdown",
   "metadata": {},
   "source": [
    "### Find individual match links per world cup"
   ]
  },
  {
   "cell_type": "code",
   "execution_count": 215,
   "metadata": {},
   "outputs": [],
   "source": [
    "def find_scorecard_links(year_fp):\n",
    "    time.sleep(random.randint(0,SLEEP_UPPER_BOUND))\n",
    "    \n",
    "    page = requests.get(year_fp)\n",
    "    assert(page.status_code == 200)\n",
    "    \n",
    "    soup = BeautifulSoup(page.content, \"html.parser\")\n",
    "    scorecard_tags = soup.find_all(lambda tag: tag.get(\"class\") == [\"match-info-link-FIXTURES\"])\n",
    "    \n",
    "    scorecard_links = []\n",
    "    site_prefix = \"https://www.espncricinfo.com\"\n",
    "    for link in scorecard_tags:\n",
    "        scorecard_links.append(site_prefix + link.get(\"href\"))\n",
    "\n",
    "    return scorecard_links"
   ]
  },
  {
   "cell_type": "markdown",
   "metadata": {},
   "source": [
    "### Find results per match"
   ]
  },
  {
   "cell_type": "code",
   "execution_count": 345,
   "metadata": {},
   "outputs": [],
   "source": [
    "def find_full_match_results(scorecard_fp):\n",
    "    time.sleep(random.randint(0,SLEEP_UPPER_BOUND))\n",
    "    \n",
    "    page = requests.get(scorecard_fp)\n",
    "    assert(page.status_code == 200)\n",
    "    \n",
    "    soup = BeautifulSoup(page.content, \"html.parser\")\n",
    "    \n",
    "    match_info = soup.find(\"div\", {\"class\":\"match-info match-info-MATCH\"})\n",
    "    status = match_info.find(\"div\", {\"class\":\"status\"})\n",
    "    \n",
    "    match_result_dict = {}\n",
    "    match_result_dict[\"result\"] = status.text\n",
    "    match_result_dict[\"batsman\"] = find_result_df(soup, \"table batsman\", 8)\n",
    "    match_result_dict[\"bowler\"] = find_result_df(soup, \"table bowler\", 11)\n",
    "    \n",
    "    return match_result_dict"
   ]
  },
  {
   "cell_type": "code",
   "execution_count": 341,
   "metadata": {},
   "outputs": [],
   "source": [
    "def find_result_df(soup, class_name, expected_num_cols):\n",
    "    time.sleep(random.randint(0,SLEEP_UPPER_BOUND))\n",
    "    \n",
    "    tables = soup.find_all(\"table\", {\"class\":class_name})\n",
    "    \n",
    "    full_results = []\n",
    "    for table in tables:\n",
    "        table_rows = table.find_all(\"tr\")\n",
    "\n",
    "        result = []\n",
    "        for tr in table_rows:\n",
    "            tags = tr.find_all([\"th\", \"td\"])\n",
    "\n",
    "            row = []\n",
    "            for i in tags:\n",
    "                text = i.text\n",
    "                text = unicodedata.normalize(\"NFKD\", text)\n",
    "                text = text.encode(\"ascii\", errors=\"ignore\").decode()\n",
    "                text = text.replace(\"(c)\", \"\")\n",
    "                text = text.strip()\n",
    "                row.append(text)\n",
    "\n",
    "            if len(row) == expected_num_cols:\n",
    "                result.append(row)\n",
    "\n",
    "        result_df = pd.DataFrame(result[1:], columns=result[0])\n",
    "        full_results.append(result_df)\n",
    "\n",
    "    return full_results"
   ]
  },
  {
   "cell_type": "markdown",
   "metadata": {},
   "source": [
    "### Test individual match results"
   ]
  },
  {
   "cell_type": "code",
   "execution_count": 346,
   "metadata": {},
   "outputs": [
    {
     "data": {
      "text/plain": [
       "{'result': 'no result',\n",
       " 'batsman': [           BATSMEN                       R   B   M 4s 6s     SR\n",
       "  0  Quinton de Kock             not out  17  21  37  1  0  80.95\n",
       "  1      Hashim Amla  c Gayle b Cottrell   6   7  13  1  0  85.71\n",
       "  2    Aiden Markram   c Hope b Cottrell   5  10  16  1  0  50.00\n",
       "  3   Faf du Plessis             not out   0   7   9  0  0   0.00],\n",
       " 'bowler': [            BOWLING    O  M   R  W  ECON  0s 4s 6s WD NB\n",
       "  0  Sheldon Cottrell    4  1  18  2  4.50  17  2  0  0  0\n",
       "  1       Kemar Roach    3  0  10  0  3.33  13  1  0  1  0\n",
       "  2     Oshane Thomas  0.3  0   1  0  2.00   2  0  0  0  0]}"
      ]
     },
     "execution_count": 346,
     "metadata": {},
     "output_type": "execute_result"
    }
   ],
   "source": [
    "find_full_match_results(\"https://www.espncricinfo.com/series/icc-cricket-world-cup-2019-1144415/south-africa-vs-west-indies-15th-match-1144497/full-scorecard\")"
   ]
  },
  {
   "cell_type": "code",
   "execution_count": 347,
   "metadata": {},
   "outputs": [
    {
     "data": {
      "text/plain": [
       "{'result': 'abandoned', 'batsman': [], 'bowler': []}"
      ]
     },
     "execution_count": 347,
     "metadata": {},
     "output_type": "execute_result"
    }
   ],
   "source": [
    "find_full_match_results(\"https://www.espncricinfo.com/series/icc-cricket-world-cup-2019-1144415/india-vs-new-zealand-18th-match-1144500/full-scorecard\")"
   ]
  },
  {
   "cell_type": "code",
   "execution_count": 352,
   "metadata": {},
   "outputs": [
    {
     "data": {
      "text/plain": [
       "{'result': 'result',\n",
       " 'batsman': [          BATSMEN                           R    B    M  4s 6s      SR\n",
       "  0    David Warner             b de Silva   26   48   70   2  0   54.17\n",
       "  1     Aaron Finch  c Karunaratne b Udana  153  132  176  15  5  115.91\n",
       "  2   Usman Khawaja     c Udana b de Silva   10   20   21   1  0   50.00\n",
       "  3    Steven Smith              b Malinga   73   59   90   7  1  123.73\n",
       "  4   Glenn Maxwell                not out   46   25   40   5  1  184.00\n",
       "  5     Shaun Marsh  c Siriwardana b Udana    3    9   19   0  0   33.33\n",
       "  6      Alex Carey        run out (Udana)    4    3    8   0  0  133.33\n",
       "  7     Pat Cummins        run out (Udana)    0    1    4   0  0    0.00\n",
       "  8  Mitchell Starc                not out    5    4    7   0  0  125.00,\n",
       "                  BATSMEN                           R    B    M 4s 6s      SR\n",
       "  0    Dimuth Karunaratne  c Maxwell b Richardson  97  108  132  9  0   89.81\n",
       "  1          Kusal Perera                 b Starc  52   36   64  5  1  144.44\n",
       "  2     Lahiru Thirimanne   c Carey b Behrendorff  16   26   34  1  0   61.54\n",
       "  3          Kusal Mendis         c Carey b Starc  30   37   68  0  2   81.08\n",
       "  4        Angelo Mathews       c Carey b Cummins   9   11   14  2  0   81.82\n",
       "  5   Milinda Siriwardana                 b Starc   3    4    5  0  0   75.00\n",
       "  6        Thisara Perera        c Warner b Starc   7    3    4  0  1  233.33\n",
       "  7   Dhananjaya de Silva                 not out  16   30   43  2  0   53.33\n",
       "  8           Isuru Udana    c Finch b Richardson   8    8    8  1  0  100.00\n",
       "  9        Lasith Malinga  c Khawaja b Richardson   1    5    9  0  0   20.00\n",
       "  10        Nuwan Pradeep       c Carey b Cummins   0    7   21  0  0    0.00],\n",
       " 'bowler': [               BOWLING   O  M   R  W  ECON  0s  4s 6s WD NB\n",
       "  0       Lasith Malinga  10  1  61  1  6.10  29   5  1  3  1\n",
       "  1        Nuwan Pradeep  10  0  88  0  8.80  26  13  2  1  0\n",
       "  2          Isuru Udana  10  0  57  2  5.70  24   4  0  1  0\n",
       "  3       Thisara Perera  10  0  67  0  6.70  19   6  1  1  0\n",
       "  4  Dhananjaya de Silva   8  0  40  2  5.00  24   1  2  2  0\n",
       "  5  Milinda Siriwardana   2  0  17  0  8.50   4   1  1  0  0,\n",
       "               BOWLING    O  M   R  W  ECON  0s 4s 6s WD NB\n",
       "  0     Mitchell Starc   10  0  55  4  5.50  34  5  2  1  0\n",
       "  1        Pat Cummins  7.5  0  38  2  4.85  28  4  0  2  0\n",
       "  2  Jason Behrendorff    9  0  59  1  6.56  22  4  1  0  0\n",
       "  3    Kane Richardson    9  1  47  3  5.22  32  6  0  2  0\n",
       "  4      Glenn Maxwell   10  0  46  0  4.60  26  1  1  1  0]}"
      ]
     },
     "execution_count": 352,
     "metadata": {},
     "output_type": "execute_result"
    }
   ],
   "source": [
    "find_full_match_results(\"https://www.espncricinfo.com/series/icc-cricket-world-cup-2019-1144415/australia-vs-sri-lanka-20th-match-1144502/full-scorecard\")"
   ]
  },
  {
   "cell_type": "markdown",
   "metadata": {},
   "source": [
    "### Loop over all world cups"
   ]
  },
  {
   "cell_type": "code",
   "execution_count": 372,
   "metadata": {},
   "outputs": [],
   "source": [
    "world_cup_links = [\n",
    "    \"https://www.espncricinfo.com/series/prudential-world-cup-1975-60793/match-results\",\n",
    "    \"https://www.espncricinfo.com/series/prudential-world-cup-1979-60806/match-results\",\n",
    "    \"https://www.espncricinfo.com/series/prudential-world-cup-1983-60832/match-results\",\n",
    "    \"https://www.espncricinfo.com/series/reliance-world-cup-1987-88-60876/match-results\",\n",
    "    \"https://www.espncricinfo.com/series/benson-hedges-world-cup-1991-92-60924/match-results\",\n",
    "    \"https://www.espncricinfo.com/series/wills-world-cup-1995-96-60981/match-results\",\n",
    "    \"https://www.espncricinfo.com/series/icc-world-cup-1999-61046/match-results\",\n",
    "    \"https://www.espncricinfo.com/series/icc-world-cup-2002-03-61124/match-results\",\n",
    "    \"https://www.espncricinfo.com/series/icc-world-cup-2006-07-125929/match-results\",\n",
    "    \"https://www.espncricinfo.com/series/icc-cricket-world-cup-2010-11-381449/match-results\",\n",
    "    \"https://www.espncricinfo.com/series/icc-cricket-world-cup-2014-15-509587/match-results\",\n",
    "    \"https://www.espncricinfo.com/series/icc-cricket-world-cup-2019-1144415/match-results\",\n",
    "]"
   ]
  },
  {
   "cell_type": "code",
   "execution_count": 373,
   "metadata": {},
   "outputs": [],
   "source": [
    "year_labels = [\n",
    "    \"1975\",\n",
    "    \"1979\",\n",
    "    \"1983\",\n",
    "    \"1987\",\n",
    "    \"1991\",\n",
    "    \"1995\",\n",
    "    \"1999\",\n",
    "    \"2003\",\n",
    "    \"2007\",\n",
    "    \"2011\",\n",
    "    \"2015\",\n",
    "    \"2019\",\n",
    "]"
   ]
  },
  {
   "cell_type": "code",
   "execution_count": 374,
   "metadata": {},
   "outputs": [],
   "source": [
    "world_cup_results = {}\n",
    "for year_fp, year_label in zip(world_cup_links, year_labels):\n",
    "    scorecard_links = find_scorecard_links(year_fp)\n",
    "    \n",
    "    year_results = []\n",
    "    for scorecard_fp in scorecard_links:\n",
    "        year_results.append(find_full_match_results(scorecard_fp))\n",
    "\n",
    "    world_cup_results[year_label] = year_results"
   ]
  },
  {
   "cell_type": "markdown",
   "metadata": {},
   "source": [
    "### Save world cup results data"
   ]
  },
  {
   "cell_type": "code",
   "execution_count": null,
   "metadata": {},
   "outputs": [],
   "source": [
    "world_cup_results"
   ]
  },
  {
   "cell_type": "code",
   "execution_count": 382,
   "metadata": {},
   "outputs": [
    {
     "name": "stdout",
     "output_type": "stream",
     "text": [
      "1975 world cup: 15 matches\n",
      "1979 world cup: 15 matches\n",
      "- skipped 7\n",
      "1983 world cup: 27 matches\n",
      "1987 world cup: 27 matches\n",
      "1991 world cup: 39 matches\n",
      "- skipped 26\n",
      "- skipped 30\n",
      "1995 world cup: 38 matches\n",
      "- skipped 22\n",
      "- ERROR: skipped 24\n",
      "{'result': 'result', 'batsman': [], 'bowler': []}\n",
      "- ERROR: skipped 33\n",
      "{'result': 'result', 'batsman': [], 'bowler': []}\n",
      "1999 world cup: 42 matches\n",
      "- skipped 9\n",
      "2003 world cup: 54 matches\n",
      "- skipped 13\n",
      "- ERROR: skipped 33\n",
      "{'result': 'result', 'batsman': [], 'bowler': []}\n",
      "- skipped 38\n",
      "- ERROR: skipped 46\n",
      "{'result': 'result', 'batsman': [], 'bowler': []}\n",
      "2007 world cup: 51 matches\n",
      "2011 world cup: 49 matches\n",
      "- skipped 29\n",
      "2015 world cup: 49 matches\n",
      "- skipped 38\n",
      "2019 world cup: 48 matches\n",
      "- skipped 30\n",
      "- skipped 32\n",
      "- skipped 33\n",
      "- skipped 37\n"
     ]
    }
   ],
   "source": [
    "OVERWRITE_DATA = True\n",
    "\n",
    "if OVERWRITE_DATA:\n",
    "    shutil.rmtree(\"data/world_cup\")\n",
    "    \n",
    "if not os.path.isdir(\"data/world_cup\"):\n",
    "    os.mkdir(\"data/world_cup\")\n",
    "    \n",
    "    for year, matches in world_cup_results.items():\n",
    "        print(f\"{year} world cup: {len(matches)} matches\")\n",
    "        for match_number, match in enumerate(matches):\n",
    "            \n",
    "            # skip if there is no result for the match (e.g. match abandoned)\n",
    "            if match[\"result\"] != \"result\":\n",
    "                print(f\"- skipped {match_number}\")\n",
    "                continue\n",
    "                \n",
    "            save_dir = f\"data/world_cup/{year}/{match_number}/\"\n",
    "            \n",
    "            # make directory if it non-existent\n",
    "            if not os.path.isdir(save_dir):\n",
    "                os.makedirs(save_dir + \"batsman/\")\n",
    "                os.makedirs(save_dir + \"bowler/\")\n",
    "                \n",
    "            try:\n",
    "                # save both innings dataframes to directory\n",
    "                match[\"batsman\"][0].to_csv(save_dir + \"batsman/innings_A.csv\", index=False)\n",
    "                match[\"batsman\"][1].to_csv(save_dir + \"batsman/innings_B.csv\", index=False)\n",
    "                match[\"bowler\"][0].to_csv(save_dir + \"bowler/innings_A.csv\", index=False)\n",
    "                match[\"bowler\"][1].to_csv(save_dir + \"bowler/innings_B.csv\", index=False)\n",
    "            except:\n",
    "                print(f\"- ERROR: skipped {match_number}\")\n",
    "                print(match)"
   ]
  },
  {
   "cell_type": "markdown",
   "metadata": {},
   "source": [
    "# Analyse data"
   ]
  },
  {
   "cell_type": "code",
   "execution_count": 435,
   "metadata": {},
   "outputs": [],
   "source": [
    "all_batsmen = []\n",
    "all_bowlers = []\n",
    "for year in world_cup_results:\n",
    "    cur_year_results = world_cup_results[year]\n",
    "    \n",
    "    cur_batsmen = []\n",
    "    cur_bowlers = []\n",
    "    for match in cur_year_results:\n",
    "        cur_batsmen = cur_batsmen + match[\"batsman\"]\n",
    "        cur_bowlers = cur_bowlers + match[\"bowler\"]\n",
    "    \n",
    "    cur_batsmen_df = pd.concat(cur_batsmen)\n",
    "    cur_bowlers_df = pd.concat(cur_bowlers)\n",
    "\n",
    "    cur_batsmen_df[\"Year\"] = year\n",
    "    cur_bowlers_df[\"Year\"] = year\n",
    "    \n",
    "    all_batsmen.append(cur_batsmen_df)\n",
    "    all_bowlers.append(cur_bowlers_df)"
   ]
  },
  {
   "cell_type": "code",
   "execution_count": 488,
   "metadata": {},
   "outputs": [],
   "source": [
    "all_batsmen_df = pd.concat(all_batsmen)\n",
    "all_bowlers_df = pd.concat(all_bowlers)"
   ]
  },
  {
   "cell_type": "markdown",
   "metadata": {},
   "source": [
    "##### Clean up data"
   ]
  },
  {
   "cell_type": "code",
   "execution_count": 489,
   "metadata": {},
   "outputs": [],
   "source": [
    "all_bowlers_df.columns = (\"Bowler\", \"Overs\", \"Maidens\", \"Runs\", \"Wickets\", \"Economy\", \"0s\", \"4s\", \"6s\", \"Wides\", \"NoBalls\", \"Year\")\n",
    "all_bowlers_df = all_bowlers_df.replace(\"-\", \"0\")\n",
    "all_bowlers_df[\"Balls\"] = all_bowlers_df[\"Overs\"].str.split(\".\").apply(lambda x: 6*int(x[0]) if len(x) == 1 else 6*int(x[0])+int(x[1]))\n",
    "all_bowlers_df[[\"Balls\", \"Maidens\", \"Runs\", \"Wickets\", \"0s\", \"4s\", \"6s\", \"Wides\", \"NoBalls\", \"Year\"]] = all_bowlers_df[[\"Balls\", \"Maidens\", \"Runs\", \"Wickets\", \"0s\", \"4s\", \"6s\", \"Wides\", \"NoBalls\", \"Year\"]].astype(int)\n",
    "all_bowlers_df[[\"Economy\"]] = all_bowlers_df[[\"Economy\"]].astype(float)"
   ]
  },
  {
   "cell_type": "code",
   "execution_count": 490,
   "metadata": {},
   "outputs": [],
   "source": [
    "all_batsmen_df.columns = (\"Batsman\", \"Dismissal\", \"Runs\", \"Balls\", \"Minutes\", \"4s\", \"6s\", \"StrikeRate\", \"Year\")\n",
    "all_batsmen_df = all_batsmen_df.replace(\"-\", \"0\")\n",
    "all_batsmen_df[[\"Runs\", \"Balls\", \"Minutes\", \"4s\", \"6s\", \"Year\"]] = all_batsmen_df[[\"Runs\", \"Balls\", \"Minutes\", \"4s\", \"6s\", \"Year\"]].astype(int)\n",
    "all_batsmen_df[[\"StrikeRate\"]] = all_batsmen_df[[\"StrikeRate\"]].astype(float)"
   ]
  },
  {
   "cell_type": "code",
   "execution_count": 491,
   "metadata": {},
   "outputs": [
    {
     "data": {
      "text/html": [
       "<div>\n",
       "<style scoped>\n",
       "    .dataframe tbody tr th:only-of-type {\n",
       "        vertical-align: middle;\n",
       "    }\n",
       "\n",
       "    .dataframe tbody tr th {\n",
       "        vertical-align: top;\n",
       "    }\n",
       "\n",
       "    .dataframe thead th {\n",
       "        text-align: right;\n",
       "    }\n",
       "</style>\n",
       "<table border=\"1\" class=\"dataframe\">\n",
       "  <thead>\n",
       "    <tr style=\"text-align: right;\">\n",
       "      <th></th>\n",
       "      <th>Batsman</th>\n",
       "      <th>Dismissal</th>\n",
       "      <th>Runs</th>\n",
       "      <th>Balls</th>\n",
       "      <th>Minutes</th>\n",
       "      <th>4s</th>\n",
       "      <th>6s</th>\n",
       "      <th>StrikeRate</th>\n",
       "      <th>Year</th>\n",
       "    </tr>\n",
       "  </thead>\n",
       "  <tbody>\n",
       "    <tr>\n",
       "      <td>0</td>\n",
       "      <td>Roy Fredericks</td>\n",
       "      <td>hit wicket b Lillee</td>\n",
       "      <td>7</td>\n",
       "      <td>13</td>\n",
       "      <td>14</td>\n",
       "      <td>0</td>\n",
       "      <td>0</td>\n",
       "      <td>53.85</td>\n",
       "      <td>1975</td>\n",
       "    </tr>\n",
       "    <tr>\n",
       "      <td>1</td>\n",
       "      <td>Sir Gordon Greenidge</td>\n",
       "      <td>c Marsh b Thomson</td>\n",
       "      <td>13</td>\n",
       "      <td>61</td>\n",
       "      <td>80</td>\n",
       "      <td>1</td>\n",
       "      <td>0</td>\n",
       "      <td>21.31</td>\n",
       "      <td>1975</td>\n",
       "    </tr>\n",
       "    <tr>\n",
       "      <td>2</td>\n",
       "      <td>Alvin Kallicharran</td>\n",
       "      <td>c Marsh b Gilmour</td>\n",
       "      <td>12</td>\n",
       "      <td>18</td>\n",
       "      <td>26</td>\n",
       "      <td>2</td>\n",
       "      <td>0</td>\n",
       "      <td>66.67</td>\n",
       "      <td>1975</td>\n",
       "    </tr>\n",
       "    <tr>\n",
       "      <td>3</td>\n",
       "      <td>Rohan Kanhai</td>\n",
       "      <td>b Gilmour</td>\n",
       "      <td>55</td>\n",
       "      <td>105</td>\n",
       "      <td>156</td>\n",
       "      <td>8</td>\n",
       "      <td>0</td>\n",
       "      <td>52.38</td>\n",
       "      <td>1975</td>\n",
       "    </tr>\n",
       "    <tr>\n",
       "      <td>4</td>\n",
       "      <td>Sir Clive Lloyd</td>\n",
       "      <td>c Marsh b Gilmour</td>\n",
       "      <td>102</td>\n",
       "      <td>85</td>\n",
       "      <td>108</td>\n",
       "      <td>12</td>\n",
       "      <td>2</td>\n",
       "      <td>120.00</td>\n",
       "      <td>1975</td>\n",
       "    </tr>\n",
       "  </tbody>\n",
       "</table>\n",
       "</div>"
      ],
      "text/plain": [
       "                Batsman            Dismissal  Runs  Balls  Minutes  4s  6s  \\\n",
       "0        Roy Fredericks  hit wicket b Lillee     7     13       14   0   0   \n",
       "1  Sir Gordon Greenidge    c Marsh b Thomson    13     61       80   1   0   \n",
       "2    Alvin Kallicharran    c Marsh b Gilmour    12     18       26   2   0   \n",
       "3          Rohan Kanhai            b Gilmour    55    105      156   8   0   \n",
       "4       Sir Clive Lloyd    c Marsh b Gilmour   102     85      108  12   2   \n",
       "\n",
       "   StrikeRate  Year  \n",
       "0       53.85  1975  \n",
       "1       21.31  1975  \n",
       "2       66.67  1975  \n",
       "3       52.38  1975  \n",
       "4      120.00  1975  "
      ]
     },
     "execution_count": 491,
     "metadata": {},
     "output_type": "execute_result"
    }
   ],
   "source": [
    "all_batsmen_df.head()"
   ]
  },
  {
   "cell_type": "code",
   "execution_count": 492,
   "metadata": {},
   "outputs": [
    {
     "data": {
      "text/html": [
       "<div>\n",
       "<style scoped>\n",
       "    .dataframe tbody tr th:only-of-type {\n",
       "        vertical-align: middle;\n",
       "    }\n",
       "\n",
       "    .dataframe tbody tr th {\n",
       "        vertical-align: top;\n",
       "    }\n",
       "\n",
       "    .dataframe thead th {\n",
       "        text-align: right;\n",
       "    }\n",
       "</style>\n",
       "<table border=\"1\" class=\"dataframe\">\n",
       "  <thead>\n",
       "    <tr style=\"text-align: right;\">\n",
       "      <th></th>\n",
       "      <th>Bowler</th>\n",
       "      <th>Overs</th>\n",
       "      <th>Maidens</th>\n",
       "      <th>Runs</th>\n",
       "      <th>Wickets</th>\n",
       "      <th>Economy</th>\n",
       "      <th>0s</th>\n",
       "      <th>4s</th>\n",
       "      <th>6s</th>\n",
       "      <th>Wides</th>\n",
       "      <th>NoBalls</th>\n",
       "      <th>Year</th>\n",
       "      <th>Balls</th>\n",
       "    </tr>\n",
       "  </thead>\n",
       "  <tbody>\n",
       "    <tr>\n",
       "      <td>0</td>\n",
       "      <td>Dennis Lillee</td>\n",
       "      <td>12</td>\n",
       "      <td>1</td>\n",
       "      <td>55</td>\n",
       "      <td>1</td>\n",
       "      <td>4.58</td>\n",
       "      <td>0</td>\n",
       "      <td>0</td>\n",
       "      <td>0</td>\n",
       "      <td>0</td>\n",
       "      <td>0</td>\n",
       "      <td>1975</td>\n",
       "      <td>72</td>\n",
       "    </tr>\n",
       "    <tr>\n",
       "      <td>1</td>\n",
       "      <td>Gary Gilmour</td>\n",
       "      <td>12</td>\n",
       "      <td>2</td>\n",
       "      <td>48</td>\n",
       "      <td>5</td>\n",
       "      <td>4.00</td>\n",
       "      <td>0</td>\n",
       "      <td>0</td>\n",
       "      <td>0</td>\n",
       "      <td>0</td>\n",
       "      <td>0</td>\n",
       "      <td>1975</td>\n",
       "      <td>72</td>\n",
       "    </tr>\n",
       "    <tr>\n",
       "      <td>2</td>\n",
       "      <td>Jeff Thomson</td>\n",
       "      <td>12</td>\n",
       "      <td>1</td>\n",
       "      <td>44</td>\n",
       "      <td>2</td>\n",
       "      <td>3.67</td>\n",
       "      <td>0</td>\n",
       "      <td>0</td>\n",
       "      <td>0</td>\n",
       "      <td>0</td>\n",
       "      <td>0</td>\n",
       "      <td>1975</td>\n",
       "      <td>72</td>\n",
       "    </tr>\n",
       "    <tr>\n",
       "      <td>3</td>\n",
       "      <td>Max Walker</td>\n",
       "      <td>12</td>\n",
       "      <td>1</td>\n",
       "      <td>71</td>\n",
       "      <td>0</td>\n",
       "      <td>5.92</td>\n",
       "      <td>0</td>\n",
       "      <td>0</td>\n",
       "      <td>0</td>\n",
       "      <td>0</td>\n",
       "      <td>0</td>\n",
       "      <td>1975</td>\n",
       "      <td>72</td>\n",
       "    </tr>\n",
       "    <tr>\n",
       "      <td>4</td>\n",
       "      <td>Greg Chappell</td>\n",
       "      <td>7</td>\n",
       "      <td>0</td>\n",
       "      <td>33</td>\n",
       "      <td>0</td>\n",
       "      <td>4.71</td>\n",
       "      <td>0</td>\n",
       "      <td>0</td>\n",
       "      <td>0</td>\n",
       "      <td>0</td>\n",
       "      <td>0</td>\n",
       "      <td>1975</td>\n",
       "      <td>42</td>\n",
       "    </tr>\n",
       "  </tbody>\n",
       "</table>\n",
       "</div>"
      ],
      "text/plain": [
       "          Bowler Overs  Maidens  Runs  Wickets  Economy  0s  4s  6s  Wides  \\\n",
       "0  Dennis Lillee    12        1    55        1     4.58   0   0   0      0   \n",
       "1   Gary Gilmour    12        2    48        5     4.00   0   0   0      0   \n",
       "2   Jeff Thomson    12        1    44        2     3.67   0   0   0      0   \n",
       "3     Max Walker    12        1    71        0     5.92   0   0   0      0   \n",
       "4  Greg Chappell     7        0    33        0     4.71   0   0   0      0   \n",
       "\n",
       "   NoBalls  Year  Balls  \n",
       "0        0  1975     72  \n",
       "1        0  1975     72  \n",
       "2        0  1975     72  \n",
       "3        0  1975     72  \n",
       "4        0  1975     42  "
      ]
     },
     "execution_count": 492,
     "metadata": {},
     "output_type": "execute_result"
    }
   ],
   "source": [
    "all_bowlers_df.head()"
   ]
  },
  {
   "cell_type": "markdown",
   "metadata": {},
   "source": [
    "##### Save full batsmen and bowler dataframes"
   ]
  },
  {
   "cell_type": "code",
   "execution_count": 493,
   "metadata": {},
   "outputs": [],
   "source": [
    "all_batsmen_df.to_csv(\"data/all_batsmen.csv\", index=False)\n",
    "all_bowlers_df.to_csv(\"data/all_bowlers.csv\", index=False)"
   ]
  },
  {
   "cell_type": "markdown",
   "metadata": {},
   "source": [
    "### Find average runs per world cup"
   ]
  },
  {
   "cell_type": "code",
   "execution_count": 840,
   "metadata": {},
   "outputs": [],
   "source": [
    "sum_batsmen_runs_df = all_batsmen_df.groupby([\"Year\", \"Batsman\"])[\"Runs\"].sum().reset_index()\n",
    "\n",
    "yearly_stddev_df = sum_batsmen_runs_df.groupby(\"Year\")[\"Runs\"].std().reset_index()\n",
    "yearly_stddev_df.columns = (\"Year\", \"StdDevRuns\")\n",
    "yearly_mean_df = sum_batsmen_runs_df.groupby(\"Year\")[\"Runs\"].mean().reset_index()\n",
    "yearly_mean_df.columns = (\"Year\", \"MeanRuns\")"
   ]
  },
  {
   "cell_type": "code",
   "execution_count": 841,
   "metadata": {},
   "outputs": [],
   "source": [
    "sum_batsmen_runs_df = sum_batsmen_runs_df.merge(yearly_stddev_df, on=\"Year\")\n",
    "sum_batsmen_runs_df = sum_batsmen_runs_df.merge(yearly_mean_df, on=\"Year\")"
   ]
  },
  {
   "cell_type": "code",
   "execution_count": 842,
   "metadata": {},
   "outputs": [],
   "source": [
    "sum_batsmen_runs_df[\"ZScore\"] = (sum_batsmen_runs_df[\"Runs\"] - sum_batsmen_runs_df[\"StdDevRuns\"]) / sum_batsmen_runs_df[\"MeanRuns\"]"
   ]
  },
  {
   "cell_type": "code",
   "execution_count": 843,
   "metadata": {},
   "outputs": [
    {
     "data": {
      "text/html": [
       "<div>\n",
       "<style scoped>\n",
       "    .dataframe tbody tr th:only-of-type {\n",
       "        vertical-align: middle;\n",
       "    }\n",
       "\n",
       "    .dataframe tbody tr th {\n",
       "        vertical-align: top;\n",
       "    }\n",
       "\n",
       "    .dataframe thead th {\n",
       "        text-align: right;\n",
       "    }\n",
       "</style>\n",
       "<table border=\"1\" class=\"dataframe\">\n",
       "  <thead>\n",
       "    <tr style=\"text-align: right;\">\n",
       "      <th></th>\n",
       "      <th>Year</th>\n",
       "      <th>Batsman</th>\n",
       "      <th>Runs</th>\n",
       "      <th>StdDevRuns</th>\n",
       "      <th>MeanRuns</th>\n",
       "      <th>ZScore</th>\n",
       "    </tr>\n",
       "  </thead>\n",
       "  <tbody>\n",
       "    <tr>\n",
       "      <td>1004</td>\n",
       "      <td>2003</td>\n",
       "      <td>Sachin Tendulkar</td>\n",
       "      <td>673</td>\n",
       "      <td>106.631764</td>\n",
       "      <td>95.802030</td>\n",
       "      <td>5.911860</td>\n",
       "    </tr>\n",
       "    <tr>\n",
       "      <td>1168</td>\n",
       "      <td>2007</td>\n",
       "      <td>Matthew Hayden</td>\n",
       "      <td>659</td>\n",
       "      <td>124.092065</td>\n",
       "      <td>93.838863</td>\n",
       "      <td>5.700282</td>\n",
       "    </tr>\n",
       "    <tr>\n",
       "      <td>34</td>\n",
       "      <td>1975</td>\n",
       "      <td>Glenn Turner</td>\n",
       "      <td>333</td>\n",
       "      <td>60.826160</td>\n",
       "      <td>58.846939</td>\n",
       "      <td>4.625115</td>\n",
       "    </tr>\n",
       "    <tr>\n",
       "      <td>650</td>\n",
       "      <td>1995</td>\n",
       "      <td>Sachin Tendulkar</td>\n",
       "      <td>523</td>\n",
       "      <td>100.144122</td>\n",
       "      <td>91.864516</td>\n",
       "      <td>4.603038</td>\n",
       "    </tr>\n",
       "    <tr>\n",
       "      <td>1158</td>\n",
       "      <td>2007</td>\n",
       "      <td>Mahela Jayawardene</td>\n",
       "      <td>548</td>\n",
       "      <td>124.092065</td>\n",
       "      <td>93.838863</td>\n",
       "      <td>4.517403</td>\n",
       "    </tr>\n",
       "    <tr>\n",
       "      <td>1203</td>\n",
       "      <td>2007</td>\n",
       "      <td>Ricky Ponting</td>\n",
       "      <td>539</td>\n",
       "      <td>124.092065</td>\n",
       "      <td>93.838863</td>\n",
       "      <td>4.421494</td>\n",
       "    </tr>\n",
       "    <tr>\n",
       "      <td>609</td>\n",
       "      <td>1995</td>\n",
       "      <td>Mark Waugh</td>\n",
       "      <td>484</td>\n",
       "      <td>100.144122</td>\n",
       "      <td>91.864516</td>\n",
       "      <td>4.178500</td>\n",
       "    </tr>\n",
       "    <tr>\n",
       "      <td>175</td>\n",
       "      <td>1979</td>\n",
       "      <td>Sir Gordon Greenidge</td>\n",
       "      <td>253</td>\n",
       "      <td>55.085740</td>\n",
       "      <td>49.536082</td>\n",
       "      <td>3.995356</td>\n",
       "    </tr>\n",
       "    <tr>\n",
       "      <td>1214</td>\n",
       "      <td>2007</td>\n",
       "      <td>Scott Styris</td>\n",
       "      <td>499</td>\n",
       "      <td>124.092065</td>\n",
       "      <td>93.838863</td>\n",
       "      <td>3.995231</td>\n",
       "    </tr>\n",
       "    <tr>\n",
       "      <td>1431</td>\n",
       "      <td>2011</td>\n",
       "      <td>Tillakaratne Dilshan</td>\n",
       "      <td>500</td>\n",
       "      <td>109.992521</td>\n",
       "      <td>98.940594</td>\n",
       "      <td>3.941835</td>\n",
       "    </tr>\n",
       "    <tr>\n",
       "      <td>1126</td>\n",
       "      <td>2007</td>\n",
       "      <td>Jacques Kallis</td>\n",
       "      <td>485</td>\n",
       "      <td>124.092065</td>\n",
       "      <td>93.838863</td>\n",
       "      <td>3.846039</td>\n",
       "    </tr>\n",
       "    <tr>\n",
       "      <td>801</td>\n",
       "      <td>1999</td>\n",
       "      <td>Rahul Dravid</td>\n",
       "      <td>461</td>\n",
       "      <td>102.818924</td>\n",
       "      <td>93.631250</td>\n",
       "      <td>3.825444</td>\n",
       "    </tr>\n",
       "    <tr>\n",
       "      <td>541</td>\n",
       "      <td>1995</td>\n",
       "      <td>Aravinda de Silva</td>\n",
       "      <td>448</td>\n",
       "      <td>100.144122</td>\n",
       "      <td>91.864516</td>\n",
       "      <td>3.786619</td>\n",
       "    </tr>\n",
       "    <tr>\n",
       "      <td>1554</td>\n",
       "      <td>2015</td>\n",
       "      <td>Martin Guptill</td>\n",
       "      <td>547</td>\n",
       "      <td>121.772190</td>\n",
       "      <td>112.590909</td>\n",
       "      <td>3.776751</td>\n",
       "    </tr>\n",
       "    <tr>\n",
       "      <td>1405</td>\n",
       "      <td>2011</td>\n",
       "      <td>Sachin Tendulkar</td>\n",
       "      <td>482</td>\n",
       "      <td>109.992521</td>\n",
       "      <td>98.940594</td>\n",
       "      <td>3.759907</td>\n",
       "    </tr>\n",
       "  </tbody>\n",
       "</table>\n",
       "</div>"
      ],
      "text/plain": [
       "      Year               Batsman  Runs  StdDevRuns    MeanRuns    ZScore\n",
       "1004  2003      Sachin Tendulkar   673  106.631764   95.802030  5.911860\n",
       "1168  2007        Matthew Hayden   659  124.092065   93.838863  5.700282\n",
       "34    1975          Glenn Turner   333   60.826160   58.846939  4.625115\n",
       "650   1995      Sachin Tendulkar   523  100.144122   91.864516  4.603038\n",
       "1158  2007    Mahela Jayawardene   548  124.092065   93.838863  4.517403\n",
       "1203  2007         Ricky Ponting   539  124.092065   93.838863  4.421494\n",
       "609   1995            Mark Waugh   484  100.144122   91.864516  4.178500\n",
       "175   1979  Sir Gordon Greenidge   253   55.085740   49.536082  3.995356\n",
       "1214  2007          Scott Styris   499  124.092065   93.838863  3.995231\n",
       "1431  2011  Tillakaratne Dilshan   500  109.992521   98.940594  3.941835\n",
       "1126  2007        Jacques Kallis   485  124.092065   93.838863  3.846039\n",
       "801   1999          Rahul Dravid   461  102.818924   93.631250  3.825444\n",
       "541   1995     Aravinda de Silva   448  100.144122   91.864516  3.786619\n",
       "1554  2015        Martin Guptill   547  121.772190  112.590909  3.776751\n",
       "1405  2011      Sachin Tendulkar   482  109.992521   98.940594  3.759907"
      ]
     },
     "execution_count": 843,
     "metadata": {},
     "output_type": "execute_result"
    }
   ],
   "source": [
    "sum_batsmen_runs_df.sort_values(\"ZScore\", ascending=False).head(15)"
   ]
  },
  {
   "cell_type": "code",
   "execution_count": 844,
   "metadata": {},
   "outputs": [],
   "source": [
    "countries = {\n",
    "    \"Sachin Tendulkar\":\"India\",\n",
    "    \"Matthew Hayden\":\"Australia\",\n",
    "    \"Glenn Turner\":\"New Zealand\",\n",
    "    \"Mahela Jayawardene\":\"Sri Lanka\",\n",
    "    \"Ricky Ponting\":\"Australia\",\n",
    "    \"Mark Waugh\":\"Australia\",\n",
    "    \"Sir Gordon Greenidge\":\"West Indies\",\n",
    "    \"Scott Styris\":\"New Zealand\",\n",
    "    \"Tillakaratne Dilshan\":\"Sri Lanka\",\n",
    "    \"Jacques Kallis\":\"South Africa\",\n",
    "    \"Rahul Dravid\":\"India\",\n",
    "    \"Aravinda de Silva\":\"Sri Lanka\",\n",
    "    \"Martin Guptill\":\"New Zealand\",\n",
    "}"
   ]
  },
  {
   "cell_type": "code",
   "execution_count": 845,
   "metadata": {},
   "outputs": [],
   "source": [
    "colours = {\n",
    "    \"India\":\"#B3E3EE\",\n",
    "    \"Australia\":\"#F9D71C\",\n",
    "    \"New Zealand\":\"black\",\n",
    "    \"Sri Lanka\":\"#15295E\",\n",
    "    \"West Indies\":\"#7b0041\",\n",
    "    \"South Africa\":\"#007A4D\",\n",
    "    \"Pakistan\": \"#006629\",\n",
    "}"
   ]
  },
  {
   "cell_type": "code",
   "execution_count": 847,
   "metadata": {},
   "outputs": [
    {
     "data": {
      "application/vnd.plotly.v1+json": {
       "config": {
        "plotlyServerURL": "https://plot.ly"
       },
       "data": [
        {
         "alignmentgroup": "True",
         "hoverinfo": "skip",
         "hoverlabel": {
          "namelength": 0
         },
         "hovertemplate": "Country=India<br>Distance from the mean (z-score)=%{x}<br>=%{y}<br>RunsLabel=%{text}",
         "legendgroup": "Country=India",
         "marker": {
          "color": "#B3E3EE"
         },
         "name": "India",
         "offsetgroup": "Country=India",
         "orientation": "h",
         "showlegend": true,
         "text": [
          "673 Runs",
          "523 Runs",
          "461 Runs",
          "482 Runs"
         ],
         "textposition": "auto",
         "type": "bar",
         "x": [
          5.911860463406691,
          4.603038211786708,
          3.8254437080921524,
          3.759907473756198
         ],
         "xaxis": "x",
         "y": [
          "Sachin Tendulkar (2003) ",
          "Sachin Tendulkar (1995) ",
          "Rahul Dravid (1999) ",
          "Sachin Tendulkar (2011) "
         ],
         "yaxis": "y"
        },
        {
         "alignmentgroup": "True",
         "hoverinfo": "skip",
         "hoverlabel": {
          "namelength": 0
         },
         "hovertemplate": "Country=Australia<br>Distance from the mean (z-score)=%{x}<br>=%{y}<br>RunsLabel=%{text}",
         "legendgroup": "Country=Australia",
         "marker": {
          "color": "#F9D71C"
         },
         "name": "Australia",
         "offsetgroup": "Country=Australia",
         "orientation": "h",
         "showlegend": true,
         "text": [
          "659 Runs",
          "539 Runs",
          "484 Runs"
         ],
         "textposition": "auto",
         "type": "bar",
         "x": [
          5.70028153032764,
          4.421493651539761,
          4.178499971741761
         ],
         "xaxis": "x",
         "y": [
          "Matthew Hayden (2007) ",
          "Ricky Ponting (2007) ",
          "Mark Waugh (1995) "
         ],
         "yaxis": "y"
        },
        {
         "alignmentgroup": "True",
         "hoverinfo": "skip",
         "hoverlabel": {
          "namelength": 0
         },
         "hovertemplate": "Country=New Zealand<br>Distance from the mean (z-score)=%{x}<br>=%{y}<br>RunsLabel=%{text}",
         "legendgroup": "Country=New Zealand",
         "marker": {
          "color": "black"
         },
         "name": "New Zealand",
         "offsetgroup": "Country=New Zealand",
         "orientation": "h",
         "showlegend": true,
         "text": [
          "333 Runs",
          "499 Runs",
          "547 Runs"
         ],
         "textposition": "auto",
         "type": "bar",
         "x": [
          4.625114679954541,
          3.995231025277134,
          3.7767508336650994
         ],
         "xaxis": "x",
         "y": [
          "Glenn Turner (1975) ",
          "Scott Styris (2007) ",
          "Martin Guptill (2015) "
         ],
         "yaxis": "y"
        },
        {
         "alignmentgroup": "True",
         "hoverinfo": "skip",
         "hoverlabel": {
          "namelength": 0
         },
         "hovertemplate": "Country=Sri Lanka<br>Distance from the mean (z-score)=%{x}<br>=%{y}<br>RunsLabel=%{text}",
         "legendgroup": "Country=Sri Lanka",
         "marker": {
          "color": "#15295E"
         },
         "name": "Sri Lanka",
         "offsetgroup": "Country=Sri Lanka",
         "orientation": "h",
         "showlegend": true,
         "text": [
          "548 Runs",
          "500 Runs",
          "448 Runs"
         ],
         "textposition": "auto",
         "type": "bar",
         "x": [
          4.517402742448851,
          3.941834822900599,
          3.786618519392579
         ],
         "xaxis": "x",
         "y": [
          "Mahela Jayawardene (2007) ",
          "Tillakaratne Dilshan (2011) ",
          "Aravinda de Silva (1995) "
         ],
         "yaxis": "y"
        },
        {
         "alignmentgroup": "True",
         "hoverinfo": "skip",
         "hoverlabel": {
          "namelength": 0
         },
         "hovertemplate": "Country=West Indies<br>Distance from the mean (z-score)=%{x}<br>=%{y}<br>RunsLabel=%{text}",
         "legendgroup": "Country=West Indies",
         "marker": {
          "color": "#7b0041"
         },
         "name": "West Indies",
         "offsetgroup": "Country=West Indies",
         "orientation": "h",
         "showlegend": true,
         "text": [
          "253 Runs"
         ],
         "textposition": "auto",
         "type": "bar",
         "x": [
          3.995355502008042
         ],
         "xaxis": "x",
         "y": [
          "Sir Gordon Greenidge (1979) "
         ],
         "yaxis": "y"
        },
        {
         "alignmentgroup": "True",
         "hoverinfo": "skip",
         "hoverlabel": {
          "namelength": 0
         },
         "hovertemplate": "Country=South Africa<br>Distance from the mean (z-score)=%{x}<br>=%{y}<br>RunsLabel=%{text}",
         "legendgroup": "Country=South Africa",
         "marker": {
          "color": "#007A4D"
         },
         "name": "South Africa",
         "offsetgroup": "Country=South Africa",
         "orientation": "h",
         "showlegend": true,
         "text": [
          "485 Runs"
         ],
         "textposition": "auto",
         "type": "bar",
         "x": [
          3.846039106085215
         ],
         "xaxis": "x",
         "y": [
          "Jacques Kallis (2007) "
         ],
         "yaxis": "y"
        }
       ],
       "layout": {
        "barmode": "relative",
        "height": 600,
        "legend": {
         "tracegroupgap": 0
        },
        "margin": {
         "t": 60
        },
        "showlegend": true,
        "template": {
         "data": {
          "bar": [
           {
            "error_x": {
             "color": "#2a3f5f"
            },
            "error_y": {
             "color": "#2a3f5f"
            },
            "marker": {
             "line": {
              "color": "#E5ECF6",
              "width": 0.5
             }
            },
            "type": "bar"
           }
          ],
          "barpolar": [
           {
            "marker": {
             "line": {
              "color": "#E5ECF6",
              "width": 0.5
             }
            },
            "type": "barpolar"
           }
          ],
          "carpet": [
           {
            "aaxis": {
             "endlinecolor": "#2a3f5f",
             "gridcolor": "white",
             "linecolor": "white",
             "minorgridcolor": "white",
             "startlinecolor": "#2a3f5f"
            },
            "baxis": {
             "endlinecolor": "#2a3f5f",
             "gridcolor": "white",
             "linecolor": "white",
             "minorgridcolor": "white",
             "startlinecolor": "#2a3f5f"
            },
            "type": "carpet"
           }
          ],
          "choropleth": [
           {
            "colorbar": {
             "outlinewidth": 0,
             "ticks": ""
            },
            "type": "choropleth"
           }
          ],
          "contour": [
           {
            "colorbar": {
             "outlinewidth": 0,
             "ticks": ""
            },
            "colorscale": [
             [
              0,
              "#0d0887"
             ],
             [
              0.1111111111111111,
              "#46039f"
             ],
             [
              0.2222222222222222,
              "#7201a8"
             ],
             [
              0.3333333333333333,
              "#9c179e"
             ],
             [
              0.4444444444444444,
              "#bd3786"
             ],
             [
              0.5555555555555556,
              "#d8576b"
             ],
             [
              0.6666666666666666,
              "#ed7953"
             ],
             [
              0.7777777777777778,
              "#fb9f3a"
             ],
             [
              0.8888888888888888,
              "#fdca26"
             ],
             [
              1,
              "#f0f921"
             ]
            ],
            "type": "contour"
           }
          ],
          "contourcarpet": [
           {
            "colorbar": {
             "outlinewidth": 0,
             "ticks": ""
            },
            "type": "contourcarpet"
           }
          ],
          "heatmap": [
           {
            "colorbar": {
             "outlinewidth": 0,
             "ticks": ""
            },
            "colorscale": [
             [
              0,
              "#0d0887"
             ],
             [
              0.1111111111111111,
              "#46039f"
             ],
             [
              0.2222222222222222,
              "#7201a8"
             ],
             [
              0.3333333333333333,
              "#9c179e"
             ],
             [
              0.4444444444444444,
              "#bd3786"
             ],
             [
              0.5555555555555556,
              "#d8576b"
             ],
             [
              0.6666666666666666,
              "#ed7953"
             ],
             [
              0.7777777777777778,
              "#fb9f3a"
             ],
             [
              0.8888888888888888,
              "#fdca26"
             ],
             [
              1,
              "#f0f921"
             ]
            ],
            "type": "heatmap"
           }
          ],
          "heatmapgl": [
           {
            "colorbar": {
             "outlinewidth": 0,
             "ticks": ""
            },
            "colorscale": [
             [
              0,
              "#0d0887"
             ],
             [
              0.1111111111111111,
              "#46039f"
             ],
             [
              0.2222222222222222,
              "#7201a8"
             ],
             [
              0.3333333333333333,
              "#9c179e"
             ],
             [
              0.4444444444444444,
              "#bd3786"
             ],
             [
              0.5555555555555556,
              "#d8576b"
             ],
             [
              0.6666666666666666,
              "#ed7953"
             ],
             [
              0.7777777777777778,
              "#fb9f3a"
             ],
             [
              0.8888888888888888,
              "#fdca26"
             ],
             [
              1,
              "#f0f921"
             ]
            ],
            "type": "heatmapgl"
           }
          ],
          "histogram": [
           {
            "marker": {
             "colorbar": {
              "outlinewidth": 0,
              "ticks": ""
             }
            },
            "type": "histogram"
           }
          ],
          "histogram2d": [
           {
            "colorbar": {
             "outlinewidth": 0,
             "ticks": ""
            },
            "colorscale": [
             [
              0,
              "#0d0887"
             ],
             [
              0.1111111111111111,
              "#46039f"
             ],
             [
              0.2222222222222222,
              "#7201a8"
             ],
             [
              0.3333333333333333,
              "#9c179e"
             ],
             [
              0.4444444444444444,
              "#bd3786"
             ],
             [
              0.5555555555555556,
              "#d8576b"
             ],
             [
              0.6666666666666666,
              "#ed7953"
             ],
             [
              0.7777777777777778,
              "#fb9f3a"
             ],
             [
              0.8888888888888888,
              "#fdca26"
             ],
             [
              1,
              "#f0f921"
             ]
            ],
            "type": "histogram2d"
           }
          ],
          "histogram2dcontour": [
           {
            "colorbar": {
             "outlinewidth": 0,
             "ticks": ""
            },
            "colorscale": [
             [
              0,
              "#0d0887"
             ],
             [
              0.1111111111111111,
              "#46039f"
             ],
             [
              0.2222222222222222,
              "#7201a8"
             ],
             [
              0.3333333333333333,
              "#9c179e"
             ],
             [
              0.4444444444444444,
              "#bd3786"
             ],
             [
              0.5555555555555556,
              "#d8576b"
             ],
             [
              0.6666666666666666,
              "#ed7953"
             ],
             [
              0.7777777777777778,
              "#fb9f3a"
             ],
             [
              0.8888888888888888,
              "#fdca26"
             ],
             [
              1,
              "#f0f921"
             ]
            ],
            "type": "histogram2dcontour"
           }
          ],
          "mesh3d": [
           {
            "colorbar": {
             "outlinewidth": 0,
             "ticks": ""
            },
            "type": "mesh3d"
           }
          ],
          "parcoords": [
           {
            "line": {
             "colorbar": {
              "outlinewidth": 0,
              "ticks": ""
             }
            },
            "type": "parcoords"
           }
          ],
          "scatter": [
           {
            "marker": {
             "colorbar": {
              "outlinewidth": 0,
              "ticks": ""
             }
            },
            "type": "scatter"
           }
          ],
          "scatter3d": [
           {
            "line": {
             "colorbar": {
              "outlinewidth": 0,
              "ticks": ""
             }
            },
            "marker": {
             "colorbar": {
              "outlinewidth": 0,
              "ticks": ""
             }
            },
            "type": "scatter3d"
           }
          ],
          "scattercarpet": [
           {
            "marker": {
             "colorbar": {
              "outlinewidth": 0,
              "ticks": ""
             }
            },
            "type": "scattercarpet"
           }
          ],
          "scattergeo": [
           {
            "marker": {
             "colorbar": {
              "outlinewidth": 0,
              "ticks": ""
             }
            },
            "type": "scattergeo"
           }
          ],
          "scattergl": [
           {
            "marker": {
             "colorbar": {
              "outlinewidth": 0,
              "ticks": ""
             }
            },
            "type": "scattergl"
           }
          ],
          "scattermapbox": [
           {
            "marker": {
             "colorbar": {
              "outlinewidth": 0,
              "ticks": ""
             }
            },
            "type": "scattermapbox"
           }
          ],
          "scatterpolar": [
           {
            "marker": {
             "colorbar": {
              "outlinewidth": 0,
              "ticks": ""
             }
            },
            "type": "scatterpolar"
           }
          ],
          "scatterpolargl": [
           {
            "marker": {
             "colorbar": {
              "outlinewidth": 0,
              "ticks": ""
             }
            },
            "type": "scatterpolargl"
           }
          ],
          "scatterternary": [
           {
            "marker": {
             "colorbar": {
              "outlinewidth": 0,
              "ticks": ""
             }
            },
            "type": "scatterternary"
           }
          ],
          "surface": [
           {
            "colorbar": {
             "outlinewidth": 0,
             "ticks": ""
            },
            "colorscale": [
             [
              0,
              "#0d0887"
             ],
             [
              0.1111111111111111,
              "#46039f"
             ],
             [
              0.2222222222222222,
              "#7201a8"
             ],
             [
              0.3333333333333333,
              "#9c179e"
             ],
             [
              0.4444444444444444,
              "#bd3786"
             ],
             [
              0.5555555555555556,
              "#d8576b"
             ],
             [
              0.6666666666666666,
              "#ed7953"
             ],
             [
              0.7777777777777778,
              "#fb9f3a"
             ],
             [
              0.8888888888888888,
              "#fdca26"
             ],
             [
              1,
              "#f0f921"
             ]
            ],
            "type": "surface"
           }
          ],
          "table": [
           {
            "cells": {
             "fill": {
              "color": "#EBF0F8"
             },
             "line": {
              "color": "white"
             }
            },
            "header": {
             "fill": {
              "color": "#C8D4E3"
             },
             "line": {
              "color": "white"
             }
            },
            "type": "table"
           }
          ]
         },
         "layout": {
          "annotationdefaults": {
           "arrowcolor": "#2a3f5f",
           "arrowhead": 0,
           "arrowwidth": 1
          },
          "colorscale": {
           "diverging": [
            [
             0,
             "#8e0152"
            ],
            [
             0.1,
             "#c51b7d"
            ],
            [
             0.2,
             "#de77ae"
            ],
            [
             0.3,
             "#f1b6da"
            ],
            [
             0.4,
             "#fde0ef"
            ],
            [
             0.5,
             "#f7f7f7"
            ],
            [
             0.6,
             "#e6f5d0"
            ],
            [
             0.7,
             "#b8e186"
            ],
            [
             0.8,
             "#7fbc41"
            ],
            [
             0.9,
             "#4d9221"
            ],
            [
             1,
             "#276419"
            ]
           ],
           "sequential": [
            [
             0,
             "#0d0887"
            ],
            [
             0.1111111111111111,
             "#46039f"
            ],
            [
             0.2222222222222222,
             "#7201a8"
            ],
            [
             0.3333333333333333,
             "#9c179e"
            ],
            [
             0.4444444444444444,
             "#bd3786"
            ],
            [
             0.5555555555555556,
             "#d8576b"
            ],
            [
             0.6666666666666666,
             "#ed7953"
            ],
            [
             0.7777777777777778,
             "#fb9f3a"
            ],
            [
             0.8888888888888888,
             "#fdca26"
            ],
            [
             1,
             "#f0f921"
            ]
           ],
           "sequentialminus": [
            [
             0,
             "#0d0887"
            ],
            [
             0.1111111111111111,
             "#46039f"
            ],
            [
             0.2222222222222222,
             "#7201a8"
            ],
            [
             0.3333333333333333,
             "#9c179e"
            ],
            [
             0.4444444444444444,
             "#bd3786"
            ],
            [
             0.5555555555555556,
             "#d8576b"
            ],
            [
             0.6666666666666666,
             "#ed7953"
            ],
            [
             0.7777777777777778,
             "#fb9f3a"
            ],
            [
             0.8888888888888888,
             "#fdca26"
            ],
            [
             1,
             "#f0f921"
            ]
           ]
          },
          "colorway": [
           "#636efa",
           "#EF553B",
           "#00cc96",
           "#ab63fa",
           "#FFA15A",
           "#19d3f3",
           "#FF6692",
           "#B6E880",
           "#FF97FF",
           "#FECB52"
          ],
          "font": {
           "color": "#2a3f5f"
          },
          "geo": {
           "bgcolor": "white",
           "lakecolor": "white",
           "landcolor": "#E5ECF6",
           "showlakes": true,
           "showland": true,
           "subunitcolor": "white"
          },
          "hoverlabel": {
           "align": "left"
          },
          "hovermode": "closest",
          "mapbox": {
           "style": "light"
          },
          "paper_bgcolor": "white",
          "plot_bgcolor": "#E5ECF6",
          "polar": {
           "angularaxis": {
            "gridcolor": "white",
            "linecolor": "white",
            "ticks": ""
           },
           "bgcolor": "#E5ECF6",
           "radialaxis": {
            "gridcolor": "white",
            "linecolor": "white",
            "ticks": ""
           }
          },
          "scene": {
           "xaxis": {
            "backgroundcolor": "#E5ECF6",
            "gridcolor": "white",
            "gridwidth": 2,
            "linecolor": "white",
            "showbackground": true,
            "ticks": "",
            "zerolinecolor": "white"
           },
           "yaxis": {
            "backgroundcolor": "#E5ECF6",
            "gridcolor": "white",
            "gridwidth": 2,
            "linecolor": "white",
            "showbackground": true,
            "ticks": "",
            "zerolinecolor": "white"
           },
           "zaxis": {
            "backgroundcolor": "#E5ECF6",
            "gridcolor": "white",
            "gridwidth": 2,
            "linecolor": "white",
            "showbackground": true,
            "ticks": "",
            "zerolinecolor": "white"
           }
          },
          "shapedefaults": {
           "line": {
            "color": "#2a3f5f"
           }
          },
          "ternary": {
           "aaxis": {
            "gridcolor": "white",
            "linecolor": "white",
            "ticks": ""
           },
           "baxis": {
            "gridcolor": "white",
            "linecolor": "white",
            "ticks": ""
           },
           "bgcolor": "#E5ECF6",
           "caxis": {
            "gridcolor": "white",
            "linecolor": "white",
            "ticks": ""
           }
          },
          "title": {
           "x": 0.05
          },
          "xaxis": {
           "automargin": true,
           "gridcolor": "white",
           "linecolor": "white",
           "ticks": "",
           "zerolinecolor": "white",
           "zerolinewidth": 2
          },
          "yaxis": {
           "automargin": true,
           "gridcolor": "white",
           "linecolor": "white",
           "ticks": "",
           "zerolinecolor": "white",
           "zerolinewidth": 2
          }
         }
        },
        "title": {
         "text": "Best Cricket World Cup Batting Performances (1975-2019)"
        },
        "xaxis": {
         "anchor": "y",
         "domain": [
          0,
          0.98
         ],
         "title": {
          "text": "Distance from the mean (z-score)"
         }
        },
        "yaxis": {
         "anchor": "x",
         "categoryorder": "total ascending",
         "domain": [
          0,
          1
         ],
         "title": {
          "text": ""
         }
        }
       }
      },
      "text/html": [
       "<div>\n",
       "        \n",
       "        \n",
       "            <div id=\"6a7f2df6-5c71-41f6-990e-6e1650ef5356\" class=\"plotly-graph-div\" style=\"height:600px; width:100%;\"></div>\n",
       "            <script type=\"text/javascript\">\n",
       "                require([\"plotly\"], function(Plotly) {\n",
       "                    window.PLOTLYENV=window.PLOTLYENV || {};\n",
       "                    \n",
       "                if (document.getElementById(\"6a7f2df6-5c71-41f6-990e-6e1650ef5356\")) {\n",
       "                    Plotly.newPlot(\n",
       "                        '6a7f2df6-5c71-41f6-990e-6e1650ef5356',\n",
       "                        [{\"alignmentgroup\": \"True\", \"hoverinfo\": \"skip\", \"hoverlabel\": {\"namelength\": 0}, \"hovertemplate\": \"Country=India<br>Distance from the mean (z-score)=%{x}<br>=%{y}<br>RunsLabel=%{text}\", \"legendgroup\": \"Country=India\", \"marker\": {\"color\": \"#B3E3EE\"}, \"name\": \"India\", \"offsetgroup\": \"Country=India\", \"orientation\": \"h\", \"showlegend\": true, \"text\": [\"673 Runs\", \"523 Runs\", \"461 Runs\", \"482 Runs\"], \"textposition\": \"auto\", \"type\": \"bar\", \"x\": [5.911860463406691, 4.603038211786708, 3.8254437080921524, 3.759907473756198], \"xaxis\": \"x\", \"y\": [\"Sachin Tendulkar (2003) \", \"Sachin Tendulkar (1995) \", \"Rahul Dravid (1999) \", \"Sachin Tendulkar (2011) \"], \"yaxis\": \"y\"}, {\"alignmentgroup\": \"True\", \"hoverinfo\": \"skip\", \"hoverlabel\": {\"namelength\": 0}, \"hovertemplate\": \"Country=Australia<br>Distance from the mean (z-score)=%{x}<br>=%{y}<br>RunsLabel=%{text}\", \"legendgroup\": \"Country=Australia\", \"marker\": {\"color\": \"#F9D71C\"}, \"name\": \"Australia\", \"offsetgroup\": \"Country=Australia\", \"orientation\": \"h\", \"showlegend\": true, \"text\": [\"659 Runs\", \"539 Runs\", \"484 Runs\"], \"textposition\": \"auto\", \"type\": \"bar\", \"x\": [5.70028153032764, 4.421493651539761, 4.178499971741761], \"xaxis\": \"x\", \"y\": [\"Matthew Hayden (2007) \", \"Ricky Ponting (2007) \", \"Mark Waugh (1995) \"], \"yaxis\": \"y\"}, {\"alignmentgroup\": \"True\", \"hoverinfo\": \"skip\", \"hoverlabel\": {\"namelength\": 0}, \"hovertemplate\": \"Country=New Zealand<br>Distance from the mean (z-score)=%{x}<br>=%{y}<br>RunsLabel=%{text}\", \"legendgroup\": \"Country=New Zealand\", \"marker\": {\"color\": \"black\"}, \"name\": \"New Zealand\", \"offsetgroup\": \"Country=New Zealand\", \"orientation\": \"h\", \"showlegend\": true, \"text\": [\"333 Runs\", \"499 Runs\", \"547 Runs\"], \"textposition\": \"auto\", \"type\": \"bar\", \"x\": [4.625114679954541, 3.995231025277134, 3.7767508336650994], \"xaxis\": \"x\", \"y\": [\"Glenn Turner (1975) \", \"Scott Styris (2007) \", \"Martin Guptill (2015) \"], \"yaxis\": \"y\"}, {\"alignmentgroup\": \"True\", \"hoverinfo\": \"skip\", \"hoverlabel\": {\"namelength\": 0}, \"hovertemplate\": \"Country=Sri Lanka<br>Distance from the mean (z-score)=%{x}<br>=%{y}<br>RunsLabel=%{text}\", \"legendgroup\": \"Country=Sri Lanka\", \"marker\": {\"color\": \"#15295E\"}, \"name\": \"Sri Lanka\", \"offsetgroup\": \"Country=Sri Lanka\", \"orientation\": \"h\", \"showlegend\": true, \"text\": [\"548 Runs\", \"500 Runs\", \"448 Runs\"], \"textposition\": \"auto\", \"type\": \"bar\", \"x\": [4.517402742448851, 3.941834822900599, 3.786618519392579], \"xaxis\": \"x\", \"y\": [\"Mahela Jayawardene (2007) \", \"Tillakaratne Dilshan (2011) \", \"Aravinda de Silva (1995) \"], \"yaxis\": \"y\"}, {\"alignmentgroup\": \"True\", \"hoverinfo\": \"skip\", \"hoverlabel\": {\"namelength\": 0}, \"hovertemplate\": \"Country=West Indies<br>Distance from the mean (z-score)=%{x}<br>=%{y}<br>RunsLabel=%{text}\", \"legendgroup\": \"Country=West Indies\", \"marker\": {\"color\": \"#7b0041\"}, \"name\": \"West Indies\", \"offsetgroup\": \"Country=West Indies\", \"orientation\": \"h\", \"showlegend\": true, \"text\": [\"253 Runs\"], \"textposition\": \"auto\", \"type\": \"bar\", \"x\": [3.995355502008042], \"xaxis\": \"x\", \"y\": [\"Sir Gordon Greenidge (1979) \"], \"yaxis\": \"y\"}, {\"alignmentgroup\": \"True\", \"hoverinfo\": \"skip\", \"hoverlabel\": {\"namelength\": 0}, \"hovertemplate\": \"Country=South Africa<br>Distance from the mean (z-score)=%{x}<br>=%{y}<br>RunsLabel=%{text}\", \"legendgroup\": \"Country=South Africa\", \"marker\": {\"color\": \"#007A4D\"}, \"name\": \"South Africa\", \"offsetgroup\": \"Country=South Africa\", \"orientation\": \"h\", \"showlegend\": true, \"text\": [\"485 Runs\"], \"textposition\": \"auto\", \"type\": \"bar\", \"x\": [3.846039106085215], \"xaxis\": \"x\", \"y\": [\"Jacques Kallis (2007) \"], \"yaxis\": \"y\"}],\n",
       "                        {\"barmode\": \"relative\", \"height\": 600, \"legend\": {\"tracegroupgap\": 0}, \"margin\": {\"t\": 60}, \"showlegend\": true, \"template\": {\"data\": {\"bar\": [{\"error_x\": {\"color\": \"#2a3f5f\"}, \"error_y\": {\"color\": \"#2a3f5f\"}, \"marker\": {\"line\": {\"color\": \"#E5ECF6\", \"width\": 0.5}}, \"type\": \"bar\"}], \"barpolar\": [{\"marker\": {\"line\": {\"color\": \"#E5ECF6\", \"width\": 0.5}}, \"type\": \"barpolar\"}], \"carpet\": [{\"aaxis\": {\"endlinecolor\": \"#2a3f5f\", \"gridcolor\": \"white\", \"linecolor\": \"white\", \"minorgridcolor\": \"white\", \"startlinecolor\": \"#2a3f5f\"}, \"baxis\": {\"endlinecolor\": \"#2a3f5f\", \"gridcolor\": \"white\", \"linecolor\": \"white\", \"minorgridcolor\": \"white\", \"startlinecolor\": \"#2a3f5f\"}, \"type\": \"carpet\"}], \"choropleth\": [{\"colorbar\": {\"outlinewidth\": 0, \"ticks\": \"\"}, \"type\": \"choropleth\"}], \"contour\": [{\"colorbar\": {\"outlinewidth\": 0, \"ticks\": \"\"}, \"colorscale\": [[0.0, \"#0d0887\"], [0.1111111111111111, \"#46039f\"], [0.2222222222222222, \"#7201a8\"], [0.3333333333333333, \"#9c179e\"], [0.4444444444444444, \"#bd3786\"], [0.5555555555555556, \"#d8576b\"], [0.6666666666666666, \"#ed7953\"], [0.7777777777777778, \"#fb9f3a\"], [0.8888888888888888, \"#fdca26\"], [1.0, \"#f0f921\"]], \"type\": \"contour\"}], \"contourcarpet\": [{\"colorbar\": {\"outlinewidth\": 0, \"ticks\": \"\"}, \"type\": \"contourcarpet\"}], \"heatmap\": [{\"colorbar\": {\"outlinewidth\": 0, \"ticks\": \"\"}, \"colorscale\": [[0.0, \"#0d0887\"], [0.1111111111111111, \"#46039f\"], [0.2222222222222222, \"#7201a8\"], [0.3333333333333333, \"#9c179e\"], [0.4444444444444444, \"#bd3786\"], [0.5555555555555556, \"#d8576b\"], [0.6666666666666666, \"#ed7953\"], [0.7777777777777778, \"#fb9f3a\"], [0.8888888888888888, \"#fdca26\"], [1.0, \"#f0f921\"]], \"type\": \"heatmap\"}], \"heatmapgl\": [{\"colorbar\": {\"outlinewidth\": 0, \"ticks\": \"\"}, \"colorscale\": [[0.0, \"#0d0887\"], [0.1111111111111111, \"#46039f\"], [0.2222222222222222, \"#7201a8\"], [0.3333333333333333, \"#9c179e\"], [0.4444444444444444, \"#bd3786\"], [0.5555555555555556, \"#d8576b\"], [0.6666666666666666, \"#ed7953\"], [0.7777777777777778, \"#fb9f3a\"], [0.8888888888888888, \"#fdca26\"], [1.0, \"#f0f921\"]], \"type\": \"heatmapgl\"}], \"histogram\": [{\"marker\": {\"colorbar\": {\"outlinewidth\": 0, \"ticks\": \"\"}}, \"type\": \"histogram\"}], \"histogram2d\": [{\"colorbar\": {\"outlinewidth\": 0, \"ticks\": \"\"}, \"colorscale\": [[0.0, \"#0d0887\"], [0.1111111111111111, \"#46039f\"], [0.2222222222222222, \"#7201a8\"], [0.3333333333333333, \"#9c179e\"], [0.4444444444444444, \"#bd3786\"], [0.5555555555555556, \"#d8576b\"], [0.6666666666666666, \"#ed7953\"], [0.7777777777777778, \"#fb9f3a\"], [0.8888888888888888, \"#fdca26\"], [1.0, \"#f0f921\"]], \"type\": \"histogram2d\"}], \"histogram2dcontour\": [{\"colorbar\": {\"outlinewidth\": 0, \"ticks\": \"\"}, \"colorscale\": [[0.0, \"#0d0887\"], [0.1111111111111111, \"#46039f\"], [0.2222222222222222, \"#7201a8\"], [0.3333333333333333, \"#9c179e\"], [0.4444444444444444, \"#bd3786\"], [0.5555555555555556, \"#d8576b\"], [0.6666666666666666, \"#ed7953\"], [0.7777777777777778, \"#fb9f3a\"], [0.8888888888888888, \"#fdca26\"], [1.0, \"#f0f921\"]], \"type\": \"histogram2dcontour\"}], \"mesh3d\": [{\"colorbar\": {\"outlinewidth\": 0, \"ticks\": \"\"}, \"type\": \"mesh3d\"}], \"parcoords\": [{\"line\": {\"colorbar\": {\"outlinewidth\": 0, \"ticks\": \"\"}}, \"type\": \"parcoords\"}], \"scatter\": [{\"marker\": {\"colorbar\": {\"outlinewidth\": 0, \"ticks\": \"\"}}, \"type\": \"scatter\"}], \"scatter3d\": [{\"line\": {\"colorbar\": {\"outlinewidth\": 0, \"ticks\": \"\"}}, \"marker\": {\"colorbar\": {\"outlinewidth\": 0, \"ticks\": \"\"}}, \"type\": \"scatter3d\"}], \"scattercarpet\": [{\"marker\": {\"colorbar\": {\"outlinewidth\": 0, \"ticks\": \"\"}}, \"type\": \"scattercarpet\"}], \"scattergeo\": [{\"marker\": {\"colorbar\": {\"outlinewidth\": 0, \"ticks\": \"\"}}, \"type\": \"scattergeo\"}], \"scattergl\": [{\"marker\": {\"colorbar\": {\"outlinewidth\": 0, \"ticks\": \"\"}}, \"type\": \"scattergl\"}], \"scattermapbox\": [{\"marker\": {\"colorbar\": {\"outlinewidth\": 0, \"ticks\": \"\"}}, \"type\": \"scattermapbox\"}], \"scatterpolar\": [{\"marker\": {\"colorbar\": {\"outlinewidth\": 0, \"ticks\": \"\"}}, \"type\": \"scatterpolar\"}], \"scatterpolargl\": [{\"marker\": {\"colorbar\": {\"outlinewidth\": 0, \"ticks\": \"\"}}, \"type\": \"scatterpolargl\"}], \"scatterternary\": [{\"marker\": {\"colorbar\": {\"outlinewidth\": 0, \"ticks\": \"\"}}, \"type\": \"scatterternary\"}], \"surface\": [{\"colorbar\": {\"outlinewidth\": 0, \"ticks\": \"\"}, \"colorscale\": [[0.0, \"#0d0887\"], [0.1111111111111111, \"#46039f\"], [0.2222222222222222, \"#7201a8\"], [0.3333333333333333, \"#9c179e\"], [0.4444444444444444, \"#bd3786\"], [0.5555555555555556, \"#d8576b\"], [0.6666666666666666, \"#ed7953\"], [0.7777777777777778, \"#fb9f3a\"], [0.8888888888888888, \"#fdca26\"], [1.0, \"#f0f921\"]], \"type\": \"surface\"}], \"table\": [{\"cells\": {\"fill\": {\"color\": \"#EBF0F8\"}, \"line\": {\"color\": \"white\"}}, \"header\": {\"fill\": {\"color\": \"#C8D4E3\"}, \"line\": {\"color\": \"white\"}}, \"type\": \"table\"}]}, \"layout\": {\"annotationdefaults\": {\"arrowcolor\": \"#2a3f5f\", \"arrowhead\": 0, \"arrowwidth\": 1}, \"colorscale\": {\"diverging\": [[0, \"#8e0152\"], [0.1, \"#c51b7d\"], [0.2, \"#de77ae\"], [0.3, \"#f1b6da\"], [0.4, \"#fde0ef\"], [0.5, \"#f7f7f7\"], [0.6, \"#e6f5d0\"], [0.7, \"#b8e186\"], [0.8, \"#7fbc41\"], [0.9, \"#4d9221\"], [1, \"#276419\"]], \"sequential\": [[0.0, \"#0d0887\"], [0.1111111111111111, \"#46039f\"], [0.2222222222222222, \"#7201a8\"], [0.3333333333333333, \"#9c179e\"], [0.4444444444444444, \"#bd3786\"], [0.5555555555555556, \"#d8576b\"], [0.6666666666666666, \"#ed7953\"], [0.7777777777777778, \"#fb9f3a\"], [0.8888888888888888, \"#fdca26\"], [1.0, \"#f0f921\"]], \"sequentialminus\": [[0.0, \"#0d0887\"], [0.1111111111111111, \"#46039f\"], [0.2222222222222222, \"#7201a8\"], [0.3333333333333333, \"#9c179e\"], [0.4444444444444444, \"#bd3786\"], [0.5555555555555556, \"#d8576b\"], [0.6666666666666666, \"#ed7953\"], [0.7777777777777778, \"#fb9f3a\"], [0.8888888888888888, \"#fdca26\"], [1.0, \"#f0f921\"]]}, \"colorway\": [\"#636efa\", \"#EF553B\", \"#00cc96\", \"#ab63fa\", \"#FFA15A\", \"#19d3f3\", \"#FF6692\", \"#B6E880\", \"#FF97FF\", \"#FECB52\"], \"font\": {\"color\": \"#2a3f5f\"}, \"geo\": {\"bgcolor\": \"white\", \"lakecolor\": \"white\", \"landcolor\": \"#E5ECF6\", \"showlakes\": true, \"showland\": true, \"subunitcolor\": \"white\"}, \"hoverlabel\": {\"align\": \"left\"}, \"hovermode\": \"closest\", \"mapbox\": {\"style\": \"light\"}, \"paper_bgcolor\": \"white\", \"plot_bgcolor\": \"#E5ECF6\", \"polar\": {\"angularaxis\": {\"gridcolor\": \"white\", \"linecolor\": \"white\", \"ticks\": \"\"}, \"bgcolor\": \"#E5ECF6\", \"radialaxis\": {\"gridcolor\": \"white\", \"linecolor\": \"white\", \"ticks\": \"\"}}, \"scene\": {\"xaxis\": {\"backgroundcolor\": \"#E5ECF6\", \"gridcolor\": \"white\", \"gridwidth\": 2, \"linecolor\": \"white\", \"showbackground\": true, \"ticks\": \"\", \"zerolinecolor\": \"white\"}, \"yaxis\": {\"backgroundcolor\": \"#E5ECF6\", \"gridcolor\": \"white\", \"gridwidth\": 2, \"linecolor\": \"white\", \"showbackground\": true, \"ticks\": \"\", \"zerolinecolor\": \"white\"}, \"zaxis\": {\"backgroundcolor\": \"#E5ECF6\", \"gridcolor\": \"white\", \"gridwidth\": 2, \"linecolor\": \"white\", \"showbackground\": true, \"ticks\": \"\", \"zerolinecolor\": \"white\"}}, \"shapedefaults\": {\"line\": {\"color\": \"#2a3f5f\"}}, \"ternary\": {\"aaxis\": {\"gridcolor\": \"white\", \"linecolor\": \"white\", \"ticks\": \"\"}, \"baxis\": {\"gridcolor\": \"white\", \"linecolor\": \"white\", \"ticks\": \"\"}, \"bgcolor\": \"#E5ECF6\", \"caxis\": {\"gridcolor\": \"white\", \"linecolor\": \"white\", \"ticks\": \"\"}}, \"title\": {\"x\": 0.05}, \"xaxis\": {\"automargin\": true, \"gridcolor\": \"white\", \"linecolor\": \"white\", \"ticks\": \"\", \"zerolinecolor\": \"white\", \"zerolinewidth\": 2}, \"yaxis\": {\"automargin\": true, \"gridcolor\": \"white\", \"linecolor\": \"white\", \"ticks\": \"\", \"zerolinecolor\": \"white\", \"zerolinewidth\": 2}}}, \"title\": {\"text\": \"Best Cricket World Cup Batting Performances (1975-2019)\"}, \"xaxis\": {\"anchor\": \"y\", \"domain\": [0.0, 0.98], \"title\": {\"text\": \"Distance from the mean (z-score)\"}}, \"yaxis\": {\"anchor\": \"x\", \"categoryorder\": \"total ascending\", \"domain\": [0.0, 1.0], \"title\": {\"text\": \"\"}}},\n",
       "                        {\"responsive\": true}\n",
       "                    ).then(function(){\n",
       "                            \n",
       "var gd = document.getElementById('6a7f2df6-5c71-41f6-990e-6e1650ef5356');\n",
       "var x = new MutationObserver(function (mutations, observer) {{\n",
       "        var display = window.getComputedStyle(gd).display;\n",
       "        if (!display || display === 'none') {{\n",
       "            console.log([gd, 'removed!']);\n",
       "            Plotly.purge(gd);\n",
       "            observer.disconnect();\n",
       "        }}\n",
       "}});\n",
       "\n",
       "// Listen for the removal of the full notebook cells\n",
       "var notebookContainer = gd.closest('#notebook-container');\n",
       "if (notebookContainer) {{\n",
       "    x.observe(notebookContainer, {childList: true});\n",
       "}}\n",
       "\n",
       "// Listen for the clearing of the current output cell\n",
       "var outputEl = gd.closest('.output');\n",
       "if (outputEl) {{\n",
       "    x.observe(outputEl, {childList: true});\n",
       "}}\n",
       "\n",
       "                        })\n",
       "                };\n",
       "                });\n",
       "            </script>\n",
       "        </div>"
      ]
     },
     "metadata": {},
     "output_type": "display_data"
    }
   ],
   "source": [
    "plot_df = sum_batsmen_runs_df.sort_values(\"ZScore\", ascending=False).head(15)\n",
    "plot_df[\"Country\"] = plot_df[\"Batsman\"].apply(lambda x: countries[x])\n",
    "plot_df[\"Colour\"] = plot_df[\"Country\"].apply(lambda x: colours[x])\n",
    "plot_df[\"NameLabel\"] = plot_df[\"Batsman\"] + \" (\" + plot_df[\"Year\"].astype(str) + \") \"\n",
    "plot_df[\"RunsLabel\"] = plot_df[\"Runs\"].astype(str) + \" Runs\"\n",
    "fig = px.bar(\n",
    "    plot_df, \n",
    "    x=\"ZScore\", \n",
    "    y=\"NameLabel\", \n",
    "    text=\"RunsLabel\", \n",
    "    labels=dict(ZScore=\"Distance from the mean (z-score)\", NameLabel=\"\"),\n",
    "    orientation=\"h\",    \n",
    "    color=\"Country\",\n",
    "    color_discrete_sequence=list(plot_df[\"Colour\"].unique()),\n",
    ").for_each_trace(lambda t: t.update(name=t.name.split(\"=\")[1]))\n",
    "fig.update_traces(hoverinfo=\"skip\")\n",
    "fig.update_layout(showlegend=True)\n",
    "fig.update_layout(yaxis_categoryorder=\"total ascending\")\n",
    "fig.update_layout(title=\"Best Cricket World Cup Batting Performances (1975-2019)\")\n",
    "fig.show()\n",
    "pio.write_image(fig, \"batting.png\", width=1024, height=768, scale=5)"
   ]
  },
  {
   "cell_type": "markdown",
   "metadata": {},
   "source": [
    "### Find average metric per world cup"
   ]
  },
  {
   "cell_type": "code",
   "execution_count": 823,
   "metadata": {},
   "outputs": [],
   "source": [
    "metric = \"Wickets\" # Maidens\n",
    "\n",
    "sum_bowlers_metric_df = all_bowlers_df.groupby([\"Year\", \"Bowler\"])[metric].sum().reset_index()\n",
    "\n",
    "yearly_stddev_df = sum_bowlers_metric_df.groupby(\"Year\")[metric].std().reset_index()\n",
    "yearly_stddev_df.columns = (\"Year\", \"StdDevMetric\")\n",
    "yearly_mean_df = sum_bowlers_metric_df.groupby(\"Year\")[metric].mean().reset_index()\n",
    "yearly_mean_df.columns = (\"Year\", \"MeanMetric\")"
   ]
  },
  {
   "cell_type": "code",
   "execution_count": 824,
   "metadata": {},
   "outputs": [],
   "source": [
    "sum_bowlers_metric_df = sum_bowlers_metric_df.merge(yearly_stddev_df, on=\"Year\")\n",
    "sum_bowlers_metric_df = sum_bowlers_metric_df.merge(yearly_mean_df, on=\"Year\")"
   ]
  },
  {
   "cell_type": "code",
   "execution_count": 825,
   "metadata": {},
   "outputs": [],
   "source": [
    "sum_bowlers_metric_df[\"ZScore\"] = (sum_bowlers_metric_df[metric] - sum_bowlers_metric_df[\"StdDevMetric\"]) / sum_bowlers_metric_df[\"MeanMetric\"]"
   ]
  },
  {
   "cell_type": "code",
   "execution_count": 826,
   "metadata": {},
   "outputs": [],
   "source": [
    "# WICKETS\n",
    "countries = {\n",
    "    \"Glenn McGrath\": \"Australia\",\n",
    "    \"Shaun Tait\": \"Australia\",\n",
    "    \"Muttiah Muralitharan\": \"Sri Lanka\",\n",
    "    \"Brad Hogg\": \"Australia\",\n",
    "    \"Mitchell Starc\": \"Australia\",\n",
    "    \"Trent Boult\": \"New Zealand\",\n",
    "    \"Chaminda Vaas\": \"Sri Lanka\",\n",
    "    \"Zaheer Khan\": \"India\",\n",
    "    \"Shahid Afridi\": \"Pakistan\",\n",
    "    \"Brett Lee\": \"Australia\",\n",
    "    \"Anil Kumble\": \"India\",\n",
    "    \"Mitchell Starc\": \"Australia\",\n",
    "    \"Glenn McGrath\": \"Australia\",\n",
    "    \"Craig McDermott\": \"Australia\",\n",
    "    \"Lasith Malinga\": \"Sri Lanka\",\n",
    "}"
   ]
  },
  {
   "cell_type": "code",
   "execution_count": 852,
   "metadata": {},
   "outputs": [],
   "source": [
    "plot_df = sum_bowlers_metric_df.sort_values(\"ZScore\", ascending=False).head(15)"
   ]
  },
  {
   "cell_type": "code",
   "execution_count": 839,
   "metadata": {},
   "outputs": [
    {
     "data": {
      "application/vnd.plotly.v1+json": {
       "config": {
        "plotlyServerURL": "https://plot.ly"
       },
       "data": [
        {
         "alignmentgroup": "True",
         "hoverinfo": "skip",
         "hoverlabel": {
          "namelength": 0
         },
         "hovertemplate": "Country=Australia<br>Distance from the mean (z-score)=%{x}<br>=%{y}<br>WicketsLabel=%{text}",
         "legendgroup": "Country=Australia",
         "marker": {
          "color": "#F9D71C"
         },
         "name": "Australia",
         "offsetgroup": "Country=Australia",
         "orientation": "h",
         "showlegend": true,
         "text": [
          "26 Wickets",
          "23 Wickets",
          "21 Wickets",
          "22 Wickets",
          "22 Wickets",
          "27 Wickets",
          "21 Wickets",
          "18 Wickets"
         ],
         "textposition": "auto",
         "type": "bar",
         "x": [
          4.786761054333049,
          4.098311206308733,
          3.6393446409591887,
          3.474558512904582,
          3.274040870318843,
          3.155818132846822,
          3.0810074886062164,
          3.0122311264134827
         ],
         "xaxis": "x",
         "y": [
          "Glenn McGrath (2007) ",
          "Shaun Tait (2007) ",
          "Brad Hogg (2007) ",
          "Mitchell Starc (2015) ",
          "Brett Lee (2003) ",
          "Mitchell Starc (2019) ",
          "Glenn McGrath (2003) ",
          "Craig McDermott (1987) "
         ],
         "yaxis": "y"
        },
        {
         "alignmentgroup": "True",
         "hoverinfo": "skip",
         "hoverlabel": {
          "namelength": 0
         },
         "hovertemplate": "Country=Sri Lanka<br>Distance from the mean (z-score)=%{x}<br>=%{y}<br>WicketsLabel=%{text}",
         "legendgroup": "Country=Sri Lanka",
         "marker": {
          "color": "#15295E"
         },
         "name": "Sri Lanka",
         "offsetgroup": "Country=Sri Lanka",
         "orientation": "h",
         "showlegend": true,
         "text": [
          "23 Wickets",
          "23 Wickets",
          "18 Wickets"
         ],
         "textposition": "auto",
         "type": "bar",
         "x": [
          4.098311206308733,
          3.46707425203147,
          2.950894792934873
         ],
         "xaxis": "x",
         "y": [
          "Muttiah Muralitharan (2007) ",
          "Chaminda Vaas (2003) ",
          "Lasith Malinga (2007) "
         ],
         "yaxis": "y"
        },
        {
         "alignmentgroup": "True",
         "hoverinfo": "skip",
         "hoverlabel": {
          "namelength": 0
         },
         "hovertemplate": "Country=New Zealand<br>Distance from the mean (z-score)=%{x}<br>=%{y}<br>WicketsLabel=%{text}",
         "legendgroup": "Country=New Zealand",
         "marker": {
          "color": "black"
         },
         "name": "New Zealand",
         "offsetgroup": "Country=New Zealand",
         "orientation": "h",
         "showlegend": true,
         "text": [
          "22 Wickets"
         ],
         "textposition": "auto",
         "type": "bar",
         "x": [
          3.474558512904582
         ],
         "xaxis": "x",
         "y": [
          "Trent Boult (2015) "
         ],
         "yaxis": "y"
        },
        {
         "alignmentgroup": "True",
         "hoverinfo": "skip",
         "hoverlabel": {
          "namelength": 0
         },
         "hovertemplate": "Country=India<br>Distance from the mean (z-score)=%{x}<br>=%{y}<br>WicketsLabel=%{text}",
         "legendgroup": "Country=India",
         "marker": {
          "color": "#B3E3EE"
         },
         "name": "India",
         "offsetgroup": "Country=India",
         "orientation": "h",
         "showlegend": true,
         "text": [
          "21 Wickets",
          "15 Wickets"
         ],
         "textposition": "auto",
         "type": "bar",
         "x": [
          3.399280803428854,
          3.159765707238933
         ],
         "xaxis": "x",
         "y": [
          "Zaheer Khan (2011) ",
          "Anil Kumble (1995) "
         ],
         "yaxis": "y"
        },
        {
         "alignmentgroup": "True",
         "hoverinfo": "skip",
         "hoverlabel": {
          "namelength": 0
         },
         "hovertemplate": "Country=Pakistan<br>Distance from the mean (z-score)=%{x}<br>=%{y}<br>WicketsLabel=%{text}",
         "legendgroup": "Country=Pakistan",
         "marker": {
          "color": "#006629"
         },
         "name": "Pakistan",
         "offsetgroup": "Country=Pakistan",
         "orientation": "h",
         "showlegend": true,
         "text": [
          "21 Wickets"
         ],
         "textposition": "auto",
         "type": "bar",
         "x": [
          3.399280803428854
         ],
         "xaxis": "x",
         "y": [
          "Shahid Afridi (2011) "
         ],
         "yaxis": "y"
        }
       ],
       "layout": {
        "barmode": "relative",
        "height": 600,
        "legend": {
         "tracegroupgap": 0
        },
        "margin": {
         "t": 60
        },
        "showlegend": true,
        "template": {
         "data": {
          "bar": [
           {
            "error_x": {
             "color": "#2a3f5f"
            },
            "error_y": {
             "color": "#2a3f5f"
            },
            "marker": {
             "line": {
              "color": "#E5ECF6",
              "width": 0.5
             }
            },
            "type": "bar"
           }
          ],
          "barpolar": [
           {
            "marker": {
             "line": {
              "color": "#E5ECF6",
              "width": 0.5
             }
            },
            "type": "barpolar"
           }
          ],
          "carpet": [
           {
            "aaxis": {
             "endlinecolor": "#2a3f5f",
             "gridcolor": "white",
             "linecolor": "white",
             "minorgridcolor": "white",
             "startlinecolor": "#2a3f5f"
            },
            "baxis": {
             "endlinecolor": "#2a3f5f",
             "gridcolor": "white",
             "linecolor": "white",
             "minorgridcolor": "white",
             "startlinecolor": "#2a3f5f"
            },
            "type": "carpet"
           }
          ],
          "choropleth": [
           {
            "colorbar": {
             "outlinewidth": 0,
             "ticks": ""
            },
            "type": "choropleth"
           }
          ],
          "contour": [
           {
            "colorbar": {
             "outlinewidth": 0,
             "ticks": ""
            },
            "colorscale": [
             [
              0,
              "#0d0887"
             ],
             [
              0.1111111111111111,
              "#46039f"
             ],
             [
              0.2222222222222222,
              "#7201a8"
             ],
             [
              0.3333333333333333,
              "#9c179e"
             ],
             [
              0.4444444444444444,
              "#bd3786"
             ],
             [
              0.5555555555555556,
              "#d8576b"
             ],
             [
              0.6666666666666666,
              "#ed7953"
             ],
             [
              0.7777777777777778,
              "#fb9f3a"
             ],
             [
              0.8888888888888888,
              "#fdca26"
             ],
             [
              1,
              "#f0f921"
             ]
            ],
            "type": "contour"
           }
          ],
          "contourcarpet": [
           {
            "colorbar": {
             "outlinewidth": 0,
             "ticks": ""
            },
            "type": "contourcarpet"
           }
          ],
          "heatmap": [
           {
            "colorbar": {
             "outlinewidth": 0,
             "ticks": ""
            },
            "colorscale": [
             [
              0,
              "#0d0887"
             ],
             [
              0.1111111111111111,
              "#46039f"
             ],
             [
              0.2222222222222222,
              "#7201a8"
             ],
             [
              0.3333333333333333,
              "#9c179e"
             ],
             [
              0.4444444444444444,
              "#bd3786"
             ],
             [
              0.5555555555555556,
              "#d8576b"
             ],
             [
              0.6666666666666666,
              "#ed7953"
             ],
             [
              0.7777777777777778,
              "#fb9f3a"
             ],
             [
              0.8888888888888888,
              "#fdca26"
             ],
             [
              1,
              "#f0f921"
             ]
            ],
            "type": "heatmap"
           }
          ],
          "heatmapgl": [
           {
            "colorbar": {
             "outlinewidth": 0,
             "ticks": ""
            },
            "colorscale": [
             [
              0,
              "#0d0887"
             ],
             [
              0.1111111111111111,
              "#46039f"
             ],
             [
              0.2222222222222222,
              "#7201a8"
             ],
             [
              0.3333333333333333,
              "#9c179e"
             ],
             [
              0.4444444444444444,
              "#bd3786"
             ],
             [
              0.5555555555555556,
              "#d8576b"
             ],
             [
              0.6666666666666666,
              "#ed7953"
             ],
             [
              0.7777777777777778,
              "#fb9f3a"
             ],
             [
              0.8888888888888888,
              "#fdca26"
             ],
             [
              1,
              "#f0f921"
             ]
            ],
            "type": "heatmapgl"
           }
          ],
          "histogram": [
           {
            "marker": {
             "colorbar": {
              "outlinewidth": 0,
              "ticks": ""
             }
            },
            "type": "histogram"
           }
          ],
          "histogram2d": [
           {
            "colorbar": {
             "outlinewidth": 0,
             "ticks": ""
            },
            "colorscale": [
             [
              0,
              "#0d0887"
             ],
             [
              0.1111111111111111,
              "#46039f"
             ],
             [
              0.2222222222222222,
              "#7201a8"
             ],
             [
              0.3333333333333333,
              "#9c179e"
             ],
             [
              0.4444444444444444,
              "#bd3786"
             ],
             [
              0.5555555555555556,
              "#d8576b"
             ],
             [
              0.6666666666666666,
              "#ed7953"
             ],
             [
              0.7777777777777778,
              "#fb9f3a"
             ],
             [
              0.8888888888888888,
              "#fdca26"
             ],
             [
              1,
              "#f0f921"
             ]
            ],
            "type": "histogram2d"
           }
          ],
          "histogram2dcontour": [
           {
            "colorbar": {
             "outlinewidth": 0,
             "ticks": ""
            },
            "colorscale": [
             [
              0,
              "#0d0887"
             ],
             [
              0.1111111111111111,
              "#46039f"
             ],
             [
              0.2222222222222222,
              "#7201a8"
             ],
             [
              0.3333333333333333,
              "#9c179e"
             ],
             [
              0.4444444444444444,
              "#bd3786"
             ],
             [
              0.5555555555555556,
              "#d8576b"
             ],
             [
              0.6666666666666666,
              "#ed7953"
             ],
             [
              0.7777777777777778,
              "#fb9f3a"
             ],
             [
              0.8888888888888888,
              "#fdca26"
             ],
             [
              1,
              "#f0f921"
             ]
            ],
            "type": "histogram2dcontour"
           }
          ],
          "mesh3d": [
           {
            "colorbar": {
             "outlinewidth": 0,
             "ticks": ""
            },
            "type": "mesh3d"
           }
          ],
          "parcoords": [
           {
            "line": {
             "colorbar": {
              "outlinewidth": 0,
              "ticks": ""
             }
            },
            "type": "parcoords"
           }
          ],
          "scatter": [
           {
            "marker": {
             "colorbar": {
              "outlinewidth": 0,
              "ticks": ""
             }
            },
            "type": "scatter"
           }
          ],
          "scatter3d": [
           {
            "line": {
             "colorbar": {
              "outlinewidth": 0,
              "ticks": ""
             }
            },
            "marker": {
             "colorbar": {
              "outlinewidth": 0,
              "ticks": ""
             }
            },
            "type": "scatter3d"
           }
          ],
          "scattercarpet": [
           {
            "marker": {
             "colorbar": {
              "outlinewidth": 0,
              "ticks": ""
             }
            },
            "type": "scattercarpet"
           }
          ],
          "scattergeo": [
           {
            "marker": {
             "colorbar": {
              "outlinewidth": 0,
              "ticks": ""
             }
            },
            "type": "scattergeo"
           }
          ],
          "scattergl": [
           {
            "marker": {
             "colorbar": {
              "outlinewidth": 0,
              "ticks": ""
             }
            },
            "type": "scattergl"
           }
          ],
          "scattermapbox": [
           {
            "marker": {
             "colorbar": {
              "outlinewidth": 0,
              "ticks": ""
             }
            },
            "type": "scattermapbox"
           }
          ],
          "scatterpolar": [
           {
            "marker": {
             "colorbar": {
              "outlinewidth": 0,
              "ticks": ""
             }
            },
            "type": "scatterpolar"
           }
          ],
          "scatterpolargl": [
           {
            "marker": {
             "colorbar": {
              "outlinewidth": 0,
              "ticks": ""
             }
            },
            "type": "scatterpolargl"
           }
          ],
          "scatterternary": [
           {
            "marker": {
             "colorbar": {
              "outlinewidth": 0,
              "ticks": ""
             }
            },
            "type": "scatterternary"
           }
          ],
          "surface": [
           {
            "colorbar": {
             "outlinewidth": 0,
             "ticks": ""
            },
            "colorscale": [
             [
              0,
              "#0d0887"
             ],
             [
              0.1111111111111111,
              "#46039f"
             ],
             [
              0.2222222222222222,
              "#7201a8"
             ],
             [
              0.3333333333333333,
              "#9c179e"
             ],
             [
              0.4444444444444444,
              "#bd3786"
             ],
             [
              0.5555555555555556,
              "#d8576b"
             ],
             [
              0.6666666666666666,
              "#ed7953"
             ],
             [
              0.7777777777777778,
              "#fb9f3a"
             ],
             [
              0.8888888888888888,
              "#fdca26"
             ],
             [
              1,
              "#f0f921"
             ]
            ],
            "type": "surface"
           }
          ],
          "table": [
           {
            "cells": {
             "fill": {
              "color": "#EBF0F8"
             },
             "line": {
              "color": "white"
             }
            },
            "header": {
             "fill": {
              "color": "#C8D4E3"
             },
             "line": {
              "color": "white"
             }
            },
            "type": "table"
           }
          ]
         },
         "layout": {
          "annotationdefaults": {
           "arrowcolor": "#2a3f5f",
           "arrowhead": 0,
           "arrowwidth": 1
          },
          "colorscale": {
           "diverging": [
            [
             0,
             "#8e0152"
            ],
            [
             0.1,
             "#c51b7d"
            ],
            [
             0.2,
             "#de77ae"
            ],
            [
             0.3,
             "#f1b6da"
            ],
            [
             0.4,
             "#fde0ef"
            ],
            [
             0.5,
             "#f7f7f7"
            ],
            [
             0.6,
             "#e6f5d0"
            ],
            [
             0.7,
             "#b8e186"
            ],
            [
             0.8,
             "#7fbc41"
            ],
            [
             0.9,
             "#4d9221"
            ],
            [
             1,
             "#276419"
            ]
           ],
           "sequential": [
            [
             0,
             "#0d0887"
            ],
            [
             0.1111111111111111,
             "#46039f"
            ],
            [
             0.2222222222222222,
             "#7201a8"
            ],
            [
             0.3333333333333333,
             "#9c179e"
            ],
            [
             0.4444444444444444,
             "#bd3786"
            ],
            [
             0.5555555555555556,
             "#d8576b"
            ],
            [
             0.6666666666666666,
             "#ed7953"
            ],
            [
             0.7777777777777778,
             "#fb9f3a"
            ],
            [
             0.8888888888888888,
             "#fdca26"
            ],
            [
             1,
             "#f0f921"
            ]
           ],
           "sequentialminus": [
            [
             0,
             "#0d0887"
            ],
            [
             0.1111111111111111,
             "#46039f"
            ],
            [
             0.2222222222222222,
             "#7201a8"
            ],
            [
             0.3333333333333333,
             "#9c179e"
            ],
            [
             0.4444444444444444,
             "#bd3786"
            ],
            [
             0.5555555555555556,
             "#d8576b"
            ],
            [
             0.6666666666666666,
             "#ed7953"
            ],
            [
             0.7777777777777778,
             "#fb9f3a"
            ],
            [
             0.8888888888888888,
             "#fdca26"
            ],
            [
             1,
             "#f0f921"
            ]
           ]
          },
          "colorway": [
           "#636efa",
           "#EF553B",
           "#00cc96",
           "#ab63fa",
           "#FFA15A",
           "#19d3f3",
           "#FF6692",
           "#B6E880",
           "#FF97FF",
           "#FECB52"
          ],
          "font": {
           "color": "#2a3f5f"
          },
          "geo": {
           "bgcolor": "white",
           "lakecolor": "white",
           "landcolor": "#E5ECF6",
           "showlakes": true,
           "showland": true,
           "subunitcolor": "white"
          },
          "hoverlabel": {
           "align": "left"
          },
          "hovermode": "closest",
          "mapbox": {
           "style": "light"
          },
          "paper_bgcolor": "white",
          "plot_bgcolor": "#E5ECF6",
          "polar": {
           "angularaxis": {
            "gridcolor": "white",
            "linecolor": "white",
            "ticks": ""
           },
           "bgcolor": "#E5ECF6",
           "radialaxis": {
            "gridcolor": "white",
            "linecolor": "white",
            "ticks": ""
           }
          },
          "scene": {
           "xaxis": {
            "backgroundcolor": "#E5ECF6",
            "gridcolor": "white",
            "gridwidth": 2,
            "linecolor": "white",
            "showbackground": true,
            "ticks": "",
            "zerolinecolor": "white"
           },
           "yaxis": {
            "backgroundcolor": "#E5ECF6",
            "gridcolor": "white",
            "gridwidth": 2,
            "linecolor": "white",
            "showbackground": true,
            "ticks": "",
            "zerolinecolor": "white"
           },
           "zaxis": {
            "backgroundcolor": "#E5ECF6",
            "gridcolor": "white",
            "gridwidth": 2,
            "linecolor": "white",
            "showbackground": true,
            "ticks": "",
            "zerolinecolor": "white"
           }
          },
          "shapedefaults": {
           "line": {
            "color": "#2a3f5f"
           }
          },
          "ternary": {
           "aaxis": {
            "gridcolor": "white",
            "linecolor": "white",
            "ticks": ""
           },
           "baxis": {
            "gridcolor": "white",
            "linecolor": "white",
            "ticks": ""
           },
           "bgcolor": "#E5ECF6",
           "caxis": {
            "gridcolor": "white",
            "linecolor": "white",
            "ticks": ""
           }
          },
          "title": {
           "x": 0.05
          },
          "xaxis": {
           "automargin": true,
           "gridcolor": "white",
           "linecolor": "white",
           "ticks": "",
           "zerolinecolor": "white",
           "zerolinewidth": 2
          },
          "yaxis": {
           "automargin": true,
           "gridcolor": "white",
           "linecolor": "white",
           "ticks": "",
           "zerolinecolor": "white",
           "zerolinewidth": 2
          }
         }
        },
        "title": {
         "text": "Best Cricket World Cup Bowling Performances (1975-2019)"
        },
        "xaxis": {
         "anchor": "y",
         "domain": [
          0,
          0.98
         ],
         "title": {
          "text": "Distance from the mean (z-score)"
         }
        },
        "yaxis": {
         "anchor": "x",
         "categoryorder": "total ascending",
         "domain": [
          0,
          1
         ],
         "title": {
          "text": ""
         }
        }
       }
      },
      "text/html": [
       "<div>\n",
       "        \n",
       "        \n",
       "            <div id=\"8eba77f6-7e57-4460-9049-a71350ebaddc\" class=\"plotly-graph-div\" style=\"height:600px; width:100%;\"></div>\n",
       "            <script type=\"text/javascript\">\n",
       "                require([\"plotly\"], function(Plotly) {\n",
       "                    window.PLOTLYENV=window.PLOTLYENV || {};\n",
       "                    \n",
       "                if (document.getElementById(\"8eba77f6-7e57-4460-9049-a71350ebaddc\")) {\n",
       "                    Plotly.newPlot(\n",
       "                        '8eba77f6-7e57-4460-9049-a71350ebaddc',\n",
       "                        [{\"alignmentgroup\": \"True\", \"hoverinfo\": \"skip\", \"hoverlabel\": {\"namelength\": 0}, \"hovertemplate\": \"Country=Australia<br>Distance from the mean (z-score)=%{x}<br>=%{y}<br>WicketsLabel=%{text}\", \"legendgroup\": \"Country=Australia\", \"marker\": {\"color\": \"#F9D71C\"}, \"name\": \"Australia\", \"offsetgroup\": \"Country=Australia\", \"orientation\": \"h\", \"showlegend\": true, \"text\": [\"26 Wickets\", \"23 Wickets\", \"21 Wickets\", \"22 Wickets\", \"22 Wickets\", \"27 Wickets\", \"21 Wickets\", \"18 Wickets\"], \"textposition\": \"auto\", \"type\": \"bar\", \"x\": [4.786761054333049, 4.098311206308733, 3.6393446409591887, 3.474558512904582, 3.274040870318843, 3.155818132846822, 3.0810074886062164, 3.0122311264134827], \"xaxis\": \"x\", \"y\": [\"Glenn McGrath (2007) \", \"Shaun Tait (2007) \", \"Brad Hogg (2007) \", \"Mitchell Starc (2015) \", \"Brett Lee (2003) \", \"Mitchell Starc (2019) \", \"Glenn McGrath (2003) \", \"Craig McDermott (1987) \"], \"yaxis\": \"y\"}, {\"alignmentgroup\": \"True\", \"hoverinfo\": \"skip\", \"hoverlabel\": {\"namelength\": 0}, \"hovertemplate\": \"Country=Sri Lanka<br>Distance from the mean (z-score)=%{x}<br>=%{y}<br>WicketsLabel=%{text}\", \"legendgroup\": \"Country=Sri Lanka\", \"marker\": {\"color\": \"#15295E\"}, \"name\": \"Sri Lanka\", \"offsetgroup\": \"Country=Sri Lanka\", \"orientation\": \"h\", \"showlegend\": true, \"text\": [\"23 Wickets\", \"23 Wickets\", \"18 Wickets\"], \"textposition\": \"auto\", \"type\": \"bar\", \"x\": [4.098311206308733, 3.46707425203147, 2.950894792934873], \"xaxis\": \"x\", \"y\": [\"Muttiah Muralitharan (2007) \", \"Chaminda Vaas (2003) \", \"Lasith Malinga (2007) \"], \"yaxis\": \"y\"}, {\"alignmentgroup\": \"True\", \"hoverinfo\": \"skip\", \"hoverlabel\": {\"namelength\": 0}, \"hovertemplate\": \"Country=New Zealand<br>Distance from the mean (z-score)=%{x}<br>=%{y}<br>WicketsLabel=%{text}\", \"legendgroup\": \"Country=New Zealand\", \"marker\": {\"color\": \"black\"}, \"name\": \"New Zealand\", \"offsetgroup\": \"Country=New Zealand\", \"orientation\": \"h\", \"showlegend\": true, \"text\": [\"22 Wickets\"], \"textposition\": \"auto\", \"type\": \"bar\", \"x\": [3.474558512904582], \"xaxis\": \"x\", \"y\": [\"Trent Boult (2015) \"], \"yaxis\": \"y\"}, {\"alignmentgroup\": \"True\", \"hoverinfo\": \"skip\", \"hoverlabel\": {\"namelength\": 0}, \"hovertemplate\": \"Country=India<br>Distance from the mean (z-score)=%{x}<br>=%{y}<br>WicketsLabel=%{text}\", \"legendgroup\": \"Country=India\", \"marker\": {\"color\": \"#B3E3EE\"}, \"name\": \"India\", \"offsetgroup\": \"Country=India\", \"orientation\": \"h\", \"showlegend\": true, \"text\": [\"21 Wickets\", \"15 Wickets\"], \"textposition\": \"auto\", \"type\": \"bar\", \"x\": [3.399280803428854, 3.159765707238933], \"xaxis\": \"x\", \"y\": [\"Zaheer Khan (2011) \", \"Anil Kumble (1995) \"], \"yaxis\": \"y\"}, {\"alignmentgroup\": \"True\", \"hoverinfo\": \"skip\", \"hoverlabel\": {\"namelength\": 0}, \"hovertemplate\": \"Country=Pakistan<br>Distance from the mean (z-score)=%{x}<br>=%{y}<br>WicketsLabel=%{text}\", \"legendgroup\": \"Country=Pakistan\", \"marker\": {\"color\": \"#006629\"}, \"name\": \"Pakistan\", \"offsetgroup\": \"Country=Pakistan\", \"orientation\": \"h\", \"showlegend\": true, \"text\": [\"21 Wickets\"], \"textposition\": \"auto\", \"type\": \"bar\", \"x\": [3.399280803428854], \"xaxis\": \"x\", \"y\": [\"Shahid Afridi (2011) \"], \"yaxis\": \"y\"}],\n",
       "                        {\"barmode\": \"relative\", \"height\": 600, \"legend\": {\"tracegroupgap\": 0}, \"margin\": {\"t\": 60}, \"showlegend\": true, \"template\": {\"data\": {\"bar\": [{\"error_x\": {\"color\": \"#2a3f5f\"}, \"error_y\": {\"color\": \"#2a3f5f\"}, \"marker\": {\"line\": {\"color\": \"#E5ECF6\", \"width\": 0.5}}, \"type\": \"bar\"}], \"barpolar\": [{\"marker\": {\"line\": {\"color\": \"#E5ECF6\", \"width\": 0.5}}, \"type\": \"barpolar\"}], \"carpet\": [{\"aaxis\": {\"endlinecolor\": \"#2a3f5f\", \"gridcolor\": \"white\", \"linecolor\": \"white\", \"minorgridcolor\": \"white\", \"startlinecolor\": \"#2a3f5f\"}, \"baxis\": {\"endlinecolor\": \"#2a3f5f\", \"gridcolor\": \"white\", \"linecolor\": \"white\", \"minorgridcolor\": \"white\", \"startlinecolor\": \"#2a3f5f\"}, \"type\": \"carpet\"}], \"choropleth\": [{\"colorbar\": {\"outlinewidth\": 0, \"ticks\": \"\"}, \"type\": \"choropleth\"}], \"contour\": [{\"colorbar\": {\"outlinewidth\": 0, \"ticks\": \"\"}, \"colorscale\": [[0.0, \"#0d0887\"], [0.1111111111111111, \"#46039f\"], [0.2222222222222222, \"#7201a8\"], [0.3333333333333333, \"#9c179e\"], [0.4444444444444444, \"#bd3786\"], [0.5555555555555556, \"#d8576b\"], [0.6666666666666666, \"#ed7953\"], [0.7777777777777778, \"#fb9f3a\"], [0.8888888888888888, \"#fdca26\"], [1.0, \"#f0f921\"]], \"type\": \"contour\"}], \"contourcarpet\": [{\"colorbar\": {\"outlinewidth\": 0, \"ticks\": \"\"}, \"type\": \"contourcarpet\"}], \"heatmap\": [{\"colorbar\": {\"outlinewidth\": 0, \"ticks\": \"\"}, \"colorscale\": [[0.0, \"#0d0887\"], [0.1111111111111111, \"#46039f\"], [0.2222222222222222, \"#7201a8\"], [0.3333333333333333, \"#9c179e\"], [0.4444444444444444, \"#bd3786\"], [0.5555555555555556, \"#d8576b\"], [0.6666666666666666, \"#ed7953\"], [0.7777777777777778, \"#fb9f3a\"], [0.8888888888888888, \"#fdca26\"], [1.0, \"#f0f921\"]], \"type\": \"heatmap\"}], \"heatmapgl\": [{\"colorbar\": {\"outlinewidth\": 0, \"ticks\": \"\"}, \"colorscale\": [[0.0, \"#0d0887\"], [0.1111111111111111, \"#46039f\"], [0.2222222222222222, \"#7201a8\"], [0.3333333333333333, \"#9c179e\"], [0.4444444444444444, \"#bd3786\"], [0.5555555555555556, \"#d8576b\"], [0.6666666666666666, \"#ed7953\"], [0.7777777777777778, \"#fb9f3a\"], [0.8888888888888888, \"#fdca26\"], [1.0, \"#f0f921\"]], \"type\": \"heatmapgl\"}], \"histogram\": [{\"marker\": {\"colorbar\": {\"outlinewidth\": 0, \"ticks\": \"\"}}, \"type\": \"histogram\"}], \"histogram2d\": [{\"colorbar\": {\"outlinewidth\": 0, \"ticks\": \"\"}, \"colorscale\": [[0.0, \"#0d0887\"], [0.1111111111111111, \"#46039f\"], [0.2222222222222222, \"#7201a8\"], [0.3333333333333333, \"#9c179e\"], [0.4444444444444444, \"#bd3786\"], [0.5555555555555556, \"#d8576b\"], [0.6666666666666666, \"#ed7953\"], [0.7777777777777778, \"#fb9f3a\"], [0.8888888888888888, \"#fdca26\"], [1.0, \"#f0f921\"]], \"type\": \"histogram2d\"}], \"histogram2dcontour\": [{\"colorbar\": {\"outlinewidth\": 0, \"ticks\": \"\"}, \"colorscale\": [[0.0, \"#0d0887\"], [0.1111111111111111, \"#46039f\"], [0.2222222222222222, \"#7201a8\"], [0.3333333333333333, \"#9c179e\"], [0.4444444444444444, \"#bd3786\"], [0.5555555555555556, \"#d8576b\"], [0.6666666666666666, \"#ed7953\"], [0.7777777777777778, \"#fb9f3a\"], [0.8888888888888888, \"#fdca26\"], [1.0, \"#f0f921\"]], \"type\": \"histogram2dcontour\"}], \"mesh3d\": [{\"colorbar\": {\"outlinewidth\": 0, \"ticks\": \"\"}, \"type\": \"mesh3d\"}], \"parcoords\": [{\"line\": {\"colorbar\": {\"outlinewidth\": 0, \"ticks\": \"\"}}, \"type\": \"parcoords\"}], \"scatter\": [{\"marker\": {\"colorbar\": {\"outlinewidth\": 0, \"ticks\": \"\"}}, \"type\": \"scatter\"}], \"scatter3d\": [{\"line\": {\"colorbar\": {\"outlinewidth\": 0, \"ticks\": \"\"}}, \"marker\": {\"colorbar\": {\"outlinewidth\": 0, \"ticks\": \"\"}}, \"type\": \"scatter3d\"}], \"scattercarpet\": [{\"marker\": {\"colorbar\": {\"outlinewidth\": 0, \"ticks\": \"\"}}, \"type\": \"scattercarpet\"}], \"scattergeo\": [{\"marker\": {\"colorbar\": {\"outlinewidth\": 0, \"ticks\": \"\"}}, \"type\": \"scattergeo\"}], \"scattergl\": [{\"marker\": {\"colorbar\": {\"outlinewidth\": 0, \"ticks\": \"\"}}, \"type\": \"scattergl\"}], \"scattermapbox\": [{\"marker\": {\"colorbar\": {\"outlinewidth\": 0, \"ticks\": \"\"}}, \"type\": \"scattermapbox\"}], \"scatterpolar\": [{\"marker\": {\"colorbar\": {\"outlinewidth\": 0, \"ticks\": \"\"}}, \"type\": \"scatterpolar\"}], \"scatterpolargl\": [{\"marker\": {\"colorbar\": {\"outlinewidth\": 0, \"ticks\": \"\"}}, \"type\": \"scatterpolargl\"}], \"scatterternary\": [{\"marker\": {\"colorbar\": {\"outlinewidth\": 0, \"ticks\": \"\"}}, \"type\": \"scatterternary\"}], \"surface\": [{\"colorbar\": {\"outlinewidth\": 0, \"ticks\": \"\"}, \"colorscale\": [[0.0, \"#0d0887\"], [0.1111111111111111, \"#46039f\"], [0.2222222222222222, \"#7201a8\"], [0.3333333333333333, \"#9c179e\"], [0.4444444444444444, \"#bd3786\"], [0.5555555555555556, \"#d8576b\"], [0.6666666666666666, \"#ed7953\"], [0.7777777777777778, \"#fb9f3a\"], [0.8888888888888888, \"#fdca26\"], [1.0, \"#f0f921\"]], \"type\": \"surface\"}], \"table\": [{\"cells\": {\"fill\": {\"color\": \"#EBF0F8\"}, \"line\": {\"color\": \"white\"}}, \"header\": {\"fill\": {\"color\": \"#C8D4E3\"}, \"line\": {\"color\": \"white\"}}, \"type\": \"table\"}]}, \"layout\": {\"annotationdefaults\": {\"arrowcolor\": \"#2a3f5f\", \"arrowhead\": 0, \"arrowwidth\": 1}, \"colorscale\": {\"diverging\": [[0, \"#8e0152\"], [0.1, \"#c51b7d\"], [0.2, \"#de77ae\"], [0.3, \"#f1b6da\"], [0.4, \"#fde0ef\"], [0.5, \"#f7f7f7\"], [0.6, \"#e6f5d0\"], [0.7, \"#b8e186\"], [0.8, \"#7fbc41\"], [0.9, \"#4d9221\"], [1, \"#276419\"]], \"sequential\": [[0.0, \"#0d0887\"], [0.1111111111111111, \"#46039f\"], [0.2222222222222222, \"#7201a8\"], [0.3333333333333333, \"#9c179e\"], [0.4444444444444444, \"#bd3786\"], [0.5555555555555556, \"#d8576b\"], [0.6666666666666666, \"#ed7953\"], [0.7777777777777778, \"#fb9f3a\"], [0.8888888888888888, \"#fdca26\"], [1.0, \"#f0f921\"]], \"sequentialminus\": [[0.0, \"#0d0887\"], [0.1111111111111111, \"#46039f\"], [0.2222222222222222, \"#7201a8\"], [0.3333333333333333, \"#9c179e\"], [0.4444444444444444, \"#bd3786\"], [0.5555555555555556, \"#d8576b\"], [0.6666666666666666, \"#ed7953\"], [0.7777777777777778, \"#fb9f3a\"], [0.8888888888888888, \"#fdca26\"], [1.0, \"#f0f921\"]]}, \"colorway\": [\"#636efa\", \"#EF553B\", \"#00cc96\", \"#ab63fa\", \"#FFA15A\", \"#19d3f3\", \"#FF6692\", \"#B6E880\", \"#FF97FF\", \"#FECB52\"], \"font\": {\"color\": \"#2a3f5f\"}, \"geo\": {\"bgcolor\": \"white\", \"lakecolor\": \"white\", \"landcolor\": \"#E5ECF6\", \"showlakes\": true, \"showland\": true, \"subunitcolor\": \"white\"}, \"hoverlabel\": {\"align\": \"left\"}, \"hovermode\": \"closest\", \"mapbox\": {\"style\": \"light\"}, \"paper_bgcolor\": \"white\", \"plot_bgcolor\": \"#E5ECF6\", \"polar\": {\"angularaxis\": {\"gridcolor\": \"white\", \"linecolor\": \"white\", \"ticks\": \"\"}, \"bgcolor\": \"#E5ECF6\", \"radialaxis\": {\"gridcolor\": \"white\", \"linecolor\": \"white\", \"ticks\": \"\"}}, \"scene\": {\"xaxis\": {\"backgroundcolor\": \"#E5ECF6\", \"gridcolor\": \"white\", \"gridwidth\": 2, \"linecolor\": \"white\", \"showbackground\": true, \"ticks\": \"\", \"zerolinecolor\": \"white\"}, \"yaxis\": {\"backgroundcolor\": \"#E5ECF6\", \"gridcolor\": \"white\", \"gridwidth\": 2, \"linecolor\": \"white\", \"showbackground\": true, \"ticks\": \"\", \"zerolinecolor\": \"white\"}, \"zaxis\": {\"backgroundcolor\": \"#E5ECF6\", \"gridcolor\": \"white\", \"gridwidth\": 2, \"linecolor\": \"white\", \"showbackground\": true, \"ticks\": \"\", \"zerolinecolor\": \"white\"}}, \"shapedefaults\": {\"line\": {\"color\": \"#2a3f5f\"}}, \"ternary\": {\"aaxis\": {\"gridcolor\": \"white\", \"linecolor\": \"white\", \"ticks\": \"\"}, \"baxis\": {\"gridcolor\": \"white\", \"linecolor\": \"white\", \"ticks\": \"\"}, \"bgcolor\": \"#E5ECF6\", \"caxis\": {\"gridcolor\": \"white\", \"linecolor\": \"white\", \"ticks\": \"\"}}, \"title\": {\"x\": 0.05}, \"xaxis\": {\"automargin\": true, \"gridcolor\": \"white\", \"linecolor\": \"white\", \"ticks\": \"\", \"zerolinecolor\": \"white\", \"zerolinewidth\": 2}, \"yaxis\": {\"automargin\": true, \"gridcolor\": \"white\", \"linecolor\": \"white\", \"ticks\": \"\", \"zerolinecolor\": \"white\", \"zerolinewidth\": 2}}}, \"title\": {\"text\": \"Best Cricket World Cup Bowling Performances (1975-2019)\"}, \"xaxis\": {\"anchor\": \"y\", \"domain\": [0.0, 0.98], \"title\": {\"text\": \"Distance from the mean (z-score)\"}}, \"yaxis\": {\"anchor\": \"x\", \"categoryorder\": \"total ascending\", \"domain\": [0.0, 1.0], \"title\": {\"text\": \"\"}}},\n",
       "                        {\"responsive\": true}\n",
       "                    ).then(function(){\n",
       "                            \n",
       "var gd = document.getElementById('8eba77f6-7e57-4460-9049-a71350ebaddc');\n",
       "var x = new MutationObserver(function (mutations, observer) {{\n",
       "        var display = window.getComputedStyle(gd).display;\n",
       "        if (!display || display === 'none') {{\n",
       "            console.log([gd, 'removed!']);\n",
       "            Plotly.purge(gd);\n",
       "            observer.disconnect();\n",
       "        }}\n",
       "}});\n",
       "\n",
       "// Listen for the removal of the full notebook cells\n",
       "var notebookContainer = gd.closest('#notebook-container');\n",
       "if (notebookContainer) {{\n",
       "    x.observe(notebookContainer, {childList: true});\n",
       "}}\n",
       "\n",
       "// Listen for the clearing of the current output cell\n",
       "var outputEl = gd.closest('.output');\n",
       "if (outputEl) {{\n",
       "    x.observe(outputEl, {childList: true});\n",
       "}}\n",
       "\n",
       "                        })\n",
       "                };\n",
       "                });\n",
       "            </script>\n",
       "        </div>"
      ]
     },
     "metadata": {},
     "output_type": "display_data"
    }
   ],
   "source": [
    "plot_df[\"Country\"] = plot_df[\"Bowler\"].apply(lambda x: countries[x])\n",
    "plot_df[\"Colour\"] = plot_df[\"Country\"].apply(lambda x: colours[x])\n",
    "plot_df[\"NameLabel\"] = plot_df[\"Bowler\"] + \" (\" + plot_df[\"Year\"].astype(str) + \") \"\n",
    "plot_df[f\"{metric}Label\"] = plot_df[metric].astype(str) + f\" {metric}\"\n",
    "fig = px.bar(\n",
    "    plot_df, \n",
    "    x=\"ZScore\", \n",
    "    y=\"NameLabel\", \n",
    "    text=f\"{metric}Label\", \n",
    "    labels=dict(ZScore=\"Distance from the mean (z-score)\", NameLabel=\"\"),\n",
    "    orientation=\"h\",    \n",
    "    color=\"Country\",\n",
    "    color_discrete_sequence=list(plot_df[\"Colour\"].unique()),\n",
    ").for_each_trace(lambda t: t.update(name=t.name.split(\"=\")[1]))\n",
    "fig.update_traces(hoverinfo=\"skip\")\n",
    "fig.update_layout(showlegend=True)\n",
    "fig.update_layout(yaxis_categoryorder=\"total ascending\")\n",
    "fig.update_layout(title=\"Best Cricket World Cup Bowling Performances (1975-2019)\")\n",
    "fig.show()\n",
    "pio.write_image(fig, \"bowling.png\", width=1024, height=768, scale=5)"
   ]
  },
  {
   "cell_type": "markdown",
   "metadata": {},
   "source": [
    "### Approximating Normal?"
   ]
  },
  {
   "cell_type": "code",
   "execution_count": 850,
   "metadata": {},
   "outputs": [
    {
     "data": {
      "text/plain": [
       "array([[<matplotlib.axes._subplots.AxesSubplot object at 0x123a7a358>]],\n",
       "      dtype=object)"
      ]
     },
     "execution_count": 850,
     "metadata": {},
     "output_type": "execute_result"
    },
    {
     "data": {
      "image/png": "[encoded data removed]",
      "text/plain": [
       "<Figure size 432x288 with 1 Axes>"
      ]
     },
     "metadata": {
      "needs_background": "light"
     },
     "output_type": "display_data"
    }
   ],
   "source": [
    "sum_batsmen_runs_df.query(\"Year == 2019\").hist(\"Runs\")"
   ]
  },
  {
   "cell_type": "code",
   "execution_count": null,
   "metadata": {},
   "outputs": [],
   "source": []
  }
 ],
 "metadata": {
  "kernelspec": {
   "display_name": "Python 3",
   "language": "python",
   "name": "python3"
  },
  "language_info": {
   "codemirror_mode": {
    "name": "ipython",
    "version": 3
   },
   "file_extension": ".py",
   "mimetype": "text/x-python",
   "name": "python",
   "nbconvert_exporter": "python",
   "pygments_lexer": "ipython3",
   "version": "3.6.4"
  }
 },
 "nbformat": 4,
 "nbformat_minor": 2
}
